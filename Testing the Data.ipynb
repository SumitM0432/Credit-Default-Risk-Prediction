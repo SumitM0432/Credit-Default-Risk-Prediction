{
 "cells": [
  {
   "cell_type": "code",
   "execution_count": 1,
   "id": "fecc28fa-bf1e-49cf-beb3-e5ffc303f29c",
   "metadata": {},
   "outputs": [
    {
     "name": "stdout",
     "output_type": "stream",
     "text": [
      "/Users/sumitmishra/Desktop/GitHub/Credit-Default-Risk-Prediction\n"
     ]
    }
   ],
   "source": [
    "!pwd"
   ]
  },
  {
   "cell_type": "code",
   "execution_count": 2,
   "id": "8893ec50-242e-4866-ba39-ea35144a4c4a",
   "metadata": {},
   "outputs": [
    {
     "data": {
      "text/html": [
       "<style>pre { white-space: pre !important; }</style>"
      ],
      "text/plain": [
       "<IPython.core.display.HTML object>"
      ]
     },
     "metadata": {},
     "output_type": "display_data"
    },
    {
     "name": "stderr",
     "output_type": "stream",
     "text": [
      "Setting default log level to \"WARN\".\n",
      "To adjust logging level use sc.setLogLevel(newLevel). For SparkR, use setLogLevel(newLevel).\n",
      "24/11/07 10:07:05 WARN NativeCodeLoader: Unable to load native-hadoop library for your platform... using builtin-java classes where applicable\n"
     ]
    }
   ],
   "source": [
    "import os\n",
    "import pandas as pd\n",
    "pd.options.display.max_columns = None  # Show all columns\n",
    "pd.options.display.width = 1000        # Adjust width to fit more data\n",
    "\n",
    "import numpy as np\n",
    "import seaborn as sns\n",
    "import matplotlib.pyplot as plt\n",
    "from pyspark.sql import SparkSession\n",
    "from pyspark.sql import functions as F\n",
    "\n",
    "from IPython.core.display import HTML\n",
    "display(HTML(\"<style>pre { white-space: pre !important; }</style>\"))\n",
    "\n",
    "spark = SparkSession.builder.appName(\"Home Credit Default Prediction\").getOrCreate()\n",
    "\n",
    "spark.conf.set(\"spark.sql.repl.eagerEval.enabled\", True) \n",
    "spark.conf.set(\"spark.sql.debug.maxToStringFields\", 1000)\n",
    "spark.conf.set(\"spark.sql.repl.eagerEval.maxNumCols\", 200) \n",
    "spark.conf.set(\"spark.sql.repl.eagerEval.enabled\", True)\n",
    "\n",
    "path = os.getcwd()"
   ]
  },
  {
   "cell_type": "code",
   "execution_count": 6,
   "id": "04b6ea58-5bd6-48b1-87d0-7cfc4e3ffb3e",
   "metadata": {},
   "outputs": [],
   "source": [
    "sdf_train = spark.read.option('header', True)\\\n",
    "           .csv(path + \"/Data/application_train.csv\")\n",
    "\n",
    "sdf_bureau = spark.read.option('header', True)\\\n",
    "           .csv(path + \"/Data/bureau.csv\")\n",
    "\n",
    "sdf_bureau_balance = spark.read.option('header', True)\\\n",
    "           .csv(path + \"/Data/bureau_balance.csv\")"
   ]
  },
  {
   "cell_type": "code",
   "execution_count": 7,
   "id": "efce895c-5f9a-49c6-a420-ccc5e4b0e529",
   "metadata": {},
   "outputs": [
    {
     "name": "stdout",
     "output_type": "stream",
     "text": [
      "+----------+------+------------------+-----------+------------+---------------+------------+----------------+----------+-----------+---------------+---------------+--------------------+-----------------------------+--------------------+-----------------+--------------------------+----------+-------------+-----------------+---------------+-----------+----------+--------------+---------------+----------------+----------+----------+---------------+---------------+--------------------+---------------------------+--------------------------+-----------------------+--------------------------+--------------------------+---------------------------+----------------------+----------------------+-----------------------+----------------------+-------------------+-------------------+-------------------+--------------+----------------+---------------------------+------------------+--------------+-------------+-------------+-------------+-------------+------------+--------------------+--------------+-----------------------+-----------------+---------------+-----------------+----------------------------+----------------+---------------+--------------+--------------+--------------+--------------+-------------+---------------------+---------------+------------------------+------------------+---------------+-----------------+----------------------------+----------------+---------------+--------------+--------------+--------------+--------------+-------------+---------------------+---------------+------------------------+------------------+------------------+--------------+--------------+------------------+-------------------+------------------------+------------------------+------------------------+------------------------+----------------------+---------------+---------------+---------------+---------------+---------------+---------------+---------------+---------------+----------------+----------------+----------------+----------------+----------------+----------------+----------------+----------------+----------------+----------------+----------------+----------------+--------------------------+-------------------------+--------------------------+-------------------------+-------------------------+--------------------------+\n",
      "|SK_ID_CURR|TARGET|NAME_CONTRACT_TYPE|CODE_GENDER|FLAG_OWN_CAR|FLAG_OWN_REALTY|CNT_CHILDREN|AMT_INCOME_TOTAL|AMT_CREDIT|AMT_ANNUITY|AMT_GOODS_PRICE|NAME_TYPE_SUITE|NAME_INCOME_TYPE    |NAME_EDUCATION_TYPE          |NAME_FAMILY_STATUS  |NAME_HOUSING_TYPE|REGION_POPULATION_RELATIVE|DAYS_BIRTH|DAYS_EMPLOYED|DAYS_REGISTRATION|DAYS_ID_PUBLISH|OWN_CAR_AGE|FLAG_MOBIL|FLAG_EMP_PHONE|FLAG_WORK_PHONE|FLAG_CONT_MOBILE|FLAG_PHONE|FLAG_EMAIL|OCCUPATION_TYPE|CNT_FAM_MEMBERS|REGION_RATING_CLIENT|REGION_RATING_CLIENT_W_CITY|WEEKDAY_APPR_PROCESS_START|HOUR_APPR_PROCESS_START|REG_REGION_NOT_LIVE_REGION|REG_REGION_NOT_WORK_REGION|LIVE_REGION_NOT_WORK_REGION|REG_CITY_NOT_LIVE_CITY|REG_CITY_NOT_WORK_CITY|LIVE_CITY_NOT_WORK_CITY|ORGANIZATION_TYPE     |EXT_SOURCE_1       |EXT_SOURCE_2       |EXT_SOURCE_3       |APARTMENTS_AVG|BASEMENTAREA_AVG|YEARS_BEGINEXPLUATATION_AVG|YEARS_BUILD_AVG   |COMMONAREA_AVG|ELEVATORS_AVG|ENTRANCES_AVG|FLOORSMAX_AVG|FLOORSMIN_AVG|LANDAREA_AVG|LIVINGAPARTMENTS_AVG|LIVINGAREA_AVG|NONLIVINGAPARTMENTS_AVG|NONLIVINGAREA_AVG|APARTMENTS_MODE|BASEMENTAREA_MODE|YEARS_BEGINEXPLUATATION_MODE|YEARS_BUILD_MODE|COMMONAREA_MODE|ELEVATORS_MODE|ENTRANCES_MODE|FLOORSMAX_MODE|FLOORSMIN_MODE|LANDAREA_MODE|LIVINGAPARTMENTS_MODE|LIVINGAREA_MODE|NONLIVINGAPARTMENTS_MODE|NONLIVINGAREA_MODE|APARTMENTS_MEDI|BASEMENTAREA_MEDI|YEARS_BEGINEXPLUATATION_MEDI|YEARS_BUILD_MEDI|COMMONAREA_MEDI|ELEVATORS_MEDI|ENTRANCES_MEDI|FLOORSMAX_MEDI|FLOORSMIN_MEDI|LANDAREA_MEDI|LIVINGAPARTMENTS_MEDI|LIVINGAREA_MEDI|NONLIVINGAPARTMENTS_MEDI|NONLIVINGAREA_MEDI|FONDKAPREMONT_MODE|HOUSETYPE_MODE|TOTALAREA_MODE|WALLSMATERIAL_MODE|EMERGENCYSTATE_MODE|OBS_30_CNT_SOCIAL_CIRCLE|DEF_30_CNT_SOCIAL_CIRCLE|OBS_60_CNT_SOCIAL_CIRCLE|DEF_60_CNT_SOCIAL_CIRCLE|DAYS_LAST_PHONE_CHANGE|FLAG_DOCUMENT_2|FLAG_DOCUMENT_3|FLAG_DOCUMENT_4|FLAG_DOCUMENT_5|FLAG_DOCUMENT_6|FLAG_DOCUMENT_7|FLAG_DOCUMENT_8|FLAG_DOCUMENT_9|FLAG_DOCUMENT_10|FLAG_DOCUMENT_11|FLAG_DOCUMENT_12|FLAG_DOCUMENT_13|FLAG_DOCUMENT_14|FLAG_DOCUMENT_15|FLAG_DOCUMENT_16|FLAG_DOCUMENT_17|FLAG_DOCUMENT_18|FLAG_DOCUMENT_19|FLAG_DOCUMENT_20|FLAG_DOCUMENT_21|AMT_REQ_CREDIT_BUREAU_HOUR|AMT_REQ_CREDIT_BUREAU_DAY|AMT_REQ_CREDIT_BUREAU_WEEK|AMT_REQ_CREDIT_BUREAU_MON|AMT_REQ_CREDIT_BUREAU_QRT|AMT_REQ_CREDIT_BUREAU_YEAR|\n",
      "+----------+------+------------------+-----------+------------+---------------+------------+----------------+----------+-----------+---------------+---------------+--------------------+-----------------------------+--------------------+-----------------+--------------------------+----------+-------------+-----------------+---------------+-----------+----------+--------------+---------------+----------------+----------+----------+---------------+---------------+--------------------+---------------------------+--------------------------+-----------------------+--------------------------+--------------------------+---------------------------+----------------------+----------------------+-----------------------+----------------------+-------------------+-------------------+-------------------+--------------+----------------+---------------------------+------------------+--------------+-------------+-------------+-------------+-------------+------------+--------------------+--------------+-----------------------+-----------------+---------------+-----------------+----------------------------+----------------+---------------+--------------+--------------+--------------+--------------+-------------+---------------------+---------------+------------------------+------------------+---------------+-----------------+----------------------------+----------------+---------------+--------------+--------------+--------------+--------------+-------------+---------------------+---------------+------------------------+------------------+------------------+--------------+--------------+------------------+-------------------+------------------------+------------------------+------------------------+------------------------+----------------------+---------------+---------------+---------------+---------------+---------------+---------------+---------------+---------------+----------------+----------------+----------------+----------------+----------------+----------------+----------------+----------------+----------------+----------------+----------------+----------------+--------------------------+-------------------------+--------------------------+-------------------------+-------------------------+--------------------------+\n",
      "|100002    |1     |Cash loans        |M          |N           |Y              |0           |202500.0        |406597.5  |24700.5    |351000.0       |Unaccompanied  |Working             |Secondary / secondary special|Single / not married|House / apartment|0.018801                  |-9461     |-637         |-3648.0          |-2120          |null       |1         |1             |0              |1               |1         |0         |Laborers       |1.0            |2                   |2                          |WEDNESDAY                 |10                     |0                         |0                         |0                          |0                     |0                     |0                      |Business Entity Type 3|0.08303696739132256|0.2629485927471776 |0.13937578009978951|0.0247        |0.0369          |0.9722                     |0.6192            |0.0143        |0.0          |0.069        |0.0833       |0.125        |0.0369      |0.0202              |0.019         |0.0                    |0.0              |0.0252         |0.0383           |0.9722                      |0.6341          |0.0144         |0.0           |0.069         |0.0833        |0.125         |0.0377       |0.022                |0.0198         |0.0                     |0.0               |0.025          |0.0369           |0.9722                      |0.6243          |0.0144         |0.0           |0.069         |0.0833        |0.125         |0.0375       |0.0205               |0.0193         |0.0                     |0.0               |reg oper account  |block of flats|0.0149        |Stone, brick      |No                 |2.0                     |2.0                     |2.0                     |2.0                     |-1134.0               |0              |1              |0              |0              |0              |0              |0              |0              |0               |0               |0               |0               |0               |0               |0               |0               |0               |0               |0               |0               |0.0                       |0.0                      |0.0                       |0.0                      |0.0                      |1.0                       |\n",
      "|100003    |0     |Cash loans        |F          |N           |N              |0           |270000.0        |1293502.5 |35698.5    |1129500.0      |Family         |State servant       |Higher education             |Married             |House / apartment|0.003540999999999999      |-16765    |-1188        |-1186.0          |-291           |null       |1         |1             |0              |1               |1         |0         |Core staff     |2.0            |1                   |1                          |MONDAY                    |11                     |0                         |0                         |0                          |0                     |0                     |0                      |School                |0.3112673113812225 |0.6222457752555098 |null               |0.0959        |0.0529          |0.9851                     |0.7959999999999999|0.0605        |0.08         |0.0345       |0.2917       |0.3333       |0.013       |0.0773              |0.0549        |0.0039                 |0.0098           |0.0924         |0.0538           |0.9851                      |0.804           |0.0497         |0.0806        |0.0345        |0.2917        |0.3333        |0.0128       |0.079                |0.0554         |0.0                     |0.0               |0.0968         |0.0529           |0.9851                      |0.7987          |0.0608         |0.08          |0.0345        |0.2917        |0.3333        |0.0132       |0.0787               |0.0558         |0.0039                  |0.01              |reg oper account  |block of flats|0.0714        |Block             |No                 |1.0                     |0.0                     |1.0                     |0.0                     |-828.0                |0              |1              |0              |0              |0              |0              |0              |0              |0               |0               |0               |0               |0               |0               |0               |0               |0               |0               |0               |0               |0.0                       |0.0                      |0.0                       |0.0                      |0.0                      |0.0                       |\n",
      "|100004    |0     |Revolving loans   |M          |Y           |Y              |0           |67500.0         |135000.0  |6750.0     |135000.0       |Unaccompanied  |Working             |Secondary / secondary special|Single / not married|House / apartment|0.010032                  |-19046    |-225         |-4260.0          |-2531          |26.0       |1         |1             |1              |1               |1         |0         |Laborers       |1.0            |2                   |2                          |MONDAY                    |9                      |0                         |0                         |0                          |0                     |0                     |0                      |Government            |null               |0.5559120833904428 |0.7295666907060153 |null          |null            |null                       |null              |null          |null         |null         |null         |null         |null        |null                |null          |null                   |null             |null           |null             |null                        |null            |null           |null          |null          |null          |null          |null         |null                 |null           |null                    |null              |null           |null             |null                        |null            |null           |null          |null          |null          |null          |null         |null                 |null           |null                    |null              |null              |null          |null          |null              |null               |0.0                     |0.0                     |0.0                     |0.0                     |-815.0                |0              |0              |0              |0              |0              |0              |0              |0              |0               |0               |0               |0               |0               |0               |0               |0               |0               |0               |0               |0               |0.0                       |0.0                      |0.0                       |0.0                      |0.0                      |0.0                       |\n",
      "|100006    |0     |Cash loans        |F          |N           |Y              |0           |135000.0        |312682.5  |29686.5    |297000.0       |Unaccompanied  |Working             |Secondary / secondary special|Civil marriage      |House / apartment|0.008019                  |-19005    |-3039        |-9833.0          |-2437          |null       |1         |1             |0              |1               |0         |0         |Laborers       |2.0            |2                   |2                          |WEDNESDAY                 |17                     |0                         |0                         |0                          |0                     |0                     |0                      |Business Entity Type 3|null               |0.6504416904014653 |null               |null          |null            |null                       |null              |null          |null         |null         |null         |null         |null        |null                |null          |null                   |null             |null           |null             |null                        |null            |null           |null          |null          |null          |null          |null         |null                 |null           |null                    |null              |null           |null             |null                        |null            |null           |null          |null          |null          |null          |null         |null                 |null           |null                    |null              |null              |null          |null          |null              |null               |2.0                     |0.0                     |2.0                     |0.0                     |-617.0                |0              |1              |0              |0              |0              |0              |0              |0              |0               |0               |0               |0               |0               |0               |0               |0               |0               |0               |0               |0               |null                      |null                     |null                      |null                     |null                     |null                      |\n",
      "|100007    |0     |Cash loans        |M          |N           |Y              |0           |121500.0        |513000.0  |21865.5    |513000.0       |Unaccompanied  |Working             |Secondary / secondary special|Single / not married|House / apartment|0.028663                  |-19932    |-3038        |-4311.0          |-3458          |null       |1         |1             |0              |1               |0         |0         |Core staff     |1.0            |2                   |2                          |THURSDAY                  |11                     |0                         |0                         |0                          |0                     |1                     |1                      |Religion              |null               |0.3227382869704046 |null               |null          |null            |null                       |null              |null          |null         |null         |null         |null         |null        |null                |null          |null                   |null             |null           |null             |null                        |null            |null           |null          |null          |null          |null          |null         |null                 |null           |null                    |null              |null           |null             |null                        |null            |null           |null          |null          |null          |null          |null         |null                 |null           |null                    |null              |null              |null          |null          |null              |null               |0.0                     |0.0                     |0.0                     |0.0                     |-1106.0               |0              |0              |0              |0              |0              |0              |1              |0              |0               |0               |0               |0               |0               |0               |0               |0               |0               |0               |0               |0               |0.0                       |0.0                      |0.0                       |0.0                      |0.0                      |0.0                       |\n",
      "|100008    |0     |Cash loans        |M          |N           |Y              |0           |99000.0         |490495.5  |27517.5    |454500.0       |Spouse, partner|State servant       |Secondary / secondary special|Married             |House / apartment|0.035792000000000004      |-16941    |-1588        |-4970.0          |-477           |null       |1         |1             |1              |1               |1         |0         |Laborers       |2.0            |2                   |2                          |WEDNESDAY                 |16                     |0                         |0                         |0                          |0                     |0                     |0                      |Other                 |null               |0.3542247319929012 |0.6212263380626669 |null          |null            |null                       |null              |null          |null         |null         |null         |null         |null        |null                |null          |null                   |null             |null           |null             |null                        |null            |null           |null          |null          |null          |null          |null         |null                 |null           |null                    |null              |null           |null             |null                        |null            |null           |null          |null          |null          |null          |null         |null                 |null           |null                    |null              |null              |null          |null          |null              |null               |0.0                     |0.0                     |0.0                     |0.0                     |-2536.0               |0              |1              |0              |0              |0              |0              |0              |0              |0               |0               |0               |0               |0               |0               |0               |0               |0               |0               |0               |0               |0.0                       |0.0                      |0.0                       |0.0                      |1.0                      |1.0                       |\n",
      "|100009    |0     |Cash loans        |F          |Y           |Y              |1           |171000.0        |1560726.0 |41301.0    |1395000.0      |Unaccompanied  |Commercial associate|Higher education             |Married             |House / apartment|0.035792000000000004      |-13778    |-3130        |-1213.0          |-619           |17.0       |1         |1             |0              |1               |1         |0         |Accountants    |3.0            |2                   |2                          |SUNDAY                    |16                     |0                         |0                         |0                          |0                     |0                     |0                      |Business Entity Type 3|0.7747614130547695 |0.7239998516953141 |0.4920600938649263 |null          |null            |null                       |null              |null          |null         |null         |null         |null         |null        |null                |null          |null                   |null             |null           |null             |null                        |null            |null           |null          |null          |null          |null          |null         |null                 |null           |null                    |null              |null           |null             |null                        |null            |null           |null          |null          |null          |null          |null         |null                 |null           |null                    |null              |null              |null          |null          |null              |null               |1.0                     |0.0                     |1.0                     |0.0                     |-1562.0               |0              |0              |0              |0              |0              |0              |1              |0              |0               |0               |0               |0               |1               |0               |0               |0               |0               |0               |0               |0               |0.0                       |0.0                      |0.0                       |1.0                      |1.0                      |2.0                       |\n",
      "|100010    |0     |Cash loans        |M          |Y           |Y              |0           |360000.0        |1530000.0 |42075.0    |1530000.0      |Unaccompanied  |State servant       |Higher education             |Married             |House / apartment|0.0031219999999999998     |-18850    |-449         |-4597.0          |-2379          |8.0        |1         |1             |1              |1               |0         |0         |Managers       |2.0            |3                   |3                          |MONDAY                    |16                     |0                         |0                         |0                          |0                     |1                     |1                      |Other                 |null               |0.7142792864482229 |0.5406544504453575 |null          |null            |null                       |null              |null          |null         |null         |null         |null         |null        |null                |null          |null                   |null             |null           |null             |null                        |null            |null           |null          |null          |null          |null          |null         |null                 |null           |null                    |null              |null           |null             |null                        |null            |null           |null          |null          |null          |null          |null         |null                 |null           |null                    |null              |null              |null          |null          |null              |null               |2.0                     |0.0                     |2.0                     |0.0                     |-1070.0               |0              |1              |0              |0              |0              |0              |0              |0              |0               |0               |0               |0               |0               |0               |0               |0               |0               |0               |0               |0               |0.0                       |0.0                      |0.0                       |0.0                      |0.0                      |0.0                       |\n",
      "|100011    |0     |Cash loans        |F          |N           |Y              |0           |112500.0        |1019610.0 |33826.5    |913500.0       |Children       |Pensioner           |Secondary / secondary special|Married             |House / apartment|0.018634                  |-20099    |365243       |-7427.0          |-3514          |null       |1         |0             |0              |1               |0         |0         |null           |2.0            |2                   |2                          |WEDNESDAY                 |14                     |0                         |0                         |0                          |0                     |0                     |0                      |XNA                   |0.5873340468730377 |0.20574728800732814|0.7517237147741489 |null          |null            |null                       |null              |null          |null         |null         |null         |null         |null        |null                |null          |null                   |null             |null           |null             |null                        |null            |null           |null          |null          |null          |null          |null         |null                 |null           |null                    |null              |null           |null             |null                        |null            |null           |null          |null          |null          |null          |null         |null                 |null           |null                    |null              |null              |null          |null          |null              |null               |1.0                     |0.0                     |1.0                     |0.0                     |0.0                   |0              |1              |0              |0              |0              |0              |0              |0              |0               |0               |0               |0               |0               |0               |0               |0               |0               |0               |0               |0               |0.0                       |0.0                      |0.0                       |0.0                      |0.0                      |1.0                       |\n",
      "|100012    |0     |Revolving loans   |M          |N           |Y              |0           |135000.0        |405000.0  |20250.0    |405000.0       |Unaccompanied  |Working             |Secondary / secondary special|Single / not married|House / apartment|0.019688999999999998      |-14469    |-2019        |-14437.0         |-3992          |null       |1         |1             |0              |1               |0         |0         |Laborers       |1.0            |2                   |2                          |THURSDAY                  |8                      |0                         |0                         |0                          |0                     |0                     |0                      |Electricity           |null               |0.7466436294590924 |null               |null          |null            |null                       |null              |null          |null         |null         |null         |null         |null        |null                |null          |null                   |null             |null           |null             |null                        |null            |null           |null          |null          |null          |null          |null         |null                 |null           |null                    |null              |null           |null             |null                        |null            |null           |null          |null          |null          |null          |null         |null                 |null           |null                    |null              |null              |null          |null          |null              |null               |2.0                     |0.0                     |2.0                     |0.0                     |-1673.0               |0              |0              |0              |0              |0              |0              |0              |0              |0               |0               |0               |0               |0               |0               |0               |0               |0               |0               |0               |0               |null                      |null                     |null                      |null                     |null                     |null                      |\n",
      "+----------+------+------------------+-----------+------------+---------------+------------+----------------+----------+-----------+---------------+---------------+--------------------+-----------------------------+--------------------+-----------------+--------------------------+----------+-------------+-----------------+---------------+-----------+----------+--------------+---------------+----------------+----------+----------+---------------+---------------+--------------------+---------------------------+--------------------------+-----------------------+--------------------------+--------------------------+---------------------------+----------------------+----------------------+-----------------------+----------------------+-------------------+-------------------+-------------------+--------------+----------------+---------------------------+------------------+--------------+-------------+-------------+-------------+-------------+------------+--------------------+--------------+-----------------------+-----------------+---------------+-----------------+----------------------------+----------------+---------------+--------------+--------------+--------------+--------------+-------------+---------------------+---------------+------------------------+------------------+---------------+-----------------+----------------------------+----------------+---------------+--------------+--------------+--------------+--------------+-------------+---------------------+---------------+------------------------+------------------+------------------+--------------+--------------+------------------+-------------------+------------------------+------------------------+------------------------+------------------------+----------------------+---------------+---------------+---------------+---------------+---------------+---------------+---------------+---------------+----------------+----------------+----------------+----------------+----------------+----------------+----------------+----------------+----------------+----------------+----------------+----------------+--------------------------+-------------------------+--------------------------+-------------------------+-------------------------+--------------------------+\n",
      "only showing top 10 rows\n",
      "\n"
     ]
    }
   ],
   "source": [
    "sdf_train.show(10, False)"
   ]
  },
  {
   "cell_type": "code",
   "execution_count": 9,
   "id": "80e6108b-489b-4070-b7f1-95b30309e2e5",
   "metadata": {},
   "outputs": [
    {
     "name": "stdout",
     "output_type": "stream",
     "text": [
      "+----------+------------+-------------+---------------+-----------+------------------+-------------------+-----------------+----------------------+------------------+--------------+-------------------+--------------------+----------------------+---------------+------------------+-----------+\n",
      "|SK_ID_CURR|SK_ID_BUREAU|CREDIT_ACTIVE|CREDIT_CURRENCY|DAYS_CREDIT|CREDIT_DAY_OVERDUE|DAYS_CREDIT_ENDDATE|DAYS_ENDDATE_FACT|AMT_CREDIT_MAX_OVERDUE|CNT_CREDIT_PROLONG|AMT_CREDIT_SUM|AMT_CREDIT_SUM_DEBT|AMT_CREDIT_SUM_LIMIT|AMT_CREDIT_SUM_OVERDUE|CREDIT_TYPE    |DAYS_CREDIT_UPDATE|AMT_ANNUITY|\n",
      "+----------+------------+-------------+---------------+-----------+------------------+-------------------+-----------------+----------------------+------------------+--------------+-------------------+--------------------+----------------------+---------------+------------------+-----------+\n",
      "|215354    |5714462     |Closed       |currency 1     |-497       |0                 |-153.0             |-153.0           |null                  |0                 |91323.0       |0.0                |null                |0.0                   |Consumer credit|-131              |null       |\n",
      "|215354    |5714463     |Active       |currency 1     |-208       |0                 |1075.0             |null             |null                  |0                 |225000.0      |171342.0           |null                |0.0                   |Credit card    |-20               |null       |\n",
      "|215354    |5714464     |Active       |currency 1     |-203       |0                 |528.0              |null             |null                  |0                 |464323.5      |null               |null                |0.0                   |Consumer credit|-16               |null       |\n",
      "|215354    |5714465     |Active       |currency 1     |-203       |0                 |null               |null             |null                  |0                 |90000.0       |null               |null                |0.0                   |Credit card    |-16               |null       |\n",
      "|215354    |5714466     |Active       |currency 1     |-629       |0                 |1197.0             |null             |77674.5               |0                 |2700000.0     |null               |null                |0.0                   |Consumer credit|-21               |null       |\n",
      "|215354    |5714467     |Active       |currency 1     |-273       |0                 |27460.0            |null             |0.0                   |0                 |180000.0      |71017.38           |108982.62           |0.0                   |Credit card    |-31               |null       |\n",
      "|215354    |5714468     |Active       |currency 1     |-43        |0                 |79.0               |null             |0.0                   |0                 |42103.8       |42103.8            |0.0                 |0.0                   |Consumer credit|-22               |null       |\n",
      "|162297    |5714469     |Closed       |currency 1     |-1896      |0                 |-1684.0            |-1710.0          |14985.0               |0                 |76878.45      |0.0                |0.0                 |0.0                   |Consumer credit|-1710             |null       |\n",
      "|162297    |5714470     |Closed       |currency 1     |-1146      |0                 |-811.0             |-840.0           |0.0                   |0                 |103007.7      |0.0                |0.0                 |0.0                   |Consumer credit|-840              |null       |\n",
      "|162297    |5714471     |Active       |currency 1     |-1146      |0                 |-484.0             |null             |0.0                   |0                 |4500.0        |0.0                |0.0                 |0.0                   |Credit card    |-690              |null       |\n",
      "+----------+------------+-------------+---------------+-----------+------------------+-------------------+-----------------+----------------------+------------------+--------------+-------------------+--------------------+----------------------+---------------+------------------+-----------+\n",
      "only showing top 10 rows\n",
      "\n"
     ]
    }
   ],
   "source": [
    "sdf_bureau.show(10, False)"
   ]
  },
  {
   "cell_type": "code",
   "execution_count": 8,
   "id": "96adbd8e-e467-413a-a55a-9be78526d0e2",
   "metadata": {},
   "outputs": [
    {
     "name": "stdout",
     "output_type": "stream",
     "text": [
      "+------------+--------------+------+\n",
      "|SK_ID_BUREAU|MONTHS_BALANCE|STATUS|\n",
      "+------------+--------------+------+\n",
      "|5715448     |0             |C     |\n",
      "|5715448     |-1            |C     |\n",
      "|5715448     |-2            |C     |\n",
      "|5715448     |-3            |C     |\n",
      "|5715448     |-4            |C     |\n",
      "|5715448     |-5            |C     |\n",
      "|5715448     |-6            |C     |\n",
      "|5715448     |-7            |C     |\n",
      "|5715448     |-8            |C     |\n",
      "|5715448     |-9            |0     |\n",
      "+------------+--------------+------+\n",
      "only showing top 10 rows\n",
      "\n"
     ]
    }
   ],
   "source": [
    "sdf_bureau_balance.show(10, False)"
   ]
  },
  {
   "cell_type": "code",
   "execution_count": 47,
   "id": "1986e173-64c2-4e0d-b614-478ab5e791d7",
   "metadata": {},
   "outputs": [
    {
     "name": "stderr",
     "output_type": "stream",
     "text": [
      "[Stage 268:=======>                                                 (1 + 7) / 8]\r"
     ]
    },
    {
     "name": "stdout",
     "output_type": "stream",
     "text": [
      "+----------+------+------------------+-----------+------------+---------------+------------+----------------+----------+-----------+---------------+---------------+----------------+-------------------+------------------+-----------------+--------------------------+----------+-------------+-----------------+---------------+-----------+----------+--------------+---------------+----------------+----------+----------+---------------+---------------+--------------------+---------------------------+--------------------------+-----------------------+--------------------------+--------------------------+---------------------------+----------------------+----------------------+-----------------------+-----------------+------------------+-----------------+------------------+--------------+----------------+---------------------------+---------------+--------------+-------------+-------------+-------------+-------------+------------+--------------------+--------------+-----------------------+-----------------+---------------+-----------------+----------------------------+----------------+---------------+--------------+--------------+--------------+--------------+-------------+---------------------+---------------+------------------------+------------------+---------------+-----------------+----------------------------+----------------+---------------+--------------+--------------+--------------+--------------+-------------+---------------------+---------------+------------------------+------------------+------------------+--------------+--------------+------------------+-------------------+------------------------+------------------------+------------------------+------------------------+----------------------+---------------+---------------+---------------+---------------+---------------+---------------+---------------+---------------+----------------+----------------+----------------+----------------+----------------+----------------+----------------+----------------+----------------+----------------+----------------+----------------+--------------------------+-------------------------+--------------------------+-------------------------+-------------------------+--------------------------+\n",
      "|SK_ID_CURR|TARGET|NAME_CONTRACT_TYPE|CODE_GENDER|FLAG_OWN_CAR|FLAG_OWN_REALTY|CNT_CHILDREN|AMT_INCOME_TOTAL|AMT_CREDIT|AMT_ANNUITY|AMT_GOODS_PRICE|NAME_TYPE_SUITE|NAME_INCOME_TYPE|NAME_EDUCATION_TYPE|NAME_FAMILY_STATUS|NAME_HOUSING_TYPE|REGION_POPULATION_RELATIVE|DAYS_BIRTH|DAYS_EMPLOYED|DAYS_REGISTRATION|DAYS_ID_PUBLISH|OWN_CAR_AGE|FLAG_MOBIL|FLAG_EMP_PHONE|FLAG_WORK_PHONE|FLAG_CONT_MOBILE|FLAG_PHONE|FLAG_EMAIL|OCCUPATION_TYPE|CNT_FAM_MEMBERS|REGION_RATING_CLIENT|REGION_RATING_CLIENT_W_CITY|WEEKDAY_APPR_PROCESS_START|HOUR_APPR_PROCESS_START|REG_REGION_NOT_LIVE_REGION|REG_REGION_NOT_WORK_REGION|LIVE_REGION_NOT_WORK_REGION|REG_CITY_NOT_LIVE_CITY|REG_CITY_NOT_WORK_CITY|LIVE_CITY_NOT_WORK_CITY|ORGANIZATION_TYPE|EXT_SOURCE_1      |EXT_SOURCE_2     |EXT_SOURCE_3      |APARTMENTS_AVG|BASEMENTAREA_AVG|YEARS_BEGINEXPLUATATION_AVG|YEARS_BUILD_AVG|COMMONAREA_AVG|ELEVATORS_AVG|ENTRANCES_AVG|FLOORSMAX_AVG|FLOORSMIN_AVG|LANDAREA_AVG|LIVINGAPARTMENTS_AVG|LIVINGAREA_AVG|NONLIVINGAPARTMENTS_AVG|NONLIVINGAREA_AVG|APARTMENTS_MODE|BASEMENTAREA_MODE|YEARS_BEGINEXPLUATATION_MODE|YEARS_BUILD_MODE|COMMONAREA_MODE|ELEVATORS_MODE|ENTRANCES_MODE|FLOORSMAX_MODE|FLOORSMIN_MODE|LANDAREA_MODE|LIVINGAPARTMENTS_MODE|LIVINGAREA_MODE|NONLIVINGAPARTMENTS_MODE|NONLIVINGAREA_MODE|APARTMENTS_MEDI|BASEMENTAREA_MEDI|YEARS_BEGINEXPLUATATION_MEDI|YEARS_BUILD_MEDI|COMMONAREA_MEDI|ELEVATORS_MEDI|ENTRANCES_MEDI|FLOORSMAX_MEDI|FLOORSMIN_MEDI|LANDAREA_MEDI|LIVINGAPARTMENTS_MEDI|LIVINGAREA_MEDI|NONLIVINGAPARTMENTS_MEDI|NONLIVINGAREA_MEDI|FONDKAPREMONT_MODE|HOUSETYPE_MODE|TOTALAREA_MODE|WALLSMATERIAL_MODE|EMERGENCYSTATE_MODE|OBS_30_CNT_SOCIAL_CIRCLE|DEF_30_CNT_SOCIAL_CIRCLE|OBS_60_CNT_SOCIAL_CIRCLE|DEF_60_CNT_SOCIAL_CIRCLE|DAYS_LAST_PHONE_CHANGE|FLAG_DOCUMENT_2|FLAG_DOCUMENT_3|FLAG_DOCUMENT_4|FLAG_DOCUMENT_5|FLAG_DOCUMENT_6|FLAG_DOCUMENT_7|FLAG_DOCUMENT_8|FLAG_DOCUMENT_9|FLAG_DOCUMENT_10|FLAG_DOCUMENT_11|FLAG_DOCUMENT_12|FLAG_DOCUMENT_13|FLAG_DOCUMENT_14|FLAG_DOCUMENT_15|FLAG_DOCUMENT_16|FLAG_DOCUMENT_17|FLAG_DOCUMENT_18|FLAG_DOCUMENT_19|FLAG_DOCUMENT_20|FLAG_DOCUMENT_21|AMT_REQ_CREDIT_BUREAU_HOUR|AMT_REQ_CREDIT_BUREAU_DAY|AMT_REQ_CREDIT_BUREAU_WEEK|AMT_REQ_CREDIT_BUREAU_MON|AMT_REQ_CREDIT_BUREAU_QRT|AMT_REQ_CREDIT_BUREAU_YEAR|\n",
      "+----------+------+------------------+-----------+------------+---------------+------------+----------------+----------+-----------+---------------+---------------+----------------+-------------------+------------------+-----------------+--------------------------+----------+-------------+-----------------+---------------+-----------+----------+--------------+---------------+----------------+----------+----------+---------------+---------------+--------------------+---------------------------+--------------------------+-----------------------+--------------------------+--------------------------+---------------------------+----------------------+----------------------+-----------------------+-----------------+------------------+-----------------+------------------+--------------+----------------+---------------------------+---------------+--------------+-------------+-------------+-------------+-------------+------------+--------------------+--------------+-----------------------+-----------------+---------------+-----------------+----------------------------+----------------+---------------+--------------+--------------+--------------+--------------+-------------+---------------------+---------------+------------------------+------------------+---------------+-----------------+----------------------------+----------------+---------------+--------------+--------------+--------------+--------------+-------------+---------------------+---------------+------------------------+------------------+------------------+--------------+--------------+------------------+-------------------+------------------------+------------------------+------------------------+------------------------+----------------------+---------------+---------------+---------------+---------------+---------------+---------------+---------------+---------------+----------------+----------------+----------------+----------------+----------------+----------------+----------------+----------------+----------------+----------------+----------------+----------------+--------------------------+-------------------------+--------------------------+-------------------------+-------------------------+--------------------------+\n",
      "|215354    |0     |Cash loans        |F          |Y           |N              |0           |270000.0        |720000.0  |21181.5    |720000.0       |Unaccompanied  |Working         |Higher education   |Married           |House / apartment|0.028663                  |-17520    |-939         |-1203.0          |-1064          |4.0        |1         |1             |0              |1               |0         |0         |Accountants    |2.0            |2                   |2                          |MONDAY                    |13                     |0                         |0                         |0                          |0                     |0                     |0                      |Trade: type 7    |0.8737362738293727|0.522744861623572|0.2314393514998941|null          |null            |null                       |null           |null          |null         |null         |null         |null         |null        |null                |null          |null                   |null             |null           |null             |null                        |null            |null           |null          |null          |null          |null          |null         |null                 |null           |null                    |null              |null           |null             |null                        |null            |null           |null          |null          |null          |null          |null         |null                 |null           |null                    |null              |null              |null          |null          |null              |null               |1.0                     |1.0                     |1.0                     |1.0                     |-1553.0               |0              |1              |0              |0              |0              |0              |0              |0              |0               |0               |0               |0               |0               |0               |0               |0               |0               |0               |0               |0               |0.0                       |0.0                      |0.0                       |0.0                      |0.0                      |3.0                       |\n",
      "+----------+------+------------------+-----------+------------+---------------+------------+----------------+----------+-----------+---------------+---------------+----------------+-------------------+------------------+-----------------+--------------------------+----------+-------------+-----------------+---------------+-----------+----------+--------------+---------------+----------------+----------+----------+---------------+---------------+--------------------+---------------------------+--------------------------+-----------------------+--------------------------+--------------------------+---------------------------+----------------------+----------------------+-----------------------+-----------------+------------------+-----------------+------------------+--------------+----------------+---------------------------+---------------+--------------+-------------+-------------+-------------+-------------+------------+--------------------+--------------+-----------------------+-----------------+---------------+-----------------+----------------------------+----------------+---------------+--------------+--------------+--------------+--------------+-------------+---------------------+---------------+------------------------+------------------+---------------+-----------------+----------------------------+----------------+---------------+--------------+--------------+--------------+--------------+-------------+---------------------+---------------+------------------------+------------------+------------------+--------------+--------------+------------------+-------------------+------------------------+------------------------+------------------------+------------------------+----------------------+---------------+---------------+---------------+---------------+---------------+---------------+---------------+---------------+----------------+----------------+----------------+----------------+----------------+----------------+----------------+----------------+----------------+----------------+----------------+----------------+--------------------------+-------------------------+--------------------------+-------------------------+-------------------------+--------------------------+\n",
      "\n"
     ]
    },
    {
     "name": "stderr",
     "output_type": "stream",
     "text": [
      "                                                                                \r"
     ]
    }
   ],
   "source": [
    "sdf_train.filter(F.col('SK_ID_CURR') == 215354)\\\n",
    "            .sort(F.asc('SK_ID_CURR'))\\\n",
    "            .show(20, False)"
   ]
  },
  {
   "cell_type": "code",
   "execution_count": 33,
   "id": "48cb53d8-8218-4225-b75e-b4027697dc4f",
   "metadata": {},
   "outputs": [
    {
     "name": "stderr",
     "output_type": "stream",
     "text": [
      "[Stage 198:>                                                        (0 + 8) / 8]\r"
     ]
    },
    {
     "name": "stdout",
     "output_type": "stream",
     "text": [
      "+----------+------------+-------------+---------------+-----------+------------------+-------------------+-----------------+----------------------+------------------+--------------+-------------------+--------------------+----------------------+---------------+------------------+-----------+\n",
      "|SK_ID_CURR|SK_ID_BUREAU|CREDIT_ACTIVE|CREDIT_CURRENCY|DAYS_CREDIT|CREDIT_DAY_OVERDUE|DAYS_CREDIT_ENDDATE|DAYS_ENDDATE_FACT|AMT_CREDIT_MAX_OVERDUE|CNT_CREDIT_PROLONG|AMT_CREDIT_SUM|AMT_CREDIT_SUM_DEBT|AMT_CREDIT_SUM_LIMIT|AMT_CREDIT_SUM_OVERDUE|CREDIT_TYPE    |DAYS_CREDIT_UPDATE|AMT_ANNUITY|\n",
      "+----------+------------+-------------+---------------+-----------+------------------+-------------------+-----------------+----------------------+------------------+--------------+-------------------+--------------------+----------------------+---------------+------------------+-----------+\n",
      "|215354    |5714458     |Closed       |currency 1     |-1872      |0                 |-776.0             |-1203.0          |null                  |0                 |494550.0      |0.0                |0.0                 |0.0                   |Consumer credit|-696              |null       |\n",
      "|215354    |5714459     |Closed       |currency 1     |-1734      |0                 |-638.0             |-1336.0          |null                  |0                 |1084032.0     |0.0                |null                |0.0                   |Car loan       |-1336             |null       |\n",
      "|215354    |5714460     |Closed       |currency 1     |-1333      |0                 |-1089.0            |-987.0           |null                  |0                 |102150.0      |null               |null                |0.0                   |Consumer credit|-984              |null       |\n",
      "|215354    |5714461     |Closed       |currency 1     |-1011      |0                 |-830.0             |-770.0           |null                  |0                 |500463.0      |null               |null                |0.0                   |Consumer credit|-767              |null       |\n",
      "|215354    |5714462     |Closed       |currency 1     |-497       |0                 |-153.0             |-153.0           |null                  |0                 |91323.0       |0.0                |null                |0.0                   |Consumer credit|-131              |null       |\n",
      "|215354    |5714463     |Active       |currency 1     |-208       |0                 |1075.0             |null             |null                  |0                 |225000.0      |171342.0           |null                |0.0                   |Credit card    |-20               |null       |\n",
      "|215354    |5714464     |Active       |currency 1     |-203       |0                 |528.0              |null             |null                  |0                 |464323.5      |null               |null                |0.0                   |Consumer credit|-16               |null       |\n",
      "|215354    |5714465     |Active       |currency 1     |-203       |0                 |null               |null             |null                  |0                 |90000.0       |null               |null                |0.0                   |Credit card    |-16               |null       |\n",
      "|215354    |5714466     |Active       |currency 1     |-629       |0                 |1197.0             |null             |77674.5               |0                 |2700000.0     |null               |null                |0.0                   |Consumer credit|-21               |null       |\n",
      "|215354    |5714467     |Active       |currency 1     |-273       |0                 |27460.0            |null             |0.0                   |0                 |180000.0      |71017.38           |108982.62           |0.0                   |Credit card    |-31               |null       |\n",
      "|215354    |5714468     |Active       |currency 1     |-43        |0                 |79.0               |null             |0.0                   |0                 |42103.8       |42103.8            |0.0                 |0.0                   |Consumer credit|-22               |null       |\n",
      "+----------+------------+-------------+---------------+-----------+------------------+-------------------+-----------------+----------------------+------------------+--------------+-------------------+--------------------+----------------------+---------------+------------------+-----------+\n",
      "\n"
     ]
    },
    {
     "name": "stderr",
     "output_type": "stream",
     "text": [
      "                                                                                \r"
     ]
    }
   ],
   "source": [
    "sdf_bureau.filter(F.col('SK_ID_CURR') == 215354)\\\n",
    "            .sort(F.asc('SK_ID_BUREAU'))\\\n",
    "            .show(20, False)"
   ]
  },
  {
   "cell_type": "code",
   "execution_count": 69,
   "id": "b99b1b7f-cb19-4cb3-8427-1761ab0c0be2",
   "metadata": {},
   "outputs": [
    {
     "name": "stdout",
     "output_type": "stream",
     "text": [
      "+-----------+----------+\n",
      "|AMT_ANNUITY|SK_ID_CURR|\n",
      "+-----------+----------+\n",
      "|null       |215354    |\n",
      "|null       |215354    |\n",
      "|null       |215354    |\n",
      "|null       |215354    |\n",
      "|null       |215354    |\n",
      "|null       |215354    |\n",
      "|null       |215354    |\n",
      "|null       |215354    |\n",
      "|null       |215354    |\n",
      "|null       |215354    |\n",
      "|null       |215354    |\n",
      "+-----------+----------+\n",
      "\n"
     ]
    }
   ],
   "source": [
    "sdf_bureau.filter(F.col('SK_ID_CURR') == 215354).select('AMT_ANNUITY', 'SK_ID_CURR').show(20, False)"
   ]
  },
  {
   "cell_type": "code",
   "execution_count": 67,
   "id": "2377d8fb-0ad9-4f8d-b7fa-72c8560bf68e",
   "metadata": {},
   "outputs": [
    {
     "name": "stdout",
     "output_type": "stream",
     "text": [
      "+-----------+----------+\n",
      "|AMT_ANNUITY|SK_ID_CURR|\n",
      "+-----------+----------+\n",
      "|21181.5    |215354    |\n",
      "+-----------+----------+\n",
      "\n"
     ]
    }
   ],
   "source": [
    "sdf_train.filter(F.col('SK_ID_CURR') == 215354).select('AMT_ANNUITY', 'SK_ID_CURR').show(20, False)"
   ]
  },
  {
   "cell_type": "code",
   "execution_count": 43,
   "id": "6bc51434-cc69-4d6c-98cd-26ad69d65fb9",
   "metadata": {},
   "outputs": [
    {
     "name": "stdout",
     "output_type": "stream",
     "text": [
      "+---------------+\n",
      "|CREDIT_CURRENCY|\n",
      "+---------------+\n",
      "|currency 2     |\n",
      "|currency 1     |\n",
      "|currency 4     |\n",
      "|currency 3     |\n",
      "+---------------+\n",
      "\n"
     ]
    },
    {
     "name": "stderr",
     "output_type": "stream",
     "text": [
      "                                                                                \r"
     ]
    }
   ],
   "source": [
    "sdf_bureau.select('CREDIT_CURRENCY').distinct().show(10, False)"
   ]
  },
  {
   "cell_type": "code",
   "execution_count": 25,
   "id": "a0f2d6a5-3e04-4fa6-987f-6e4989afbca4",
   "metadata": {},
   "outputs": [
    {
     "name": "stdout",
     "output_type": "stream",
     "text": [
      "+----------+------+------------------+-----------+------------+---------------+------------+----------------+----------+-----------+---------------+---------------+----------------+-------------------+------------------+-----------------+--------------------------+----------+-------------+-----------------+---------------+-----------+----------+--------------+---------------+----------------+----------+----------+---------------+---------------+--------------------+---------------------------+--------------------------+-----------------------+--------------------------+--------------------------+---------------------------+----------------------+----------------------+-----------------------+-----------------+------------------+-----------------+------------------+--------------+----------------+---------------------------+---------------+--------------+-------------+-------------+-------------+-------------+------------+--------------------+--------------+-----------------------+-----------------+---------------+-----------------+----------------------------+----------------+---------------+--------------+--------------+--------------+--------------+-------------+---------------------+---------------+------------------------+------------------+---------------+-----------------+----------------------------+----------------+---------------+--------------+--------------+--------------+--------------+-------------+---------------------+---------------+------------------------+------------------+------------------+--------------+--------------+------------------+-------------------+------------------------+------------------------+------------------------+------------------------+----------------------+---------------+---------------+---------------+---------------+---------------+---------------+---------------+---------------+----------------+----------------+----------------+----------------+----------------+----------------+----------------+----------------+----------------+----------------+----------------+----------------+--------------------------+-------------------------+--------------------------+-------------------------+-------------------------+--------------------------+\n",
      "|SK_ID_CURR|TARGET|NAME_CONTRACT_TYPE|CODE_GENDER|FLAG_OWN_CAR|FLAG_OWN_REALTY|CNT_CHILDREN|AMT_INCOME_TOTAL|AMT_CREDIT|AMT_ANNUITY|AMT_GOODS_PRICE|NAME_TYPE_SUITE|NAME_INCOME_TYPE|NAME_EDUCATION_TYPE|NAME_FAMILY_STATUS|NAME_HOUSING_TYPE|REGION_POPULATION_RELATIVE|DAYS_BIRTH|DAYS_EMPLOYED|DAYS_REGISTRATION|DAYS_ID_PUBLISH|OWN_CAR_AGE|FLAG_MOBIL|FLAG_EMP_PHONE|FLAG_WORK_PHONE|FLAG_CONT_MOBILE|FLAG_PHONE|FLAG_EMAIL|OCCUPATION_TYPE|CNT_FAM_MEMBERS|REGION_RATING_CLIENT|REGION_RATING_CLIENT_W_CITY|WEEKDAY_APPR_PROCESS_START|HOUR_APPR_PROCESS_START|REG_REGION_NOT_LIVE_REGION|REG_REGION_NOT_WORK_REGION|LIVE_REGION_NOT_WORK_REGION|REG_CITY_NOT_LIVE_CITY|REG_CITY_NOT_WORK_CITY|LIVE_CITY_NOT_WORK_CITY|ORGANIZATION_TYPE|EXT_SOURCE_1      |EXT_SOURCE_2     |EXT_SOURCE_3      |APARTMENTS_AVG|BASEMENTAREA_AVG|YEARS_BEGINEXPLUATATION_AVG|YEARS_BUILD_AVG|COMMONAREA_AVG|ELEVATORS_AVG|ENTRANCES_AVG|FLOORSMAX_AVG|FLOORSMIN_AVG|LANDAREA_AVG|LIVINGAPARTMENTS_AVG|LIVINGAREA_AVG|NONLIVINGAPARTMENTS_AVG|NONLIVINGAREA_AVG|APARTMENTS_MODE|BASEMENTAREA_MODE|YEARS_BEGINEXPLUATATION_MODE|YEARS_BUILD_MODE|COMMONAREA_MODE|ELEVATORS_MODE|ENTRANCES_MODE|FLOORSMAX_MODE|FLOORSMIN_MODE|LANDAREA_MODE|LIVINGAPARTMENTS_MODE|LIVINGAREA_MODE|NONLIVINGAPARTMENTS_MODE|NONLIVINGAREA_MODE|APARTMENTS_MEDI|BASEMENTAREA_MEDI|YEARS_BEGINEXPLUATATION_MEDI|YEARS_BUILD_MEDI|COMMONAREA_MEDI|ELEVATORS_MEDI|ENTRANCES_MEDI|FLOORSMAX_MEDI|FLOORSMIN_MEDI|LANDAREA_MEDI|LIVINGAPARTMENTS_MEDI|LIVINGAREA_MEDI|NONLIVINGAPARTMENTS_MEDI|NONLIVINGAREA_MEDI|FONDKAPREMONT_MODE|HOUSETYPE_MODE|TOTALAREA_MODE|WALLSMATERIAL_MODE|EMERGENCYSTATE_MODE|OBS_30_CNT_SOCIAL_CIRCLE|DEF_30_CNT_SOCIAL_CIRCLE|OBS_60_CNT_SOCIAL_CIRCLE|DEF_60_CNT_SOCIAL_CIRCLE|DAYS_LAST_PHONE_CHANGE|FLAG_DOCUMENT_2|FLAG_DOCUMENT_3|FLAG_DOCUMENT_4|FLAG_DOCUMENT_5|FLAG_DOCUMENT_6|FLAG_DOCUMENT_7|FLAG_DOCUMENT_8|FLAG_DOCUMENT_9|FLAG_DOCUMENT_10|FLAG_DOCUMENT_11|FLAG_DOCUMENT_12|FLAG_DOCUMENT_13|FLAG_DOCUMENT_14|FLAG_DOCUMENT_15|FLAG_DOCUMENT_16|FLAG_DOCUMENT_17|FLAG_DOCUMENT_18|FLAG_DOCUMENT_19|FLAG_DOCUMENT_20|FLAG_DOCUMENT_21|AMT_REQ_CREDIT_BUREAU_HOUR|AMT_REQ_CREDIT_BUREAU_DAY|AMT_REQ_CREDIT_BUREAU_WEEK|AMT_REQ_CREDIT_BUREAU_MON|AMT_REQ_CREDIT_BUREAU_QRT|AMT_REQ_CREDIT_BUREAU_YEAR|\n",
      "+----------+------+------------------+-----------+------------+---------------+------------+----------------+----------+-----------+---------------+---------------+----------------+-------------------+------------------+-----------------+--------------------------+----------+-------------+-----------------+---------------+-----------+----------+--------------+---------------+----------------+----------+----------+---------------+---------------+--------------------+---------------------------+--------------------------+-----------------------+--------------------------+--------------------------+---------------------------+----------------------+----------------------+-----------------------+-----------------+------------------+-----------------+------------------+--------------+----------------+---------------------------+---------------+--------------+-------------+-------------+-------------+-------------+------------+--------------------+--------------+-----------------------+-----------------+---------------+-----------------+----------------------------+----------------+---------------+--------------+--------------+--------------+--------------+-------------+---------------------+---------------+------------------------+------------------+---------------+-----------------+----------------------------+----------------+---------------+--------------+--------------+--------------+--------------+-------------+---------------------+---------------+------------------------+------------------+------------------+--------------+--------------+------------------+-------------------+------------------------+------------------------+------------------------+------------------------+----------------------+---------------+---------------+---------------+---------------+---------------+---------------+---------------+---------------+----------------+----------------+----------------+----------------+----------------+----------------+----------------+----------------+----------------+----------------+----------------+----------------+--------------------------+-------------------------+--------------------------+-------------------------+-------------------------+--------------------------+\n",
      "|215354    |0     |Cash loans        |F          |Y           |N              |0           |270000.0        |720000.0  |21181.5    |720000.0       |Unaccompanied  |Working         |Higher education   |Married           |House / apartment|0.028663                  |-17520    |-939         |-1203.0          |-1064          |4.0        |1         |1             |0              |1               |0         |0         |Accountants    |2.0            |2                   |2                          |MONDAY                    |13                     |0                         |0                         |0                          |0                     |0                     |0                      |Trade: type 7    |0.8737362738293727|0.522744861623572|0.2314393514998941|null          |null            |null                       |null           |null          |null         |null         |null         |null         |null        |null                |null          |null                   |null             |null           |null             |null                        |null            |null           |null          |null          |null          |null          |null         |null                 |null           |null                    |null              |null           |null             |null                        |null            |null           |null          |null          |null          |null          |null         |null                 |null           |null                    |null              |null              |null          |null          |null              |null               |1.0                     |1.0                     |1.0                     |1.0                     |-1553.0               |0              |1              |0              |0              |0              |0              |0              |0              |0               |0               |0               |0               |0               |0               |0               |0               |0               |0               |0               |0               |0.0                       |0.0                      |0.0                       |0.0                      |0.0                      |3.0                       |\n",
      "+----------+------+------------------+-----------+------------+---------------+------------+----------------+----------+-----------+---------------+---------------+----------------+-------------------+------------------+-----------------+--------------------------+----------+-------------+-----------------+---------------+-----------+----------+--------------+---------------+----------------+----------+----------+---------------+---------------+--------------------+---------------------------+--------------------------+-----------------------+--------------------------+--------------------------+---------------------------+----------------------+----------------------+-----------------------+-----------------+------------------+-----------------+------------------+--------------+----------------+---------------------------+---------------+--------------+-------------+-------------+-------------+-------------+------------+--------------------+--------------+-----------------------+-----------------+---------------+-----------------+----------------------------+----------------+---------------+--------------+--------------+--------------+--------------+-------------+---------------------+---------------+------------------------+------------------+---------------+-----------------+----------------------------+----------------+---------------+--------------+--------------+--------------+--------------+-------------+---------------------+---------------+------------------------+------------------+------------------+--------------+--------------+------------------+-------------------+------------------------+------------------------+------------------------+------------------------+----------------------+---------------+---------------+---------------+---------------+---------------+---------------+---------------+---------------+----------------+----------------+----------------+----------------+----------------+----------------+----------------+----------------+----------------+----------------+----------------+----------------+--------------------------+-------------------------+--------------------------+-------------------------+-------------------------+--------------------------+\n",
      "\n"
     ]
    }
   ],
   "source": [
    "sdf_train.filter(F.col('SK_ID_CURR') == 215354).show(10, False)"
   ]
  },
  {
   "cell_type": "code",
   "execution_count": 59,
   "id": "efd0a4dc-a9a8-466b-affd-1f261317811d",
   "metadata": {},
   "outputs": [
    {
     "name": "stdout",
     "output_type": "stream",
     "text": [
      "SK_ID_CURR\n",
      "AMT_ANNUITY\n"
     ]
    }
   ],
   "source": [
    "for i in sdf_train.columns:\n",
    "    for j in sdf_bureau.columns:\n",
    "        if (i == j):\n",
    "            print (i)"
   ]
  },
  {
   "cell_type": "code",
   "execution_count": 55,
   "id": "5b6ba802-39d1-4fbd-90a5-25560ab40d75",
   "metadata": {},
   "outputs": [
    {
     "data": {
      "text/plain": [
       "list"
      ]
     },
     "execution_count": 55,
     "metadata": {},
     "output_type": "execute_result"
    }
   ],
   "source": [
    "type(sdf_train.columns)"
   ]
  },
  {
   "cell_type": "code",
   "execution_count": null,
   "id": "29df1709-1a06-443d-8eac-b6e4f0f389a6",
   "metadata": {},
   "outputs": [],
   "source": []
  },
  {
   "cell_type": "code",
   "execution_count": 13,
   "id": "5f22905f-2a8d-4af7-9b5a-7d05beb08719",
   "metadata": {},
   "outputs": [
    {
     "data": {
      "text/plain": [
       "307511"
      ]
     },
     "execution_count": 13,
     "metadata": {},
     "output_type": "execute_result"
    }
   ],
   "source": [
    "sdf_train.count()"
   ]
  },
  {
   "cell_type": "code",
   "execution_count": 11,
   "id": "6c4d7f02-f6f8-4060-806f-fc41d5a398f9",
   "metadata": {},
   "outputs": [
    {
     "data": {
      "text/plain": [
       "1716428"
      ]
     },
     "execution_count": 11,
     "metadata": {},
     "output_type": "execute_result"
    }
   ],
   "source": [
    "sdf_bureau.count()"
   ]
  },
  {
   "cell_type": "code",
   "execution_count": null,
   "id": "859f661e-097b-4cbd-aa7a-fb6895d8783f",
   "metadata": {},
   "outputs": [],
   "source": []
  },
  {
   "cell_type": "code",
   "execution_count": 24,
   "id": "339cf727-ea32-4fc7-b49d-8a97ca5219dc",
   "metadata": {},
   "outputs": [
    {
     "data": {
      "text/plain": [
       "122"
      ]
     },
     "execution_count": 24,
     "metadata": {},
     "output_type": "execute_result"
    }
   ],
   "source": [
    "len(sdf_train.columns)"
   ]
  },
  {
   "cell_type": "code",
   "execution_count": null,
   "id": "8a57a7b0-bbae-474c-8b19-d28c3fef53e1",
   "metadata": {},
   "outputs": [],
   "source": []
  },
  {
   "cell_type": "code",
   "execution_count": null,
   "id": "aa1da66f-7bec-4ae8-a45a-259c25e2d79a",
   "metadata": {},
   "outputs": [],
   "source": []
  },
  {
   "cell_type": "code",
   "execution_count": null,
   "id": "dd984b22-77e9-419f-aae1-c27935bbcdb5",
   "metadata": {},
   "outputs": [],
   "source": []
  }
 ],
 "metadata": {
  "kernelspec": {
   "display_name": "Python 3 (ipykernel)",
   "language": "python",
   "name": "python3"
  },
  "language_info": {
   "codemirror_mode": {
    "name": "ipython",
    "version": 3
   },
   "file_extension": ".py",
   "mimetype": "text/x-python",
   "name": "python",
   "nbconvert_exporter": "python",
   "pygments_lexer": "ipython3",
   "version": "3.12.2"
  }
 },
 "nbformat": 4,
 "nbformat_minor": 5
}
