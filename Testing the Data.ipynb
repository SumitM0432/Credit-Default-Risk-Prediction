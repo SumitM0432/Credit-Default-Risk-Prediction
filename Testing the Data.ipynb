{
 "cells": [
  {
   "cell_type": "code",
   "execution_count": 2,
   "id": "fecc28fa-bf1e-49cf-beb3-e5ffc303f29c",
   "metadata": {},
   "outputs": [
    {
     "name": "stdout",
     "output_type": "stream",
     "text": [
      "/Users/sumitmishra/Desktop/GitHub/Credit-Default-Risk-Prediction\n"
     ]
    }
   ],
   "source": [
    "!pwd"
   ]
  },
  {
   "cell_type": "code",
   "execution_count": 4,
   "id": "8893ec50-242e-4866-ba39-ea35144a4c4a",
   "metadata": {},
   "outputs": [
    {
     "data": {
      "text/html": [
       "<style>pre { white-space: pre !important; }</style>"
      ],
      "text/plain": [
       "<IPython.core.display.HTML object>"
      ]
     },
     "metadata": {},
     "output_type": "display_data"
    },
    {
     "name": "stderr",
     "output_type": "stream",
     "text": [
      "25/01/27 22:08:54 WARN Utils: Your hostname, Sumits-MacBook-Air.local resolves to a loopback address: 127.0.0.1; using 10.61.203.73 instead (on interface en0)\n",
      "25/01/27 22:08:54 WARN Utils: Set SPARK_LOCAL_IP if you need to bind to another address\n",
      "Setting default log level to \"WARN\".\n",
      "To adjust logging level use sc.setLogLevel(newLevel). For SparkR, use setLogLevel(newLevel).\n",
      "25/01/27 22:08:54 WARN NativeCodeLoader: Unable to load native-hadoop library for your platform... using builtin-java classes where applicable\n"
     ]
    }
   ],
   "source": [
    "import os\n",
    "import pandas as pd\n",
    "pd.options.display.max_columns = None  # Show all columns\n",
    "pd.options.display.width = 1000        # Adjust width to fit more data\n",
    "\n",
    "import numpy as np\n",
    "import seaborn as sns\n",
    "import matplotlib.pyplot as plt\n",
    "from pyspark.sql import SparkSession\n",
    "from pyspark.sql import functions as F\n",
    "\n",
    "import warnings\n",
    "warnings.simplefilter('ignore', UserWarning)\n",
    "\n",
    "from IPython.core.display import HTML\n",
    "display(HTML(\"<style>pre { white-space: pre !important; }</style>\"))\n",
    "\n",
    "spark = SparkSession.builder.appName(\"Home Credit Default Prediction\").getOrCreate()\n",
    "\n",
    "spark.conf.set(\"spark.sql.repl.eagerEval.enabled\", True) \n",
    "spark.conf.set(\"spark.sql.debug.maxToStringFields\", 1000)\n",
    "spark.conf.set(\"spark.sql.repl.eagerEval.maxNumCols\", 200) \n",
    "spark.conf.set(\"spark.sql.repl.eagerEval.enabled\", True)\n",
    "\n",
    "def print_message(df):\n",
    "    print (\"Rows :: {}  |  Columns :: {}\".format(df.count(), len(df.columns)))\n",
    "    return (None)\n",
    "\n",
    "path = os.getcwd()"
   ]
  },
  {
   "cell_type": "markdown",
   "id": "2e0475fb-b149-4b19-87bd-cd0c6ec14421",
   "metadata": {},
   "source": [
    "<img src=\"https://storage.googleapis.com/kaggle-media/competitions/home-credit/home_credit.png\" width=\"800\"/>"
   ]
  },
  {
   "cell_type": "code",
   "execution_count": 6,
   "id": "04b6ea58-5bd6-48b1-87d0-7cfc4e3ffb3e",
   "metadata": {},
   "outputs": [],
   "source": [
    "# Training and testing data\n",
    "sdf_train = spark.read.option('header', True)\\\n",
    "           .csv(path + \"/Data/application_train.csv\")\n",
    "\n",
    "sdf_test = spark.read.option('header', True)\\\n",
    "           .csv(path + \"/Data/application_test.csv\")\n",
    "\n",
    "# Bureau data with previous credit history\n",
    "sdf_bureau = spark.read.option('header', True)\\\n",
    "           .csv(path + \"/Data/bureau.csv\")\n",
    "\n",
    "sdf_bureau_balance = spark.read.option('header', True)\\\n",
    "           .csv(path + \"/Data/bureau_balance.csv\")\n",
    "\n",
    "# Previous application of the customers\n",
    "sdf_prev_app = spark.read.option('header', True)\\\n",
    "           .csv(path + \"/Data/previous_application.csv\")\n",
    "\n",
    "# Previous Home credit loan/cash loans with Home Credit\n",
    "sdf_posh_cash_balance = spark.read.option('header', True)\\\n",
    "           .csv(path + \"/Data/POS_CASH_BALANCE.csv\")\n",
    "\n",
    "# Credit Card Balance of the customers with Home Credit\n",
    "sdf_cc_balance = spark.read.option('header', True)\\\n",
    "           .csv(path + \"/Data/credit_card_balance.csv\")\n",
    "\n",
    "# previous installments by the customers\n",
    "sdf_prev_installments = spark.read.option('header', True)\\\n",
    "           .csv(path + \"/Data/installments_payments.csv\")\n",
    "\n",
    "# Column description\n",
    "sdf_desc = spark.read.option('header', True)\\\n",
    "            .csv(path + \"/Data/HomeCredit_columns_description.csv\")\n",
    "\n",
    "def table_desc(name, df = sdf_desc):\n",
    "    \n",
    "    df.filter(F.col('Row') == name)\\\n",
    "        .select('Table', 'Row', 'Description')\\\n",
    "        .distinct()\\\n",
    "        .show(10, False)\n",
    "    return (None)"
   ]
  },
  {
   "cell_type": "code",
   "execution_count": 10,
   "id": "efce895c-5f9a-49c6-a420-ccc5e4b0e529",
   "metadata": {},
   "outputs": [
    {
     "name": "stdout",
     "output_type": "stream",
     "text": [
      "+----------+------+------------------+-----------+------------+---------------+------------+----------------+----------+-----------+---------------+---------------+--------------------+-----------------------------+--------------------+-----------------+--------------------------+----------+-------------+-----------------+---------------+-----------+----------+--------------+---------------+----------------+----------+----------+---------------+---------------+--------------------+---------------------------+--------------------------+-----------------------+--------------------------+--------------------------+---------------------------+----------------------+----------------------+-----------------------+----------------------+-------------------+-------------------+-------------------+--------------+----------------+---------------------------+------------------+--------------+-------------+-------------+-------------+-------------+------------+--------------------+--------------+-----------------------+-----------------+---------------+-----------------+----------------------------+----------------+---------------+--------------+--------------+--------------+--------------+-------------+---------------------+---------------+------------------------+------------------+---------------+-----------------+----------------------------+----------------+---------------+--------------+--------------+--------------+--------------+-------------+---------------------+---------------+------------------------+------------------+------------------+--------------+--------------+------------------+-------------------+------------------------+------------------------+------------------------+------------------------+----------------------+---------------+---------------+---------------+---------------+---------------+---------------+---------------+---------------+----------------+----------------+----------------+----------------+----------------+----------------+----------------+----------------+----------------+----------------+----------------+----------------+--------------------------+-------------------------+--------------------------+-------------------------+-------------------------+--------------------------+\n",
      "|SK_ID_CURR|TARGET|NAME_CONTRACT_TYPE|CODE_GENDER|FLAG_OWN_CAR|FLAG_OWN_REALTY|CNT_CHILDREN|AMT_INCOME_TOTAL|AMT_CREDIT|AMT_ANNUITY|AMT_GOODS_PRICE|NAME_TYPE_SUITE|NAME_INCOME_TYPE    |NAME_EDUCATION_TYPE          |NAME_FAMILY_STATUS  |NAME_HOUSING_TYPE|REGION_POPULATION_RELATIVE|DAYS_BIRTH|DAYS_EMPLOYED|DAYS_REGISTRATION|DAYS_ID_PUBLISH|OWN_CAR_AGE|FLAG_MOBIL|FLAG_EMP_PHONE|FLAG_WORK_PHONE|FLAG_CONT_MOBILE|FLAG_PHONE|FLAG_EMAIL|OCCUPATION_TYPE|CNT_FAM_MEMBERS|REGION_RATING_CLIENT|REGION_RATING_CLIENT_W_CITY|WEEKDAY_APPR_PROCESS_START|HOUR_APPR_PROCESS_START|REG_REGION_NOT_LIVE_REGION|REG_REGION_NOT_WORK_REGION|LIVE_REGION_NOT_WORK_REGION|REG_CITY_NOT_LIVE_CITY|REG_CITY_NOT_WORK_CITY|LIVE_CITY_NOT_WORK_CITY|ORGANIZATION_TYPE     |EXT_SOURCE_1       |EXT_SOURCE_2       |EXT_SOURCE_3       |APARTMENTS_AVG|BASEMENTAREA_AVG|YEARS_BEGINEXPLUATATION_AVG|YEARS_BUILD_AVG   |COMMONAREA_AVG|ELEVATORS_AVG|ENTRANCES_AVG|FLOORSMAX_AVG|FLOORSMIN_AVG|LANDAREA_AVG|LIVINGAPARTMENTS_AVG|LIVINGAREA_AVG|NONLIVINGAPARTMENTS_AVG|NONLIVINGAREA_AVG|APARTMENTS_MODE|BASEMENTAREA_MODE|YEARS_BEGINEXPLUATATION_MODE|YEARS_BUILD_MODE|COMMONAREA_MODE|ELEVATORS_MODE|ENTRANCES_MODE|FLOORSMAX_MODE|FLOORSMIN_MODE|LANDAREA_MODE|LIVINGAPARTMENTS_MODE|LIVINGAREA_MODE|NONLIVINGAPARTMENTS_MODE|NONLIVINGAREA_MODE|APARTMENTS_MEDI|BASEMENTAREA_MEDI|YEARS_BEGINEXPLUATATION_MEDI|YEARS_BUILD_MEDI|COMMONAREA_MEDI|ELEVATORS_MEDI|ENTRANCES_MEDI|FLOORSMAX_MEDI|FLOORSMIN_MEDI|LANDAREA_MEDI|LIVINGAPARTMENTS_MEDI|LIVINGAREA_MEDI|NONLIVINGAPARTMENTS_MEDI|NONLIVINGAREA_MEDI|FONDKAPREMONT_MODE|HOUSETYPE_MODE|TOTALAREA_MODE|WALLSMATERIAL_MODE|EMERGENCYSTATE_MODE|OBS_30_CNT_SOCIAL_CIRCLE|DEF_30_CNT_SOCIAL_CIRCLE|OBS_60_CNT_SOCIAL_CIRCLE|DEF_60_CNT_SOCIAL_CIRCLE|DAYS_LAST_PHONE_CHANGE|FLAG_DOCUMENT_2|FLAG_DOCUMENT_3|FLAG_DOCUMENT_4|FLAG_DOCUMENT_5|FLAG_DOCUMENT_6|FLAG_DOCUMENT_7|FLAG_DOCUMENT_8|FLAG_DOCUMENT_9|FLAG_DOCUMENT_10|FLAG_DOCUMENT_11|FLAG_DOCUMENT_12|FLAG_DOCUMENT_13|FLAG_DOCUMENT_14|FLAG_DOCUMENT_15|FLAG_DOCUMENT_16|FLAG_DOCUMENT_17|FLAG_DOCUMENT_18|FLAG_DOCUMENT_19|FLAG_DOCUMENT_20|FLAG_DOCUMENT_21|AMT_REQ_CREDIT_BUREAU_HOUR|AMT_REQ_CREDIT_BUREAU_DAY|AMT_REQ_CREDIT_BUREAU_WEEK|AMT_REQ_CREDIT_BUREAU_MON|AMT_REQ_CREDIT_BUREAU_QRT|AMT_REQ_CREDIT_BUREAU_YEAR|\n",
      "+----------+------+------------------+-----------+------------+---------------+------------+----------------+----------+-----------+---------------+---------------+--------------------+-----------------------------+--------------------+-----------------+--------------------------+----------+-------------+-----------------+---------------+-----------+----------+--------------+---------------+----------------+----------+----------+---------------+---------------+--------------------+---------------------------+--------------------------+-----------------------+--------------------------+--------------------------+---------------------------+----------------------+----------------------+-----------------------+----------------------+-------------------+-------------------+-------------------+--------------+----------------+---------------------------+------------------+--------------+-------------+-------------+-------------+-------------+------------+--------------------+--------------+-----------------------+-----------------+---------------+-----------------+----------------------------+----------------+---------------+--------------+--------------+--------------+--------------+-------------+---------------------+---------------+------------------------+------------------+---------------+-----------------+----------------------------+----------------+---------------+--------------+--------------+--------------+--------------+-------------+---------------------+---------------+------------------------+------------------+------------------+--------------+--------------+------------------+-------------------+------------------------+------------------------+------------------------+------------------------+----------------------+---------------+---------------+---------------+---------------+---------------+---------------+---------------+---------------+----------------+----------------+----------------+----------------+----------------+----------------+----------------+----------------+----------------+----------------+----------------+----------------+--------------------------+-------------------------+--------------------------+-------------------------+-------------------------+--------------------------+\n",
      "|100002    |1     |Cash loans        |M          |N           |Y              |0           |202500.0        |406597.5  |24700.5    |351000.0       |Unaccompanied  |Working             |Secondary / secondary special|Single / not married|House / apartment|0.018801                  |-9461     |-637         |-3648.0          |-2120          |null       |1         |1             |0              |1               |1         |0         |Laborers       |1.0            |2                   |2                          |WEDNESDAY                 |10                     |0                         |0                         |0                          |0                     |0                     |0                      |Business Entity Type 3|0.08303696739132256|0.2629485927471776 |0.13937578009978951|0.0247        |0.0369          |0.9722                     |0.6192            |0.0143        |0.0          |0.069        |0.0833       |0.125        |0.0369      |0.0202              |0.019         |0.0                    |0.0              |0.0252         |0.0383           |0.9722                      |0.6341          |0.0144         |0.0           |0.069         |0.0833        |0.125         |0.0377       |0.022                |0.0198         |0.0                     |0.0               |0.025          |0.0369           |0.9722                      |0.6243          |0.0144         |0.0           |0.069         |0.0833        |0.125         |0.0375       |0.0205               |0.0193         |0.0                     |0.0               |reg oper account  |block of flats|0.0149        |Stone, brick      |No                 |2.0                     |2.0                     |2.0                     |2.0                     |-1134.0               |0              |1              |0              |0              |0              |0              |0              |0              |0               |0               |0               |0               |0               |0               |0               |0               |0               |0               |0               |0               |0.0                       |0.0                      |0.0                       |0.0                      |0.0                      |1.0                       |\n",
      "|100003    |0     |Cash loans        |F          |N           |N              |0           |270000.0        |1293502.5 |35698.5    |1129500.0      |Family         |State servant       |Higher education             |Married             |House / apartment|0.003540999999999999      |-16765    |-1188        |-1186.0          |-291           |null       |1         |1             |0              |1               |1         |0         |Core staff     |2.0            |1                   |1                          |MONDAY                    |11                     |0                         |0                         |0                          |0                     |0                     |0                      |School                |0.3112673113812225 |0.6222457752555098 |null               |0.0959        |0.0529          |0.9851                     |0.7959999999999999|0.0605        |0.08         |0.0345       |0.2917       |0.3333       |0.013       |0.0773              |0.0549        |0.0039                 |0.0098           |0.0924         |0.0538           |0.9851                      |0.804           |0.0497         |0.0806        |0.0345        |0.2917        |0.3333        |0.0128       |0.079                |0.0554         |0.0                     |0.0               |0.0968         |0.0529           |0.9851                      |0.7987          |0.0608         |0.08          |0.0345        |0.2917        |0.3333        |0.0132       |0.0787               |0.0558         |0.0039                  |0.01              |reg oper account  |block of flats|0.0714        |Block             |No                 |1.0                     |0.0                     |1.0                     |0.0                     |-828.0                |0              |1              |0              |0              |0              |0              |0              |0              |0               |0               |0               |0               |0               |0               |0               |0               |0               |0               |0               |0               |0.0                       |0.0                      |0.0                       |0.0                      |0.0                      |0.0                       |\n",
      "|100004    |0     |Revolving loans   |M          |Y           |Y              |0           |67500.0         |135000.0  |6750.0     |135000.0       |Unaccompanied  |Working             |Secondary / secondary special|Single / not married|House / apartment|0.010032                  |-19046    |-225         |-4260.0          |-2531          |26.0       |1         |1             |1              |1               |1         |0         |Laborers       |1.0            |2                   |2                          |MONDAY                    |9                      |0                         |0                         |0                          |0                     |0                     |0                      |Government            |null               |0.5559120833904428 |0.7295666907060153 |null          |null            |null                       |null              |null          |null         |null         |null         |null         |null        |null                |null          |null                   |null             |null           |null             |null                        |null            |null           |null          |null          |null          |null          |null         |null                 |null           |null                    |null              |null           |null             |null                        |null            |null           |null          |null          |null          |null          |null         |null                 |null           |null                    |null              |null              |null          |null          |null              |null               |0.0                     |0.0                     |0.0                     |0.0                     |-815.0                |0              |0              |0              |0              |0              |0              |0              |0              |0               |0               |0               |0               |0               |0               |0               |0               |0               |0               |0               |0               |0.0                       |0.0                      |0.0                       |0.0                      |0.0                      |0.0                       |\n",
      "|100006    |0     |Cash loans        |F          |N           |Y              |0           |135000.0        |312682.5  |29686.5    |297000.0       |Unaccompanied  |Working             |Secondary / secondary special|Civil marriage      |House / apartment|0.008019                  |-19005    |-3039        |-9833.0          |-2437          |null       |1         |1             |0              |1               |0         |0         |Laborers       |2.0            |2                   |2                          |WEDNESDAY                 |17                     |0                         |0                         |0                          |0                     |0                     |0                      |Business Entity Type 3|null               |0.6504416904014653 |null               |null          |null            |null                       |null              |null          |null         |null         |null         |null         |null        |null                |null          |null                   |null             |null           |null             |null                        |null            |null           |null          |null          |null          |null          |null         |null                 |null           |null                    |null              |null           |null             |null                        |null            |null           |null          |null          |null          |null          |null         |null                 |null           |null                    |null              |null              |null          |null          |null              |null               |2.0                     |0.0                     |2.0                     |0.0                     |-617.0                |0              |1              |0              |0              |0              |0              |0              |0              |0               |0               |0               |0               |0               |0               |0               |0               |0               |0               |0               |0               |null                      |null                     |null                      |null                     |null                     |null                      |\n",
      "|100007    |0     |Cash loans        |M          |N           |Y              |0           |121500.0        |513000.0  |21865.5    |513000.0       |Unaccompanied  |Working             |Secondary / secondary special|Single / not married|House / apartment|0.028663                  |-19932    |-3038        |-4311.0          |-3458          |null       |1         |1             |0              |1               |0         |0         |Core staff     |1.0            |2                   |2                          |THURSDAY                  |11                     |0                         |0                         |0                          |0                     |1                     |1                      |Religion              |null               |0.3227382869704046 |null               |null          |null            |null                       |null              |null          |null         |null         |null         |null         |null        |null                |null          |null                   |null             |null           |null             |null                        |null            |null           |null          |null          |null          |null          |null         |null                 |null           |null                    |null              |null           |null             |null                        |null            |null           |null          |null          |null          |null          |null         |null                 |null           |null                    |null              |null              |null          |null          |null              |null               |0.0                     |0.0                     |0.0                     |0.0                     |-1106.0               |0              |0              |0              |0              |0              |0              |1              |0              |0               |0               |0               |0               |0               |0               |0               |0               |0               |0               |0               |0               |0.0                       |0.0                      |0.0                       |0.0                      |0.0                      |0.0                       |\n",
      "|100008    |0     |Cash loans        |M          |N           |Y              |0           |99000.0         |490495.5  |27517.5    |454500.0       |Spouse, partner|State servant       |Secondary / secondary special|Married             |House / apartment|0.035792000000000004      |-16941    |-1588        |-4970.0          |-477           |null       |1         |1             |1              |1               |1         |0         |Laborers       |2.0            |2                   |2                          |WEDNESDAY                 |16                     |0                         |0                         |0                          |0                     |0                     |0                      |Other                 |null               |0.3542247319929012 |0.6212263380626669 |null          |null            |null                       |null              |null          |null         |null         |null         |null         |null        |null                |null          |null                   |null             |null           |null             |null                        |null            |null           |null          |null          |null          |null          |null         |null                 |null           |null                    |null              |null           |null             |null                        |null            |null           |null          |null          |null          |null          |null         |null                 |null           |null                    |null              |null              |null          |null          |null              |null               |0.0                     |0.0                     |0.0                     |0.0                     |-2536.0               |0              |1              |0              |0              |0              |0              |0              |0              |0               |0               |0               |0               |0               |0               |0               |0               |0               |0               |0               |0               |0.0                       |0.0                      |0.0                       |0.0                      |1.0                      |1.0                       |\n",
      "|100009    |0     |Cash loans        |F          |Y           |Y              |1           |171000.0        |1560726.0 |41301.0    |1395000.0      |Unaccompanied  |Commercial associate|Higher education             |Married             |House / apartment|0.035792000000000004      |-13778    |-3130        |-1213.0          |-619           |17.0       |1         |1             |0              |1               |1         |0         |Accountants    |3.0            |2                   |2                          |SUNDAY                    |16                     |0                         |0                         |0                          |0                     |0                     |0                      |Business Entity Type 3|0.7747614130547695 |0.7239998516953141 |0.4920600938649263 |null          |null            |null                       |null              |null          |null         |null         |null         |null         |null        |null                |null          |null                   |null             |null           |null             |null                        |null            |null           |null          |null          |null          |null          |null         |null                 |null           |null                    |null              |null           |null             |null                        |null            |null           |null          |null          |null          |null          |null         |null                 |null           |null                    |null              |null              |null          |null          |null              |null               |1.0                     |0.0                     |1.0                     |0.0                     |-1562.0               |0              |0              |0              |0              |0              |0              |1              |0              |0               |0               |0               |0               |1               |0               |0               |0               |0               |0               |0               |0               |0.0                       |0.0                      |0.0                       |1.0                      |1.0                      |2.0                       |\n",
      "|100010    |0     |Cash loans        |M          |Y           |Y              |0           |360000.0        |1530000.0 |42075.0    |1530000.0      |Unaccompanied  |State servant       |Higher education             |Married             |House / apartment|0.0031219999999999998     |-18850    |-449         |-4597.0          |-2379          |8.0        |1         |1             |1              |1               |0         |0         |Managers       |2.0            |3                   |3                          |MONDAY                    |16                     |0                         |0                         |0                          |0                     |1                     |1                      |Other                 |null               |0.7142792864482229 |0.5406544504453575 |null          |null            |null                       |null              |null          |null         |null         |null         |null         |null        |null                |null          |null                   |null             |null           |null             |null                        |null            |null           |null          |null          |null          |null          |null         |null                 |null           |null                    |null              |null           |null             |null                        |null            |null           |null          |null          |null          |null          |null         |null                 |null           |null                    |null              |null              |null          |null          |null              |null               |2.0                     |0.0                     |2.0                     |0.0                     |-1070.0               |0              |1              |0              |0              |0              |0              |0              |0              |0               |0               |0               |0               |0               |0               |0               |0               |0               |0               |0               |0               |0.0                       |0.0                      |0.0                       |0.0                      |0.0                      |0.0                       |\n",
      "|100011    |0     |Cash loans        |F          |N           |Y              |0           |112500.0        |1019610.0 |33826.5    |913500.0       |Children       |Pensioner           |Secondary / secondary special|Married             |House / apartment|0.018634                  |-20099    |365243       |-7427.0          |-3514          |null       |1         |0             |0              |1               |0         |0         |null           |2.0            |2                   |2                          |WEDNESDAY                 |14                     |0                         |0                         |0                          |0                     |0                     |0                      |XNA                   |0.5873340468730377 |0.20574728800732814|0.7517237147741489 |null          |null            |null                       |null              |null          |null         |null         |null         |null         |null        |null                |null          |null                   |null             |null           |null             |null                        |null            |null           |null          |null          |null          |null          |null         |null                 |null           |null                    |null              |null           |null             |null                        |null            |null           |null          |null          |null          |null          |null         |null                 |null           |null                    |null              |null              |null          |null          |null              |null               |1.0                     |0.0                     |1.0                     |0.0                     |0.0                   |0              |1              |0              |0              |0              |0              |0              |0              |0               |0               |0               |0               |0               |0               |0               |0               |0               |0               |0               |0               |0.0                       |0.0                      |0.0                       |0.0                      |0.0                      |1.0                       |\n",
      "|100012    |0     |Revolving loans   |M          |N           |Y              |0           |135000.0        |405000.0  |20250.0    |405000.0       |Unaccompanied  |Working             |Secondary / secondary special|Single / not married|House / apartment|0.019688999999999998      |-14469    |-2019        |-14437.0         |-3992          |null       |1         |1             |0              |1               |0         |0         |Laborers       |1.0            |2                   |2                          |THURSDAY                  |8                      |0                         |0                         |0                          |0                     |0                     |0                      |Electricity           |null               |0.7466436294590924 |null               |null          |null            |null                       |null              |null          |null         |null         |null         |null         |null        |null                |null          |null                   |null             |null           |null             |null                        |null            |null           |null          |null          |null          |null          |null         |null                 |null           |null                    |null              |null           |null             |null                        |null            |null           |null          |null          |null          |null          |null         |null                 |null           |null                    |null              |null              |null          |null          |null              |null               |2.0                     |0.0                     |2.0                     |0.0                     |-1673.0               |0              |0              |0              |0              |0              |0              |0              |0              |0               |0               |0               |0               |0               |0               |0               |0               |0               |0               |0               |0               |null                      |null                     |null                      |null                     |null                     |null                      |\n",
      "+----------+------+------------------+-----------+------------+---------------+------------+----------------+----------+-----------+---------------+---------------+--------------------+-----------------------------+--------------------+-----------------+--------------------------+----------+-------------+-----------------+---------------+-----------+----------+--------------+---------------+----------------+----------+----------+---------------+---------------+--------------------+---------------------------+--------------------------+-----------------------+--------------------------+--------------------------+---------------------------+----------------------+----------------------+-----------------------+----------------------+-------------------+-------------------+-------------------+--------------+----------------+---------------------------+------------------+--------------+-------------+-------------+-------------+-------------+------------+--------------------+--------------+-----------------------+-----------------+---------------+-----------------+----------------------------+----------------+---------------+--------------+--------------+--------------+--------------+-------------+---------------------+---------------+------------------------+------------------+---------------+-----------------+----------------------------+----------------+---------------+--------------+--------------+--------------+--------------+-------------+---------------------+---------------+------------------------+------------------+------------------+--------------+--------------+------------------+-------------------+------------------------+------------------------+------------------------+------------------------+----------------------+---------------+---------------+---------------+---------------+---------------+---------------+---------------+---------------+----------------+----------------+----------------+----------------+----------------+----------------+----------------+----------------+----------------+----------------+----------------+----------------+--------------------------+-------------------------+--------------------------+-------------------------+-------------------------+--------------------------+\n",
      "only showing top 10 rows\n",
      "\n"
     ]
    }
   ],
   "source": [
    "sdf_train.show(10, False)"
   ]
  },
  {
   "cell_type": "code",
   "execution_count": 18,
   "id": "b3c7265d-70c4-42c9-ac49-ba8f54f89b25",
   "metadata": {},
   "outputs": [
    {
     "name": "stdout",
     "output_type": "stream",
     "text": [
      "Rows :: 307511  |  Columns :: 122\n"
     ]
    }
   ],
   "source": [
    "print_message(sdf_train)"
   ]
  },
  {
   "cell_type": "code",
   "execution_count": 20,
   "id": "a0102ce4-e981-431d-a7f5-e8595cc2a26a",
   "metadata": {},
   "outputs": [
    {
     "name": "stdout",
     "output_type": "stream",
     "text": [
      "Rows :: 48744  |  Columns :: 121\n"
     ]
    }
   ],
   "source": [
    "print_message(sdf_test)"
   ]
  },
  {
   "cell_type": "code",
   "execution_count": 21,
   "id": "5a491800-4759-4e50-80af-dfe0b28e0f38",
   "metadata": {},
   "outputs": [
    {
     "name": "stdout",
     "output_type": "stream",
     "text": [
      "Rows :: 1716428  |  Columns :: 17\n"
     ]
    }
   ],
   "source": [
    "print_message(sdf_bureau)"
   ]
  },
  {
   "cell_type": "code",
   "execution_count": 24,
   "id": "4051d3e3-e749-45cb-b51e-c3e46a3c9c79",
   "metadata": {},
   "outputs": [
    {
     "name": "stdout",
     "output_type": "stream",
     "text": [
      "Rows :: 1670214  |  Columns :: 37\n"
     ]
    }
   ],
   "source": [
    "print_message(sdf_prev_app)"
   ]
  },
  {
   "cell_type": "code",
   "execution_count": 9,
   "id": "80e6108b-489b-4070-b7f1-95b30309e2e5",
   "metadata": {},
   "outputs": [
    {
     "name": "stdout",
     "output_type": "stream",
     "text": [
      "+----------+------------+-------------+---------------+-----------+------------------+-------------------+-----------------+----------------------+------------------+--------------+-------------------+--------------------+----------------------+---------------+------------------+-----------+\n",
      "|SK_ID_CURR|SK_ID_BUREAU|CREDIT_ACTIVE|CREDIT_CURRENCY|DAYS_CREDIT|CREDIT_DAY_OVERDUE|DAYS_CREDIT_ENDDATE|DAYS_ENDDATE_FACT|AMT_CREDIT_MAX_OVERDUE|CNT_CREDIT_PROLONG|AMT_CREDIT_SUM|AMT_CREDIT_SUM_DEBT|AMT_CREDIT_SUM_LIMIT|AMT_CREDIT_SUM_OVERDUE|CREDIT_TYPE    |DAYS_CREDIT_UPDATE|AMT_ANNUITY|\n",
      "+----------+------------+-------------+---------------+-----------+------------------+-------------------+-----------------+----------------------+------------------+--------------+-------------------+--------------------+----------------------+---------------+------------------+-----------+\n",
      "|215354    |5714462     |Closed       |currency 1     |-497       |0                 |-153.0             |-153.0           |null                  |0                 |91323.0       |0.0                |null                |0.0                   |Consumer credit|-131              |null       |\n",
      "|215354    |5714463     |Active       |currency 1     |-208       |0                 |1075.0             |null             |null                  |0                 |225000.0      |171342.0           |null                |0.0                   |Credit card    |-20               |null       |\n",
      "|215354    |5714464     |Active       |currency 1     |-203       |0                 |528.0              |null             |null                  |0                 |464323.5      |null               |null                |0.0                   |Consumer credit|-16               |null       |\n",
      "|215354    |5714465     |Active       |currency 1     |-203       |0                 |null               |null             |null                  |0                 |90000.0       |null               |null                |0.0                   |Credit card    |-16               |null       |\n",
      "|215354    |5714466     |Active       |currency 1     |-629       |0                 |1197.0             |null             |77674.5               |0                 |2700000.0     |null               |null                |0.0                   |Consumer credit|-21               |null       |\n",
      "|215354    |5714467     |Active       |currency 1     |-273       |0                 |27460.0            |null             |0.0                   |0                 |180000.0      |71017.38           |108982.62           |0.0                   |Credit card    |-31               |null       |\n",
      "|215354    |5714468     |Active       |currency 1     |-43        |0                 |79.0               |null             |0.0                   |0                 |42103.8       |42103.8            |0.0                 |0.0                   |Consumer credit|-22               |null       |\n",
      "|162297    |5714469     |Closed       |currency 1     |-1896      |0                 |-1684.0            |-1710.0          |14985.0               |0                 |76878.45      |0.0                |0.0                 |0.0                   |Consumer credit|-1710             |null       |\n",
      "|162297    |5714470     |Closed       |currency 1     |-1146      |0                 |-811.0             |-840.0           |0.0                   |0                 |103007.7      |0.0                |0.0                 |0.0                   |Consumer credit|-840              |null       |\n",
      "|162297    |5714471     |Active       |currency 1     |-1146      |0                 |-484.0             |null             |0.0                   |0                 |4500.0        |0.0                |0.0                 |0.0                   |Credit card    |-690              |null       |\n",
      "+----------+------------+-------------+---------------+-----------+------------------+-------------------+-----------------+----------------------+------------------+--------------+-------------------+--------------------+----------------------+---------------+------------------+-----------+\n",
      "only showing top 10 rows\n",
      "\n"
     ]
    }
   ],
   "source": [
    "sdf_bureau.show(10, False)"
   ]
  },
  {
   "cell_type": "code",
   "execution_count": 8,
   "id": "96adbd8e-e467-413a-a55a-9be78526d0e2",
   "metadata": {},
   "outputs": [
    {
     "name": "stdout",
     "output_type": "stream",
     "text": [
      "+------------+--------------+------+\n",
      "|SK_ID_BUREAU|MONTHS_BALANCE|STATUS|\n",
      "+------------+--------------+------+\n",
      "|5715448     |0             |C     |\n",
      "|5715448     |-1            |C     |\n",
      "|5715448     |-2            |C     |\n",
      "|5715448     |-3            |C     |\n",
      "|5715448     |-4            |C     |\n",
      "|5715448     |-5            |C     |\n",
      "|5715448     |-6            |C     |\n",
      "|5715448     |-7            |C     |\n",
      "|5715448     |-8            |C     |\n",
      "|5715448     |-9            |0     |\n",
      "+------------+--------------+------+\n",
      "only showing top 10 rows\n",
      "\n"
     ]
    }
   ],
   "source": [
    "sdf_bureau_balance.show(10, False)"
   ]
  },
  {
   "cell_type": "code",
   "execution_count": 103,
   "id": "28e3d33e-06ed-40e7-b73e-b645ca4078e4",
   "metadata": {},
   "outputs": [
    {
     "name": "stdout",
     "output_type": "stream",
     "text": [
      "+----------+----------+------------------+-----------+---------------+----------+----------------+---------------+--------------------------+-----------------------+---------------------------+----------------------+-----------------+---------------------+------------------------+----------------------+--------------------+-------------+---------------------+------------------+---------------+----------------+-------------------+--------------+-----------------+-----------------------+----------------+--------------------+-----------+----------------+------------------------+------------------+--------------+-------------------------+-------------+----------------+-------------------------+\n",
      "|SK_ID_PREV|SK_ID_CURR|NAME_CONTRACT_TYPE|AMT_ANNUITY|AMT_APPLICATION|AMT_CREDIT|AMT_DOWN_PAYMENT|AMT_GOODS_PRICE|WEEKDAY_APPR_PROCESS_START|HOUR_APPR_PROCESS_START|FLAG_LAST_APPL_PER_CONTRACT|NFLAG_LAST_APPL_IN_DAY|RATE_DOWN_PAYMENT|RATE_INTEREST_PRIMARY|RATE_INTEREST_PRIVILEGED|NAME_CASH_LOAN_PURPOSE|NAME_CONTRACT_STATUS|DAYS_DECISION|NAME_PAYMENT_TYPE    |CODE_REJECT_REASON|NAME_TYPE_SUITE|NAME_CLIENT_TYPE|NAME_GOODS_CATEGORY|NAME_PORTFOLIO|NAME_PRODUCT_TYPE|CHANNEL_TYPE           |SELLERPLACE_AREA|NAME_SELLER_INDUSTRY|CNT_PAYMENT|NAME_YIELD_GROUP|PRODUCT_COMBINATION     |DAYS_FIRST_DRAWING|DAYS_FIRST_DUE|DAYS_LAST_DUE_1ST_VERSION|DAYS_LAST_DUE|DAYS_TERMINATION|NFLAG_INSURED_ON_APPROVAL|\n",
      "+----------+----------+------------------+-----------+---------------+----------+----------------+---------------+--------------------------+-----------------------+---------------------------+----------------------+-----------------+---------------------+------------------------+----------------------+--------------------+-------------+---------------------+------------------+---------------+----------------+-------------------+--------------+-----------------+-----------------------+----------------+--------------------+-----------+----------------+------------------------+------------------+--------------+-------------------------+-------------+----------------+-------------------------+\n",
      "|2030495   |271877    |Consumer loans    |1730.43    |17145.0        |17145.0   |0.0             |17145.0        |SATURDAY                  |15                     |Y                          |1                     |0.0              |0.18283180324152784  |0.8673361522198731      |XAP                   |Approved            |-73          |Cash through the bank|XAP               |null           |Repeater        |Mobile             |POS           |XNA              |Country-wide           |35              |Connectivity        |12.0       |middle          |POS mobile with interest|365243.0          |-42.0         |300.0                    |-42.0        |-37.0           |0.0                      |\n",
      "|2802425   |108129    |Cash loans        |25188.615  |607500.0       |679671.0  |null            |607500.0       |THURSDAY                  |11                     |Y                          |1                     |null             |null                 |null                    |XNA                   |Approved            |-164         |XNA                  |XAP               |Unaccompanied  |Repeater        |XNA                |Cash          |x-sell           |Contact center         |-1              |XNA                 |36.0       |low_action      |Cash X-Sell: low        |365243.0          |-134.0        |916.0                    |365243.0     |365243.0        |1.0                      |\n",
      "|2523466   |122040    |Cash loans        |15060.735  |112500.0       |136444.5  |null            |112500.0       |TUESDAY                   |11                     |Y                          |1                     |null             |null                 |null                    |XNA                   |Approved            |-301         |Cash through the bank|XAP               |Spouse, partner|Repeater        |XNA                |Cash          |x-sell           |Credit and cash offices|-1              |XNA                 |12.0       |high            |Cash X-Sell: high       |365243.0          |-271.0        |59.0                     |365243.0     |365243.0        |1.0                      |\n",
      "|2819243   |176158    |Cash loans        |47041.335  |450000.0       |470790.0  |null            |450000.0       |MONDAY                    |7                      |Y                          |1                     |null             |null                 |null                    |XNA                   |Approved            |-512         |Cash through the bank|XAP               |null           |Repeater        |XNA                |Cash          |x-sell           |Credit and cash offices|-1              |XNA                 |12.0       |middle          |Cash X-Sell: middle     |365243.0          |-482.0        |-152.0                   |-182.0       |-177.0          |1.0                      |\n",
      "|1784265   |202054    |Cash loans        |31924.395  |337500.0       |404055.0  |null            |337500.0       |THURSDAY                  |9                      |Y                          |1                     |null             |null                 |null                    |Repairs               |Refused             |-781         |Cash through the bank|HC                |null           |Repeater        |XNA                |Cash          |walk-in          |Credit and cash offices|-1              |XNA                 |24.0       |high            |Cash Street: high       |null              |null          |null                     |null         |null            |null                     |\n",
      "|1383531   |199383    |Cash loans        |23703.93   |315000.0       |340573.5  |null            |315000.0       |SATURDAY                  |8                      |Y                          |1                     |null             |null                 |null                    |Everyday expenses     |Approved            |-684         |Cash through the bank|XAP               |Family         |Repeater        |XNA                |Cash          |x-sell           |Credit and cash offices|-1              |XNA                 |18.0       |low_normal      |Cash X-Sell: low        |365243.0          |-654.0        |-144.0                   |-144.0       |-137.0          |1.0                      |\n",
      "|2315218   |175704    |Cash loans        |null       |0.0            |0.0       |null            |null           |TUESDAY                   |11                     |Y                          |1                     |null             |null                 |null                    |XNA                   |Canceled            |-14          |XNA                  |XAP               |null           |Repeater        |XNA                |XNA           |XNA              |Credit and cash offices|-1              |XNA                 |null       |XNA             |Cash                    |null              |null          |null                     |null         |null            |null                     |\n",
      "|1656711   |296299    |Cash loans        |null       |0.0            |0.0       |null            |null           |MONDAY                    |7                      |Y                          |1                     |null             |null                 |null                    |XNA                   |Canceled            |-21          |XNA                  |XAP               |null           |Repeater        |XNA                |XNA           |XNA              |Credit and cash offices|-1              |XNA                 |null       |XNA             |Cash                    |null              |null          |null                     |null         |null            |null                     |\n",
      "|2367563   |342292    |Cash loans        |null       |0.0            |0.0       |null            |null           |MONDAY                    |15                     |Y                          |1                     |null             |null                 |null                    |XNA                   |Canceled            |-386         |XNA                  |XAP               |null           |Repeater        |XNA                |XNA           |XNA              |Credit and cash offices|-1              |XNA                 |null       |XNA             |Cash                    |null              |null          |null                     |null         |null            |null                     |\n",
      "|2579447   |334349    |Cash loans        |null       |0.0            |0.0       |null            |null           |SATURDAY                  |15                     |Y                          |1                     |null             |null                 |null                    |XNA                   |Canceled            |-57          |XNA                  |XAP               |null           |Repeater        |XNA                |XNA           |XNA              |Credit and cash offices|-1              |XNA                 |null       |XNA             |Cash                    |null              |null          |null                     |null         |null            |null                     |\n",
      "+----------+----------+------------------+-----------+---------------+----------+----------------+---------------+--------------------------+-----------------------+---------------------------+----------------------+-----------------+---------------------+------------------------+----------------------+--------------------+-------------+---------------------+------------------+---------------+----------------+-------------------+--------------+-----------------+-----------------------+----------------+--------------------+-----------+----------------+------------------------+------------------+--------------+-------------------------+-------------+----------------+-------------------------+\n",
      "only showing top 10 rows\n",
      "\n"
     ]
    }
   ],
   "source": [
    "sdf_prev_app.show(10, False)"
   ]
  },
  {
   "cell_type": "markdown",
   "id": "a4ad6ff0-05fd-4133-894d-3c249150cecc",
   "metadata": {
    "jp-MarkdownHeadingCollapsed": true
   },
   "source": [
    "### Customer Example"
   ]
  },
  {
   "cell_type": "code",
   "execution_count": 26,
   "id": "1986e173-64c2-4e0d-b614-478ab5e791d7",
   "metadata": {},
   "outputs": [
    {
     "name": "stderr",
     "output_type": "stream",
     "text": [
      "[Stage 521:=====================>                                   (3 + 5) / 8]\r"
     ]
    },
    {
     "name": "stdout",
     "output_type": "stream",
     "text": [
      "+----------+------+------------------+-----------+------------+---------------+------------+----------------+----------+-----------+---------------+---------------+----------------+-----------------------------+------------------+-----------------+--------------------------+----------+-------------+-----------------+---------------+-----------+----------+--------------+---------------+----------------+----------+----------+---------------+---------------+--------------------+---------------------------+--------------------------+-----------------------+--------------------------+--------------------------+---------------------------+----------------------+----------------------+-----------------------+-----------------+------------------+------------------+------------------+--------------+----------------+---------------------------+---------------+--------------+-------------+-------------+-------------+-------------+------------+--------------------+--------------+-----------------------+-----------------+---------------+-----------------+----------------------------+----------------+---------------+--------------+--------------+--------------+--------------+-------------+---------------------+---------------+------------------------+------------------+---------------+-----------------+----------------------------+----------------+---------------+--------------+--------------+--------------+--------------+-------------+---------------------+---------------+------------------------+------------------+------------------+--------------+--------------+------------------+-------------------+------------------------+------------------------+------------------------+------------------------+----------------------+---------------+---------------+---------------+---------------+---------------+---------------+---------------+---------------+----------------+----------------+----------------+----------------+----------------+----------------+----------------+----------------+----------------+----------------+----------------+----------------+--------------------------+-------------------------+--------------------------+-------------------------+-------------------------+--------------------------+\n",
      "|SK_ID_CURR|TARGET|NAME_CONTRACT_TYPE|CODE_GENDER|FLAG_OWN_CAR|FLAG_OWN_REALTY|CNT_CHILDREN|AMT_INCOME_TOTAL|AMT_CREDIT|AMT_ANNUITY|AMT_GOODS_PRICE|NAME_TYPE_SUITE|NAME_INCOME_TYPE|NAME_EDUCATION_TYPE          |NAME_FAMILY_STATUS|NAME_HOUSING_TYPE|REGION_POPULATION_RELATIVE|DAYS_BIRTH|DAYS_EMPLOYED|DAYS_REGISTRATION|DAYS_ID_PUBLISH|OWN_CAR_AGE|FLAG_MOBIL|FLAG_EMP_PHONE|FLAG_WORK_PHONE|FLAG_CONT_MOBILE|FLAG_PHONE|FLAG_EMAIL|OCCUPATION_TYPE|CNT_FAM_MEMBERS|REGION_RATING_CLIENT|REGION_RATING_CLIENT_W_CITY|WEEKDAY_APPR_PROCESS_START|HOUR_APPR_PROCESS_START|REG_REGION_NOT_LIVE_REGION|REG_REGION_NOT_WORK_REGION|LIVE_REGION_NOT_WORK_REGION|REG_CITY_NOT_LIVE_CITY|REG_CITY_NOT_WORK_CITY|LIVE_CITY_NOT_WORK_CITY|ORGANIZATION_TYPE|EXT_SOURCE_1      |EXT_SOURCE_2      |EXT_SOURCE_3      |APARTMENTS_AVG|BASEMENTAREA_AVG|YEARS_BEGINEXPLUATATION_AVG|YEARS_BUILD_AVG|COMMONAREA_AVG|ELEVATORS_AVG|ENTRANCES_AVG|FLOORSMAX_AVG|FLOORSMIN_AVG|LANDAREA_AVG|LIVINGAPARTMENTS_AVG|LIVINGAREA_AVG|NONLIVINGAPARTMENTS_AVG|NONLIVINGAREA_AVG|APARTMENTS_MODE|BASEMENTAREA_MODE|YEARS_BEGINEXPLUATATION_MODE|YEARS_BUILD_MODE|COMMONAREA_MODE|ELEVATORS_MODE|ENTRANCES_MODE|FLOORSMAX_MODE|FLOORSMIN_MODE|LANDAREA_MODE|LIVINGAPARTMENTS_MODE|LIVINGAREA_MODE|NONLIVINGAPARTMENTS_MODE|NONLIVINGAREA_MODE|APARTMENTS_MEDI|BASEMENTAREA_MEDI|YEARS_BEGINEXPLUATATION_MEDI|YEARS_BUILD_MEDI|COMMONAREA_MEDI|ELEVATORS_MEDI|ENTRANCES_MEDI|FLOORSMAX_MEDI|FLOORSMIN_MEDI|LANDAREA_MEDI|LIVINGAPARTMENTS_MEDI|LIVINGAREA_MEDI|NONLIVINGAPARTMENTS_MEDI|NONLIVINGAREA_MEDI|FONDKAPREMONT_MODE|HOUSETYPE_MODE|TOTALAREA_MODE|WALLSMATERIAL_MODE|EMERGENCYSTATE_MODE|OBS_30_CNT_SOCIAL_CIRCLE|DEF_30_CNT_SOCIAL_CIRCLE|OBS_60_CNT_SOCIAL_CIRCLE|DEF_60_CNT_SOCIAL_CIRCLE|DAYS_LAST_PHONE_CHANGE|FLAG_DOCUMENT_2|FLAG_DOCUMENT_3|FLAG_DOCUMENT_4|FLAG_DOCUMENT_5|FLAG_DOCUMENT_6|FLAG_DOCUMENT_7|FLAG_DOCUMENT_8|FLAG_DOCUMENT_9|FLAG_DOCUMENT_10|FLAG_DOCUMENT_11|FLAG_DOCUMENT_12|FLAG_DOCUMENT_13|FLAG_DOCUMENT_14|FLAG_DOCUMENT_15|FLAG_DOCUMENT_16|FLAG_DOCUMENT_17|FLAG_DOCUMENT_18|FLAG_DOCUMENT_19|FLAG_DOCUMENT_20|FLAG_DOCUMENT_21|AMT_REQ_CREDIT_BUREAU_HOUR|AMT_REQ_CREDIT_BUREAU_DAY|AMT_REQ_CREDIT_BUREAU_WEEK|AMT_REQ_CREDIT_BUREAU_MON|AMT_REQ_CREDIT_BUREAU_QRT|AMT_REQ_CREDIT_BUREAU_YEAR|\n",
      "+----------+------+------------------+-----------+------------+---------------+------------+----------------+----------+-----------+---------------+---------------+----------------+-----------------------------+------------------+-----------------+--------------------------+----------+-------------+-----------------+---------------+-----------+----------+--------------+---------------+----------------+----------+----------+---------------+---------------+--------------------+---------------------------+--------------------------+-----------------------+--------------------------+--------------------------+---------------------------+----------------------+----------------------+-----------------------+-----------------+------------------+------------------+------------------+--------------+----------------+---------------------------+---------------+--------------+-------------+-------------+-------------+-------------+------------+--------------------+--------------+-----------------------+-----------------+---------------+-----------------+----------------------------+----------------+---------------+--------------+--------------+--------------+--------------+-------------+---------------------+---------------+------------------------+------------------+---------------+-----------------+----------------------------+----------------+---------------+--------------+--------------+--------------+--------------+-------------+---------------------+---------------+------------------------+------------------+------------------+--------------+--------------+------------------+-------------------+------------------------+------------------------+------------------------+------------------------+----------------------+---------------+---------------+---------------+---------------+---------------+---------------+---------------+---------------+----------------+----------------+----------------+----------------+----------------+----------------+----------------+----------------+----------------+----------------+----------------+----------------+--------------------------+-------------------------+--------------------------+-------------------------+-------------------------+--------------------------+\n",
      "|380361    |0     |Cash loans        |F          |Y           |Y              |0           |315000.0        |450000.0  |11871.0    |450000.0       |Unaccompanied  |State servant   |Secondary / secondary special|Civil marriage    |House / apartment|0.032561                  |-21077    |-7738        |-4280.0          |-4637          |7.0        |1         |1             |0              |1               |1         |0         |Drivers        |2.0            |1                   |1                          |MONDAY                    |12                     |0                         |0                         |0                          |0                     |0                     |0                      |Electricity      |0.8545598398755312|0.6396677166136716|0.3774042489507649|null          |null            |null                       |null           |null          |null         |null         |null         |null         |null        |null                |null          |null                   |null             |null           |null             |null                        |null            |null           |null          |null          |null          |null          |null         |null                 |null           |null                    |null              |null           |null             |null                        |null            |null           |null          |null          |null          |null          |null         |null                 |null           |null                    |null              |null              |null          |null          |null              |null               |0.0                     |0.0                     |0.0                     |0.0                     |-786.0                |0              |1              |0              |0              |0              |0              |0              |0              |0               |0               |0               |0               |0               |0               |0               |0               |0               |0               |0               |0               |0.0                       |0.0                      |0.0                       |0.0                      |0.0                      |2.0                       |\n",
      "+----------+------+------------------+-----------+------------+---------------+------------+----------------+----------+-----------+---------------+---------------+----------------+-----------------------------+------------------+-----------------+--------------------------+----------+-------------+-----------------+---------------+-----------+----------+--------------+---------------+----------------+----------+----------+---------------+---------------+--------------------+---------------------------+--------------------------+-----------------------+--------------------------+--------------------------+---------------------------+----------------------+----------------------+-----------------------+-----------------+------------------+------------------+------------------+--------------+----------------+---------------------------+---------------+--------------+-------------+-------------+-------------+-------------+------------+--------------------+--------------+-----------------------+-----------------+---------------+-----------------+----------------------------+----------------+---------------+--------------+--------------+--------------+--------------+-------------+---------------------+---------------+------------------------+------------------+---------------+-----------------+----------------------------+----------------+---------------+--------------+--------------+--------------+--------------+-------------+---------------------+---------------+------------------------+------------------+------------------+--------------+--------------+------------------+-------------------+------------------------+------------------------+------------------------+------------------------+----------------------+---------------+---------------+---------------+---------------+---------------+---------------+---------------+---------------+----------------+----------------+----------------+----------------+----------------+----------------+----------------+----------------+----------------+----------------+----------------+----------------+--------------------------+-------------------------+--------------------------+-------------------------+-------------------------+--------------------------+\n",
      "\n"
     ]
    },
    {
     "name": "stderr",
     "output_type": "stream",
     "text": [
      "                                                                                \r"
     ]
    }
   ],
   "source": [
    "sdf_train.filter(F.col('SK_ID_CURR') == 380361)\\\n",
    "            .sort(F.asc('SK_ID_CURR'))\\\n",
    "            .show(20, False)"
   ]
  },
  {
   "cell_type": "code",
   "execution_count": 28,
   "id": "48cb53d8-8218-4225-b75e-b4027697dc4f",
   "metadata": {},
   "outputs": [
    {
     "name": "stderr",
     "output_type": "stream",
     "text": [
      "[Stage 570:>                                                        (0 + 8) / 8]\r"
     ]
    },
    {
     "name": "stdout",
     "output_type": "stream",
     "text": [
      "+----------+------------+-------------+---------------+-----------+------------------+-------------------+-----------------+----------------------+------------------+--------------+-------------------+--------------------+----------------------+---------------+------------------+-----------+\n",
      "|SK_ID_CURR|SK_ID_BUREAU|CREDIT_ACTIVE|CREDIT_CURRENCY|DAYS_CREDIT|CREDIT_DAY_OVERDUE|DAYS_CREDIT_ENDDATE|DAYS_ENDDATE_FACT|AMT_CREDIT_MAX_OVERDUE|CNT_CREDIT_PROLONG|AMT_CREDIT_SUM|AMT_CREDIT_SUM_DEBT|AMT_CREDIT_SUM_LIMIT|AMT_CREDIT_SUM_OVERDUE|CREDIT_TYPE    |DAYS_CREDIT_UPDATE|AMT_ANNUITY|\n",
      "+----------+------------+-------------+---------------+-----------+------------------+-------------------+-----------------+----------------------+------------------+--------------+-------------------+--------------------+----------------------+---------------+------------------+-----------+\n",
      "|380361    |5180513     |Closed       |currency 1     |-1146      |0                 |743.0              |-539.0           |null                  |0                 |1575000.0     |0.0                |null                |0.0                   |Consumer credit|-361              |0.0        |\n",
      "|380361    |5715447     |Closed       |currency 1     |-537       |0                 |-356.0             |-356.0           |null                  |0                 |45000.0       |0.0                |null                |0.0                   |Credit card    |-348              |0.0        |\n",
      "|380361    |5715448     |Active       |currency 1     |-820       |0                 |31069.0            |null             |null                  |0                 |67500.0       |0.0                |67500.0             |0.0                   |Credit card    |-183              |0.0        |\n",
      "|380361    |5715449     |Active       |currency 1     |-357       |0                 |1119.0             |null             |null                  |0                 |45000.0       |0.0                |45000.0             |0.0                   |Credit card    |-130              |2691.0     |\n",
      "|380361    |5715450     |Closed       |currency 1     |-427       |0                 |669.0              |-118.0           |null                  |0                 |337500.0      |0.0                |0.0                 |0.0                   |Credit card    |-114              |0.0        |\n",
      "|380361    |5715451     |Closed       |currency 1     |-917       |0                 |-187.0             |-759.0           |null                  |0                 |74439.0       |0.0                |0.0                 |0.0                   |Consumer credit|-748              |0.0        |\n",
      "|380361    |5715452     |Closed       |currency 1     |-993       |0                 |31039.0            |-831.0           |null                  |0                 |315000.0      |0.0                |0.0                 |0.0                   |Credit card    |-818              |0.0        |\n",
      "|380361    |5715453     |Closed       |currency 1     |-1146      |0                 |681.0              |-780.0           |null                  |0                 |2025000.0     |0.0                |0.0                 |0.0                   |Consumer credit|-769              |0.0        |\n",
      "|380361    |5715454     |Closed       |currency 1     |-1622      |0                 |-1074.0            |-1073.0          |null                  |0                 |540000.0      |0.0                |0.0                 |0.0                   |Consumer credit|-1006             |0.0        |\n",
      "|380361    |5715455     |Closed       |currency 1     |-2631      |0                 |-804.0             |-1096.0          |null                  |0                 |2205000.0     |0.0                |0.0                 |0.0                   |Car loan       |-944              |null       |\n",
      "|380361    |5715456     |Closed       |currency 1     |-1449      |0                 |-1084.0            |-1267.0          |null                  |0                 |60480.0       |0.0                |0.0                 |0.0                   |Consumer credit|-1259             |null       |\n",
      "|380361    |5715457     |Active       |currency 1     |-222       |0                 |874.0              |null             |null                  |0                 |202500.0      |31594.5            |0.0                 |0.0                   |Credit card    |-18               |0.0        |\n",
      "|380361    |5715458     |Closed       |currency 1     |-749       |0                 |-111.0             |-110.0           |null                  |0                 |1267843.5     |0.0                |null                |0.0                   |Consumer credit|-110              |0.0        |\n",
      "|380361    |5715459     |Active       |currency 1     |-629       |0                 |31069.0            |null             |null                  |0                 |72873.0       |0.0                |null                |0.0                   |Credit card    |-36               |0.0        |\n",
      "|380361    |5715460     |Active       |currency 1     |-233       |0                 |498.0              |null             |null                  |0                 |168525.0      |null               |null                |0.0                   |Consumer credit|-16               |0.0        |\n",
      "|380361    |5715461     |Active       |currency 1     |-112       |0                 |2445.0             |null             |null                  |0                 |2187000.0     |2177275.5          |null                |0.0                   |Consumer credit|-8                |0.0        |\n",
      "|380361    |5715462     |Active       |currency 1     |-840       |0                 |1716.0             |null             |null                  |0                 |904500.0      |736258.5           |null                |0.0                   |Consumer credit|-8                |0.0        |\n",
      "+----------+------------+-------------+---------------+-----------+------------------+-------------------+-----------------+----------------------+------------------+--------------+-------------------+--------------------+----------------------+---------------+------------------+-----------+\n",
      "\n"
     ]
    },
    {
     "name": "stderr",
     "output_type": "stream",
     "text": [
      "                                                                                \r"
     ]
    }
   ],
   "source": [
    "sdf_bureau.filter(F.col('SK_ID_CURR') == 380361)\\\n",
    "            .sort(F.asc('SK_ID_BUREAU'))\\\n",
    "            .show(20, False)"
   ]
  },
  {
   "cell_type": "code",
   "execution_count": 30,
   "id": "8e607b34-6167-41b3-b09e-bc7640ca90bb",
   "metadata": {},
   "outputs": [
    {
     "name": "stderr",
     "output_type": "stream",
     "text": [
      "[Stage 619:>                                                        (0 + 8) / 8]\r"
     ]
    },
    {
     "name": "stdout",
     "output_type": "stream",
     "text": [
      "['5715448', '5715449', '5715451', '5715452', '5715453', '5715454', '5715455', '5715456', '5715457', '5715458', '5715459', '5715460', '5715461', '5180513', '5715447', '5715450', '5715462']\n"
     ]
    },
    {
     "name": "stderr",
     "output_type": "stream",
     "text": [
      "                                                                                \r"
     ]
    }
   ],
   "source": [
    "ls = sdf_bureau.filter(F.col('SK_ID_CURR') == 380361).select('SK_ID_BUREAU').rdd.flatMap(lambda x: x).collect()\n",
    "print (ls)"
   ]
  },
  {
   "cell_type": "code",
   "execution_count": 33,
   "id": "5bc86222-2ba2-4cda-91e6-ee694d43514b",
   "metadata": {},
   "outputs": [
    {
     "name": "stderr",
     "output_type": "stream",
     "text": [
      "[Stage 692:==============>                                          (2 + 6) / 8]\r"
     ]
    },
    {
     "name": "stdout",
     "output_type": "stream",
     "text": [
      "+------------+--------------+------+\n",
      "|SK_ID_BUREAU|MONTHS_BALANCE|STATUS|\n",
      "+------------+--------------+------+\n",
      "|5180513     |-7            |C     |\n",
      "|5180513     |-8            |C     |\n",
      "|5180513     |-9            |C     |\n",
      "|5180513     |-10           |C     |\n",
      "|5180513     |-11           |C     |\n",
      "|5180513     |-12           |C     |\n",
      "|5180513     |-13           |C     |\n",
      "|5180513     |-14           |C     |\n",
      "|5180513     |-15           |C     |\n",
      "|5180513     |-16           |C     |\n",
      "|5180513     |-17           |C     |\n",
      "|5180513     |-18           |C     |\n",
      "|5180513     |-19           |C     |\n",
      "|5180513     |-20           |C     |\n",
      "|5180513     |-21           |C     |\n",
      "|5180513     |-22           |C     |\n",
      "|5180513     |-23           |C     |\n",
      "|5180513     |-24           |C     |\n",
      "|5180513     |-25           |C     |\n",
      "|5180513     |-26           |C     |\n",
      "+------------+--------------+------+\n",
      "only showing top 20 rows\n",
      "\n"
     ]
    },
    {
     "name": "stderr",
     "output_type": "stream",
     "text": [
      "                                                                                \r"
     ]
    }
   ],
   "source": [
    "sdf_bureau_balance.filter(F.col('SK_ID_BUREAU').isin(ls))\\\n",
    "            .sort(F.asc('SK_ID_BUREAU'))\\\n",
    "            .show(20, False)"
   ]
  },
  {
   "cell_type": "code",
   "execution_count": 37,
   "id": "f8630951-0fea-48a7-9795-774ea5ce1fee",
   "metadata": {},
   "outputs": [
    {
     "name": "stderr",
     "output_type": "stream",
     "text": [
      "[Stage 791:>                                                        (0 + 8) / 8]\r"
     ]
    },
    {
     "name": "stdout",
     "output_type": "stream",
     "text": [
      "+----------+----------+------------------+-----------+---------------+----------+----------------+---------------+--------------------------+-----------------------+---------------------------+----------------------+-------------------+---------------------+------------------------+----------------------+--------------------+-------------+---------------------+------------------+---------------+----------------+-------------------+--------------+-----------------+-----------------------+----------------+--------------------+-----------+----------------+------------------------------+------------------+--------------+-------------------------+-------------+----------------+-------------------------+\n",
      "|SK_ID_PREV|SK_ID_CURR|NAME_CONTRACT_TYPE|AMT_ANNUITY|AMT_APPLICATION|AMT_CREDIT|AMT_DOWN_PAYMENT|AMT_GOODS_PRICE|WEEKDAY_APPR_PROCESS_START|HOUR_APPR_PROCESS_START|FLAG_LAST_APPL_PER_CONTRACT|NFLAG_LAST_APPL_IN_DAY|RATE_DOWN_PAYMENT  |RATE_INTEREST_PRIMARY|RATE_INTEREST_PRIVILEGED|NAME_CASH_LOAN_PURPOSE|NAME_CONTRACT_STATUS|DAYS_DECISION|NAME_PAYMENT_TYPE    |CODE_REJECT_REASON|NAME_TYPE_SUITE|NAME_CLIENT_TYPE|NAME_GOODS_CATEGORY|NAME_PORTFOLIO|NAME_PRODUCT_TYPE|CHANNEL_TYPE           |SELLERPLACE_AREA|NAME_SELLER_INDUSTRY|CNT_PAYMENT|NAME_YIELD_GROUP|PRODUCT_COMBINATION           |DAYS_FIRST_DRAWING|DAYS_FIRST_DUE|DAYS_LAST_DUE_1ST_VERSION|DAYS_LAST_DUE|DAYS_TERMINATION|NFLAG_INSURED_ON_APPROVAL|\n",
      "+----------+----------+------------------+-----------+---------------+----------+----------------+---------------+--------------------------+-----------------------+---------------------------+----------------------+-------------------+---------------------+------------------------+----------------------+--------------------+-------------+---------------------+------------------+---------------+----------------+-------------------+--------------+-----------------+-----------------------+----------------+--------------------+-----------+----------------+------------------------------+------------------+--------------+-------------------------+-------------+----------------+-------------------------+\n",
      "|1279489   |380361    |Cash loans        |null       |0.0            |0.0       |null            |null           |SATURDAY                  |14                     |Y                          |1                     |null               |null                 |null                    |XNA                   |Canceled            |-268         |XNA                  |XAP               |null           |Repeater        |XNA                |XNA           |XNA              |Credit and cash offices|-1              |XNA                 |null       |XNA             |Cash                          |null              |null          |null                     |null         |null            |null                     |\n",
      "|1661043   |380361    |Cash loans        |13114.98   |112500.0       |119925.0  |0.0             |112500.0       |WEDNESDAY                 |15                     |Y                          |1                     |0.0                |null                 |null                    |XNA                   |Approved            |-2588        |Cash through the bank|XAP               |Unaccompanied  |Repeater        |XNA                |Cash          |x-sell           |Credit and cash offices|100             |XNA                 |12.0       |high            |Cash Street: high             |365243.0          |-2558.0       |-2228.0                  |-2228.0      |-2220.0         |1.0                      |\n",
      "|1442773   |380361    |Cash loans        |44793.27   |1170000.0      |1322896.5 |null            |1170000.0      |SATURDAY                  |16                     |Y                          |1                     |null               |null                 |null                    |XNA                   |Approved            |-786         |Cash through the bank|XAP               |Unaccompanied  |Refreshed       |XNA                |Cash          |x-sell           |Credit and cash offices|-1              |XNA                 |54.0       |low_normal      |Cash X-Sell: low              |365243.0          |-756.0        |834.0                    |-726.0       |-721.0          |1.0                      |\n",
      "|2837103   |380361    |Consumer loans    |8362.17    |135211.5       |147415.5  |13500.0         |135211.5       |THURSDAY                  |12                     |Y                          |1                     |0.09136924207256147|null                 |null                    |XAP                   |Approved            |-74          |Cash through the bank|XAP               |Unaccompanied  |Repeater        |Audio/Video        |POS           |XNA              |Country-wide           |300             |Consumer electronics|24.0       |low_normal      |POS household with interest   |365243.0          |-44.0         |646.0                    |365243.0     |365243.0        |1.0                      |\n",
      "|2653129   |380361    |Cash loans        |26242.425  |360000.0       |399915.0  |0.0             |360000.0       |SATURDAY                  |17                     |Y                          |1                     |0.0                |null                 |null                    |XNA                   |Approved            |-2319        |Cash through the bank|XAP               |Unaccompanied  |Repeater        |XNA                |Cash          |x-sell           |Credit and cash offices|100             |XNA                 |24.0       |middle          |Cash Street: middle           |365243.0          |-2289.0       |-1599.0                  |-1599.0      |-1597.0         |1.0                      |\n",
      "|1910156   |380361    |Consumer loans    |1930.14    |35374.5        |42844.5   |0.0             |35374.5        |TUESDAY                   |13                     |Y                          |1                     |0.0                |null                 |null                    |XAP                   |Approved            |-489         |Cash through the bank|XAP               |null           |Repeater        |Audio/Video        |POS           |XNA              |Country-wide           |100             |Consumer electronics|24.0       |low_action      |POS household without interest|365243.0          |-458.0        |232.0                    |-248.0       |-246.0          |0.0                      |\n",
      "|2104755   |380361    |Revolving loans   |38250.0    |0.0            |765000.0  |null            |null           |SATURDAY                  |16                     |Y                          |1                     |null               |null                 |null                    |XAP                   |Approved            |-786         |XNA                  |XAP               |null           |Refreshed       |XNA                |Cards         |x-sell           |Credit and cash offices|-1              |XNA                 |0.0        |XNA             |Card X-Sell                   |-772.0            |-744.0        |365243.0                 |-563.0       |365243.0        |0.0                      |\n",
      "+----------+----------+------------------+-----------+---------------+----------+----------------+---------------+--------------------------+-----------------------+---------------------------+----------------------+-------------------+---------------------+------------------------+----------------------+--------------------+-------------+---------------------+------------------+---------------+----------------+-------------------+--------------+-----------------+-----------------------+----------------+--------------------+-----------+----------------+------------------------------+------------------+--------------+-------------------------+-------------+----------------+-------------------------+\n",
      "\n"
     ]
    },
    {
     "name": "stderr",
     "output_type": "stream",
     "text": [
      "                                                                                \r"
     ]
    }
   ],
   "source": [
    "sdf_prev_app.filter(F.col('SK_ID_CURR') == 380361)\\\n",
    "            .sort(F.col('AMT_CREDIT'))\\\n",
    "            .show(20, False)"
   ]
  },
  {
   "cell_type": "code",
   "execution_count": 41,
   "id": "fc90e029-a113-4253-823d-a97b5d9ea9b7",
   "metadata": {},
   "outputs": [
    {
     "name": "stderr",
     "output_type": "stream",
     "text": [
      "[Stage 892:>                                                        (0 + 8) / 8]\r"
     ]
    },
    {
     "name": "stdout",
     "output_type": "stream",
     "text": [
      "+----------+----------+--------------+--------------+---------------------+--------------------+------+----------+\n",
      "|SK_ID_PREV|SK_ID_CURR|MONTHS_BALANCE|CNT_INSTALMENT|CNT_INSTALMENT_FUTURE|NAME_CONTRACT_STATUS|SK_DPD|SK_DPD_DEF|\n",
      "+----------+----------+--------------+--------------+---------------------+--------------------+------+----------+\n",
      "|2837103   |380361    |-1            |24.0          |22.0                 |Active              |0     |0         |\n",
      "|1910156   |380361    |-10           |24.0          |18.0                 |Active              |0     |0         |\n",
      "|1910156   |380361    |-11           |24.0          |19.0                 |Active              |0     |0         |\n",
      "|1910156   |380361    |-12           |24.0          |20.0                 |Active              |0     |0         |\n",
      "|1910156   |380361    |-13           |24.0          |21.0                 |Active              |0     |0         |\n",
      "|1910156   |380361    |-14           |24.0          |22.0                 |Active              |0     |0         |\n",
      "|1910156   |380361    |-15           |24.0          |23.0                 |Active              |0     |0         |\n",
      "|1910156   |380361    |-16           |24.0          |24.0                 |Active              |0     |0         |\n",
      "|2837103   |380361    |-2            |24.0          |23.0                 |Active              |0     |0         |\n",
      "|1442773   |380361    |-24           |2.0           |0.0                  |Completed           |0     |0         |\n",
      "|1442773   |380361    |-25           |54.0          |53.0                 |Active              |0     |0         |\n",
      "|1442773   |380361    |-26           |54.0          |54.0                 |Active              |0     |0         |\n",
      "|2837103   |380361    |-3            |24.0          |24.0                 |Active              |0     |0         |\n",
      "|2653129   |380361    |-53           |24.0          |0.0                  |Completed           |0     |0         |\n",
      "|2653129   |380361    |-54           |24.0          |1.0                  |Active              |0     |0         |\n",
      "|2653129   |380361    |-55           |24.0          |2.0                  |Active              |0     |0         |\n",
      "|2653129   |380361    |-56           |24.0          |3.0                  |Active              |0     |0         |\n",
      "|2653129   |380361    |-57           |24.0          |4.0                  |Active              |0     |0         |\n",
      "|2653129   |380361    |-58           |24.0          |5.0                  |Active              |0     |0         |\n",
      "|2653129   |380361    |-59           |24.0          |6.0                  |Active              |0     |0         |\n",
      "+----------+----------+--------------+--------------+---------------------+--------------------+------+----------+\n",
      "only showing top 20 rows\n",
      "\n"
     ]
    },
    {
     "name": "stderr",
     "output_type": "stream",
     "text": [
      "                                                                                \r"
     ]
    }
   ],
   "source": [
    "sdf_posh_cash_balance.filter(F.col('SK_ID_CURR') == 380361)\\\n",
    "                    .sort(F.col('MONTHS_BALANCE'))\\\n",
    "                    .show(20, False)"
   ]
  },
  {
   "cell_type": "code",
   "execution_count": 45,
   "id": "3237ecdf-71d7-45c4-8a3a-624b1105d2f6",
   "metadata": {},
   "outputs": [
    {
     "name": "stderr",
     "output_type": "stream",
     "text": [
      "[Stage 990:>                                                        (0 + 8) / 8]\r"
     ]
    },
    {
     "name": "stdout",
     "output_type": "stream",
     "text": [
      "+----------+----------+--------------+-----------+-----------------------+------------------------+--------------------+--------------------------+------------------------+-----------------------+-------------------+-------------------------+------------------------+-------------+--------------------+------------------------+--------------------+--------------------------+------------------------+-------------------------+--------------------+------+----------+\n",
      "|SK_ID_PREV|SK_ID_CURR|MONTHS_BALANCE|AMT_BALANCE|AMT_CREDIT_LIMIT_ACTUAL|AMT_DRAWINGS_ATM_CURRENT|AMT_DRAWINGS_CURRENT|AMT_DRAWINGS_OTHER_CURRENT|AMT_DRAWINGS_POS_CURRENT|AMT_INST_MIN_REGULARITY|AMT_PAYMENT_CURRENT|AMT_PAYMENT_TOTAL_CURRENT|AMT_RECEIVABLE_PRINCIPAL|AMT_RECIVABLE|AMT_TOTAL_RECEIVABLE|CNT_DRAWINGS_ATM_CURRENT|CNT_DRAWINGS_CURRENT|CNT_DRAWINGS_OTHER_CURRENT|CNT_DRAWINGS_POS_CURRENT|CNT_INSTALMENT_MATURE_CUM|NAME_CONTRACT_STATUS|SK_DPD|SK_DPD_DEF|\n",
      "+----------+----------+--------------+-----------+-----------------------+------------------------+--------------------+--------------------------+------------------------+-----------------------+-------------------+-------------------------+------------------------+-------------+--------------------+------------------------+--------------------+--------------------------+------------------------+-------------------------+--------------------+------+----------+\n",
      "|2104755   |380361    |-1            |0.0        |0                      |0.0                     |0.0                 |0.0                       |0.0                     |0.0                    |357.48             |357.48                   |0.0                     |0.0          |0.0                 |0.0                     |0                   |0.0                       |0.0                     |6.0                      |Active              |0     |0         |\n",
      "|2104755   |380361    |-10           |0.0        |0                      |0.0                     |0.0                 |0.0                       |0.0                     |0.0                    |357.48             |357.48                   |0.0                     |0.0          |0.0                 |0.0                     |0                   |0.0                       |0.0                     |6.0                      |Active              |0     |0         |\n",
      "|2104755   |380361    |-11           |0.0        |0                      |0.0                     |0.0                 |0.0                       |0.0                     |0.0                    |357.48             |357.48                   |0.0                     |0.0          |0.0                 |0.0                     |0                   |0.0                       |0.0                     |6.0                      |Active              |0     |0         |\n",
      "|2104755   |380361    |-12           |0.0        |0                      |0.0                     |0.0                 |0.0                       |0.0                     |0.0                    |357.48             |357.48                   |0.0                     |0.0          |0.0                 |0.0                     |0                   |0.0                       |0.0                     |6.0                      |Active              |0     |0         |\n",
      "|2104755   |380361    |-13           |0.0        |0                      |0.0                     |0.0                 |0.0                       |0.0                     |0.0                    |357.48             |357.48                   |0.0                     |0.0          |0.0                 |0.0                     |0                   |0.0                       |0.0                     |6.0                      |Active              |0     |0         |\n",
      "|2104755   |380361    |-14           |0.0        |0                      |0.0                     |0.0                 |0.0                       |0.0                     |0.0                    |357.48             |357.48                   |0.0                     |0.0          |0.0                 |0.0                     |0                   |0.0                       |0.0                     |6.0                      |Active              |0     |0         |\n",
      "|2104755   |380361    |-15           |0.0        |0                      |0.0                     |0.0                 |0.0                       |0.0                     |0.0                    |357.48             |357.48                   |0.0                     |0.0          |0.0                 |0.0                     |0                   |0.0                       |0.0                     |6.0                      |Active              |0     |0         |\n",
      "|2104755   |380361    |-16           |0.0        |0                      |0.0                     |0.0                 |0.0                       |0.0                     |0.0                    |357.48             |357.48                   |0.0                     |0.0          |0.0                 |0.0                     |0                   |0.0                       |0.0                     |6.0                      |Active              |0     |0         |\n",
      "|2104755   |380361    |-17           |0.0        |765000                 |0.0                     |0.0                 |0.0                       |0.0                     |0.0                    |357.48             |357.48                   |0.0                     |0.0          |0.0                 |0.0                     |0                   |0.0                       |0.0                     |6.0                      |Active              |0     |0         |\n",
      "|2104755   |380361    |-18           |0.0        |765000                 |0.0                     |0.0                 |0.0                       |0.0                     |0.0                    |19932.48           |19932.48                 |0.0                     |0.0          |0.0                 |0.0                     |0                   |0.0                       |0.0                     |6.0                      |Active              |0     |0         |\n",
      "|2104755   |380361    |-19           |19217.52   |765000                 |0.0                     |30268.935           |0.0                       |30268.935               |221.76                 |11273.175          |11273.175                |19217.52                |19217.52     |19217.52            |0.0                     |6                   |0.0                       |6.0                     |6.0                      |Active              |0     |0         |\n",
      "|2104755   |380361    |-2            |0.0        |0                      |0.0                     |0.0                 |0.0                       |0.0                     |0.0                    |357.48             |357.48                   |0.0                     |0.0          |0.0                 |0.0                     |0                   |0.0                       |0.0                     |6.0                      |Active              |0     |0         |\n",
      "|2104755   |380361    |-20           |221.76     |765000                 |0.0                     |0.0                 |0.0                       |0.0                     |2250.0                 |4275.0             |4275.0                   |0.0                     |231.075      |231.075             |0.0                     |0                   |0.0                       |0.0                     |5.0                      |Active              |0     |0         |\n",
      "|2104755   |380361    |-21           |4219.335   |765000                 |0.0                     |18172.125           |0.0                       |18172.125               |0.0                    |13952.79           |13952.79                 |4219.335                |4219.335     |4219.335            |0.0                     |4                   |0.0                       |4.0                     |4.0                      |Active              |0     |0         |\n",
      "|2104755   |380361    |-22           |0.0        |765000                 |0.0                     |0.0                 |0.0                       |0.0                     |2250.0                 |4347.0             |4347.0                   |0.0                     |30.42        |30.42               |0.0                     |0                   |0.0                       |0.0                     |4.0                      |Active              |0     |0         |\n",
      "|2104755   |380361    |-23           |0.0        |765000                 |0.0                     |26733.735           |0.0                       |26733.735               |2250.0                 |32400.0            |32400.0                  |0.0                     |0.0          |0.0                 |0.0                     |6                   |0.0                       |6.0                     |3.0                      |Active              |0     |0         |\n",
      "|2104755   |380361    |-24           |7103.07    |765000                 |0.0                     |10221.93            |0.0                       |10221.93                |2250.0                 |2700.0             |2700.0                   |7103.07                 |7120.485     |7120.485            |0.0                     |2                   |0.0                       |2.0                     |2.0                      |Active              |0     |0         |\n",
      "|2104755   |380361    |-25           |0.0        |765000                 |0.0                     |11759.4             |0.0                       |11759.4                 |2250.0                 |18000.0            |18000.0                  |0.0                     |0.0          |0.0                 |0.0                     |3                   |0.0                       |3.0                     |1.0                      |Active              |0     |0         |\n",
      "|2104755   |380361    |-26           |8379.0     |765000                 |0.0                     |8379.0              |0.0                       |8379.0                  |null                   |null               |0.0                      |8379.0                  |8379.0       |8379.0              |0.0                     |1                   |0.0                       |1.0                     |null                     |Active              |0     |0         |\n",
      "|2104755   |380361    |-3            |0.0        |0                      |0.0                     |0.0                 |0.0                       |0.0                     |0.0                    |357.48             |357.48                   |0.0                     |0.0          |0.0                 |0.0                     |0                   |0.0                       |0.0                     |6.0                      |Active              |0     |0         |\n",
      "+----------+----------+--------------+-----------+-----------------------+------------------------+--------------------+--------------------------+------------------------+-----------------------+-------------------+-------------------------+------------------------+-------------+--------------------+------------------------+--------------------+--------------------------+------------------------+-------------------------+--------------------+------+----------+\n",
      "only showing top 20 rows\n",
      "\n"
     ]
    },
    {
     "name": "stderr",
     "output_type": "stream",
     "text": [
      "                                                                                \r"
     ]
    }
   ],
   "source": [
    "sdf_cc_balance.filter(F.col('SK_ID_CURR') == 380361)\\\n",
    "            .sort(F.col('MONTHS_BALANCE'))\\\n",
    "            .show(20, False)"
   ]
  },
  {
   "cell_type": "code",
   "execution_count": 49,
   "id": "533ca842-efb9-4f0c-96e8-97cff3244758",
   "metadata": {},
   "outputs": [
    {
     "name": "stderr",
     "output_type": "stream",
     "text": [
      "[Stage 1088:=======>                                                (1 + 7) / 8]\r"
     ]
    },
    {
     "name": "stdout",
     "output_type": "stream",
     "text": [
      "+----------+----------+----------------------+---------------------+---------------+------------------+--------------+-----------+\n",
      "|SK_ID_PREV|SK_ID_CURR|NUM_INSTALMENT_VERSION|NUM_INSTALMENT_NUMBER|DAYS_INSTALMENT|DAYS_ENTRY_PAYMENT|AMT_INSTALMENT|AMT_PAYMENT|\n",
      "+----------+----------+----------------------+---------------------+---------------+------------------+--------------+-----------+\n",
      "|2104755   |380361    |0.0                   |30                   |-125.0         |-125.0            |357.48        |357.48     |\n",
      "|2104755   |380361    |0.0                   |29                   |-156.0         |-156.0            |357.48        |357.48     |\n",
      "|2653129   |380361    |1.0                   |24                   |-1599.0        |-1624.0           |25430.04      |25430.04   |\n",
      "|2653129   |380361    |1.0                   |23                   |-1629.0        |-1636.0           |26242.425     |26242.425  |\n",
      "|2653129   |380361    |1.0                   |22                   |-1659.0        |-1665.0           |26242.425     |26242.425  |\n",
      "|2653129   |380361    |1.0                   |21                   |-1689.0        |-1693.0           |26242.425     |26242.425  |\n",
      "|2653129   |380361    |1.0                   |20                   |-1719.0        |-1726.0           |26242.425     |26242.425  |\n",
      "|2653129   |380361    |1.0                   |19                   |-1749.0        |-1754.0           |26242.425     |26242.425  |\n",
      "|2653129   |380361    |1.0                   |18                   |-1779.0        |-1787.0           |26242.425     |26242.425  |\n",
      "|2653129   |380361    |1.0                   |17                   |-1809.0        |-1818.0           |26242.425     |26242.425  |\n",
      "|2653129   |380361    |1.0                   |16                   |-1839.0        |-1852.0           |26242.425     |26242.425  |\n",
      "|2104755   |380361    |0.0                   |28                   |-186.0         |-186.0            |357.48        |357.48     |\n",
      "|2653129   |380361    |1.0                   |15                   |-1869.0        |-1892.0           |26242.425     |26242.425  |\n",
      "|2653129   |380361    |1.0                   |14                   |-1899.0        |-1909.0           |26242.425     |26242.425  |\n",
      "|2653129   |380361    |1.0                   |13                   |-1929.0        |-1939.0           |26242.425     |26242.425  |\n",
      "|2653129   |380361    |1.0                   |12                   |-1959.0        |-1969.0           |26242.425     |26242.425  |\n",
      "|2653129   |380361    |1.0                   |11                   |-1989.0        |-2000.0           |26242.425     |26242.425  |\n",
      "|2653129   |380361    |1.0                   |10                   |-2019.0        |-2029.0           |26242.425     |26242.425  |\n",
      "|2653129   |380361    |1.0                   |9                    |-2049.0        |-2062.0           |26242.425     |26242.425  |\n",
      "|2653129   |380361    |1.0                   |8                    |-2079.0        |-2090.0           |26242.425     |26242.425  |\n",
      "+----------+----------+----------------------+---------------------+---------------+------------------+--------------+-----------+\n",
      "only showing top 20 rows\n",
      "\n"
     ]
    },
    {
     "name": "stderr",
     "output_type": "stream",
     "text": [
      "                                                                                \r"
     ]
    }
   ],
   "source": [
    "sdf_prev_installments.filter(F.col('SK_ID_CURR') == 380361)\\\n",
    "                    .sort(F.col('DAYS_ENTRY_PAYMENT'))\\\n",
    "                    .show(20, False)"
   ]
  },
  {
   "cell_type": "markdown",
   "id": "08d516bb-7a5e-4ee4-be6c-7aacc33f5a25",
   "metadata": {},
   "source": [
    "## Preprocessing and finding out"
   ]
  },
  {
   "cell_type": "code",
   "execution_count": 16,
   "id": "e76d8a2f-95d1-4736-b656-cb977d32ebc8",
   "metadata": {},
   "outputs": [
    {
     "name": "stderr",
     "output_type": "stream",
     "text": [
      "[Stage 12:==================================================>       (7 + 1) / 8]\r"
     ]
    },
    {
     "name": "stdout",
     "output_type": "stream",
     "text": [
      "+----------+------+------------------+-----------+------------+---------------+------------+----------------+----------+-----------+---------------+---------------+----------------+-------------------+------------------+-----------------+--------------------------+----------+-------------+-----------------+---------------+-----------+----------+--------------+---------------+----------------+----------+----------+---------------+---------------+--------------------+---------------------------+--------------------------+-----------------------+--------------------------+--------------------------+---------------------------+----------------------+----------------------+-----------------------+-----------------+------------+------------+------------+--------------+----------------+---------------------------+---------------+--------------+-------------+-------------+-------------+-------------+------------+--------------------+--------------+-----------------------+-----------------+---------------+-----------------+----------------------------+----------------+---------------+--------------+--------------+--------------+--------------+-------------+---------------------+---------------+------------------------+------------------+---------------+-----------------+----------------------------+----------------+---------------+--------------+--------------+--------------+--------------+-------------+---------------------+---------------+------------------------+------------------+------------------+--------------+--------------+------------------+-------------------+------------------------+------------------------+------------------------+------------------------+----------------------+---------------+---------------+---------------+---------------+---------------+---------------+---------------+---------------+----------------+----------------+----------------+----------------+----------------+----------------+----------------+----------------+----------------+----------------+----------------+----------------+--------------------------+-------------------------+--------------------------+-------------------------+-------------------------+--------------------------+\n",
      "|SK_ID_CURR|TARGET|NAME_CONTRACT_TYPE|CODE_GENDER|FLAG_OWN_CAR|FLAG_OWN_REALTY|CNT_CHILDREN|AMT_INCOME_TOTAL|AMT_CREDIT|AMT_ANNUITY|AMT_GOODS_PRICE|NAME_TYPE_SUITE|NAME_INCOME_TYPE|NAME_EDUCATION_TYPE|NAME_FAMILY_STATUS|NAME_HOUSING_TYPE|REGION_POPULATION_RELATIVE|DAYS_BIRTH|DAYS_EMPLOYED|DAYS_REGISTRATION|DAYS_ID_PUBLISH|OWN_CAR_AGE|FLAG_MOBIL|FLAG_EMP_PHONE|FLAG_WORK_PHONE|FLAG_CONT_MOBILE|FLAG_PHONE|FLAG_EMAIL|OCCUPATION_TYPE|CNT_FAM_MEMBERS|REGION_RATING_CLIENT|REGION_RATING_CLIENT_W_CITY|WEEKDAY_APPR_PROCESS_START|HOUR_APPR_PROCESS_START|REG_REGION_NOT_LIVE_REGION|REG_REGION_NOT_WORK_REGION|LIVE_REGION_NOT_WORK_REGION|REG_CITY_NOT_LIVE_CITY|REG_CITY_NOT_WORK_CITY|LIVE_CITY_NOT_WORK_CITY|ORGANIZATION_TYPE|EXT_SOURCE_1|EXT_SOURCE_2|EXT_SOURCE_3|APARTMENTS_AVG|BASEMENTAREA_AVG|YEARS_BEGINEXPLUATATION_AVG|YEARS_BUILD_AVG|COMMONAREA_AVG|ELEVATORS_AVG|ENTRANCES_AVG|FLOORSMAX_AVG|FLOORSMIN_AVG|LANDAREA_AVG|LIVINGAPARTMENTS_AVG|LIVINGAREA_AVG|NONLIVINGAPARTMENTS_AVG|NONLIVINGAREA_AVG|APARTMENTS_MODE|BASEMENTAREA_MODE|YEARS_BEGINEXPLUATATION_MODE|YEARS_BUILD_MODE|COMMONAREA_MODE|ELEVATORS_MODE|ENTRANCES_MODE|FLOORSMAX_MODE|FLOORSMIN_MODE|LANDAREA_MODE|LIVINGAPARTMENTS_MODE|LIVINGAREA_MODE|NONLIVINGAPARTMENTS_MODE|NONLIVINGAREA_MODE|APARTMENTS_MEDI|BASEMENTAREA_MEDI|YEARS_BEGINEXPLUATATION_MEDI|YEARS_BUILD_MEDI|COMMONAREA_MEDI|ELEVATORS_MEDI|ENTRANCES_MEDI|FLOORSMAX_MEDI|FLOORSMIN_MEDI|LANDAREA_MEDI|LIVINGAPARTMENTS_MEDI|LIVINGAREA_MEDI|NONLIVINGAPARTMENTS_MEDI|NONLIVINGAREA_MEDI|FONDKAPREMONT_MODE|HOUSETYPE_MODE|TOTALAREA_MODE|WALLSMATERIAL_MODE|EMERGENCYSTATE_MODE|OBS_30_CNT_SOCIAL_CIRCLE|DEF_30_CNT_SOCIAL_CIRCLE|OBS_60_CNT_SOCIAL_CIRCLE|DEF_60_CNT_SOCIAL_CIRCLE|DAYS_LAST_PHONE_CHANGE|FLAG_DOCUMENT_2|FLAG_DOCUMENT_3|FLAG_DOCUMENT_4|FLAG_DOCUMENT_5|FLAG_DOCUMENT_6|FLAG_DOCUMENT_7|FLAG_DOCUMENT_8|FLAG_DOCUMENT_9|FLAG_DOCUMENT_10|FLAG_DOCUMENT_11|FLAG_DOCUMENT_12|FLAG_DOCUMENT_13|FLAG_DOCUMENT_14|FLAG_DOCUMENT_15|FLAG_DOCUMENT_16|FLAG_DOCUMENT_17|FLAG_DOCUMENT_18|FLAG_DOCUMENT_19|FLAG_DOCUMENT_20|FLAG_DOCUMENT_21|AMT_REQ_CREDIT_BUREAU_HOUR|AMT_REQ_CREDIT_BUREAU_DAY|AMT_REQ_CREDIT_BUREAU_WEEK|AMT_REQ_CREDIT_BUREAU_MON|AMT_REQ_CREDIT_BUREAU_QRT|AMT_REQ_CREDIT_BUREAU_YEAR|\n",
      "+----------+------+------------------+-----------+------------+---------------+------------+----------------+----------+-----------+---------------+---------------+----------------+-------------------+------------------+-----------------+--------------------------+----------+-------------+-----------------+---------------+-----------+----------+--------------+---------------+----------------+----------+----------+---------------+---------------+--------------------+---------------------------+--------------------------+-----------------------+--------------------------+--------------------------+---------------------------+----------------------+----------------------+-----------------------+-----------------+------------+------------+------------+--------------+----------------+---------------------------+---------------+--------------+-------------+-------------+-------------+-------------+------------+--------------------+--------------+-----------------------+-----------------+---------------+-----------------+----------------------------+----------------+---------------+--------------+--------------+--------------+--------------+-------------+---------------------+---------------+------------------------+------------------+---------------+-----------------+----------------------------+----------------+---------------+--------------+--------------+--------------+--------------+-------------+---------------------+---------------+------------------------+------------------+------------------+--------------+--------------+------------------+-------------------+------------------------+------------------------+------------------------+------------------------+----------------------+---------------+---------------+---------------+---------------+---------------+---------------+---------------+---------------+----------------+----------------+----------------+----------------+----------------+----------------+----------------+----------------+----------------+----------------+----------------+----------------+--------------------------+-------------------------+--------------------------+-------------------------+-------------------------+--------------------------+\n",
      "|         0|     0|                 0|          0|           0|              0|           0|               0|         0|          0|              0|              0|               0|                  0|                 0|                0|                         0|         0|            0|                0|              0|          0|         0|             0|              0|               0|         0|         0|              0|              0|                   0|                          0|                         0|                      0|                         0|                         0|                          0|                     0|                     0|                      0|                0|           0|           0|           0|             0|               0|                          0|              0|             0|            0|            0|            0|            0|           0|                   0|             0|                      0|                0|              0|                0|                           0|               0|              0|             0|             0|             0|             0|            0|                    0|              0|                       0|                 0|              0|                0|                           0|               0|              0|             0|             0|             0|             0|            0|                    0|              0|                       0|                 0|                 0|             0|             0|                 0|                  0|                       0|                       0|                       0|                       0|                     0|              0|              0|              0|              0|              0|              0|              0|              0|               0|               0|               0|               0|               0|               0|               0|               0|               0|               0|               0|               0|                         0|                        0|                         0|                        0|                        0|                         0|\n",
      "+----------+------+------------------+-----------+------------+---------------+------------+----------------+----------+-----------+---------------+---------------+----------------+-------------------+------------------+-----------------+--------------------------+----------+-------------+-----------------+---------------+-----------+----------+--------------+---------------+----------------+----------+----------+---------------+---------------+--------------------+---------------------------+--------------------------+-----------------------+--------------------------+--------------------------+---------------------------+----------------------+----------------------+-----------------------+-----------------+------------+------------+------------+--------------+----------------+---------------------------+---------------+--------------+-------------+-------------+-------------+-------------+------------+--------------------+--------------+-----------------------+-----------------+---------------+-----------------+----------------------------+----------------+---------------+--------------+--------------+--------------+--------------+-------------+---------------------+---------------+------------------------+------------------+---------------+-----------------+----------------------------+----------------+---------------+--------------+--------------+--------------+--------------+-------------+---------------------+---------------+------------------------+------------------+------------------+--------------+--------------+------------------+-------------------+------------------------+------------------------+------------------------+------------------------+----------------------+---------------+---------------+---------------+---------------+---------------+---------------+---------------+---------------+----------------+----------------+----------------+----------------+----------------+----------------+----------------+----------------+----------------+----------------+----------------+----------------+--------------------------+-------------------------+--------------------------+-------------------------+-------------------------+--------------------------+\n",
      "\n"
     ]
    },
    {
     "name": "stderr",
     "output_type": "stream",
     "text": [
      "                                                                                \r"
     ]
    }
   ],
   "source": [
    "sdf_train.select([F.count(F.when(F.isnan(c), c)).alias(c) for c in sdf_train.columns]).show()"
   ]
  },
  {
   "cell_type": "code",
   "execution_count": 20,
   "id": "a494116d-cffe-4e08-ad74-49ae3a88ad8c",
   "metadata": {},
   "outputs": [
    {
     "name": "stderr",
     "output_type": "stream",
     "text": [
      "[Stage 15:=======>                                                  (1 + 7) / 8]\r"
     ]
    },
    {
     "name": "stdout",
     "output_type": "stream",
     "text": [
      "+----------+------+------------------+-----------+------------+---------------+------------+----------------+----------+-----------+---------------+---------------+----------------+-------------------+------------------+-----------------+--------------------------+----------+-------------+-----------------+---------------+-----------+----------+--------------+---------------+----------------+----------+----------+---------------+---------------+--------------------+---------------------------+--------------------------+-----------------------+--------------------------+--------------------------+---------------------------+----------------------+----------------------+-----------------------+-----------------+------------+------------+------------+--------------+----------------+---------------------------+---------------+--------------+-------------+-------------+-------------+-------------+------------+--------------------+--------------+-----------------------+-----------------+---------------+-----------------+----------------------------+----------------+---------------+--------------+--------------+--------------+--------------+-------------+---------------------+---------------+------------------------+------------------+---------------+-----------------+----------------------------+----------------+---------------+--------------+--------------+--------------+--------------+-------------+---------------------+---------------+------------------------+------------------+------------------+--------------+--------------+------------------+-------------------+------------------------+------------------------+------------------------+------------------------+----------------------+---------------+---------------+---------------+---------------+---------------+---------------+---------------+---------------+----------------+----------------+----------------+----------------+----------------+----------------+----------------+----------------+----------------+----------------+----------------+----------------+--------------------------+-------------------------+--------------------------+-------------------------+-------------------------+--------------------------+\n",
      "|SK_ID_CURR|TARGET|NAME_CONTRACT_TYPE|CODE_GENDER|FLAG_OWN_CAR|FLAG_OWN_REALTY|CNT_CHILDREN|AMT_INCOME_TOTAL|AMT_CREDIT|AMT_ANNUITY|AMT_GOODS_PRICE|NAME_TYPE_SUITE|NAME_INCOME_TYPE|NAME_EDUCATION_TYPE|NAME_FAMILY_STATUS|NAME_HOUSING_TYPE|REGION_POPULATION_RELATIVE|DAYS_BIRTH|DAYS_EMPLOYED|DAYS_REGISTRATION|DAYS_ID_PUBLISH|OWN_CAR_AGE|FLAG_MOBIL|FLAG_EMP_PHONE|FLAG_WORK_PHONE|FLAG_CONT_MOBILE|FLAG_PHONE|FLAG_EMAIL|OCCUPATION_TYPE|CNT_FAM_MEMBERS|REGION_RATING_CLIENT|REGION_RATING_CLIENT_W_CITY|WEEKDAY_APPR_PROCESS_START|HOUR_APPR_PROCESS_START|REG_REGION_NOT_LIVE_REGION|REG_REGION_NOT_WORK_REGION|LIVE_REGION_NOT_WORK_REGION|REG_CITY_NOT_LIVE_CITY|REG_CITY_NOT_WORK_CITY|LIVE_CITY_NOT_WORK_CITY|ORGANIZATION_TYPE|EXT_SOURCE_1|EXT_SOURCE_2|EXT_SOURCE_3|APARTMENTS_AVG|BASEMENTAREA_AVG|YEARS_BEGINEXPLUATATION_AVG|YEARS_BUILD_AVG|COMMONAREA_AVG|ELEVATORS_AVG|ENTRANCES_AVG|FLOORSMAX_AVG|FLOORSMIN_AVG|LANDAREA_AVG|LIVINGAPARTMENTS_AVG|LIVINGAREA_AVG|NONLIVINGAPARTMENTS_AVG|NONLIVINGAREA_AVG|APARTMENTS_MODE|BASEMENTAREA_MODE|YEARS_BEGINEXPLUATATION_MODE|YEARS_BUILD_MODE|COMMONAREA_MODE|ELEVATORS_MODE|ENTRANCES_MODE|FLOORSMAX_MODE|FLOORSMIN_MODE|LANDAREA_MODE|LIVINGAPARTMENTS_MODE|LIVINGAREA_MODE|NONLIVINGAPARTMENTS_MODE|NONLIVINGAREA_MODE|APARTMENTS_MEDI|BASEMENTAREA_MEDI|YEARS_BEGINEXPLUATATION_MEDI|YEARS_BUILD_MEDI|COMMONAREA_MEDI|ELEVATORS_MEDI|ENTRANCES_MEDI|FLOORSMAX_MEDI|FLOORSMIN_MEDI|LANDAREA_MEDI|LIVINGAPARTMENTS_MEDI|LIVINGAREA_MEDI|NONLIVINGAPARTMENTS_MEDI|NONLIVINGAREA_MEDI|FONDKAPREMONT_MODE|HOUSETYPE_MODE|TOTALAREA_MODE|WALLSMATERIAL_MODE|EMERGENCYSTATE_MODE|OBS_30_CNT_SOCIAL_CIRCLE|DEF_30_CNT_SOCIAL_CIRCLE|OBS_60_CNT_SOCIAL_CIRCLE|DEF_60_CNT_SOCIAL_CIRCLE|DAYS_LAST_PHONE_CHANGE|FLAG_DOCUMENT_2|FLAG_DOCUMENT_3|FLAG_DOCUMENT_4|FLAG_DOCUMENT_5|FLAG_DOCUMENT_6|FLAG_DOCUMENT_7|FLAG_DOCUMENT_8|FLAG_DOCUMENT_9|FLAG_DOCUMENT_10|FLAG_DOCUMENT_11|FLAG_DOCUMENT_12|FLAG_DOCUMENT_13|FLAG_DOCUMENT_14|FLAG_DOCUMENT_15|FLAG_DOCUMENT_16|FLAG_DOCUMENT_17|FLAG_DOCUMENT_18|FLAG_DOCUMENT_19|FLAG_DOCUMENT_20|FLAG_DOCUMENT_21|AMT_REQ_CREDIT_BUREAU_HOUR|AMT_REQ_CREDIT_BUREAU_DAY|AMT_REQ_CREDIT_BUREAU_WEEK|AMT_REQ_CREDIT_BUREAU_MON|AMT_REQ_CREDIT_BUREAU_QRT|AMT_REQ_CREDIT_BUREAU_YEAR|\n",
      "+----------+------+------------------+-----------+------------+---------------+------------+----------------+----------+-----------+---------------+---------------+----------------+-------------------+------------------+-----------------+--------------------------+----------+-------------+-----------------+---------------+-----------+----------+--------------+---------------+----------------+----------+----------+---------------+---------------+--------------------+---------------------------+--------------------------+-----------------------+--------------------------+--------------------------+---------------------------+----------------------+----------------------+-----------------------+-----------------+------------+------------+------------+--------------+----------------+---------------------------+---------------+--------------+-------------+-------------+-------------+-------------+------------+--------------------+--------------+-----------------------+-----------------+---------------+-----------------+----------------------------+----------------+---------------+--------------+--------------+--------------+--------------+-------------+---------------------+---------------+------------------------+------------------+---------------+-----------------+----------------------------+----------------+---------------+--------------+--------------+--------------+--------------+-------------+---------------------+---------------+------------------------+------------------+------------------+--------------+--------------+------------------+-------------------+------------------------+------------------------+------------------------+------------------------+----------------------+---------------+---------------+---------------+---------------+---------------+---------------+---------------+---------------+----------------+----------------+----------------+----------------+----------------+----------------+----------------+----------------+----------------+----------------+----------------+----------------+--------------------------+-------------------------+--------------------------+-------------------------+-------------------------+--------------------------+\n",
      "|         0|     0|                 0|          0|           0|              0|           0|               0|         0|         12|            278|           1292|               0|                  0|                 0|                0|                         0|         0|            0|                0|              0|     202929|         0|             0|              0|               0|         0|         0|          96391|              2|                   0|                          0|                         0|                      0|                         0|                         0|                          0|                     0|                     0|                      0|                0|      173378|         660|       60965|        156061|          179943|                     150007|         204488|        214865|       163891|       154828|       153020|       208642|      182590|              210199|        154350|                 213514|           169682|         156061|           179943|                      150007|          204488|         214865|        163891|        154828|        153020|        208642|       182590|               210199|         154350|                  213514|            169682|         156061|           179943|                      150007|          204488|         214865|        163891|        154828|        153020|        208642|       182590|               210199|         154350|                  213514|            169682|            210295|        154297|        148431|            156341|             145755|                    1021|                    1021|                    1021|                    1021|                     1|              0|              0|              0|              0|              0|              0|              0|              0|               0|               0|               0|               0|               0|               0|               0|               0|               0|               0|               0|               0|                     41519|                    41519|                     41519|                    41519|                    41519|                     41519|\n",
      "+----------+------+------------------+-----------+------------+---------------+------------+----------------+----------+-----------+---------------+---------------+----------------+-------------------+------------------+-----------------+--------------------------+----------+-------------+-----------------+---------------+-----------+----------+--------------+---------------+----------------+----------+----------+---------------+---------------+--------------------+---------------------------+--------------------------+-----------------------+--------------------------+--------------------------+---------------------------+----------------------+----------------------+-----------------------+-----------------+------------+------------+------------+--------------+----------------+---------------------------+---------------+--------------+-------------+-------------+-------------+-------------+------------+--------------------+--------------+-----------------------+-----------------+---------------+-----------------+----------------------------+----------------+---------------+--------------+--------------+--------------+--------------+-------------+---------------------+---------------+------------------------+------------------+---------------+-----------------+----------------------------+----------------+---------------+--------------+--------------+--------------+--------------+-------------+---------------------+---------------+------------------------+------------------+------------------+--------------+--------------+------------------+-------------------+------------------------+------------------------+------------------------+------------------------+----------------------+---------------+---------------+---------------+---------------+---------------+---------------+---------------+---------------+----------------+----------------+----------------+----------------+----------------+----------------+----------------+----------------+----------------+----------------+----------------+----------------+--------------------------+-------------------------+--------------------------+-------------------------+-------------------------+--------------------------+\n",
      "\n"
     ]
    },
    {
     "name": "stderr",
     "output_type": "stream",
     "text": [
      "                                                                                \r"
     ]
    }
   ],
   "source": [
    "sdf_train.select([F.count(F.when(F.isnan(c) | F.col(c).isNull(), c)).alias(c) for c in sdf_train.columns]).show()"
   ]
  },
  {
   "cell_type": "code",
   "execution_count": 69,
   "id": "b99b1b7f-cb19-4cb3-8427-1761ab0c0be2",
   "metadata": {},
   "outputs": [
    {
     "name": "stdout",
     "output_type": "stream",
     "text": [
      "+-----------+----------+\n",
      "|AMT_ANNUITY|SK_ID_CURR|\n",
      "+-----------+----------+\n",
      "|null       |215354    |\n",
      "|null       |215354    |\n",
      "|null       |215354    |\n",
      "|null       |215354    |\n",
      "|null       |215354    |\n",
      "|null       |215354    |\n",
      "|null       |215354    |\n",
      "|null       |215354    |\n",
      "|null       |215354    |\n",
      "|null       |215354    |\n",
      "|null       |215354    |\n",
      "+-----------+----------+\n",
      "\n"
     ]
    }
   ],
   "source": [
    "sdf_bureau.filter(F.col('SK_ID_CURR') == 215354).select('AMT_ANNUITY', 'SK_ID_CURR').show(20, False)"
   ]
  },
  {
   "cell_type": "code",
   "execution_count": 67,
   "id": "2377d8fb-0ad9-4f8d-b7fa-72c8560bf68e",
   "metadata": {},
   "outputs": [
    {
     "name": "stdout",
     "output_type": "stream",
     "text": [
      "+-----------+----------+\n",
      "|AMT_ANNUITY|SK_ID_CURR|\n",
      "+-----------+----------+\n",
      "|21181.5    |215354    |\n",
      "+-----------+----------+\n",
      "\n"
     ]
    }
   ],
   "source": [
    "sdf_train.filter(F.col('SK_ID_CURR') == 215354).select('AMT_ANNUITY', 'SK_ID_CURR').show(20, False)"
   ]
  },
  {
   "cell_type": "code",
   "execution_count": 43,
   "id": "6bc51434-cc69-4d6c-98cd-26ad69d65fb9",
   "metadata": {},
   "outputs": [
    {
     "name": "stdout",
     "output_type": "stream",
     "text": [
      "+---------------+\n",
      "|CREDIT_CURRENCY|\n",
      "+---------------+\n",
      "|currency 2     |\n",
      "|currency 1     |\n",
      "|currency 4     |\n",
      "|currency 3     |\n",
      "+---------------+\n",
      "\n"
     ]
    },
    {
     "name": "stderr",
     "output_type": "stream",
     "text": [
      "                                                                                \r"
     ]
    }
   ],
   "source": [
    "sdf_bureau.select('CREDIT_CURRENCY').distinct().show(10, False)"
   ]
  },
  {
   "cell_type": "code",
   "execution_count": 25,
   "id": "a0f2d6a5-3e04-4fa6-987f-6e4989afbca4",
   "metadata": {},
   "outputs": [
    {
     "name": "stdout",
     "output_type": "stream",
     "text": [
      "+----------+------+------------------+-----------+------------+---------------+------------+----------------+----------+-----------+---------------+---------------+----------------+-------------------+------------------+-----------------+--------------------------+----------+-------------+-----------------+---------------+-----------+----------+--------------+---------------+----------------+----------+----------+---------------+---------------+--------------------+---------------------------+--------------------------+-----------------------+--------------------------+--------------------------+---------------------------+----------------------+----------------------+-----------------------+-----------------+------------------+-----------------+------------------+--------------+----------------+---------------------------+---------------+--------------+-------------+-------------+-------------+-------------+------------+--------------------+--------------+-----------------------+-----------------+---------------+-----------------+----------------------------+----------------+---------------+--------------+--------------+--------------+--------------+-------------+---------------------+---------------+------------------------+------------------+---------------+-----------------+----------------------------+----------------+---------------+--------------+--------------+--------------+--------------+-------------+---------------------+---------------+------------------------+------------------+------------------+--------------+--------------+------------------+-------------------+------------------------+------------------------+------------------------+------------------------+----------------------+---------------+---------------+---------------+---------------+---------------+---------------+---------------+---------------+----------------+----------------+----------------+----------------+----------------+----------------+----------------+----------------+----------------+----------------+----------------+----------------+--------------------------+-------------------------+--------------------------+-------------------------+-------------------------+--------------------------+\n",
      "|SK_ID_CURR|TARGET|NAME_CONTRACT_TYPE|CODE_GENDER|FLAG_OWN_CAR|FLAG_OWN_REALTY|CNT_CHILDREN|AMT_INCOME_TOTAL|AMT_CREDIT|AMT_ANNUITY|AMT_GOODS_PRICE|NAME_TYPE_SUITE|NAME_INCOME_TYPE|NAME_EDUCATION_TYPE|NAME_FAMILY_STATUS|NAME_HOUSING_TYPE|REGION_POPULATION_RELATIVE|DAYS_BIRTH|DAYS_EMPLOYED|DAYS_REGISTRATION|DAYS_ID_PUBLISH|OWN_CAR_AGE|FLAG_MOBIL|FLAG_EMP_PHONE|FLAG_WORK_PHONE|FLAG_CONT_MOBILE|FLAG_PHONE|FLAG_EMAIL|OCCUPATION_TYPE|CNT_FAM_MEMBERS|REGION_RATING_CLIENT|REGION_RATING_CLIENT_W_CITY|WEEKDAY_APPR_PROCESS_START|HOUR_APPR_PROCESS_START|REG_REGION_NOT_LIVE_REGION|REG_REGION_NOT_WORK_REGION|LIVE_REGION_NOT_WORK_REGION|REG_CITY_NOT_LIVE_CITY|REG_CITY_NOT_WORK_CITY|LIVE_CITY_NOT_WORK_CITY|ORGANIZATION_TYPE|EXT_SOURCE_1      |EXT_SOURCE_2     |EXT_SOURCE_3      |APARTMENTS_AVG|BASEMENTAREA_AVG|YEARS_BEGINEXPLUATATION_AVG|YEARS_BUILD_AVG|COMMONAREA_AVG|ELEVATORS_AVG|ENTRANCES_AVG|FLOORSMAX_AVG|FLOORSMIN_AVG|LANDAREA_AVG|LIVINGAPARTMENTS_AVG|LIVINGAREA_AVG|NONLIVINGAPARTMENTS_AVG|NONLIVINGAREA_AVG|APARTMENTS_MODE|BASEMENTAREA_MODE|YEARS_BEGINEXPLUATATION_MODE|YEARS_BUILD_MODE|COMMONAREA_MODE|ELEVATORS_MODE|ENTRANCES_MODE|FLOORSMAX_MODE|FLOORSMIN_MODE|LANDAREA_MODE|LIVINGAPARTMENTS_MODE|LIVINGAREA_MODE|NONLIVINGAPARTMENTS_MODE|NONLIVINGAREA_MODE|APARTMENTS_MEDI|BASEMENTAREA_MEDI|YEARS_BEGINEXPLUATATION_MEDI|YEARS_BUILD_MEDI|COMMONAREA_MEDI|ELEVATORS_MEDI|ENTRANCES_MEDI|FLOORSMAX_MEDI|FLOORSMIN_MEDI|LANDAREA_MEDI|LIVINGAPARTMENTS_MEDI|LIVINGAREA_MEDI|NONLIVINGAPARTMENTS_MEDI|NONLIVINGAREA_MEDI|FONDKAPREMONT_MODE|HOUSETYPE_MODE|TOTALAREA_MODE|WALLSMATERIAL_MODE|EMERGENCYSTATE_MODE|OBS_30_CNT_SOCIAL_CIRCLE|DEF_30_CNT_SOCIAL_CIRCLE|OBS_60_CNT_SOCIAL_CIRCLE|DEF_60_CNT_SOCIAL_CIRCLE|DAYS_LAST_PHONE_CHANGE|FLAG_DOCUMENT_2|FLAG_DOCUMENT_3|FLAG_DOCUMENT_4|FLAG_DOCUMENT_5|FLAG_DOCUMENT_6|FLAG_DOCUMENT_7|FLAG_DOCUMENT_8|FLAG_DOCUMENT_9|FLAG_DOCUMENT_10|FLAG_DOCUMENT_11|FLAG_DOCUMENT_12|FLAG_DOCUMENT_13|FLAG_DOCUMENT_14|FLAG_DOCUMENT_15|FLAG_DOCUMENT_16|FLAG_DOCUMENT_17|FLAG_DOCUMENT_18|FLAG_DOCUMENT_19|FLAG_DOCUMENT_20|FLAG_DOCUMENT_21|AMT_REQ_CREDIT_BUREAU_HOUR|AMT_REQ_CREDIT_BUREAU_DAY|AMT_REQ_CREDIT_BUREAU_WEEK|AMT_REQ_CREDIT_BUREAU_MON|AMT_REQ_CREDIT_BUREAU_QRT|AMT_REQ_CREDIT_BUREAU_YEAR|\n",
      "+----------+------+------------------+-----------+------------+---------------+------------+----------------+----------+-----------+---------------+---------------+----------------+-------------------+------------------+-----------------+--------------------------+----------+-------------+-----------------+---------------+-----------+----------+--------------+---------------+----------------+----------+----------+---------------+---------------+--------------------+---------------------------+--------------------------+-----------------------+--------------------------+--------------------------+---------------------------+----------------------+----------------------+-----------------------+-----------------+------------------+-----------------+------------------+--------------+----------------+---------------------------+---------------+--------------+-------------+-------------+-------------+-------------+------------+--------------------+--------------+-----------------------+-----------------+---------------+-----------------+----------------------------+----------------+---------------+--------------+--------------+--------------+--------------+-------------+---------------------+---------------+------------------------+------------------+---------------+-----------------+----------------------------+----------------+---------------+--------------+--------------+--------------+--------------+-------------+---------------------+---------------+------------------------+------------------+------------------+--------------+--------------+------------------+-------------------+------------------------+------------------------+------------------------+------------------------+----------------------+---------------+---------------+---------------+---------------+---------------+---------------+---------------+---------------+----------------+----------------+----------------+----------------+----------------+----------------+----------------+----------------+----------------+----------------+----------------+----------------+--------------------------+-------------------------+--------------------------+-------------------------+-------------------------+--------------------------+\n",
      "|215354    |0     |Cash loans        |F          |Y           |N              |0           |270000.0        |720000.0  |21181.5    |720000.0       |Unaccompanied  |Working         |Higher education   |Married           |House / apartment|0.028663                  |-17520    |-939         |-1203.0          |-1064          |4.0        |1         |1             |0              |1               |0         |0         |Accountants    |2.0            |2                   |2                          |MONDAY                    |13                     |0                         |0                         |0                          |0                     |0                     |0                      |Trade: type 7    |0.8737362738293727|0.522744861623572|0.2314393514998941|null          |null            |null                       |null           |null          |null         |null         |null         |null         |null        |null                |null          |null                   |null             |null           |null             |null                        |null            |null           |null          |null          |null          |null          |null         |null                 |null           |null                    |null              |null           |null             |null                        |null            |null           |null          |null          |null          |null          |null         |null                 |null           |null                    |null              |null              |null          |null          |null              |null               |1.0                     |1.0                     |1.0                     |1.0                     |-1553.0               |0              |1              |0              |0              |0              |0              |0              |0              |0               |0               |0               |0               |0               |0               |0               |0               |0               |0               |0               |0               |0.0                       |0.0                      |0.0                       |0.0                      |0.0                      |3.0                       |\n",
      "+----------+------+------------------+-----------+------------+---------------+------------+----------------+----------+-----------+---------------+---------------+----------------+-------------------+------------------+-----------------+--------------------------+----------+-------------+-----------------+---------------+-----------+----------+--------------+---------------+----------------+----------+----------+---------------+---------------+--------------------+---------------------------+--------------------------+-----------------------+--------------------------+--------------------------+---------------------------+----------------------+----------------------+-----------------------+-----------------+------------------+-----------------+------------------+--------------+----------------+---------------------------+---------------+--------------+-------------+-------------+-------------+-------------+------------+--------------------+--------------+-----------------------+-----------------+---------------+-----------------+----------------------------+----------------+---------------+--------------+--------------+--------------+--------------+-------------+---------------------+---------------+------------------------+------------------+---------------+-----------------+----------------------------+----------------+---------------+--------------+--------------+--------------+--------------+-------------+---------------------+---------------+------------------------+------------------+------------------+--------------+--------------+------------------+-------------------+------------------------+------------------------+------------------------+------------------------+----------------------+---------------+---------------+---------------+---------------+---------------+---------------+---------------+---------------+----------------+----------------+----------------+----------------+----------------+----------------+----------------+----------------+----------------+----------------+----------------+----------------+--------------------------+-------------------------+--------------------------+-------------------------+-------------------------+--------------------------+\n",
      "\n"
     ]
    }
   ],
   "source": [
    "sdf_train.filter(F.col('SK_ID_CURR') == 215354).show(10, False)"
   ]
  },
  {
   "cell_type": "code",
   "execution_count": 59,
   "id": "efd0a4dc-a9a8-466b-affd-1f261317811d",
   "metadata": {},
   "outputs": [
    {
     "name": "stdout",
     "output_type": "stream",
     "text": [
      "SK_ID_CURR\n",
      "AMT_ANNUITY\n"
     ]
    }
   ],
   "source": [
    "for i in sdf_train.columns:\n",
    "    for j in sdf_bureau.columns:\n",
    "        if (i == j):\n",
    "            print (i)"
   ]
  },
  {
   "cell_type": "code",
   "execution_count": 55,
   "id": "5b6ba802-39d1-4fbd-90a5-25560ab40d75",
   "metadata": {},
   "outputs": [
    {
     "data": {
      "text/plain": [
       "list"
      ]
     },
     "execution_count": 55,
     "metadata": {},
     "output_type": "execute_result"
    }
   ],
   "source": [
    "type(sdf_train.columns)"
   ]
  },
  {
   "cell_type": "code",
   "execution_count": null,
   "id": "29df1709-1a06-443d-8eac-b6e4f0f389a6",
   "metadata": {},
   "outputs": [],
   "source": []
  },
  {
   "cell_type": "code",
   "execution_count": 13,
   "id": "5f22905f-2a8d-4af7-9b5a-7d05beb08719",
   "metadata": {},
   "outputs": [
    {
     "data": {
      "text/plain": [
       "307511"
      ]
     },
     "execution_count": 13,
     "metadata": {},
     "output_type": "execute_result"
    }
   ],
   "source": [
    "sdf_train.count()"
   ]
  },
  {
   "cell_type": "code",
   "execution_count": 11,
   "id": "6c4d7f02-f6f8-4060-806f-fc41d5a398f9",
   "metadata": {},
   "outputs": [
    {
     "data": {
      "text/plain": [
       "1716428"
      ]
     },
     "execution_count": 11,
     "metadata": {},
     "output_type": "execute_result"
    }
   ],
   "source": [
    "sdf_bureau.count()"
   ]
  },
  {
   "cell_type": "code",
   "execution_count": null,
   "id": "859f661e-097b-4cbd-aa7a-fb6895d8783f",
   "metadata": {},
   "outputs": [],
   "source": []
  },
  {
   "cell_type": "code",
   "execution_count": 24,
   "id": "339cf727-ea32-4fc7-b49d-8a97ca5219dc",
   "metadata": {},
   "outputs": [
    {
     "data": {
      "text/plain": [
       "122"
      ]
     },
     "execution_count": 24,
     "metadata": {},
     "output_type": "execute_result"
    }
   ],
   "source": [
    "len(sdf_train.columns)"
   ]
  },
  {
   "cell_type": "code",
   "execution_count": null,
   "id": "8a57a7b0-bbae-474c-8b19-d28c3fef53e1",
   "metadata": {},
   "outputs": [],
   "source": []
  },
  {
   "cell_type": "code",
   "execution_count": null,
   "id": "aa1da66f-7bec-4ae8-a45a-259c25e2d79a",
   "metadata": {},
   "outputs": [],
   "source": []
  },
  {
   "cell_type": "code",
   "execution_count": null,
   "id": "dd984b22-77e9-419f-aae1-c27935bbcdb5",
   "metadata": {},
   "outputs": [],
   "source": []
  }
 ],
 "metadata": {
  "kernelspec": {
   "display_name": "Python 3 (ipykernel)",
   "language": "python",
   "name": "python3"
  },
  "language_info": {
   "codemirror_mode": {
    "name": "ipython",
    "version": 3
   },
   "file_extension": ".py",
   "mimetype": "text/x-python",
   "name": "python",
   "nbconvert_exporter": "python",
   "pygments_lexer": "ipython3",
   "version": "3.12.2"
  }
 },
 "nbformat": 4,
 "nbformat_minor": 5
}
