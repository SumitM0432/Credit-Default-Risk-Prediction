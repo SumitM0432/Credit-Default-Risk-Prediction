{
 "cells": [
  {
   "cell_type": "code",
   "execution_count": null,
   "id": "8893ec50-242e-4866-ba39-ea35144a4c4a",
   "metadata": {},
   "outputs": [
    {
     "data": {
      "text/html": [
       "<style>pre { white-space: pre !important; }</style>"
      ],
      "text/plain": [
       "<IPython.core.display.HTML object>"
      ]
     },
     "metadata": {},
     "output_type": "display_data"
    },
    {
     "name": "stderr",
     "output_type": "stream",
     "text": [
      "Setting default log level to \"WARN\".\n",
      "To adjust logging level use sc.setLogLevel(newLevel). For SparkR, use setLogLevel(newLevel).\n",
      "25/02/28 09:17:00 WARN NativeCodeLoader: Unable to load native-hadoop library for your platform... using builtin-java classes where applicable\n"
     ]
    }
   ],
   "source": [
    "import os\n",
    "import pandas as pd\n",
    "pd.options.display.max_columns = None  # Show all columns\n",
    "pd.options.display.width = 1000        # Adjust width to fit more data\n",
    "\n",
    "import numpy as np\n",
    "import seaborn as sns\n",
    "import matplotlib.pyplot as plt\n",
    "from pyspark.sql import SparkSession\n",
    "from pyspark.sql import functions as F\n",
    "from pyspark.sql.types import DecimalType, IntegerType, StringType, StructField, StructType\n",
    "\n",
    "import warnings\n",
    "warnings.simplefilter('ignore', UserWarning)\n",
    "\n",
    "from IPython.core.display import HTML\n",
    "display(HTML(\"<style>pre { white-space: pre !important; }</style>\"))\n",
    "\n",
    "spark = SparkSession.builder.appName(\"Home Credit Default Prediction\").getOrCreate()\n",
    "\n",
    "spark.conf.set(\"spark.sql.repl.eagerEval.enabled\", True) \n",
    "spark.conf.set(\"spark.sql.debug.maxToStringFields\", 1000)\n",
    "spark.conf.set(\"spark.sql.repl.eagerEval.maxNumCols\", 200) \n",
    "spark.conf.set(\"spark.sql.repl.eagerEval.enabled\", True)\n",
    "\n",
    "def print_message(df):\n",
    "    print (\"Rows :: {}  |  Columns :: {}\".format(df.count(), len(df.columns)))\n",
    "    return (None)\n",
    "\n",
    "def table_desc(name, df):\n",
    "    \n",
    "    df.filter(F.col('Row') == name)\\\n",
    "        .select('Table', 'Row', 'Description')\\\n",
    "        .distinct()\\\n",
    "        .show(10, False)\n",
    "    return (None)\n",
    "\n",
    "path = os.getcwd()"
   ]
  },
  {
   "cell_type": "markdown",
   "id": "2e0475fb-b149-4b19-87bd-cd0c6ec14421",
   "metadata": {},
   "source": [
    "<img src=\"https://storage.googleapis.com/kaggle-media/competitions/home-credit/home_credit.png\" width=\"800\"/>"
   ]
  },
  {
   "cell_type": "code",
   "execution_count": 2,
   "id": "04b6ea58-5bd6-48b1-87d0-7cfc4e3ffb3e",
   "metadata": {},
   "outputs": [],
   "source": [
    "# Training and testing data\n",
    "sdf_train = spark.read.option('header', True)\\\n",
    "           .csv(path + \"/Data/application_train.csv\")\n",
    "\n",
    "sdf_test = spark.read.option('header', True)\\\n",
    "           .csv(path + \"/Data/application_test.csv\")\n",
    "\n",
    "# Bureau data with previous credit history\n",
    "sdf_bureau = spark.read.option('header', True)\\\n",
    "           .csv(path + \"/Data/bureau.csv\")\n",
    "\n",
    "sdf_bureau_balance = spark.read.option('header', True)\\\n",
    "           .csv(path + \"/Data/bureau_balance.csv\")\n",
    "\n",
    "# Previous application of the customers\n",
    "sdf_prev_app = spark.read.option('header', True)\\\n",
    "           .csv(path + \"/Data/previous_application.csv\")\n",
    "\n",
    "# Previous Home credit loan/cash loans with Home Credit\n",
    "sdf_posh_cash_balance = spark.read.option('header', True)\\\n",
    "           .csv(path + \"/Data/POS_CASH_BALANCE.csv\")\n",
    "\n",
    "# Credit Card Balance of the customers with Home Credit\n",
    "sdf_cc_balance = spark.read.option('header', True)\\\n",
    "           .csv(path + \"/Data/credit_card_balance.csv\")\n",
    "\n",
    "# previous installments by the customers\n",
    "sdf_prev_installments = spark.read.option('header', True)\\\n",
    "           .csv(path + \"/Data/installments_payments.csv\")\n",
    "\n",
    "# Column description\n",
    "sdf_desc = spark.read.option('header', True)\\\n",
    "            .csv(path + \"/Data/HomeCredit_columns_description.csv\")"
   ]
  },
  {
   "cell_type": "code",
   "execution_count": 3,
   "id": "b3c7265d-70c4-42c9-ac49-ba8f54f89b25",
   "metadata": {},
   "outputs": [
    {
     "name": "stdout",
     "output_type": "stream",
     "text": [
      "Rows :: 307511  |  Columns :: 122\n",
      "Rows :: 48744  |  Columns :: 121\n",
      "Rows :: 1670214  |  Columns :: 37\n",
      "Rows :: 3840312  |  Columns :: 23\n"
     ]
    }
   ],
   "source": [
    "print_message(sdf_train)\n",
    "print_message(sdf_test)\n",
    "print_message(sdf_prev_app)\n",
    "print_message(sdf_cc_balance)"
   ]
  },
  {
   "cell_type": "code",
   "execution_count": 4,
   "id": "0c3d0fbe",
   "metadata": {},
   "outputs": [
    {
     "name": "stdout",
     "output_type": "stream",
     "text": [
      "+----------+----------+--------------+--------------+---------------------+--------------------+------+----------+\n",
      "|SK_ID_PREV|SK_ID_CURR|MONTHS_BALANCE|CNT_INSTALMENT|CNT_INSTALMENT_FUTURE|NAME_CONTRACT_STATUS|SK_DPD|SK_DPD_DEF|\n",
      "+----------+----------+--------------+--------------+---------------------+--------------------+------+----------+\n",
      "|1803195   |182943    |-31           |48.0          |45.0                 |Active              |0     |0         |\n",
      "|1715348   |367990    |-33           |36.0          |35.0                 |Active              |0     |0         |\n",
      "|1784872   |397406    |-32           |12.0          |9.0                  |Active              |0     |0         |\n",
      "|1903291   |269225    |-35           |48.0          |42.0                 |Active              |0     |0         |\n",
      "|2341044   |334279    |-35           |36.0          |35.0                 |Active              |0     |0         |\n",
      "+----------+----------+--------------+--------------+---------------------+--------------------+------+----------+\n",
      "only showing top 5 rows\n",
      "\n"
     ]
    }
   ],
   "source": [
    "sdf_posh_cash_balance.show(5, False)    "
   ]
  },
  {
   "cell_type": "code",
   "execution_count": 5,
   "id": "9df671f2",
   "metadata": {},
   "outputs": [
    {
     "name": "stdout",
     "output_type": "stream",
     "text": [
      "+----------+------+------------------+-----------+------------+---------------+------------+----------------+----------+-----------+---------------+---------------+--------------------+-----------------------------+--------------------+-----------------+--------------------------+----------+-------------+-----------------+---------------+-----------+----------+--------------+---------------+----------------+----------+----------+---------------+---------------+--------------------+---------------------------+--------------------------+-----------------------+--------------------------+--------------------------+---------------------------+----------------------+----------------------+-----------------------+----------------------+-------------------+-------------------+-------------------+--------------+----------------+---------------------------+------------------+--------------+-------------+-------------+-------------+-------------+------------+--------------------+--------------+-----------------------+-----------------+---------------+-----------------+----------------------------+----------------+---------------+--------------+--------------+--------------+--------------+-------------+---------------------+---------------+------------------------+------------------+---------------+-----------------+----------------------------+----------------+---------------+--------------+--------------+--------------+--------------+-------------+---------------------+---------------+------------------------+------------------+------------------+--------------+--------------+------------------+-------------------+------------------------+------------------------+------------------------+------------------------+----------------------+---------------+---------------+---------------+---------------+---------------+---------------+---------------+---------------+----------------+----------------+----------------+----------------+----------------+----------------+----------------+----------------+----------------+----------------+----------------+----------------+--------------------------+-------------------------+--------------------------+-------------------------+-------------------------+--------------------------+\n",
      "|SK_ID_CURR|TARGET|NAME_CONTRACT_TYPE|CODE_GENDER|FLAG_OWN_CAR|FLAG_OWN_REALTY|CNT_CHILDREN|AMT_INCOME_TOTAL|AMT_CREDIT|AMT_ANNUITY|AMT_GOODS_PRICE|NAME_TYPE_SUITE|NAME_INCOME_TYPE    |NAME_EDUCATION_TYPE          |NAME_FAMILY_STATUS  |NAME_HOUSING_TYPE|REGION_POPULATION_RELATIVE|DAYS_BIRTH|DAYS_EMPLOYED|DAYS_REGISTRATION|DAYS_ID_PUBLISH|OWN_CAR_AGE|FLAG_MOBIL|FLAG_EMP_PHONE|FLAG_WORK_PHONE|FLAG_CONT_MOBILE|FLAG_PHONE|FLAG_EMAIL|OCCUPATION_TYPE|CNT_FAM_MEMBERS|REGION_RATING_CLIENT|REGION_RATING_CLIENT_W_CITY|WEEKDAY_APPR_PROCESS_START|HOUR_APPR_PROCESS_START|REG_REGION_NOT_LIVE_REGION|REG_REGION_NOT_WORK_REGION|LIVE_REGION_NOT_WORK_REGION|REG_CITY_NOT_LIVE_CITY|REG_CITY_NOT_WORK_CITY|LIVE_CITY_NOT_WORK_CITY|ORGANIZATION_TYPE     |EXT_SOURCE_1       |EXT_SOURCE_2       |EXT_SOURCE_3       |APARTMENTS_AVG|BASEMENTAREA_AVG|YEARS_BEGINEXPLUATATION_AVG|YEARS_BUILD_AVG   |COMMONAREA_AVG|ELEVATORS_AVG|ENTRANCES_AVG|FLOORSMAX_AVG|FLOORSMIN_AVG|LANDAREA_AVG|LIVINGAPARTMENTS_AVG|LIVINGAREA_AVG|NONLIVINGAPARTMENTS_AVG|NONLIVINGAREA_AVG|APARTMENTS_MODE|BASEMENTAREA_MODE|YEARS_BEGINEXPLUATATION_MODE|YEARS_BUILD_MODE|COMMONAREA_MODE|ELEVATORS_MODE|ENTRANCES_MODE|FLOORSMAX_MODE|FLOORSMIN_MODE|LANDAREA_MODE|LIVINGAPARTMENTS_MODE|LIVINGAREA_MODE|NONLIVINGAPARTMENTS_MODE|NONLIVINGAREA_MODE|APARTMENTS_MEDI|BASEMENTAREA_MEDI|YEARS_BEGINEXPLUATATION_MEDI|YEARS_BUILD_MEDI|COMMONAREA_MEDI|ELEVATORS_MEDI|ENTRANCES_MEDI|FLOORSMAX_MEDI|FLOORSMIN_MEDI|LANDAREA_MEDI|LIVINGAPARTMENTS_MEDI|LIVINGAREA_MEDI|NONLIVINGAPARTMENTS_MEDI|NONLIVINGAREA_MEDI|FONDKAPREMONT_MODE|HOUSETYPE_MODE|TOTALAREA_MODE|WALLSMATERIAL_MODE|EMERGENCYSTATE_MODE|OBS_30_CNT_SOCIAL_CIRCLE|DEF_30_CNT_SOCIAL_CIRCLE|OBS_60_CNT_SOCIAL_CIRCLE|DEF_60_CNT_SOCIAL_CIRCLE|DAYS_LAST_PHONE_CHANGE|FLAG_DOCUMENT_2|FLAG_DOCUMENT_3|FLAG_DOCUMENT_4|FLAG_DOCUMENT_5|FLAG_DOCUMENT_6|FLAG_DOCUMENT_7|FLAG_DOCUMENT_8|FLAG_DOCUMENT_9|FLAG_DOCUMENT_10|FLAG_DOCUMENT_11|FLAG_DOCUMENT_12|FLAG_DOCUMENT_13|FLAG_DOCUMENT_14|FLAG_DOCUMENT_15|FLAG_DOCUMENT_16|FLAG_DOCUMENT_17|FLAG_DOCUMENT_18|FLAG_DOCUMENT_19|FLAG_DOCUMENT_20|FLAG_DOCUMENT_21|AMT_REQ_CREDIT_BUREAU_HOUR|AMT_REQ_CREDIT_BUREAU_DAY|AMT_REQ_CREDIT_BUREAU_WEEK|AMT_REQ_CREDIT_BUREAU_MON|AMT_REQ_CREDIT_BUREAU_QRT|AMT_REQ_CREDIT_BUREAU_YEAR|\n",
      "+----------+------+------------------+-----------+------------+---------------+------------+----------------+----------+-----------+---------------+---------------+--------------------+-----------------------------+--------------------+-----------------+--------------------------+----------+-------------+-----------------+---------------+-----------+----------+--------------+---------------+----------------+----------+----------+---------------+---------------+--------------------+---------------------------+--------------------------+-----------------------+--------------------------+--------------------------+---------------------------+----------------------+----------------------+-----------------------+----------------------+-------------------+-------------------+-------------------+--------------+----------------+---------------------------+------------------+--------------+-------------+-------------+-------------+-------------+------------+--------------------+--------------+-----------------------+-----------------+---------------+-----------------+----------------------------+----------------+---------------+--------------+--------------+--------------+--------------+-------------+---------------------+---------------+------------------------+------------------+---------------+-----------------+----------------------------+----------------+---------------+--------------+--------------+--------------+--------------+-------------+---------------------+---------------+------------------------+------------------+------------------+--------------+--------------+------------------+-------------------+------------------------+------------------------+------------------------+------------------------+----------------------+---------------+---------------+---------------+---------------+---------------+---------------+---------------+---------------+----------------+----------------+----------------+----------------+----------------+----------------+----------------+----------------+----------------+----------------+----------------+----------------+--------------------------+-------------------------+--------------------------+-------------------------+-------------------------+--------------------------+\n",
      "|100002    |1     |Cash loans        |M          |N           |Y              |0           |202500.0        |406597.5  |24700.5    |351000.0       |Unaccompanied  |Working             |Secondary / secondary special|Single / not married|House / apartment|0.018801                  |-9461     |-637         |-3648.0          |-2120          |NULL       |1         |1             |0              |1               |1         |0         |Laborers       |1.0            |2                   |2                          |WEDNESDAY                 |10                     |0                         |0                         |0                          |0                     |0                     |0                      |Business Entity Type 3|0.08303696739132256|0.2629485927471776 |0.13937578009978951|0.0247        |0.0369          |0.9722                     |0.6192            |0.0143        |0.0          |0.069        |0.0833       |0.125        |0.0369      |0.0202              |0.019         |0.0                    |0.0              |0.0252         |0.0383           |0.9722                      |0.6341          |0.0144         |0.0           |0.069         |0.0833        |0.125         |0.0377       |0.022                |0.0198         |0.0                     |0.0               |0.025          |0.0369           |0.9722                      |0.6243          |0.0144         |0.0           |0.069         |0.0833        |0.125         |0.0375       |0.0205               |0.0193         |0.0                     |0.0               |reg oper account  |block of flats|0.0149        |Stone, brick      |No                 |2.0                     |2.0                     |2.0                     |2.0                     |-1134.0               |0              |1              |0              |0              |0              |0              |0              |0              |0               |0               |0               |0               |0               |0               |0               |0               |0               |0               |0               |0               |0.0                       |0.0                      |0.0                       |0.0                      |0.0                      |1.0                       |\n",
      "|100003    |0     |Cash loans        |F          |N           |N              |0           |270000.0        |1293502.5 |35698.5    |1129500.0      |Family         |State servant       |Higher education             |Married             |House / apartment|0.003540999999999999      |-16765    |-1188        |-1186.0          |-291           |NULL       |1         |1             |0              |1               |1         |0         |Core staff     |2.0            |1                   |1                          |MONDAY                    |11                     |0                         |0                         |0                          |0                     |0                     |0                      |School                |0.3112673113812225 |0.6222457752555098 |NULL               |0.0959        |0.0529          |0.9851                     |0.7959999999999999|0.0605        |0.08         |0.0345       |0.2917       |0.3333       |0.013       |0.0773              |0.0549        |0.0039                 |0.0098           |0.0924         |0.0538           |0.9851                      |0.804           |0.0497         |0.0806        |0.0345        |0.2917        |0.3333        |0.0128       |0.079                |0.0554         |0.0                     |0.0               |0.0968         |0.0529           |0.9851                      |0.7987          |0.0608         |0.08          |0.0345        |0.2917        |0.3333        |0.0132       |0.0787               |0.0558         |0.0039                  |0.01              |reg oper account  |block of flats|0.0714        |Block             |No                 |1.0                     |0.0                     |1.0                     |0.0                     |-828.0                |0              |1              |0              |0              |0              |0              |0              |0              |0               |0               |0               |0               |0               |0               |0               |0               |0               |0               |0               |0               |0.0                       |0.0                      |0.0                       |0.0                      |0.0                      |0.0                       |\n",
      "|100004    |0     |Revolving loans   |M          |Y           |Y              |0           |67500.0         |135000.0  |6750.0     |135000.0       |Unaccompanied  |Working             |Secondary / secondary special|Single / not married|House / apartment|0.010032                  |-19046    |-225         |-4260.0          |-2531          |26.0       |1         |1             |1              |1               |1         |0         |Laborers       |1.0            |2                   |2                          |MONDAY                    |9                      |0                         |0                         |0                          |0                     |0                     |0                      |Government            |NULL               |0.5559120833904428 |0.7295666907060153 |NULL          |NULL            |NULL                       |NULL              |NULL          |NULL         |NULL         |NULL         |NULL         |NULL        |NULL                |NULL          |NULL                   |NULL             |NULL           |NULL             |NULL                        |NULL            |NULL           |NULL          |NULL          |NULL          |NULL          |NULL         |NULL                 |NULL           |NULL                    |NULL              |NULL           |NULL             |NULL                        |NULL            |NULL           |NULL          |NULL          |NULL          |NULL          |NULL         |NULL                 |NULL           |NULL                    |NULL              |NULL              |NULL          |NULL          |NULL              |NULL               |0.0                     |0.0                     |0.0                     |0.0                     |-815.0                |0              |0              |0              |0              |0              |0              |0              |0              |0               |0               |0               |0               |0               |0               |0               |0               |0               |0               |0               |0               |0.0                       |0.0                      |0.0                       |0.0                      |0.0                      |0.0                       |\n",
      "|100006    |0     |Cash loans        |F          |N           |Y              |0           |135000.0        |312682.5  |29686.5    |297000.0       |Unaccompanied  |Working             |Secondary / secondary special|Civil marriage      |House / apartment|0.008019                  |-19005    |-3039        |-9833.0          |-2437          |NULL       |1         |1             |0              |1               |0         |0         |Laborers       |2.0            |2                   |2                          |WEDNESDAY                 |17                     |0                         |0                         |0                          |0                     |0                     |0                      |Business Entity Type 3|NULL               |0.6504416904014653 |NULL               |NULL          |NULL            |NULL                       |NULL              |NULL          |NULL         |NULL         |NULL         |NULL         |NULL        |NULL                |NULL          |NULL                   |NULL             |NULL           |NULL             |NULL                        |NULL            |NULL           |NULL          |NULL          |NULL          |NULL          |NULL         |NULL                 |NULL           |NULL                    |NULL              |NULL           |NULL             |NULL                        |NULL            |NULL           |NULL          |NULL          |NULL          |NULL          |NULL         |NULL                 |NULL           |NULL                    |NULL              |NULL              |NULL          |NULL          |NULL              |NULL               |2.0                     |0.0                     |2.0                     |0.0                     |-617.0                |0              |1              |0              |0              |0              |0              |0              |0              |0               |0               |0               |0               |0               |0               |0               |0               |0               |0               |0               |0               |NULL                      |NULL                     |NULL                      |NULL                     |NULL                     |NULL                      |\n",
      "|100007    |0     |Cash loans        |M          |N           |Y              |0           |121500.0        |513000.0  |21865.5    |513000.0       |Unaccompanied  |Working             |Secondary / secondary special|Single / not married|House / apartment|0.028663                  |-19932    |-3038        |-4311.0          |-3458          |NULL       |1         |1             |0              |1               |0         |0         |Core staff     |1.0            |2                   |2                          |THURSDAY                  |11                     |0                         |0                         |0                          |0                     |1                     |1                      |Religion              |NULL               |0.3227382869704046 |NULL               |NULL          |NULL            |NULL                       |NULL              |NULL          |NULL         |NULL         |NULL         |NULL         |NULL        |NULL                |NULL          |NULL                   |NULL             |NULL           |NULL             |NULL                        |NULL            |NULL           |NULL          |NULL          |NULL          |NULL          |NULL         |NULL                 |NULL           |NULL                    |NULL              |NULL           |NULL             |NULL                        |NULL            |NULL           |NULL          |NULL          |NULL          |NULL          |NULL         |NULL                 |NULL           |NULL                    |NULL              |NULL              |NULL          |NULL          |NULL              |NULL               |0.0                     |0.0                     |0.0                     |0.0                     |-1106.0               |0              |0              |0              |0              |0              |0              |1              |0              |0               |0               |0               |0               |0               |0               |0               |0               |0               |0               |0               |0               |0.0                       |0.0                      |0.0                       |0.0                      |0.0                      |0.0                       |\n",
      "|100008    |0     |Cash loans        |M          |N           |Y              |0           |99000.0         |490495.5  |27517.5    |454500.0       |Spouse, partner|State servant       |Secondary / secondary special|Married             |House / apartment|0.035792000000000004      |-16941    |-1588        |-4970.0          |-477           |NULL       |1         |1             |1              |1               |1         |0         |Laborers       |2.0            |2                   |2                          |WEDNESDAY                 |16                     |0                         |0                         |0                          |0                     |0                     |0                      |Other                 |NULL               |0.3542247319929012 |0.6212263380626669 |NULL          |NULL            |NULL                       |NULL              |NULL          |NULL         |NULL         |NULL         |NULL         |NULL        |NULL                |NULL          |NULL                   |NULL             |NULL           |NULL             |NULL                        |NULL            |NULL           |NULL          |NULL          |NULL          |NULL          |NULL         |NULL                 |NULL           |NULL                    |NULL              |NULL           |NULL             |NULL                        |NULL            |NULL           |NULL          |NULL          |NULL          |NULL          |NULL         |NULL                 |NULL           |NULL                    |NULL              |NULL              |NULL          |NULL          |NULL              |NULL               |0.0                     |0.0                     |0.0                     |0.0                     |-2536.0               |0              |1              |0              |0              |0              |0              |0              |0              |0               |0               |0               |0               |0               |0               |0               |0               |0               |0               |0               |0               |0.0                       |0.0                      |0.0                       |0.0                      |1.0                      |1.0                       |\n",
      "|100009    |0     |Cash loans        |F          |Y           |Y              |1           |171000.0        |1560726.0 |41301.0    |1395000.0      |Unaccompanied  |Commercial associate|Higher education             |Married             |House / apartment|0.035792000000000004      |-13778    |-3130        |-1213.0          |-619           |17.0       |1         |1             |0              |1               |1         |0         |Accountants    |3.0            |2                   |2                          |SUNDAY                    |16                     |0                         |0                         |0                          |0                     |0                     |0                      |Business Entity Type 3|0.7747614130547695 |0.7239998516953141 |0.4920600938649263 |NULL          |NULL            |NULL                       |NULL              |NULL          |NULL         |NULL         |NULL         |NULL         |NULL        |NULL                |NULL          |NULL                   |NULL             |NULL           |NULL             |NULL                        |NULL            |NULL           |NULL          |NULL          |NULL          |NULL          |NULL         |NULL                 |NULL           |NULL                    |NULL              |NULL           |NULL             |NULL                        |NULL            |NULL           |NULL          |NULL          |NULL          |NULL          |NULL         |NULL                 |NULL           |NULL                    |NULL              |NULL              |NULL          |NULL          |NULL              |NULL               |1.0                     |0.0                     |1.0                     |0.0                     |-1562.0               |0              |0              |0              |0              |0              |0              |1              |0              |0               |0               |0               |0               |1               |0               |0               |0               |0               |0               |0               |0               |0.0                       |0.0                      |0.0                       |1.0                      |1.0                      |2.0                       |\n",
      "|100010    |0     |Cash loans        |M          |Y           |Y              |0           |360000.0        |1530000.0 |42075.0    |1530000.0      |Unaccompanied  |State servant       |Higher education             |Married             |House / apartment|0.0031219999999999998     |-18850    |-449         |-4597.0          |-2379          |8.0        |1         |1             |1              |1               |0         |0         |Managers       |2.0            |3                   |3                          |MONDAY                    |16                     |0                         |0                         |0                          |0                     |1                     |1                      |Other                 |NULL               |0.7142792864482229 |0.5406544504453575 |NULL          |NULL            |NULL                       |NULL              |NULL          |NULL         |NULL         |NULL         |NULL         |NULL        |NULL                |NULL          |NULL                   |NULL             |NULL           |NULL             |NULL                        |NULL            |NULL           |NULL          |NULL          |NULL          |NULL          |NULL         |NULL                 |NULL           |NULL                    |NULL              |NULL           |NULL             |NULL                        |NULL            |NULL           |NULL          |NULL          |NULL          |NULL          |NULL         |NULL                 |NULL           |NULL                    |NULL              |NULL              |NULL          |NULL          |NULL              |NULL               |2.0                     |0.0                     |2.0                     |0.0                     |-1070.0               |0              |1              |0              |0              |0              |0              |0              |0              |0               |0               |0               |0               |0               |0               |0               |0               |0               |0               |0               |0               |0.0                       |0.0                      |0.0                       |0.0                      |0.0                      |0.0                       |\n",
      "|100011    |0     |Cash loans        |F          |N           |Y              |0           |112500.0        |1019610.0 |33826.5    |913500.0       |Children       |Pensioner           |Secondary / secondary special|Married             |House / apartment|0.018634                  |-20099    |365243       |-7427.0          |-3514          |NULL       |1         |0             |0              |1               |0         |0         |NULL           |2.0            |2                   |2                          |WEDNESDAY                 |14                     |0                         |0                         |0                          |0                     |0                     |0                      |XNA                   |0.5873340468730377 |0.20574728800732814|0.7517237147741489 |NULL          |NULL            |NULL                       |NULL              |NULL          |NULL         |NULL         |NULL         |NULL         |NULL        |NULL                |NULL          |NULL                   |NULL             |NULL           |NULL             |NULL                        |NULL            |NULL           |NULL          |NULL          |NULL          |NULL          |NULL         |NULL                 |NULL           |NULL                    |NULL              |NULL           |NULL             |NULL                        |NULL            |NULL           |NULL          |NULL          |NULL          |NULL          |NULL         |NULL                 |NULL           |NULL                    |NULL              |NULL              |NULL          |NULL          |NULL              |NULL               |1.0                     |0.0                     |1.0                     |0.0                     |0.0                   |0              |1              |0              |0              |0              |0              |0              |0              |0               |0               |0               |0               |0               |0               |0               |0               |0               |0               |0               |0               |0.0                       |0.0                      |0.0                       |0.0                      |0.0                      |1.0                       |\n",
      "|100012    |0     |Revolving loans   |M          |N           |Y              |0           |135000.0        |405000.0  |20250.0    |405000.0       |Unaccompanied  |Working             |Secondary / secondary special|Single / not married|House / apartment|0.019688999999999998      |-14469    |-2019        |-14437.0         |-3992          |NULL       |1         |1             |0              |1               |0         |0         |Laborers       |1.0            |2                   |2                          |THURSDAY                  |8                      |0                         |0                         |0                          |0                     |0                     |0                      |Electricity           |NULL               |0.7466436294590924 |NULL               |NULL          |NULL            |NULL                       |NULL              |NULL          |NULL         |NULL         |NULL         |NULL         |NULL        |NULL                |NULL          |NULL                   |NULL             |NULL           |NULL             |NULL                        |NULL            |NULL           |NULL          |NULL          |NULL          |NULL          |NULL         |NULL                 |NULL           |NULL                    |NULL              |NULL           |NULL             |NULL                        |NULL            |NULL           |NULL          |NULL          |NULL          |NULL          |NULL         |NULL                 |NULL           |NULL                    |NULL              |NULL              |NULL          |NULL          |NULL              |NULL               |2.0                     |0.0                     |2.0                     |0.0                     |-1673.0               |0              |0              |0              |0              |0              |0              |0              |0              |0               |0               |0               |0               |0               |0               |0               |0               |0               |0               |0               |0               |NULL                      |NULL                     |NULL                      |NULL                     |NULL                     |NULL                      |\n",
      "+----------+------+------------------+-----------+------------+---------------+------------+----------------+----------+-----------+---------------+---------------+--------------------+-----------------------------+--------------------+-----------------+--------------------------+----------+-------------+-----------------+---------------+-----------+----------+--------------+---------------+----------------+----------+----------+---------------+---------------+--------------------+---------------------------+--------------------------+-----------------------+--------------------------+--------------------------+---------------------------+----------------------+----------------------+-----------------------+----------------------+-------------------+-------------------+-------------------+--------------+----------------+---------------------------+------------------+--------------+-------------+-------------+-------------+-------------+------------+--------------------+--------------+-----------------------+-----------------+---------------+-----------------+----------------------------+----------------+---------------+--------------+--------------+--------------+--------------+-------------+---------------------+---------------+------------------------+------------------+---------------+-----------------+----------------------------+----------------+---------------+--------------+--------------+--------------+--------------+-------------+---------------------+---------------+------------------------+------------------+------------------+--------------+--------------+------------------+-------------------+------------------------+------------------------+------------------------+------------------------+----------------------+---------------+---------------+---------------+---------------+---------------+---------------+---------------+---------------+----------------+----------------+----------------+----------------+----------------+----------------+----------------+----------------+----------------+----------------+----------------+----------------+--------------------------+-------------------------+--------------------------+-------------------------+-------------------------+--------------------------+\n",
      "only showing top 10 rows\n",
      "\n"
     ]
    }
   ],
   "source": [
    "sdf_train.show(10, False)"
   ]
  },
  {
   "cell_type": "code",
   "execution_count": 6,
   "id": "5a491800-4759-4e50-80af-dfe0b28e0f38",
   "metadata": {},
   "outputs": [
    {
     "name": "stdout",
     "output_type": "stream",
     "text": [
      "+----------+----------+------------------+-----------+---------------+----------+----------------+---------------+--------------------------+-----------------------+---------------------------+----------------------+-----------------+---------------------+------------------------+----------------------+--------------------+-------------+---------------------+------------------+---------------+----------------+-------------------+--------------+-----------------+-----------------------+----------------+--------------------+-----------+----------------+------------------------+------------------+--------------+-------------------------+-------------+----------------+-------------------------+\n",
      "|SK_ID_PREV|SK_ID_CURR|NAME_CONTRACT_TYPE|AMT_ANNUITY|AMT_APPLICATION|AMT_CREDIT|AMT_DOWN_PAYMENT|AMT_GOODS_PRICE|WEEKDAY_APPR_PROCESS_START|HOUR_APPR_PROCESS_START|FLAG_LAST_APPL_PER_CONTRACT|NFLAG_LAST_APPL_IN_DAY|RATE_DOWN_PAYMENT|RATE_INTEREST_PRIMARY|RATE_INTEREST_PRIVILEGED|NAME_CASH_LOAN_PURPOSE|NAME_CONTRACT_STATUS|DAYS_DECISION|NAME_PAYMENT_TYPE    |CODE_REJECT_REASON|NAME_TYPE_SUITE|NAME_CLIENT_TYPE|NAME_GOODS_CATEGORY|NAME_PORTFOLIO|NAME_PRODUCT_TYPE|CHANNEL_TYPE           |SELLERPLACE_AREA|NAME_SELLER_INDUSTRY|CNT_PAYMENT|NAME_YIELD_GROUP|PRODUCT_COMBINATION     |DAYS_FIRST_DRAWING|DAYS_FIRST_DUE|DAYS_LAST_DUE_1ST_VERSION|DAYS_LAST_DUE|DAYS_TERMINATION|NFLAG_INSURED_ON_APPROVAL|\n",
      "+----------+----------+------------------+-----------+---------------+----------+----------------+---------------+--------------------------+-----------------------+---------------------------+----------------------+-----------------+---------------------+------------------------+----------------------+--------------------+-------------+---------------------+------------------+---------------+----------------+-------------------+--------------+-----------------+-----------------------+----------------+--------------------+-----------+----------------+------------------------+------------------+--------------+-------------------------+-------------+----------------+-------------------------+\n",
      "|2030495   |271877    |Consumer loans    |1730.43    |17145.0        |17145.0   |0.0             |17145.0        |SATURDAY                  |15                     |Y                          |1                     |0.0              |0.18283180324152784  |0.8673361522198731      |XAP                   |Approved            |-73          |Cash through the bank|XAP               |NULL           |Repeater        |Mobile             |POS           |XNA              |Country-wide           |35              |Connectivity        |12.0       |middle          |POS mobile with interest|365243.0          |-42.0         |300.0                    |-42.0        |-37.0           |0.0                      |\n",
      "|2802425   |108129    |Cash loans        |25188.615  |607500.0       |679671.0  |NULL            |607500.0       |THURSDAY                  |11                     |Y                          |1                     |NULL             |NULL                 |NULL                    |XNA                   |Approved            |-164         |XNA                  |XAP               |Unaccompanied  |Repeater        |XNA                |Cash          |x-sell           |Contact center         |-1              |XNA                 |36.0       |low_action      |Cash X-Sell: low        |365243.0          |-134.0        |916.0                    |365243.0     |365243.0        |1.0                      |\n",
      "|2523466   |122040    |Cash loans        |15060.735  |112500.0       |136444.5  |NULL            |112500.0       |TUESDAY                   |11                     |Y                          |1                     |NULL             |NULL                 |NULL                    |XNA                   |Approved            |-301         |Cash through the bank|XAP               |Spouse, partner|Repeater        |XNA                |Cash          |x-sell           |Credit and cash offices|-1              |XNA                 |12.0       |high            |Cash X-Sell: high       |365243.0          |-271.0        |59.0                     |365243.0     |365243.0        |1.0                      |\n",
      "|2819243   |176158    |Cash loans        |47041.335  |450000.0       |470790.0  |NULL            |450000.0       |MONDAY                    |7                      |Y                          |1                     |NULL             |NULL                 |NULL                    |XNA                   |Approved            |-512         |Cash through the bank|XAP               |NULL           |Repeater        |XNA                |Cash          |x-sell           |Credit and cash offices|-1              |XNA                 |12.0       |middle          |Cash X-Sell: middle     |365243.0          |-482.0        |-152.0                   |-182.0       |-177.0          |1.0                      |\n",
      "|1784265   |202054    |Cash loans        |31924.395  |337500.0       |404055.0  |NULL            |337500.0       |THURSDAY                  |9                      |Y                          |1                     |NULL             |NULL                 |NULL                    |Repairs               |Refused             |-781         |Cash through the bank|HC                |NULL           |Repeater        |XNA                |Cash          |walk-in          |Credit and cash offices|-1              |XNA                 |24.0       |high            |Cash Street: high       |NULL              |NULL          |NULL                     |NULL         |NULL            |NULL                     |\n",
      "|1383531   |199383    |Cash loans        |23703.93   |315000.0       |340573.5  |NULL            |315000.0       |SATURDAY                  |8                      |Y                          |1                     |NULL             |NULL                 |NULL                    |Everyday expenses     |Approved            |-684         |Cash through the bank|XAP               |Family         |Repeater        |XNA                |Cash          |x-sell           |Credit and cash offices|-1              |XNA                 |18.0       |low_normal      |Cash X-Sell: low        |365243.0          |-654.0        |-144.0                   |-144.0       |-137.0          |1.0                      |\n",
      "|2315218   |175704    |Cash loans        |NULL       |0.0            |0.0       |NULL            |NULL           |TUESDAY                   |11                     |Y                          |1                     |NULL             |NULL                 |NULL                    |XNA                   |Canceled            |-14          |XNA                  |XAP               |NULL           |Repeater        |XNA                |XNA           |XNA              |Credit and cash offices|-1              |XNA                 |NULL       |XNA             |Cash                    |NULL              |NULL          |NULL                     |NULL         |NULL            |NULL                     |\n",
      "|1656711   |296299    |Cash loans        |NULL       |0.0            |0.0       |NULL            |NULL           |MONDAY                    |7                      |Y                          |1                     |NULL             |NULL                 |NULL                    |XNA                   |Canceled            |-21          |XNA                  |XAP               |NULL           |Repeater        |XNA                |XNA           |XNA              |Credit and cash offices|-1              |XNA                 |NULL       |XNA             |Cash                    |NULL              |NULL          |NULL                     |NULL         |NULL            |NULL                     |\n",
      "|2367563   |342292    |Cash loans        |NULL       |0.0            |0.0       |NULL            |NULL           |MONDAY                    |15                     |Y                          |1                     |NULL             |NULL                 |NULL                    |XNA                   |Canceled            |-386         |XNA                  |XAP               |NULL           |Repeater        |XNA                |XNA           |XNA              |Credit and cash offices|-1              |XNA                 |NULL       |XNA             |Cash                    |NULL              |NULL          |NULL                     |NULL         |NULL            |NULL                     |\n",
      "|2579447   |334349    |Cash loans        |NULL       |0.0            |0.0       |NULL            |NULL           |SATURDAY                  |15                     |Y                          |1                     |NULL             |NULL                 |NULL                    |XNA                   |Canceled            |-57          |XNA                  |XAP               |NULL           |Repeater        |XNA                |XNA           |XNA              |Credit and cash offices|-1              |XNA                 |NULL       |XNA             |Cash                    |NULL              |NULL          |NULL                     |NULL         |NULL            |NULL                     |\n",
      "+----------+----------+------------------+-----------+---------------+----------+----------------+---------------+--------------------------+-----------------------+---------------------------+----------------------+-----------------+---------------------+------------------------+----------------------+--------------------+-------------+---------------------+------------------+---------------+----------------+-------------------+--------------+-----------------+-----------------------+----------------+--------------------+-----------+----------------+------------------------+------------------+--------------+-------------------------+-------------+----------------+-------------------------+\n",
      "only showing top 10 rows\n",
      "\n"
     ]
    }
   ],
   "source": [
    "sdf_prev_app.show(10, False)"
   ]
  },
  {
   "cell_type": "markdown",
   "id": "a4ad6ff0-05fd-4133-894d-3c249150cecc",
   "metadata": {
    "jp-MarkdownHeadingCollapsed": true
   },
   "source": [
    "### Customer Example"
   ]
  },
  {
   "cell_type": "code",
   "execution_count": 10,
   "id": "1986e173-64c2-4e0d-b614-478ab5e791d7",
   "metadata": {},
   "outputs": [
    {
     "name": "stdout",
     "output_type": "stream",
     "text": [
      "+----------+------+------------------+-----------+------------+---------------+------------+----------------+----------+-----------+---------------+---------------+----------------+-----------------------------+------------------+-----------------+--------------------------+----------+-------------+-----------------+---------------+-----------+----------+--------------+---------------+----------------+----------+----------+---------------+---------------+--------------------+---------------------------+--------------------------+-----------------------+--------------------------+--------------------------+---------------------------+----------------------+----------------------+-----------------------+-----------------+------------------+------------------+------------------+--------------+----------------+---------------------------+---------------+--------------+-------------+-------------+-------------+-------------+------------+--------------------+--------------+-----------------------+-----------------+---------------+-----------------+----------------------------+----------------+---------------+--------------+--------------+--------------+--------------+-------------+---------------------+---------------+------------------------+------------------+---------------+-----------------+----------------------------+----------------+---------------+--------------+--------------+--------------+--------------+-------------+---------------------+---------------+------------------------+------------------+------------------+--------------+--------------+------------------+-------------------+------------------------+------------------------+------------------------+------------------------+----------------------+---------------+---------------+---------------+---------------+---------------+---------------+---------------+---------------+----------------+----------------+----------------+----------------+----------------+----------------+----------------+----------------+----------------+----------------+----------------+----------------+--------------------------+-------------------------+--------------------------+-------------------------+-------------------------+--------------------------+\n",
      "|SK_ID_CURR|TARGET|NAME_CONTRACT_TYPE|CODE_GENDER|FLAG_OWN_CAR|FLAG_OWN_REALTY|CNT_CHILDREN|AMT_INCOME_TOTAL|AMT_CREDIT|AMT_ANNUITY|AMT_GOODS_PRICE|NAME_TYPE_SUITE|NAME_INCOME_TYPE|NAME_EDUCATION_TYPE          |NAME_FAMILY_STATUS|NAME_HOUSING_TYPE|REGION_POPULATION_RELATIVE|DAYS_BIRTH|DAYS_EMPLOYED|DAYS_REGISTRATION|DAYS_ID_PUBLISH|OWN_CAR_AGE|FLAG_MOBIL|FLAG_EMP_PHONE|FLAG_WORK_PHONE|FLAG_CONT_MOBILE|FLAG_PHONE|FLAG_EMAIL|OCCUPATION_TYPE|CNT_FAM_MEMBERS|REGION_RATING_CLIENT|REGION_RATING_CLIENT_W_CITY|WEEKDAY_APPR_PROCESS_START|HOUR_APPR_PROCESS_START|REG_REGION_NOT_LIVE_REGION|REG_REGION_NOT_WORK_REGION|LIVE_REGION_NOT_WORK_REGION|REG_CITY_NOT_LIVE_CITY|REG_CITY_NOT_WORK_CITY|LIVE_CITY_NOT_WORK_CITY|ORGANIZATION_TYPE|EXT_SOURCE_1      |EXT_SOURCE_2      |EXT_SOURCE_3      |APARTMENTS_AVG|BASEMENTAREA_AVG|YEARS_BEGINEXPLUATATION_AVG|YEARS_BUILD_AVG|COMMONAREA_AVG|ELEVATORS_AVG|ENTRANCES_AVG|FLOORSMAX_AVG|FLOORSMIN_AVG|LANDAREA_AVG|LIVINGAPARTMENTS_AVG|LIVINGAREA_AVG|NONLIVINGAPARTMENTS_AVG|NONLIVINGAREA_AVG|APARTMENTS_MODE|BASEMENTAREA_MODE|YEARS_BEGINEXPLUATATION_MODE|YEARS_BUILD_MODE|COMMONAREA_MODE|ELEVATORS_MODE|ENTRANCES_MODE|FLOORSMAX_MODE|FLOORSMIN_MODE|LANDAREA_MODE|LIVINGAPARTMENTS_MODE|LIVINGAREA_MODE|NONLIVINGAPARTMENTS_MODE|NONLIVINGAREA_MODE|APARTMENTS_MEDI|BASEMENTAREA_MEDI|YEARS_BEGINEXPLUATATION_MEDI|YEARS_BUILD_MEDI|COMMONAREA_MEDI|ELEVATORS_MEDI|ENTRANCES_MEDI|FLOORSMAX_MEDI|FLOORSMIN_MEDI|LANDAREA_MEDI|LIVINGAPARTMENTS_MEDI|LIVINGAREA_MEDI|NONLIVINGAPARTMENTS_MEDI|NONLIVINGAREA_MEDI|FONDKAPREMONT_MODE|HOUSETYPE_MODE|TOTALAREA_MODE|WALLSMATERIAL_MODE|EMERGENCYSTATE_MODE|OBS_30_CNT_SOCIAL_CIRCLE|DEF_30_CNT_SOCIAL_CIRCLE|OBS_60_CNT_SOCIAL_CIRCLE|DEF_60_CNT_SOCIAL_CIRCLE|DAYS_LAST_PHONE_CHANGE|FLAG_DOCUMENT_2|FLAG_DOCUMENT_3|FLAG_DOCUMENT_4|FLAG_DOCUMENT_5|FLAG_DOCUMENT_6|FLAG_DOCUMENT_7|FLAG_DOCUMENT_8|FLAG_DOCUMENT_9|FLAG_DOCUMENT_10|FLAG_DOCUMENT_11|FLAG_DOCUMENT_12|FLAG_DOCUMENT_13|FLAG_DOCUMENT_14|FLAG_DOCUMENT_15|FLAG_DOCUMENT_16|FLAG_DOCUMENT_17|FLAG_DOCUMENT_18|FLAG_DOCUMENT_19|FLAG_DOCUMENT_20|FLAG_DOCUMENT_21|AMT_REQ_CREDIT_BUREAU_HOUR|AMT_REQ_CREDIT_BUREAU_DAY|AMT_REQ_CREDIT_BUREAU_WEEK|AMT_REQ_CREDIT_BUREAU_MON|AMT_REQ_CREDIT_BUREAU_QRT|AMT_REQ_CREDIT_BUREAU_YEAR|\n",
      "+----------+------+------------------+-----------+------------+---------------+------------+----------------+----------+-----------+---------------+---------------+----------------+-----------------------------+------------------+-----------------+--------------------------+----------+-------------+-----------------+---------------+-----------+----------+--------------+---------------+----------------+----------+----------+---------------+---------------+--------------------+---------------------------+--------------------------+-----------------------+--------------------------+--------------------------+---------------------------+----------------------+----------------------+-----------------------+-----------------+------------------+------------------+------------------+--------------+----------------+---------------------------+---------------+--------------+-------------+-------------+-------------+-------------+------------+--------------------+--------------+-----------------------+-----------------+---------------+-----------------+----------------------------+----------------+---------------+--------------+--------------+--------------+--------------+-------------+---------------------+---------------+------------------------+------------------+---------------+-----------------+----------------------------+----------------+---------------+--------------+--------------+--------------+--------------+-------------+---------------------+---------------+------------------------+------------------+------------------+--------------+--------------+------------------+-------------------+------------------------+------------------------+------------------------+------------------------+----------------------+---------------+---------------+---------------+---------------+---------------+---------------+---------------+---------------+----------------+----------------+----------------+----------------+----------------+----------------+----------------+----------------+----------------+----------------+----------------+----------------+--------------------------+-------------------------+--------------------------+-------------------------+-------------------------+--------------------------+\n",
      "|380361    |0     |Cash loans        |F          |Y           |Y              |0           |315000.0        |450000.0  |11871.0    |450000.0       |Unaccompanied  |State servant   |Secondary / secondary special|Civil marriage    |House / apartment|0.032561                  |-21077    |-7738        |-4280.0          |-4637          |7.0        |1         |1             |0              |1               |1         |0         |Drivers        |2.0            |1                   |1                          |MONDAY                    |12                     |0                         |0                         |0                          |0                     |0                     |0                      |Electricity      |0.8545598398755312|0.6396677166136716|0.3774042489507649|NULL          |NULL            |NULL                       |NULL           |NULL          |NULL         |NULL         |NULL         |NULL         |NULL        |NULL                |NULL          |NULL                   |NULL             |NULL           |NULL             |NULL                        |NULL            |NULL           |NULL          |NULL          |NULL          |NULL          |NULL         |NULL                 |NULL           |NULL                    |NULL              |NULL           |NULL             |NULL                        |NULL            |NULL           |NULL          |NULL          |NULL          |NULL          |NULL         |NULL                 |NULL           |NULL                    |NULL              |NULL              |NULL          |NULL          |NULL              |NULL               |0.0                     |0.0                     |0.0                     |0.0                     |-786.0                |0              |1              |0              |0              |0              |0              |0              |0              |0               |0               |0               |0               |0               |0               |0               |0               |0               |0               |0               |0               |0.0                       |0.0                      |0.0                       |0.0                      |0.0                      |2.0                       |\n",
      "+----------+------+------------------+-----------+------------+---------------+------------+----------------+----------+-----------+---------------+---------------+----------------+-----------------------------+------------------+-----------------+--------------------------+----------+-------------+-----------------+---------------+-----------+----------+--------------+---------------+----------------+----------+----------+---------------+---------------+--------------------+---------------------------+--------------------------+-----------------------+--------------------------+--------------------------+---------------------------+----------------------+----------------------+-----------------------+-----------------+------------------+------------------+------------------+--------------+----------------+---------------------------+---------------+--------------+-------------+-------------+-------------+-------------+------------+--------------------+--------------+-----------------------+-----------------+---------------+-----------------+----------------------------+----------------+---------------+--------------+--------------+--------------+--------------+-------------+---------------------+---------------+------------------------+------------------+---------------+-----------------+----------------------------+----------------+---------------+--------------+--------------+--------------+--------------+-------------+---------------------+---------------+------------------------+------------------+------------------+--------------+--------------+------------------+-------------------+------------------------+------------------------+------------------------+------------------------+----------------------+---------------+---------------+---------------+---------------+---------------+---------------+---------------+---------------+----------------+----------------+----------------+----------------+----------------+----------------+----------------+----------------+----------------+----------------+----------------+----------------+--------------------------+-------------------------+--------------------------+-------------------------+-------------------------+--------------------------+\n",
      "\n"
     ]
    }
   ],
   "source": [
    "# train data\n",
    "sdf_train.filter(F.col('SK_ID_CURR') == 380361)\\\n",
    "            .show(20, False)"
   ]
  },
  {
   "cell_type": "code",
   "execution_count": 11,
   "id": "0522f7b0",
   "metadata": {},
   "outputs": [
    {
     "name": "stderr",
     "output_type": "stream",
     "text": [
      "[Stage 43:>                                                         (0 + 8) / 8]\r"
     ]
    },
    {
     "name": "stdout",
     "output_type": "stream",
     "text": [
      "+----------+----------+------------------+-----------+---------------+----------+----------------+---------------+--------------------------+-----------------------+---------------------------+----------------------+-------------------+---------------------+------------------------+----------------------+--------------------+-------------+---------------------+------------------+---------------+----------------+-------------------+--------------+-----------------+-----------------------+----------------+--------------------+-----------+----------------+------------------------------+------------------+--------------+-------------------------+-------------+----------------+-------------------------+\n",
      "|SK_ID_PREV|SK_ID_CURR|NAME_CONTRACT_TYPE|AMT_ANNUITY|AMT_APPLICATION|AMT_CREDIT|AMT_DOWN_PAYMENT|AMT_GOODS_PRICE|WEEKDAY_APPR_PROCESS_START|HOUR_APPR_PROCESS_START|FLAG_LAST_APPL_PER_CONTRACT|NFLAG_LAST_APPL_IN_DAY|RATE_DOWN_PAYMENT  |RATE_INTEREST_PRIMARY|RATE_INTEREST_PRIVILEGED|NAME_CASH_LOAN_PURPOSE|NAME_CONTRACT_STATUS|DAYS_DECISION|NAME_PAYMENT_TYPE    |CODE_REJECT_REASON|NAME_TYPE_SUITE|NAME_CLIENT_TYPE|NAME_GOODS_CATEGORY|NAME_PORTFOLIO|NAME_PRODUCT_TYPE|CHANNEL_TYPE           |SELLERPLACE_AREA|NAME_SELLER_INDUSTRY|CNT_PAYMENT|NAME_YIELD_GROUP|PRODUCT_COMBINATION           |DAYS_FIRST_DRAWING|DAYS_FIRST_DUE|DAYS_LAST_DUE_1ST_VERSION|DAYS_LAST_DUE|DAYS_TERMINATION|NFLAG_INSURED_ON_APPROVAL|\n",
      "+----------+----------+------------------+-----------+---------------+----------+----------------+---------------+--------------------------+-----------------------+---------------------------+----------------------+-------------------+---------------------+------------------------+----------------------+--------------------+-------------+---------------------+------------------+---------------+----------------+-------------------+--------------+-----------------+-----------------------+----------------+--------------------+-----------+----------------+------------------------------+------------------+--------------+-------------------------+-------------+----------------+-------------------------+\n",
      "|2653129   |380361    |Cash loans        |26242.425  |360000.0       |399915.0  |0.0             |360000.0       |SATURDAY                  |17                     |Y                          |1                     |0.0                |NULL                 |NULL                    |XNA                   |Approved            |-2319        |Cash through the bank|XAP               |Unaccompanied  |Repeater        |XNA                |Cash          |x-sell           |Credit and cash offices|100             |XNA                 |24.0       |middle          |Cash Street: middle           |365243.0          |-2289.0       |-1599.0                  |-1599.0      |-1597.0         |1.0                      |\n",
      "|1661043   |380361    |Cash loans        |13114.98   |112500.0       |119925.0  |0.0             |112500.0       |WEDNESDAY                 |15                     |Y                          |1                     |0.0                |NULL                 |NULL                    |XNA                   |Approved            |-2588        |Cash through the bank|XAP               |Unaccompanied  |Repeater        |XNA                |Cash          |x-sell           |Credit and cash offices|100             |XNA                 |12.0       |high            |Cash Street: high             |365243.0          |-2558.0       |-2228.0                  |-2228.0      |-2220.0         |1.0                      |\n",
      "|1279489   |380361    |Cash loans        |NULL       |0.0            |0.0       |NULL            |NULL           |SATURDAY                  |14                     |Y                          |1                     |NULL               |NULL                 |NULL                    |XNA                   |Canceled            |-268         |XNA                  |XAP               |NULL           |Repeater        |XNA                |XNA           |XNA              |Credit and cash offices|-1              |XNA                 |NULL       |XNA             |Cash                          |NULL              |NULL          |NULL                     |NULL         |NULL            |NULL                     |\n",
      "|1910156   |380361    |Consumer loans    |1930.14    |35374.5        |42844.5   |0.0             |35374.5        |TUESDAY                   |13                     |Y                          |1                     |0.0                |NULL                 |NULL                    |XAP                   |Approved            |-489         |Cash through the bank|XAP               |NULL           |Repeater        |Audio/Video        |POS           |XNA              |Country-wide           |100             |Consumer electronics|24.0       |low_action      |POS household without interest|365243.0          |-458.0        |232.0                    |-248.0       |-246.0          |0.0                      |\n",
      "|2837103   |380361    |Consumer loans    |8362.17    |135211.5       |147415.5  |13500.0         |135211.5       |THURSDAY                  |12                     |Y                          |1                     |0.09136924207256147|NULL                 |NULL                    |XAP                   |Approved            |-74          |Cash through the bank|XAP               |Unaccompanied  |Repeater        |Audio/Video        |POS           |XNA              |Country-wide           |300             |Consumer electronics|24.0       |low_normal      |POS household with interest   |365243.0          |-44.0         |646.0                    |365243.0     |365243.0        |1.0                      |\n",
      "|1442773   |380361    |Cash loans        |44793.27   |1170000.0      |1322896.5 |NULL            |1170000.0      |SATURDAY                  |16                     |Y                          |1                     |NULL               |NULL                 |NULL                    |XNA                   |Approved            |-786         |Cash through the bank|XAP               |Unaccompanied  |Refreshed       |XNA                |Cash          |x-sell           |Credit and cash offices|-1              |XNA                 |54.0       |low_normal      |Cash X-Sell: low              |365243.0          |-756.0        |834.0                    |-726.0       |-721.0          |1.0                      |\n",
      "|2104755   |380361    |Revolving loans   |38250.0    |0.0            |765000.0  |NULL            |NULL           |SATURDAY                  |16                     |Y                          |1                     |NULL               |NULL                 |NULL                    |XAP                   |Approved            |-786         |XNA                  |XAP               |NULL           |Refreshed       |XNA                |Cards         |x-sell           |Credit and cash offices|-1              |XNA                 |0.0        |XNA             |Card X-Sell                   |-772.0            |-744.0        |365243.0                 |-563.0       |365243.0        |0.0                      |\n",
      "+----------+----------+------------------+-----------+---------------+----------+----------------+---------------+--------------------------+-----------------------+---------------------------+----------------------+-------------------+---------------------+------------------------+----------------------+--------------------+-------------+---------------------+------------------+---------------+----------------+-------------------+--------------+-----------------+-----------------------+----------------+--------------------+-----------+----------------+------------------------------+------------------+--------------+-------------------------+-------------+----------------+-------------------------+\n",
      "\n"
     ]
    },
    {
     "name": "stderr",
     "output_type": "stream",
     "text": [
      "                                                                                \r"
     ]
    }
   ],
   "source": [
    "# prev applications\n",
    "sdf_prev_app.filter(F.col('SK_ID_CURR') == 380361)\\\n",
    "        .sort(F.asc('DAYS_DECISION')).show(20, False)"
   ]
  },
  {
   "cell_type": "markdown",
   "id": "a08cd9de",
   "metadata": {},
   "source": [
    "## Preprocessing"
   ]
  },
  {
   "cell_type": "markdown",
   "id": "74dbaf4a",
   "metadata": {},
   "source": [
    "#### Changing Data types"
   ]
  },
  {
   "cell_type": "code",
   "execution_count": 7,
   "id": "690b57ba",
   "metadata": {},
   "outputs": [],
   "source": [
    "def column_descriptor(df):\n",
    "    ls_num = []\n",
    "    ls_string = []\n",
    "    for column in list(df.columns):\n",
    "        test_df = df.filter(F.col(column).isNotNull()).select(column,F.col(column).cast(\"int\").isNotNull().alias(\"Value\"))\n",
    "        size = test_df.where(F.col(\"Value\") == 'false').count()\n",
    "\n",
    "        if size == 0:\n",
    "            ls_num.append(column)\n",
    "        else:\n",
    "            ls_string.append(column)\n",
    "    \n",
    "    return (ls_num, ls_string)"
   ]
  },
  {
   "cell_type": "code",
   "execution_count": 8,
   "id": "e56d02a0",
   "metadata": {},
   "outputs": [],
   "source": [
    "ls_num, ls_string = column_descriptor(sdf_train)\n",
    "\n",
    "# Exception for sdf_train\n",
    "ls_num.append('EXT_SOURCE_2')\n",
    "ls_string.remove('EXT_SOURCE_2')\n",
    "\n",
    "for col_name in ls_num:\n",
    "    sdf_train = sdf_train.withColumn(col_name, F.col(col_name).cast('float'))\n",
    "\n",
    "# Type casting for some columns\n",
    "sdf_train = sdf_train.withColumn('SK_ID_CURR', F.col('SK_ID_CURR').cast('int'))\\\n",
    "    .withColumn('TARGET', F.col('TARGET').cast('int'))"
   ]
  },
  {
   "cell_type": "code",
   "execution_count": 9,
   "id": "9e99115a",
   "metadata": {},
   "outputs": [],
   "source": [
    "ls_num, ls_string = column_descriptor(sdf_test)\n",
    "\n",
    "# Exception for sdf_train\n",
    "ls_num.append('EXT_SOURCE_2')\n",
    "ls_string.remove('EXT_SOURCE_2')\n",
    "\n",
    "for col_name in ls_num:\n",
    "    sdf_test = sdf_test.withColumn(col_name, F.col(col_name).cast('float'))\n",
    "\n",
    "# Type casting for some columns\n",
    "sdf_test = sdf_test.withColumn('SK_ID_CURR', F.col('SK_ID_CURR').cast('int'))"
   ]
  },
  {
   "cell_type": "code",
   "execution_count": 10,
   "id": "997e2029",
   "metadata": {},
   "outputs": [],
   "source": [
    "ls_num, ls_string = column_descriptor(sdf_prev_app)\n",
    "\n",
    "# Exception for sdf_prev_app\n",
    "ls_num.append('RATE_DOWN_PAYMENT')\n",
    "ls_string.remove('RATE_DOWN_PAYMENT')\n",
    "\n",
    "for col_name in ls_num:\n",
    "    sdf_prev_app = sdf_prev_app.withColumn(col_name, F.col(col_name).cast('float'))\n",
    "\n",
    "# Type casting for some columns\n",
    "sdf_prev_app = sdf_prev_app.withColumn('SK_ID_CURR', F.col('SK_ID_CURR').cast('int'))\\\n",
    "    .withColumn('SK_ID_PREV', F.col('SK_ID_PREV').cast('int'))"
   ]
  },
  {
   "cell_type": "code",
   "execution_count": 11,
   "id": "cfdcdd61",
   "metadata": {},
   "outputs": [
    {
     "name": "stdout",
     "output_type": "stream",
     "text": [
      "+----------+------+------------------+-----------+------------+---------------+------------+----------------+----------+-----------+---------------+---------------+--------------------+-----------------------------+--------------------+-----------------+--------------------------+----------+-------------+-----------------+---------------+-----------+----------+--------------+---------------+----------------+----------+----------+---------------+---------------+--------------------+---------------------------+--------------------------+-----------------------+--------------------------+--------------------------+---------------------------+----------------------+----------------------+-----------------------+----------------------+------------+------------+------------+--------------+----------------+---------------------------+---------------+--------------+-------------+-------------+-------------+-------------+------------+--------------------+--------------+-----------------------+-----------------+---------------+-----------------+----------------------------+----------------+---------------+--------------+--------------+--------------+--------------+-------------+---------------------+---------------+------------------------+------------------+---------------+-----------------+----------------------------+----------------+---------------+--------------+--------------+--------------+--------------+-------------+---------------------+---------------+------------------------+------------------+------------------+--------------+--------------+------------------+-------------------+------------------------+------------------------+------------------------+------------------------+----------------------+---------------+---------------+---------------+---------------+---------------+---------------+---------------+---------------+----------------+----------------+----------------+----------------+----------------+----------------+----------------+----------------+----------------+----------------+----------------+----------------+--------------------------+-------------------------+--------------------------+-------------------------+-------------------------+--------------------------+\n",
      "|SK_ID_CURR|TARGET|NAME_CONTRACT_TYPE|CODE_GENDER|FLAG_OWN_CAR|FLAG_OWN_REALTY|CNT_CHILDREN|AMT_INCOME_TOTAL|AMT_CREDIT|AMT_ANNUITY|AMT_GOODS_PRICE|NAME_TYPE_SUITE|NAME_INCOME_TYPE    |NAME_EDUCATION_TYPE          |NAME_FAMILY_STATUS  |NAME_HOUSING_TYPE|REGION_POPULATION_RELATIVE|DAYS_BIRTH|DAYS_EMPLOYED|DAYS_REGISTRATION|DAYS_ID_PUBLISH|OWN_CAR_AGE|FLAG_MOBIL|FLAG_EMP_PHONE|FLAG_WORK_PHONE|FLAG_CONT_MOBILE|FLAG_PHONE|FLAG_EMAIL|OCCUPATION_TYPE|CNT_FAM_MEMBERS|REGION_RATING_CLIENT|REGION_RATING_CLIENT_W_CITY|WEEKDAY_APPR_PROCESS_START|HOUR_APPR_PROCESS_START|REG_REGION_NOT_LIVE_REGION|REG_REGION_NOT_WORK_REGION|LIVE_REGION_NOT_WORK_REGION|REG_CITY_NOT_LIVE_CITY|REG_CITY_NOT_WORK_CITY|LIVE_CITY_NOT_WORK_CITY|ORGANIZATION_TYPE     |EXT_SOURCE_1|EXT_SOURCE_2|EXT_SOURCE_3|APARTMENTS_AVG|BASEMENTAREA_AVG|YEARS_BEGINEXPLUATATION_AVG|YEARS_BUILD_AVG|COMMONAREA_AVG|ELEVATORS_AVG|ENTRANCES_AVG|FLOORSMAX_AVG|FLOORSMIN_AVG|LANDAREA_AVG|LIVINGAPARTMENTS_AVG|LIVINGAREA_AVG|NONLIVINGAPARTMENTS_AVG|NONLIVINGAREA_AVG|APARTMENTS_MODE|BASEMENTAREA_MODE|YEARS_BEGINEXPLUATATION_MODE|YEARS_BUILD_MODE|COMMONAREA_MODE|ELEVATORS_MODE|ENTRANCES_MODE|FLOORSMAX_MODE|FLOORSMIN_MODE|LANDAREA_MODE|LIVINGAPARTMENTS_MODE|LIVINGAREA_MODE|NONLIVINGAPARTMENTS_MODE|NONLIVINGAREA_MODE|APARTMENTS_MEDI|BASEMENTAREA_MEDI|YEARS_BEGINEXPLUATATION_MEDI|YEARS_BUILD_MEDI|COMMONAREA_MEDI|ELEVATORS_MEDI|ENTRANCES_MEDI|FLOORSMAX_MEDI|FLOORSMIN_MEDI|LANDAREA_MEDI|LIVINGAPARTMENTS_MEDI|LIVINGAREA_MEDI|NONLIVINGAPARTMENTS_MEDI|NONLIVINGAREA_MEDI|FONDKAPREMONT_MODE|HOUSETYPE_MODE|TOTALAREA_MODE|WALLSMATERIAL_MODE|EMERGENCYSTATE_MODE|OBS_30_CNT_SOCIAL_CIRCLE|DEF_30_CNT_SOCIAL_CIRCLE|OBS_60_CNT_SOCIAL_CIRCLE|DEF_60_CNT_SOCIAL_CIRCLE|DAYS_LAST_PHONE_CHANGE|FLAG_DOCUMENT_2|FLAG_DOCUMENT_3|FLAG_DOCUMENT_4|FLAG_DOCUMENT_5|FLAG_DOCUMENT_6|FLAG_DOCUMENT_7|FLAG_DOCUMENT_8|FLAG_DOCUMENT_9|FLAG_DOCUMENT_10|FLAG_DOCUMENT_11|FLAG_DOCUMENT_12|FLAG_DOCUMENT_13|FLAG_DOCUMENT_14|FLAG_DOCUMENT_15|FLAG_DOCUMENT_16|FLAG_DOCUMENT_17|FLAG_DOCUMENT_18|FLAG_DOCUMENT_19|FLAG_DOCUMENT_20|FLAG_DOCUMENT_21|AMT_REQ_CREDIT_BUREAU_HOUR|AMT_REQ_CREDIT_BUREAU_DAY|AMT_REQ_CREDIT_BUREAU_WEEK|AMT_REQ_CREDIT_BUREAU_MON|AMT_REQ_CREDIT_BUREAU_QRT|AMT_REQ_CREDIT_BUREAU_YEAR|\n",
      "+----------+------+------------------+-----------+------------+---------------+------------+----------------+----------+-----------+---------------+---------------+--------------------+-----------------------------+--------------------+-----------------+--------------------------+----------+-------------+-----------------+---------------+-----------+----------+--------------+---------------+----------------+----------+----------+---------------+---------------+--------------------+---------------------------+--------------------------+-----------------------+--------------------------+--------------------------+---------------------------+----------------------+----------------------+-----------------------+----------------------+------------+------------+------------+--------------+----------------+---------------------------+---------------+--------------+-------------+-------------+-------------+-------------+------------+--------------------+--------------+-----------------------+-----------------+---------------+-----------------+----------------------------+----------------+---------------+--------------+--------------+--------------+--------------+-------------+---------------------+---------------+------------------------+------------------+---------------+-----------------+----------------------------+----------------+---------------+--------------+--------------+--------------+--------------+-------------+---------------------+---------------+------------------------+------------------+------------------+--------------+--------------+------------------+-------------------+------------------------+------------------------+------------------------+------------------------+----------------------+---------------+---------------+---------------+---------------+---------------+---------------+---------------+---------------+----------------+----------------+----------------+----------------+----------------+----------------+----------------+----------------+----------------+----------------+----------------+----------------+--------------------------+-------------------------+--------------------------+-------------------------+-------------------------+--------------------------+\n",
      "|100002    |1     |Cash loans        |M          |N           |Y              |0.0         |202500.0        |406597.5  |24700.5    |351000.0       |Unaccompanied  |Working             |Secondary / secondary special|Single / not married|House / apartment|0.018801                  |-9461.0   |-637.0       |-3648.0          |-2120.0        |NULL       |1.0       |1.0           |0.0            |1.0             |1.0       |0.0       |Laborers       |1.0            |2.0                 |2.0                        |WEDNESDAY                 |10.0                   |0.0                       |0.0                       |0.0                        |0.0                   |0.0                   |0.0                    |Business Entity Type 3|0.08303697  |0.2629486   |0.13937578  |0.0247        |0.0369          |0.9722                     |0.6192         |0.0143        |0.0          |0.069        |0.0833       |0.125        |0.0369      |0.0202              |0.019         |0.0                    |0.0              |0.0252         |0.0383           |0.9722                      |0.6341          |0.0144         |0.0           |0.069         |0.0833        |0.125         |0.0377       |0.022                |0.0198         |0.0                     |0.0               |0.025          |0.0369           |0.9722                      |0.6243          |0.0144         |0.0           |0.069         |0.0833        |0.125         |0.0375       |0.0205               |0.0193         |0.0                     |0.0               |reg oper account  |block of flats|0.0149        |Stone, brick      |No                 |2.0                     |2.0                     |2.0                     |2.0                     |-1134.0               |0.0            |1.0            |0.0            |0.0            |0.0            |0.0            |0.0            |0.0            |0.0             |0.0             |0.0             |0.0             |0.0             |0.0             |0.0             |0.0             |0.0             |0.0             |0.0             |0.0             |0.0                       |0.0                      |0.0                       |0.0                      |0.0                      |1.0                       |\n",
      "|100003    |0     |Cash loans        |F          |N           |N              |0.0         |270000.0        |1293502.5 |35698.5    |1129500.0      |Family         |State servant       |Higher education             |Married             |House / apartment|0.003541                  |-16765.0  |-1188.0      |-1186.0          |-291.0         |NULL       |1.0       |1.0           |0.0            |1.0             |1.0       |0.0       |Core staff     |2.0            |1.0                 |1.0                        |MONDAY                    |11.0                   |0.0                       |0.0                       |0.0                        |0.0                   |0.0                   |0.0                    |School                |0.31126732  |0.6222458   |NULL        |0.0959        |0.0529          |0.9851                     |0.796          |0.0605        |0.08         |0.0345       |0.2917       |0.3333       |0.013       |0.0773              |0.0549        |0.0039                 |0.0098           |0.0924         |0.0538           |0.9851                      |0.804           |0.0497         |0.0806        |0.0345        |0.2917        |0.3333        |0.0128       |0.079                |0.0554         |0.0                     |0.0               |0.0968         |0.0529           |0.9851                      |0.7987          |0.0608         |0.08          |0.0345        |0.2917        |0.3333        |0.0132       |0.0787               |0.0558         |0.0039                  |0.01              |reg oper account  |block of flats|0.0714        |Block             |No                 |1.0                     |0.0                     |1.0                     |0.0                     |-828.0                |0.0            |1.0            |0.0            |0.0            |0.0            |0.0            |0.0            |0.0            |0.0             |0.0             |0.0             |0.0             |0.0             |0.0             |0.0             |0.0             |0.0             |0.0             |0.0             |0.0             |0.0                       |0.0                      |0.0                       |0.0                      |0.0                      |0.0                       |\n",
      "|100004    |0     |Revolving loans   |M          |Y           |Y              |0.0         |67500.0         |135000.0  |6750.0     |135000.0       |Unaccompanied  |Working             |Secondary / secondary special|Single / not married|House / apartment|0.010032                  |-19046.0  |-225.0       |-4260.0          |-2531.0        |26.0       |1.0       |1.0           |1.0            |1.0             |1.0       |0.0       |Laborers       |1.0            |2.0                 |2.0                        |MONDAY                    |9.0                    |0.0                       |0.0                       |0.0                        |0.0                   |0.0                   |0.0                    |Government            |NULL        |0.5559121   |0.7295667   |NULL          |NULL            |NULL                       |NULL           |NULL          |NULL         |NULL         |NULL         |NULL         |NULL        |NULL                |NULL          |NULL                   |NULL             |NULL           |NULL             |NULL                        |NULL            |NULL           |NULL          |NULL          |NULL          |NULL          |NULL         |NULL                 |NULL           |NULL                    |NULL              |NULL           |NULL             |NULL                        |NULL            |NULL           |NULL          |NULL          |NULL          |NULL          |NULL         |NULL                 |NULL           |NULL                    |NULL              |NULL              |NULL          |NULL          |NULL              |NULL               |0.0                     |0.0                     |0.0                     |0.0                     |-815.0                |0.0            |0.0            |0.0            |0.0            |0.0            |0.0            |0.0            |0.0            |0.0             |0.0             |0.0             |0.0             |0.0             |0.0             |0.0             |0.0             |0.0             |0.0             |0.0             |0.0             |0.0                       |0.0                      |0.0                       |0.0                      |0.0                      |0.0                       |\n",
      "|100006    |0     |Cash loans        |F          |N           |Y              |0.0         |135000.0        |312682.5  |29686.5    |297000.0       |Unaccompanied  |Working             |Secondary / secondary special|Civil marriage      |House / apartment|0.008019                  |-19005.0  |-3039.0      |-9833.0          |-2437.0        |NULL       |1.0       |1.0           |0.0            |1.0             |0.0       |0.0       |Laborers       |2.0            |2.0                 |2.0                        |WEDNESDAY                 |17.0                   |0.0                       |0.0                       |0.0                        |0.0                   |0.0                   |0.0                    |Business Entity Type 3|NULL        |0.6504417   |NULL        |NULL          |NULL            |NULL                       |NULL           |NULL          |NULL         |NULL         |NULL         |NULL         |NULL        |NULL                |NULL          |NULL                   |NULL             |NULL           |NULL             |NULL                        |NULL            |NULL           |NULL          |NULL          |NULL          |NULL          |NULL         |NULL                 |NULL           |NULL                    |NULL              |NULL           |NULL             |NULL                        |NULL            |NULL           |NULL          |NULL          |NULL          |NULL          |NULL         |NULL                 |NULL           |NULL                    |NULL              |NULL              |NULL          |NULL          |NULL              |NULL               |2.0                     |0.0                     |2.0                     |0.0                     |-617.0                |0.0            |1.0            |0.0            |0.0            |0.0            |0.0            |0.0            |0.0            |0.0             |0.0             |0.0             |0.0             |0.0             |0.0             |0.0             |0.0             |0.0             |0.0             |0.0             |0.0             |NULL                      |NULL                     |NULL                      |NULL                     |NULL                     |NULL                      |\n",
      "|100007    |0     |Cash loans        |M          |N           |Y              |0.0         |121500.0        |513000.0  |21865.5    |513000.0       |Unaccompanied  |Working             |Secondary / secondary special|Single / not married|House / apartment|0.028663                  |-19932.0  |-3038.0      |-4311.0          |-3458.0        |NULL       |1.0       |1.0           |0.0            |1.0             |0.0       |0.0       |Core staff     |1.0            |2.0                 |2.0                        |THURSDAY                  |11.0                   |0.0                       |0.0                       |0.0                        |0.0                   |1.0                   |1.0                    |Religion              |NULL        |0.3227383   |NULL        |NULL          |NULL            |NULL                       |NULL           |NULL          |NULL         |NULL         |NULL         |NULL         |NULL        |NULL                |NULL          |NULL                   |NULL             |NULL           |NULL             |NULL                        |NULL            |NULL           |NULL          |NULL          |NULL          |NULL          |NULL         |NULL                 |NULL           |NULL                    |NULL              |NULL           |NULL             |NULL                        |NULL            |NULL           |NULL          |NULL          |NULL          |NULL          |NULL         |NULL                 |NULL           |NULL                    |NULL              |NULL              |NULL          |NULL          |NULL              |NULL               |0.0                     |0.0                     |0.0                     |0.0                     |-1106.0               |0.0            |0.0            |0.0            |0.0            |0.0            |0.0            |1.0            |0.0            |0.0             |0.0             |0.0             |0.0             |0.0             |0.0             |0.0             |0.0             |0.0             |0.0             |0.0             |0.0             |0.0                       |0.0                      |0.0                       |0.0                      |0.0                      |0.0                       |\n",
      "|100008    |0     |Cash loans        |M          |N           |Y              |0.0         |99000.0         |490495.5  |27517.5    |454500.0       |Spouse, partner|State servant       |Secondary / secondary special|Married             |House / apartment|0.035792                  |-16941.0  |-1588.0      |-4970.0          |-477.0         |NULL       |1.0       |1.0           |1.0            |1.0             |1.0       |0.0       |Laborers       |2.0            |2.0                 |2.0                        |WEDNESDAY                 |16.0                   |0.0                       |0.0                       |0.0                        |0.0                   |0.0                   |0.0                    |Other                 |NULL        |0.35422474  |0.6212263   |NULL          |NULL            |NULL                       |NULL           |NULL          |NULL         |NULL         |NULL         |NULL         |NULL        |NULL                |NULL          |NULL                   |NULL             |NULL           |NULL             |NULL                        |NULL            |NULL           |NULL          |NULL          |NULL          |NULL          |NULL         |NULL                 |NULL           |NULL                    |NULL              |NULL           |NULL             |NULL                        |NULL            |NULL           |NULL          |NULL          |NULL          |NULL          |NULL         |NULL                 |NULL           |NULL                    |NULL              |NULL              |NULL          |NULL          |NULL              |NULL               |0.0                     |0.0                     |0.0                     |0.0                     |-2536.0               |0.0            |1.0            |0.0            |0.0            |0.0            |0.0            |0.0            |0.0            |0.0             |0.0             |0.0             |0.0             |0.0             |0.0             |0.0             |0.0             |0.0             |0.0             |0.0             |0.0             |0.0                       |0.0                      |0.0                       |0.0                      |1.0                      |1.0                       |\n",
      "|100009    |0     |Cash loans        |F          |Y           |Y              |1.0         |171000.0        |1560726.0 |41301.0    |1395000.0      |Unaccompanied  |Commercial associate|Higher education             |Married             |House / apartment|0.035792                  |-13778.0  |-3130.0      |-1213.0          |-619.0         |17.0       |1.0       |1.0           |0.0            |1.0             |1.0       |0.0       |Accountants    |3.0            |2.0                 |2.0                        |SUNDAY                    |16.0                   |0.0                       |0.0                       |0.0                        |0.0                   |0.0                   |0.0                    |Business Entity Type 3|0.77476144  |0.72399986  |0.4920601   |NULL          |NULL            |NULL                       |NULL           |NULL          |NULL         |NULL         |NULL         |NULL         |NULL        |NULL                |NULL          |NULL                   |NULL             |NULL           |NULL             |NULL                        |NULL            |NULL           |NULL          |NULL          |NULL          |NULL          |NULL         |NULL                 |NULL           |NULL                    |NULL              |NULL           |NULL             |NULL                        |NULL            |NULL           |NULL          |NULL          |NULL          |NULL          |NULL         |NULL                 |NULL           |NULL                    |NULL              |NULL              |NULL          |NULL          |NULL              |NULL               |1.0                     |0.0                     |1.0                     |0.0                     |-1562.0               |0.0            |0.0            |0.0            |0.0            |0.0            |0.0            |1.0            |0.0            |0.0             |0.0             |0.0             |0.0             |1.0             |0.0             |0.0             |0.0             |0.0             |0.0             |0.0             |0.0             |0.0                       |0.0                      |0.0                       |1.0                      |1.0                      |2.0                       |\n",
      "|100010    |0     |Cash loans        |M          |Y           |Y              |0.0         |360000.0        |1530000.0 |42075.0    |1530000.0      |Unaccompanied  |State servant       |Higher education             |Married             |House / apartment|0.003122                  |-18850.0  |-449.0       |-4597.0          |-2379.0        |8.0        |1.0       |1.0           |1.0            |1.0             |0.0       |0.0       |Managers       |2.0            |3.0                 |3.0                        |MONDAY                    |16.0                   |0.0                       |0.0                       |0.0                        |0.0                   |1.0                   |1.0                    |Other                 |NULL        |0.7142793   |0.5406544   |NULL          |NULL            |NULL                       |NULL           |NULL          |NULL         |NULL         |NULL         |NULL         |NULL        |NULL                |NULL          |NULL                   |NULL             |NULL           |NULL             |NULL                        |NULL            |NULL           |NULL          |NULL          |NULL          |NULL          |NULL         |NULL                 |NULL           |NULL                    |NULL              |NULL           |NULL             |NULL                        |NULL            |NULL           |NULL          |NULL          |NULL          |NULL          |NULL         |NULL                 |NULL           |NULL                    |NULL              |NULL              |NULL          |NULL          |NULL              |NULL               |2.0                     |0.0                     |2.0                     |0.0                     |-1070.0               |0.0            |1.0            |0.0            |0.0            |0.0            |0.0            |0.0            |0.0            |0.0             |0.0             |0.0             |0.0             |0.0             |0.0             |0.0             |0.0             |0.0             |0.0             |0.0             |0.0             |0.0                       |0.0                      |0.0                       |0.0                      |0.0                      |0.0                       |\n",
      "|100011    |0     |Cash loans        |F          |N           |Y              |0.0         |112500.0        |1019610.0 |33826.5    |913500.0       |Children       |Pensioner           |Secondary / secondary special|Married             |House / apartment|0.018634                  |-20099.0  |365243.0     |-7427.0          |-3514.0        |NULL       |1.0       |0.0           |0.0            |1.0             |0.0       |0.0       |NULL           |2.0            |2.0                 |2.0                        |WEDNESDAY                 |14.0                   |0.0                       |0.0                       |0.0                        |0.0                   |0.0                   |0.0                    |XNA                   |0.58733404  |0.20574729  |0.7517237   |NULL          |NULL            |NULL                       |NULL           |NULL          |NULL         |NULL         |NULL         |NULL         |NULL        |NULL                |NULL          |NULL                   |NULL             |NULL           |NULL             |NULL                        |NULL            |NULL           |NULL          |NULL          |NULL          |NULL          |NULL         |NULL                 |NULL           |NULL                    |NULL              |NULL           |NULL             |NULL                        |NULL            |NULL           |NULL          |NULL          |NULL          |NULL          |NULL         |NULL                 |NULL           |NULL                    |NULL              |NULL              |NULL          |NULL          |NULL              |NULL               |1.0                     |0.0                     |1.0                     |0.0                     |0.0                   |0.0            |1.0            |0.0            |0.0            |0.0            |0.0            |0.0            |0.0            |0.0             |0.0             |0.0             |0.0             |0.0             |0.0             |0.0             |0.0             |0.0             |0.0             |0.0             |0.0             |0.0                       |0.0                      |0.0                       |0.0                      |0.0                      |1.0                       |\n",
      "|100012    |0     |Revolving loans   |M          |N           |Y              |0.0         |135000.0        |405000.0  |20250.0    |405000.0       |Unaccompanied  |Working             |Secondary / secondary special|Single / not married|House / apartment|0.019689                  |-14469.0  |-2019.0      |-14437.0         |-3992.0        |NULL       |1.0       |1.0           |0.0            |1.0             |0.0       |0.0       |Laborers       |1.0            |2.0                 |2.0                        |THURSDAY                  |8.0                    |0.0                       |0.0                       |0.0                        |0.0                   |0.0                   |0.0                    |Electricity           |NULL        |0.7466436   |NULL        |NULL          |NULL            |NULL                       |NULL           |NULL          |NULL         |NULL         |NULL         |NULL         |NULL        |NULL                |NULL          |NULL                   |NULL             |NULL           |NULL             |NULL                        |NULL            |NULL           |NULL          |NULL          |NULL          |NULL          |NULL         |NULL                 |NULL           |NULL                    |NULL              |NULL           |NULL             |NULL                        |NULL            |NULL           |NULL          |NULL          |NULL          |NULL          |NULL         |NULL                 |NULL           |NULL                    |NULL              |NULL              |NULL          |NULL          |NULL              |NULL               |2.0                     |0.0                     |2.0                     |0.0                     |-1673.0               |0.0            |0.0            |0.0            |0.0            |0.0            |0.0            |0.0            |0.0            |0.0             |0.0             |0.0             |0.0             |0.0             |0.0             |0.0             |0.0             |0.0             |0.0             |0.0             |0.0             |NULL                      |NULL                     |NULL                      |NULL                     |NULL                     |NULL                      |\n",
      "+----------+------+------------------+-----------+------------+---------------+------------+----------------+----------+-----------+---------------+---------------+--------------------+-----------------------------+--------------------+-----------------+--------------------------+----------+-------------+-----------------+---------------+-----------+----------+--------------+---------------+----------------+----------+----------+---------------+---------------+--------------------+---------------------------+--------------------------+-----------------------+--------------------------+--------------------------+---------------------------+----------------------+----------------------+-----------------------+----------------------+------------+------------+------------+--------------+----------------+---------------------------+---------------+--------------+-------------+-------------+-------------+-------------+------------+--------------------+--------------+-----------------------+-----------------+---------------+-----------------+----------------------------+----------------+---------------+--------------+--------------+--------------+--------------+-------------+---------------------+---------------+------------------------+------------------+---------------+-----------------+----------------------------+----------------+---------------+--------------+--------------+--------------+--------------+-------------+---------------------+---------------+------------------------+------------------+------------------+--------------+--------------+------------------+-------------------+------------------------+------------------------+------------------------+------------------------+----------------------+---------------+---------------+---------------+---------------+---------------+---------------+---------------+---------------+----------------+----------------+----------------+----------------+----------------+----------------+----------------+----------------+----------------+----------------+----------------+----------------+--------------------------+-------------------------+--------------------------+-------------------------+-------------------------+--------------------------+\n",
      "only showing top 10 rows\n",
      "\n"
     ]
    }
   ],
   "source": [
    "sdf_train.show(10, False)"
   ]
  },
  {
   "cell_type": "markdown",
   "id": "7e5bc19e",
   "metadata": {},
   "source": [
    "####  NULLS Conversion 365243"
   ]
  },
  {
   "cell_type": "code",
   "execution_count": 12,
   "id": "ced4a3c5",
   "metadata": {},
   "outputs": [],
   "source": [
    "def null_365243(df, ls_days):\n",
    "    \n",
    "    df_t = df\n",
    "    for col_names_ in ls_days:\n",
    "        count_ = df_t.filter(F.col(col_names_) == 365243.0).count()\n",
    "        print (f'{col_names_} :: {count_}')\n",
    "\n",
    "        if count_ > 0:\n",
    "            df_t = df_t.withColumn(col_names_, F.when(F.col(col_names_) == 365243, None).otherwise(F.col(col_names_)))\n",
    "            count_ = df_t.filter(F.col(col_names_) == 365243.0).count()\n",
    "            print (f'{col_names_} :: {count_} :: NEW COUNT')\n",
    "    return (df_t)"
   ]
  },
  {
   "cell_type": "code",
   "execution_count": 13,
   "id": "ec9f4775",
   "metadata": {},
   "outputs": [
    {
     "name": "stdout",
     "output_type": "stream",
     "text": [
      "DAYS_BIRTH :: 0\n",
      "DAYS_EMPLOYED :: 55374\n",
      "DAYS_EMPLOYED :: 0 :: NEW COUNT\n",
      "DAYS_REGISTRATION :: 0\n",
      "DAYS_ID_PUBLISH :: 0\n",
      "DAYS_LAST_PHONE_CHANGE :: 0\n"
     ]
    }
   ],
   "source": [
    "ls = list(sdf_train.columns)\n",
    "ls_days_train = [col for col in ls if 'DAYS' in col]\n",
    "\n",
    "sdf_train = null_365243(df = sdf_train, ls_days = ls_days_train)"
   ]
  },
  {
   "cell_type": "code",
   "execution_count": 14,
   "id": "706ccada",
   "metadata": {},
   "outputs": [
    {
     "name": "stdout",
     "output_type": "stream",
     "text": [
      "DAYS_BIRTH :: 0\n",
      "DAYS_EMPLOYED :: 9274\n",
      "DAYS_EMPLOYED :: 0 :: NEW COUNT\n",
      "DAYS_REGISTRATION :: 0\n",
      "DAYS_ID_PUBLISH :: 0\n",
      "DAYS_LAST_PHONE_CHANGE :: 0\n"
     ]
    }
   ],
   "source": [
    "ls = list(sdf_test.columns)\n",
    "ls_days_test = [col for col in ls if 'DAYS' in col]\n",
    "\n",
    "sdf_test = null_365243(df = sdf_test, ls_days = ls_days_test)"
   ]
  },
  {
   "cell_type": "code",
   "execution_count": 15,
   "id": "a2910c26",
   "metadata": {},
   "outputs": [
    {
     "name": "stdout",
     "output_type": "stream",
     "text": [
      "DAYS_DECISION :: 0\n",
      "DAYS_FIRST_DRAWING :: 934444\n",
      "DAYS_FIRST_DRAWING :: 0 :: NEW COUNT\n",
      "DAYS_FIRST_DUE :: 40645\n",
      "DAYS_FIRST_DUE :: 0 :: NEW COUNT\n",
      "DAYS_LAST_DUE_1ST_VERSION :: 93864\n",
      "DAYS_LAST_DUE_1ST_VERSION :: 0 :: NEW COUNT\n",
      "DAYS_LAST_DUE :: 211221\n",
      "DAYS_LAST_DUE :: 0 :: NEW COUNT\n",
      "DAYS_TERMINATION :: 225913\n",
      "DAYS_TERMINATION :: 0 :: NEW COUNT\n"
     ]
    }
   ],
   "source": [
    "ls = list(sdf_prev_app.columns)\n",
    "ls_days_prev = [col for col in ls if 'DAYS' in col]\n",
    "\n",
    "sdf_prev_app = null_365243(df = sdf_prev_app, ls_days = ls_days_prev)"
   ]
  },
  {
   "cell_type": "markdown",
   "id": "71ca0498",
   "metadata": {},
   "source": [
    "#### Days conversion to years"
   ]
  },
  {
   "cell_type": "code",
   "execution_count": 16,
   "id": "57bd14cc",
   "metadata": {},
   "outputs": [],
   "source": [
    "for col_names_ele in ls_days_train:\n",
    "    sdf_train = sdf_train.withColumn(col_names_ele + \"_YEARS\", F.round(F.abs(F.col(col_names_ele)) / 365, 2))\n",
    "\n",
    "for col_names_ele in ls_days_train:\n",
    "    sdf_test = sdf_test.withColumn(col_names_ele + \"_YEARS\", F.round(F.abs(F.col(col_names_ele)) / 365, 2))"
   ]
  },
  {
   "cell_type": "code",
   "execution_count": 17,
   "id": "0cabdb27",
   "metadata": {},
   "outputs": [
    {
     "name": "stdout",
     "output_type": "stream",
     "text": [
      "+----------+-------------+-----------------+---------------+----------------------+----------------+-------------------+-----------------------+---------------------+----------------------------+\n",
      "|DAYS_BIRTH|DAYS_EMPLOYED|DAYS_REGISTRATION|DAYS_ID_PUBLISH|DAYS_LAST_PHONE_CHANGE|DAYS_BIRTH_YEARS|DAYS_EMPLOYED_YEARS|DAYS_REGISTRATION_YEARS|DAYS_ID_PUBLISH_YEARS|DAYS_LAST_PHONE_CHANGE_YEARS|\n",
      "+----------+-------------+-----------------+---------------+----------------------+----------------+-------------------+-----------------------+---------------------+----------------------------+\n",
      "|-9461.0   |-637.0       |-3648.0          |-2120.0        |-1134.0               |25.92           |1.75               |9.99                   |5.81                 |3.11                        |\n",
      "|-16765.0  |-1188.0      |-1186.0          |-291.0         |-828.0                |45.93           |3.25               |3.25                   |0.8                  |2.27                        |\n",
      "|-19046.0  |-225.0       |-4260.0          |-2531.0        |-815.0                |52.18           |0.62               |11.67                  |6.93                 |2.23                        |\n",
      "|-19005.0  |-3039.0      |-9833.0          |-2437.0        |-617.0                |52.07           |8.33               |26.94                  |6.68                 |1.69                        |\n",
      "|-19932.0  |-3038.0      |-4311.0          |-3458.0        |-1106.0               |54.61           |8.32               |11.81                  |9.47                 |3.03                        |\n",
      "|-16941.0  |-1588.0      |-4970.0          |-477.0         |-2536.0               |46.41           |4.35               |13.62                  |1.31                 |6.95                        |\n",
      "|-13778.0  |-3130.0      |-1213.0          |-619.0         |-1562.0               |37.75           |8.58               |3.32                   |1.7                  |4.28                        |\n",
      "|-18850.0  |-449.0       |-4597.0          |-2379.0        |-1070.0               |51.64           |1.23               |12.59                  |6.52                 |2.93                        |\n",
      "|-20099.0  |NULL         |-7427.0          |-3514.0        |0.0                   |55.07           |NULL               |20.35                  |9.63                 |0.0                         |\n",
      "|-14469.0  |-2019.0      |-14437.0         |-3992.0        |-1673.0               |39.64           |5.53               |39.55                  |10.94                |4.58                        |\n",
      "+----------+-------------+-----------------+---------------+----------------------+----------------+-------------------+-----------------------+---------------------+----------------------------+\n",
      "only showing top 10 rows\n",
      "\n"
     ]
    }
   ],
   "source": [
    "sdf_train.select(ls_days_train + [col + \"_YEARS\" for col in ls_days_train]).show(10, False)"
   ]
  },
  {
   "cell_type": "markdown",
   "id": "f359d282",
   "metadata": {},
   "source": [
    "### EDA"
   ]
  },
  {
   "cell_type": "code",
   "execution_count": 49,
   "id": "d41d150a",
   "metadata": {},
   "outputs": [
    {
     "name": "stdout",
     "output_type": "stream",
     "text": [
      "+------------------+-----------+------------+---------------+---------------+--------------------+-----------------------------+--------------------+-----------------+---------------+--------------------------+----------------------+------------------+--------------+------------------+-------------------+\n",
      "|NAME_CONTRACT_TYPE|CODE_GENDER|FLAG_OWN_CAR|FLAG_OWN_REALTY|NAME_TYPE_SUITE|NAME_INCOME_TYPE    |NAME_EDUCATION_TYPE          |NAME_FAMILY_STATUS  |NAME_HOUSING_TYPE|OCCUPATION_TYPE|WEEKDAY_APPR_PROCESS_START|ORGANIZATION_TYPE     |FONDKAPREMONT_MODE|HOUSETYPE_MODE|WALLSMATERIAL_MODE|EMERGENCYSTATE_MODE|\n",
      "+------------------+-----------+------------+---------------+---------------+--------------------+-----------------------------+--------------------+-----------------+---------------+--------------------------+----------------------+------------------+--------------+------------------+-------------------+\n",
      "|Cash loans        |M          |N           |Y              |Unaccompanied  |Working             |Secondary / secondary special|Single / not married|House / apartment|Laborers       |WEDNESDAY                 |Business Entity Type 3|reg oper account  |block of flats|Stone, brick      |No                 |\n",
      "|Cash loans        |F          |N           |N              |Family         |State servant       |Higher education             |Married             |House / apartment|Core staff     |MONDAY                    |School                |reg oper account  |block of flats|Block             |No                 |\n",
      "|Revolving loans   |M          |Y           |Y              |Unaccompanied  |Working             |Secondary / secondary special|Single / not married|House / apartment|Laborers       |MONDAY                    |Government            |NULL              |NULL          |NULL              |NULL               |\n",
      "|Cash loans        |F          |N           |Y              |Unaccompanied  |Working             |Secondary / secondary special|Civil marriage      |House / apartment|Laborers       |WEDNESDAY                 |Business Entity Type 3|NULL              |NULL          |NULL              |NULL               |\n",
      "|Cash loans        |M          |N           |Y              |Unaccompanied  |Working             |Secondary / secondary special|Single / not married|House / apartment|Core staff     |THURSDAY                  |Religion              |NULL              |NULL          |NULL              |NULL               |\n",
      "|Cash loans        |M          |N           |Y              |Spouse, partner|State servant       |Secondary / secondary special|Married             |House / apartment|Laborers       |WEDNESDAY                 |Other                 |NULL              |NULL          |NULL              |NULL               |\n",
      "|Cash loans        |F          |Y           |Y              |Unaccompanied  |Commercial associate|Higher education             |Married             |House / apartment|Accountants    |SUNDAY                    |Business Entity Type 3|NULL              |NULL          |NULL              |NULL               |\n",
      "|Cash loans        |M          |Y           |Y              |Unaccompanied  |State servant       |Higher education             |Married             |House / apartment|Managers       |MONDAY                    |Other                 |NULL              |NULL          |NULL              |NULL               |\n",
      "|Cash loans        |F          |N           |Y              |Children       |Pensioner           |Secondary / secondary special|Married             |House / apartment|NULL           |WEDNESDAY                 |XNA                   |NULL              |NULL          |NULL              |NULL               |\n",
      "|Revolving loans   |M          |N           |Y              |Unaccompanied  |Working             |Secondary / secondary special|Single / not married|House / apartment|Laborers       |THURSDAY                  |Electricity           |NULL              |NULL          |NULL              |NULL               |\n",
      "+------------------+-----------+------------+---------------+---------------+--------------------+-----------------------------+--------------------+-----------------+---------------+--------------------------+----------------------+------------------+--------------+------------------+-------------------+\n",
      "only showing top 10 rows\n",
      "\n"
     ]
    },
    {
     "name": "stderr",
     "output_type": "stream",
     "text": [
      "25/02/28 12:59:14 WARN TransportChannelHandler: Exception in connection from dyn204102.shef.ac.uk/143.167.204.102:49870\n",
      "java.io.IOException: Operation timed out\n",
      "\tat java.base/sun.nio.ch.FileDispatcherImpl.read0(Native Method)\n",
      "\tat java.base/sun.nio.ch.SocketDispatcher.read(SocketDispatcher.java:39)\n",
      "\tat java.base/sun.nio.ch.IOUtil.readIntoNativeBuffer(IOUtil.java:276)\n",
      "\tat java.base/sun.nio.ch.IOUtil.read(IOUtil.java:233)\n",
      "\tat java.base/sun.nio.ch.IOUtil.read(IOUtil.java:223)\n",
      "\tat java.base/sun.nio.ch.SocketChannelImpl.read(SocketChannelImpl.java:356)\n",
      "\tat io.netty.buffer.PooledByteBuf.setBytes(PooledByteBuf.java:254)\n",
      "\tat io.netty.buffer.AbstractByteBuf.writeBytes(AbstractByteBuf.java:1132)\n",
      "\tat io.netty.channel.socket.nio.NioSocketChannel.doReadBytes(NioSocketChannel.java:357)\n",
      "\tat io.netty.channel.nio.AbstractNioByteChannel$NioByteUnsafe.read(AbstractNioByteChannel.java:151)\n",
      "\tat io.netty.channel.nio.NioEventLoop.processSelectedKey(NioEventLoop.java:788)\n",
      "\tat io.netty.channel.nio.NioEventLoop.processSelectedKeysOptimized(NioEventLoop.java:724)\n",
      "\tat io.netty.channel.nio.NioEventLoop.processSelectedKeys(NioEventLoop.java:650)\n",
      "\tat io.netty.channel.nio.NioEventLoop.run(NioEventLoop.java:562)\n",
      "\tat io.netty.util.concurrent.SingleThreadEventExecutor$4.run(SingleThreadEventExecutor.java:997)\n",
      "\tat io.netty.util.internal.ThreadExecutorMap$2.run(ThreadExecutorMap.java:74)\n",
      "\tat io.netty.util.concurrent.FastThreadLocalRunnable.run(FastThreadLocalRunnable.java:30)\n",
      "\tat java.base/java.lang.Thread.run(Thread.java:829)\n"
     ]
    }
   ],
   "source": [
    "ls_num, ls_string = column_descriptor(sdf_train)\n",
    "sdf_train.select(ls_string).show(10, False)"
   ]
  },
  {
   "cell_type": "code",
   "execution_count": null,
   "id": "20aca6c2",
   "metadata": {},
   "outputs": [
    {
     "name": "stderr",
     "output_type": "stream",
     "text": [
      "                                                                                \r"
     ]
    }
   ],
   "source": [
    "df_train = sdf_train.toPandas()"
   ]
  },
  {
   "cell_type": "code",
   "execution_count": 20,
   "id": "03d56019",
   "metadata": {},
   "outputs": [
    {
     "data": {
      "text/html": [
       "<div>\n",
       "<style scoped>\n",
       "    .dataframe tbody tr th:only-of-type {\n",
       "        vertical-align: middle;\n",
       "    }\n",
       "\n",
       "    .dataframe tbody tr th {\n",
       "        vertical-align: top;\n",
       "    }\n",
       "\n",
       "    .dataframe thead th {\n",
       "        text-align: right;\n",
       "    }\n",
       "</style>\n",
       "<table border=\"1\" class=\"dataframe\">\n",
       "  <thead>\n",
       "    <tr style=\"text-align: right;\">\n",
       "      <th></th>\n",
       "      <th>SK_ID_CURR</th>\n",
       "      <th>TARGET</th>\n",
       "      <th>NAME_CONTRACT_TYPE</th>\n",
       "      <th>CODE_GENDER</th>\n",
       "      <th>FLAG_OWN_CAR</th>\n",
       "      <th>FLAG_OWN_REALTY</th>\n",
       "      <th>CNT_CHILDREN</th>\n",
       "      <th>AMT_INCOME_TOTAL</th>\n",
       "      <th>AMT_CREDIT</th>\n",
       "      <th>AMT_ANNUITY</th>\n",
       "      <th>AMT_GOODS_PRICE</th>\n",
       "      <th>NAME_TYPE_SUITE</th>\n",
       "      <th>NAME_INCOME_TYPE</th>\n",
       "      <th>NAME_EDUCATION_TYPE</th>\n",
       "      <th>NAME_FAMILY_STATUS</th>\n",
       "      <th>NAME_HOUSING_TYPE</th>\n",
       "      <th>REGION_POPULATION_RELATIVE</th>\n",
       "      <th>DAYS_BIRTH</th>\n",
       "      <th>DAYS_EMPLOYED</th>\n",
       "      <th>DAYS_REGISTRATION</th>\n",
       "      <th>DAYS_ID_PUBLISH</th>\n",
       "      <th>OWN_CAR_AGE</th>\n",
       "      <th>FLAG_MOBIL</th>\n",
       "      <th>FLAG_EMP_PHONE</th>\n",
       "      <th>FLAG_WORK_PHONE</th>\n",
       "      <th>FLAG_CONT_MOBILE</th>\n",
       "      <th>FLAG_PHONE</th>\n",
       "      <th>FLAG_EMAIL</th>\n",
       "      <th>OCCUPATION_TYPE</th>\n",
       "      <th>CNT_FAM_MEMBERS</th>\n",
       "      <th>REGION_RATING_CLIENT</th>\n",
       "      <th>REGION_RATING_CLIENT_W_CITY</th>\n",
       "      <th>WEEKDAY_APPR_PROCESS_START</th>\n",
       "      <th>HOUR_APPR_PROCESS_START</th>\n",
       "      <th>REG_REGION_NOT_LIVE_REGION</th>\n",
       "      <th>REG_REGION_NOT_WORK_REGION</th>\n",
       "      <th>LIVE_REGION_NOT_WORK_REGION</th>\n",
       "      <th>REG_CITY_NOT_LIVE_CITY</th>\n",
       "      <th>REG_CITY_NOT_WORK_CITY</th>\n",
       "      <th>LIVE_CITY_NOT_WORK_CITY</th>\n",
       "      <th>ORGANIZATION_TYPE</th>\n",
       "      <th>EXT_SOURCE_1</th>\n",
       "      <th>EXT_SOURCE_2</th>\n",
       "      <th>EXT_SOURCE_3</th>\n",
       "      <th>APARTMENTS_AVG</th>\n",
       "      <th>BASEMENTAREA_AVG</th>\n",
       "      <th>YEARS_BEGINEXPLUATATION_AVG</th>\n",
       "      <th>YEARS_BUILD_AVG</th>\n",
       "      <th>COMMONAREA_AVG</th>\n",
       "      <th>ELEVATORS_AVG</th>\n",
       "      <th>ENTRANCES_AVG</th>\n",
       "      <th>FLOORSMAX_AVG</th>\n",
       "      <th>FLOORSMIN_AVG</th>\n",
       "      <th>LANDAREA_AVG</th>\n",
       "      <th>LIVINGAPARTMENTS_AVG</th>\n",
       "      <th>LIVINGAREA_AVG</th>\n",
       "      <th>NONLIVINGAPARTMENTS_AVG</th>\n",
       "      <th>NONLIVINGAREA_AVG</th>\n",
       "      <th>APARTMENTS_MODE</th>\n",
       "      <th>BASEMENTAREA_MODE</th>\n",
       "      <th>YEARS_BEGINEXPLUATATION_MODE</th>\n",
       "      <th>YEARS_BUILD_MODE</th>\n",
       "      <th>COMMONAREA_MODE</th>\n",
       "      <th>ELEVATORS_MODE</th>\n",
       "      <th>ENTRANCES_MODE</th>\n",
       "      <th>FLOORSMAX_MODE</th>\n",
       "      <th>FLOORSMIN_MODE</th>\n",
       "      <th>LANDAREA_MODE</th>\n",
       "      <th>LIVINGAPARTMENTS_MODE</th>\n",
       "      <th>LIVINGAREA_MODE</th>\n",
       "      <th>NONLIVINGAPARTMENTS_MODE</th>\n",
       "      <th>NONLIVINGAREA_MODE</th>\n",
       "      <th>APARTMENTS_MEDI</th>\n",
       "      <th>BASEMENTAREA_MEDI</th>\n",
       "      <th>YEARS_BEGINEXPLUATATION_MEDI</th>\n",
       "      <th>YEARS_BUILD_MEDI</th>\n",
       "      <th>COMMONAREA_MEDI</th>\n",
       "      <th>ELEVATORS_MEDI</th>\n",
       "      <th>ENTRANCES_MEDI</th>\n",
       "      <th>FLOORSMAX_MEDI</th>\n",
       "      <th>FLOORSMIN_MEDI</th>\n",
       "      <th>LANDAREA_MEDI</th>\n",
       "      <th>LIVINGAPARTMENTS_MEDI</th>\n",
       "      <th>LIVINGAREA_MEDI</th>\n",
       "      <th>NONLIVINGAPARTMENTS_MEDI</th>\n",
       "      <th>NONLIVINGAREA_MEDI</th>\n",
       "      <th>FONDKAPREMONT_MODE</th>\n",
       "      <th>HOUSETYPE_MODE</th>\n",
       "      <th>TOTALAREA_MODE</th>\n",
       "      <th>WALLSMATERIAL_MODE</th>\n",
       "      <th>EMERGENCYSTATE_MODE</th>\n",
       "      <th>OBS_30_CNT_SOCIAL_CIRCLE</th>\n",
       "      <th>DEF_30_CNT_SOCIAL_CIRCLE</th>\n",
       "      <th>OBS_60_CNT_SOCIAL_CIRCLE</th>\n",
       "      <th>DEF_60_CNT_SOCIAL_CIRCLE</th>\n",
       "      <th>DAYS_LAST_PHONE_CHANGE</th>\n",
       "      <th>FLAG_DOCUMENT_2</th>\n",
       "      <th>FLAG_DOCUMENT_3</th>\n",
       "      <th>FLAG_DOCUMENT_4</th>\n",
       "      <th>FLAG_DOCUMENT_5</th>\n",
       "      <th>FLAG_DOCUMENT_6</th>\n",
       "      <th>FLAG_DOCUMENT_7</th>\n",
       "      <th>FLAG_DOCUMENT_8</th>\n",
       "      <th>FLAG_DOCUMENT_9</th>\n",
       "      <th>FLAG_DOCUMENT_10</th>\n",
       "      <th>FLAG_DOCUMENT_11</th>\n",
       "      <th>FLAG_DOCUMENT_12</th>\n",
       "      <th>FLAG_DOCUMENT_13</th>\n",
       "      <th>FLAG_DOCUMENT_14</th>\n",
       "      <th>FLAG_DOCUMENT_15</th>\n",
       "      <th>FLAG_DOCUMENT_16</th>\n",
       "      <th>FLAG_DOCUMENT_17</th>\n",
       "      <th>FLAG_DOCUMENT_18</th>\n",
       "      <th>FLAG_DOCUMENT_19</th>\n",
       "      <th>FLAG_DOCUMENT_20</th>\n",
       "      <th>FLAG_DOCUMENT_21</th>\n",
       "      <th>AMT_REQ_CREDIT_BUREAU_HOUR</th>\n",
       "      <th>AMT_REQ_CREDIT_BUREAU_DAY</th>\n",
       "      <th>AMT_REQ_CREDIT_BUREAU_WEEK</th>\n",
       "      <th>AMT_REQ_CREDIT_BUREAU_MON</th>\n",
       "      <th>AMT_REQ_CREDIT_BUREAU_QRT</th>\n",
       "      <th>AMT_REQ_CREDIT_BUREAU_YEAR</th>\n",
       "      <th>DAYS_BIRTH_YEARS</th>\n",
       "      <th>DAYS_EMPLOYED_YEARS</th>\n",
       "      <th>DAYS_REGISTRATION_YEARS</th>\n",
       "      <th>DAYS_ID_PUBLISH_YEARS</th>\n",
       "      <th>DAYS_LAST_PHONE_CHANGE_YEARS</th>\n",
       "    </tr>\n",
       "  </thead>\n",
       "  <tbody>\n",
       "    <tr>\n",
       "      <th>0</th>\n",
       "      <td>100002</td>\n",
       "      <td>1</td>\n",
       "      <td>Cash loans</td>\n",
       "      <td>M</td>\n",
       "      <td>N</td>\n",
       "      <td>Y</td>\n",
       "      <td>0.0</td>\n",
       "      <td>202500.0</td>\n",
       "      <td>406597.5</td>\n",
       "      <td>24700.5</td>\n",
       "      <td>351000.0</td>\n",
       "      <td>Unaccompanied</td>\n",
       "      <td>Working</td>\n",
       "      <td>Secondary / secondary special</td>\n",
       "      <td>Single / not married</td>\n",
       "      <td>House / apartment</td>\n",
       "      <td>0.018801</td>\n",
       "      <td>-9461.0</td>\n",
       "      <td>-637.0</td>\n",
       "      <td>-3648.0</td>\n",
       "      <td>-2120.0</td>\n",
       "      <td>NaN</td>\n",
       "      <td>1.0</td>\n",
       "      <td>1.0</td>\n",
       "      <td>0.0</td>\n",
       "      <td>1.0</td>\n",
       "      <td>1.0</td>\n",
       "      <td>0.0</td>\n",
       "      <td>Laborers</td>\n",
       "      <td>1.0</td>\n",
       "      <td>2.0</td>\n",
       "      <td>2.0</td>\n",
       "      <td>WEDNESDAY</td>\n",
       "      <td>10.0</td>\n",
       "      <td>0.0</td>\n",
       "      <td>0.0</td>\n",
       "      <td>0.0</td>\n",
       "      <td>0.0</td>\n",
       "      <td>0.0</td>\n",
       "      <td>0.0</td>\n",
       "      <td>Business Entity Type 3</td>\n",
       "      <td>0.083037</td>\n",
       "      <td>0.262949</td>\n",
       "      <td>0.139376</td>\n",
       "      <td>0.0247</td>\n",
       "      <td>0.0369</td>\n",
       "      <td>0.9722</td>\n",
       "      <td>0.6192</td>\n",
       "      <td>0.0143</td>\n",
       "      <td>0.00</td>\n",
       "      <td>0.0690</td>\n",
       "      <td>0.0833</td>\n",
       "      <td>0.1250</td>\n",
       "      <td>0.0369</td>\n",
       "      <td>0.0202</td>\n",
       "      <td>0.0190</td>\n",
       "      <td>0.0000</td>\n",
       "      <td>0.0000</td>\n",
       "      <td>0.0252</td>\n",
       "      <td>0.0383</td>\n",
       "      <td>0.9722</td>\n",
       "      <td>0.6341</td>\n",
       "      <td>0.0144</td>\n",
       "      <td>0.0000</td>\n",
       "      <td>0.0690</td>\n",
       "      <td>0.0833</td>\n",
       "      <td>0.1250</td>\n",
       "      <td>0.0377</td>\n",
       "      <td>0.022</td>\n",
       "      <td>0.0198</td>\n",
       "      <td>0.0</td>\n",
       "      <td>0.0</td>\n",
       "      <td>0.0250</td>\n",
       "      <td>0.0369</td>\n",
       "      <td>0.9722</td>\n",
       "      <td>0.6243</td>\n",
       "      <td>0.0144</td>\n",
       "      <td>0.00</td>\n",
       "      <td>0.0690</td>\n",
       "      <td>0.0833</td>\n",
       "      <td>0.1250</td>\n",
       "      <td>0.0375</td>\n",
       "      <td>0.0205</td>\n",
       "      <td>0.0193</td>\n",
       "      <td>0.0000</td>\n",
       "      <td>0.00</td>\n",
       "      <td>reg oper account</td>\n",
       "      <td>block of flats</td>\n",
       "      <td>0.0149</td>\n",
       "      <td>Stone, brick</td>\n",
       "      <td>No</td>\n",
       "      <td>2.0</td>\n",
       "      <td>2.0</td>\n",
       "      <td>2.0</td>\n",
       "      <td>2.0</td>\n",
       "      <td>-1134.0</td>\n",
       "      <td>0.0</td>\n",
       "      <td>1.0</td>\n",
       "      <td>0.0</td>\n",
       "      <td>0.0</td>\n",
       "      <td>0.0</td>\n",
       "      <td>0.0</td>\n",
       "      <td>0.0</td>\n",
       "      <td>0.0</td>\n",
       "      <td>0.0</td>\n",
       "      <td>0.0</td>\n",
       "      <td>0.0</td>\n",
       "      <td>0.0</td>\n",
       "      <td>0.0</td>\n",
       "      <td>0.0</td>\n",
       "      <td>0.0</td>\n",
       "      <td>0.0</td>\n",
       "      <td>0.0</td>\n",
       "      <td>0.0</td>\n",
       "      <td>0.0</td>\n",
       "      <td>0.0</td>\n",
       "      <td>0.0</td>\n",
       "      <td>0.0</td>\n",
       "      <td>0.0</td>\n",
       "      <td>0.0</td>\n",
       "      <td>0.0</td>\n",
       "      <td>1.0</td>\n",
       "      <td>25.92</td>\n",
       "      <td>1.75</td>\n",
       "      <td>9.99</td>\n",
       "      <td>5.81</td>\n",
       "      <td>3.11</td>\n",
       "    </tr>\n",
       "    <tr>\n",
       "      <th>1</th>\n",
       "      <td>100003</td>\n",
       "      <td>0</td>\n",
       "      <td>Cash loans</td>\n",
       "      <td>F</td>\n",
       "      <td>N</td>\n",
       "      <td>N</td>\n",
       "      <td>0.0</td>\n",
       "      <td>270000.0</td>\n",
       "      <td>1293502.5</td>\n",
       "      <td>35698.5</td>\n",
       "      <td>1129500.0</td>\n",
       "      <td>Family</td>\n",
       "      <td>State servant</td>\n",
       "      <td>Higher education</td>\n",
       "      <td>Married</td>\n",
       "      <td>House / apartment</td>\n",
       "      <td>0.003541</td>\n",
       "      <td>-16765.0</td>\n",
       "      <td>-1188.0</td>\n",
       "      <td>-1186.0</td>\n",
       "      <td>-291.0</td>\n",
       "      <td>NaN</td>\n",
       "      <td>1.0</td>\n",
       "      <td>1.0</td>\n",
       "      <td>0.0</td>\n",
       "      <td>1.0</td>\n",
       "      <td>1.0</td>\n",
       "      <td>0.0</td>\n",
       "      <td>Core staff</td>\n",
       "      <td>2.0</td>\n",
       "      <td>1.0</td>\n",
       "      <td>1.0</td>\n",
       "      <td>MONDAY</td>\n",
       "      <td>11.0</td>\n",
       "      <td>0.0</td>\n",
       "      <td>0.0</td>\n",
       "      <td>0.0</td>\n",
       "      <td>0.0</td>\n",
       "      <td>0.0</td>\n",
       "      <td>0.0</td>\n",
       "      <td>School</td>\n",
       "      <td>0.311267</td>\n",
       "      <td>0.622246</td>\n",
       "      <td>NaN</td>\n",
       "      <td>0.0959</td>\n",
       "      <td>0.0529</td>\n",
       "      <td>0.9851</td>\n",
       "      <td>0.7960</td>\n",
       "      <td>0.0605</td>\n",
       "      <td>0.08</td>\n",
       "      <td>0.0345</td>\n",
       "      <td>0.2917</td>\n",
       "      <td>0.3333</td>\n",
       "      <td>0.0130</td>\n",
       "      <td>0.0773</td>\n",
       "      <td>0.0549</td>\n",
       "      <td>0.0039</td>\n",
       "      <td>0.0098</td>\n",
       "      <td>0.0924</td>\n",
       "      <td>0.0538</td>\n",
       "      <td>0.9851</td>\n",
       "      <td>0.8040</td>\n",
       "      <td>0.0497</td>\n",
       "      <td>0.0806</td>\n",
       "      <td>0.0345</td>\n",
       "      <td>0.2917</td>\n",
       "      <td>0.3333</td>\n",
       "      <td>0.0128</td>\n",
       "      <td>0.079</td>\n",
       "      <td>0.0554</td>\n",
       "      <td>0.0</td>\n",
       "      <td>0.0</td>\n",
       "      <td>0.0968</td>\n",
       "      <td>0.0529</td>\n",
       "      <td>0.9851</td>\n",
       "      <td>0.7987</td>\n",
       "      <td>0.0608</td>\n",
       "      <td>0.08</td>\n",
       "      <td>0.0345</td>\n",
       "      <td>0.2917</td>\n",
       "      <td>0.3333</td>\n",
       "      <td>0.0132</td>\n",
       "      <td>0.0787</td>\n",
       "      <td>0.0558</td>\n",
       "      <td>0.0039</td>\n",
       "      <td>0.01</td>\n",
       "      <td>reg oper account</td>\n",
       "      <td>block of flats</td>\n",
       "      <td>0.0714</td>\n",
       "      <td>Block</td>\n",
       "      <td>No</td>\n",
       "      <td>1.0</td>\n",
       "      <td>0.0</td>\n",
       "      <td>1.0</td>\n",
       "      <td>0.0</td>\n",
       "      <td>-828.0</td>\n",
       "      <td>0.0</td>\n",
       "      <td>1.0</td>\n",
       "      <td>0.0</td>\n",
       "      <td>0.0</td>\n",
       "      <td>0.0</td>\n",
       "      <td>0.0</td>\n",
       "      <td>0.0</td>\n",
       "      <td>0.0</td>\n",
       "      <td>0.0</td>\n",
       "      <td>0.0</td>\n",
       "      <td>0.0</td>\n",
       "      <td>0.0</td>\n",
       "      <td>0.0</td>\n",
       "      <td>0.0</td>\n",
       "      <td>0.0</td>\n",
       "      <td>0.0</td>\n",
       "      <td>0.0</td>\n",
       "      <td>0.0</td>\n",
       "      <td>0.0</td>\n",
       "      <td>0.0</td>\n",
       "      <td>0.0</td>\n",
       "      <td>0.0</td>\n",
       "      <td>0.0</td>\n",
       "      <td>0.0</td>\n",
       "      <td>0.0</td>\n",
       "      <td>0.0</td>\n",
       "      <td>45.93</td>\n",
       "      <td>3.25</td>\n",
       "      <td>3.25</td>\n",
       "      <td>0.80</td>\n",
       "      <td>2.27</td>\n",
       "    </tr>\n",
       "    <tr>\n",
       "      <th>2</th>\n",
       "      <td>100004</td>\n",
       "      <td>0</td>\n",
       "      <td>Revolving loans</td>\n",
       "      <td>M</td>\n",
       "      <td>Y</td>\n",
       "      <td>Y</td>\n",
       "      <td>0.0</td>\n",
       "      <td>67500.0</td>\n",
       "      <td>135000.0</td>\n",
       "      <td>6750.0</td>\n",
       "      <td>135000.0</td>\n",
       "      <td>Unaccompanied</td>\n",
       "      <td>Working</td>\n",
       "      <td>Secondary / secondary special</td>\n",
       "      <td>Single / not married</td>\n",
       "      <td>House / apartment</td>\n",
       "      <td>0.010032</td>\n",
       "      <td>-19046.0</td>\n",
       "      <td>-225.0</td>\n",
       "      <td>-4260.0</td>\n",
       "      <td>-2531.0</td>\n",
       "      <td>26.0</td>\n",
       "      <td>1.0</td>\n",
       "      <td>1.0</td>\n",
       "      <td>1.0</td>\n",
       "      <td>1.0</td>\n",
       "      <td>1.0</td>\n",
       "      <td>0.0</td>\n",
       "      <td>Laborers</td>\n",
       "      <td>1.0</td>\n",
       "      <td>2.0</td>\n",
       "      <td>2.0</td>\n",
       "      <td>MONDAY</td>\n",
       "      <td>9.0</td>\n",
       "      <td>0.0</td>\n",
       "      <td>0.0</td>\n",
       "      <td>0.0</td>\n",
       "      <td>0.0</td>\n",
       "      <td>0.0</td>\n",
       "      <td>0.0</td>\n",
       "      <td>Government</td>\n",
       "      <td>NaN</td>\n",
       "      <td>0.555912</td>\n",
       "      <td>0.729567</td>\n",
       "      <td>NaN</td>\n",
       "      <td>NaN</td>\n",
       "      <td>NaN</td>\n",
       "      <td>NaN</td>\n",
       "      <td>NaN</td>\n",
       "      <td>NaN</td>\n",
       "      <td>NaN</td>\n",
       "      <td>NaN</td>\n",
       "      <td>NaN</td>\n",
       "      <td>NaN</td>\n",
       "      <td>NaN</td>\n",
       "      <td>NaN</td>\n",
       "      <td>NaN</td>\n",
       "      <td>NaN</td>\n",
       "      <td>NaN</td>\n",
       "      <td>NaN</td>\n",
       "      <td>NaN</td>\n",
       "      <td>NaN</td>\n",
       "      <td>NaN</td>\n",
       "      <td>NaN</td>\n",
       "      <td>NaN</td>\n",
       "      <td>NaN</td>\n",
       "      <td>NaN</td>\n",
       "      <td>NaN</td>\n",
       "      <td>NaN</td>\n",
       "      <td>NaN</td>\n",
       "      <td>NaN</td>\n",
       "      <td>NaN</td>\n",
       "      <td>NaN</td>\n",
       "      <td>NaN</td>\n",
       "      <td>NaN</td>\n",
       "      <td>NaN</td>\n",
       "      <td>NaN</td>\n",
       "      <td>NaN</td>\n",
       "      <td>NaN</td>\n",
       "      <td>NaN</td>\n",
       "      <td>NaN</td>\n",
       "      <td>NaN</td>\n",
       "      <td>NaN</td>\n",
       "      <td>NaN</td>\n",
       "      <td>NaN</td>\n",
       "      <td>NaN</td>\n",
       "      <td>None</td>\n",
       "      <td>None</td>\n",
       "      <td>NaN</td>\n",
       "      <td>None</td>\n",
       "      <td>None</td>\n",
       "      <td>0.0</td>\n",
       "      <td>0.0</td>\n",
       "      <td>0.0</td>\n",
       "      <td>0.0</td>\n",
       "      <td>-815.0</td>\n",
       "      <td>0.0</td>\n",
       "      <td>0.0</td>\n",
       "      <td>0.0</td>\n",
       "      <td>0.0</td>\n",
       "      <td>0.0</td>\n",
       "      <td>0.0</td>\n",
       "      <td>0.0</td>\n",
       "      <td>0.0</td>\n",
       "      <td>0.0</td>\n",
       "      <td>0.0</td>\n",
       "      <td>0.0</td>\n",
       "      <td>0.0</td>\n",
       "      <td>0.0</td>\n",
       "      <td>0.0</td>\n",
       "      <td>0.0</td>\n",
       "      <td>0.0</td>\n",
       "      <td>0.0</td>\n",
       "      <td>0.0</td>\n",
       "      <td>0.0</td>\n",
       "      <td>0.0</td>\n",
       "      <td>0.0</td>\n",
       "      <td>0.0</td>\n",
       "      <td>0.0</td>\n",
       "      <td>0.0</td>\n",
       "      <td>0.0</td>\n",
       "      <td>0.0</td>\n",
       "      <td>52.18</td>\n",
       "      <td>0.62</td>\n",
       "      <td>11.67</td>\n",
       "      <td>6.93</td>\n",
       "      <td>2.23</td>\n",
       "    </tr>\n",
       "    <tr>\n",
       "      <th>3</th>\n",
       "      <td>100006</td>\n",
       "      <td>0</td>\n",
       "      <td>Cash loans</td>\n",
       "      <td>F</td>\n",
       "      <td>N</td>\n",
       "      <td>Y</td>\n",
       "      <td>0.0</td>\n",
       "      <td>135000.0</td>\n",
       "      <td>312682.5</td>\n",
       "      <td>29686.5</td>\n",
       "      <td>297000.0</td>\n",
       "      <td>Unaccompanied</td>\n",
       "      <td>Working</td>\n",
       "      <td>Secondary / secondary special</td>\n",
       "      <td>Civil marriage</td>\n",
       "      <td>House / apartment</td>\n",
       "      <td>0.008019</td>\n",
       "      <td>-19005.0</td>\n",
       "      <td>-3039.0</td>\n",
       "      <td>-9833.0</td>\n",
       "      <td>-2437.0</td>\n",
       "      <td>NaN</td>\n",
       "      <td>1.0</td>\n",
       "      <td>1.0</td>\n",
       "      <td>0.0</td>\n",
       "      <td>1.0</td>\n",
       "      <td>0.0</td>\n",
       "      <td>0.0</td>\n",
       "      <td>Laborers</td>\n",
       "      <td>2.0</td>\n",
       "      <td>2.0</td>\n",
       "      <td>2.0</td>\n",
       "      <td>WEDNESDAY</td>\n",
       "      <td>17.0</td>\n",
       "      <td>0.0</td>\n",
       "      <td>0.0</td>\n",
       "      <td>0.0</td>\n",
       "      <td>0.0</td>\n",
       "      <td>0.0</td>\n",
       "      <td>0.0</td>\n",
       "      <td>Business Entity Type 3</td>\n",
       "      <td>NaN</td>\n",
       "      <td>0.650442</td>\n",
       "      <td>NaN</td>\n",
       "      <td>NaN</td>\n",
       "      <td>NaN</td>\n",
       "      <td>NaN</td>\n",
       "      <td>NaN</td>\n",
       "      <td>NaN</td>\n",
       "      <td>NaN</td>\n",
       "      <td>NaN</td>\n",
       "      <td>NaN</td>\n",
       "      <td>NaN</td>\n",
       "      <td>NaN</td>\n",
       "      <td>NaN</td>\n",
       "      <td>NaN</td>\n",
       "      <td>NaN</td>\n",
       "      <td>NaN</td>\n",
       "      <td>NaN</td>\n",
       "      <td>NaN</td>\n",
       "      <td>NaN</td>\n",
       "      <td>NaN</td>\n",
       "      <td>NaN</td>\n",
       "      <td>NaN</td>\n",
       "      <td>NaN</td>\n",
       "      <td>NaN</td>\n",
       "      <td>NaN</td>\n",
       "      <td>NaN</td>\n",
       "      <td>NaN</td>\n",
       "      <td>NaN</td>\n",
       "      <td>NaN</td>\n",
       "      <td>NaN</td>\n",
       "      <td>NaN</td>\n",
       "      <td>NaN</td>\n",
       "      <td>NaN</td>\n",
       "      <td>NaN</td>\n",
       "      <td>NaN</td>\n",
       "      <td>NaN</td>\n",
       "      <td>NaN</td>\n",
       "      <td>NaN</td>\n",
       "      <td>NaN</td>\n",
       "      <td>NaN</td>\n",
       "      <td>NaN</td>\n",
       "      <td>NaN</td>\n",
       "      <td>NaN</td>\n",
       "      <td>NaN</td>\n",
       "      <td>None</td>\n",
       "      <td>None</td>\n",
       "      <td>NaN</td>\n",
       "      <td>None</td>\n",
       "      <td>None</td>\n",
       "      <td>2.0</td>\n",
       "      <td>0.0</td>\n",
       "      <td>2.0</td>\n",
       "      <td>0.0</td>\n",
       "      <td>-617.0</td>\n",
       "      <td>0.0</td>\n",
       "      <td>1.0</td>\n",
       "      <td>0.0</td>\n",
       "      <td>0.0</td>\n",
       "      <td>0.0</td>\n",
       "      <td>0.0</td>\n",
       "      <td>0.0</td>\n",
       "      <td>0.0</td>\n",
       "      <td>0.0</td>\n",
       "      <td>0.0</td>\n",
       "      <td>0.0</td>\n",
       "      <td>0.0</td>\n",
       "      <td>0.0</td>\n",
       "      <td>0.0</td>\n",
       "      <td>0.0</td>\n",
       "      <td>0.0</td>\n",
       "      <td>0.0</td>\n",
       "      <td>0.0</td>\n",
       "      <td>0.0</td>\n",
       "      <td>0.0</td>\n",
       "      <td>NaN</td>\n",
       "      <td>NaN</td>\n",
       "      <td>NaN</td>\n",
       "      <td>NaN</td>\n",
       "      <td>NaN</td>\n",
       "      <td>NaN</td>\n",
       "      <td>52.07</td>\n",
       "      <td>8.33</td>\n",
       "      <td>26.94</td>\n",
       "      <td>6.68</td>\n",
       "      <td>1.69</td>\n",
       "    </tr>\n",
       "    <tr>\n",
       "      <th>4</th>\n",
       "      <td>100007</td>\n",
       "      <td>0</td>\n",
       "      <td>Cash loans</td>\n",
       "      <td>M</td>\n",
       "      <td>N</td>\n",
       "      <td>Y</td>\n",
       "      <td>0.0</td>\n",
       "      <td>121500.0</td>\n",
       "      <td>513000.0</td>\n",
       "      <td>21865.5</td>\n",
       "      <td>513000.0</td>\n",
       "      <td>Unaccompanied</td>\n",
       "      <td>Working</td>\n",
       "      <td>Secondary / secondary special</td>\n",
       "      <td>Single / not married</td>\n",
       "      <td>House / apartment</td>\n",
       "      <td>0.028663</td>\n",
       "      <td>-19932.0</td>\n",
       "      <td>-3038.0</td>\n",
       "      <td>-4311.0</td>\n",
       "      <td>-3458.0</td>\n",
       "      <td>NaN</td>\n",
       "      <td>1.0</td>\n",
       "      <td>1.0</td>\n",
       "      <td>0.0</td>\n",
       "      <td>1.0</td>\n",
       "      <td>0.0</td>\n",
       "      <td>0.0</td>\n",
       "      <td>Core staff</td>\n",
       "      <td>1.0</td>\n",
       "      <td>2.0</td>\n",
       "      <td>2.0</td>\n",
       "      <td>THURSDAY</td>\n",
       "      <td>11.0</td>\n",
       "      <td>0.0</td>\n",
       "      <td>0.0</td>\n",
       "      <td>0.0</td>\n",
       "      <td>0.0</td>\n",
       "      <td>1.0</td>\n",
       "      <td>1.0</td>\n",
       "      <td>Religion</td>\n",
       "      <td>NaN</td>\n",
       "      <td>0.322738</td>\n",
       "      <td>NaN</td>\n",
       "      <td>NaN</td>\n",
       "      <td>NaN</td>\n",
       "      <td>NaN</td>\n",
       "      <td>NaN</td>\n",
       "      <td>NaN</td>\n",
       "      <td>NaN</td>\n",
       "      <td>NaN</td>\n",
       "      <td>NaN</td>\n",
       "      <td>NaN</td>\n",
       "      <td>NaN</td>\n",
       "      <td>NaN</td>\n",
       "      <td>NaN</td>\n",
       "      <td>NaN</td>\n",
       "      <td>NaN</td>\n",
       "      <td>NaN</td>\n",
       "      <td>NaN</td>\n",
       "      <td>NaN</td>\n",
       "      <td>NaN</td>\n",
       "      <td>NaN</td>\n",
       "      <td>NaN</td>\n",
       "      <td>NaN</td>\n",
       "      <td>NaN</td>\n",
       "      <td>NaN</td>\n",
       "      <td>NaN</td>\n",
       "      <td>NaN</td>\n",
       "      <td>NaN</td>\n",
       "      <td>NaN</td>\n",
       "      <td>NaN</td>\n",
       "      <td>NaN</td>\n",
       "      <td>NaN</td>\n",
       "      <td>NaN</td>\n",
       "      <td>NaN</td>\n",
       "      <td>NaN</td>\n",
       "      <td>NaN</td>\n",
       "      <td>NaN</td>\n",
       "      <td>NaN</td>\n",
       "      <td>NaN</td>\n",
       "      <td>NaN</td>\n",
       "      <td>NaN</td>\n",
       "      <td>NaN</td>\n",
       "      <td>NaN</td>\n",
       "      <td>NaN</td>\n",
       "      <td>None</td>\n",
       "      <td>None</td>\n",
       "      <td>NaN</td>\n",
       "      <td>None</td>\n",
       "      <td>None</td>\n",
       "      <td>0.0</td>\n",
       "      <td>0.0</td>\n",
       "      <td>0.0</td>\n",
       "      <td>0.0</td>\n",
       "      <td>-1106.0</td>\n",
       "      <td>0.0</td>\n",
       "      <td>0.0</td>\n",
       "      <td>0.0</td>\n",
       "      <td>0.0</td>\n",
       "      <td>0.0</td>\n",
       "      <td>0.0</td>\n",
       "      <td>1.0</td>\n",
       "      <td>0.0</td>\n",
       "      <td>0.0</td>\n",
       "      <td>0.0</td>\n",
       "      <td>0.0</td>\n",
       "      <td>0.0</td>\n",
       "      <td>0.0</td>\n",
       "      <td>0.0</td>\n",
       "      <td>0.0</td>\n",
       "      <td>0.0</td>\n",
       "      <td>0.0</td>\n",
       "      <td>0.0</td>\n",
       "      <td>0.0</td>\n",
       "      <td>0.0</td>\n",
       "      <td>0.0</td>\n",
       "      <td>0.0</td>\n",
       "      <td>0.0</td>\n",
       "      <td>0.0</td>\n",
       "      <td>0.0</td>\n",
       "      <td>0.0</td>\n",
       "      <td>54.61</td>\n",
       "      <td>8.32</td>\n",
       "      <td>11.81</td>\n",
       "      <td>9.47</td>\n",
       "      <td>3.03</td>\n",
       "    </tr>\n",
       "  </tbody>\n",
       "</table>\n",
       "</div>"
      ],
      "text/plain": [
       "   SK_ID_CURR  TARGET NAME_CONTRACT_TYPE CODE_GENDER FLAG_OWN_CAR FLAG_OWN_REALTY  CNT_CHILDREN  AMT_INCOME_TOTAL  AMT_CREDIT  AMT_ANNUITY  AMT_GOODS_PRICE NAME_TYPE_SUITE NAME_INCOME_TYPE            NAME_EDUCATION_TYPE    NAME_FAMILY_STATUS  NAME_HOUSING_TYPE  REGION_POPULATION_RELATIVE  DAYS_BIRTH  DAYS_EMPLOYED  DAYS_REGISTRATION  DAYS_ID_PUBLISH  OWN_CAR_AGE  FLAG_MOBIL  FLAG_EMP_PHONE  FLAG_WORK_PHONE  FLAG_CONT_MOBILE  FLAG_PHONE  FLAG_EMAIL OCCUPATION_TYPE  CNT_FAM_MEMBERS  REGION_RATING_CLIENT  REGION_RATING_CLIENT_W_CITY WEEKDAY_APPR_PROCESS_START  HOUR_APPR_PROCESS_START  REG_REGION_NOT_LIVE_REGION  REG_REGION_NOT_WORK_REGION  LIVE_REGION_NOT_WORK_REGION  REG_CITY_NOT_LIVE_CITY  REG_CITY_NOT_WORK_CITY  LIVE_CITY_NOT_WORK_CITY       ORGANIZATION_TYPE  EXT_SOURCE_1  EXT_SOURCE_2  EXT_SOURCE_3  APARTMENTS_AVG  BASEMENTAREA_AVG  YEARS_BEGINEXPLUATATION_AVG  YEARS_BUILD_AVG  COMMONAREA_AVG  ELEVATORS_AVG  ENTRANCES_AVG  FLOORSMAX_AVG  FLOORSMIN_AVG  LANDAREA_AVG  \\\n",
       "0      100002       1         Cash loans           M            N               Y           0.0          202500.0    406597.5      24700.5         351000.0   Unaccompanied          Working  Secondary / secondary special  Single / not married  House / apartment                    0.018801     -9461.0         -637.0            -3648.0          -2120.0          NaN         1.0             1.0              0.0               1.0         1.0         0.0        Laborers              1.0                   2.0                          2.0                  WEDNESDAY                     10.0                         0.0                         0.0                          0.0                     0.0                     0.0                      0.0  Business Entity Type 3      0.083037      0.262949      0.139376          0.0247            0.0369                       0.9722           0.6192          0.0143           0.00         0.0690         0.0833         0.1250        0.0369   \n",
       "1      100003       0         Cash loans           F            N               N           0.0          270000.0   1293502.5      35698.5        1129500.0          Family    State servant               Higher education               Married  House / apartment                    0.003541    -16765.0        -1188.0            -1186.0           -291.0          NaN         1.0             1.0              0.0               1.0         1.0         0.0      Core staff              2.0                   1.0                          1.0                     MONDAY                     11.0                         0.0                         0.0                          0.0                     0.0                     0.0                      0.0                  School      0.311267      0.622246           NaN          0.0959            0.0529                       0.9851           0.7960          0.0605           0.08         0.0345         0.2917         0.3333        0.0130   \n",
       "2      100004       0    Revolving loans           M            Y               Y           0.0           67500.0    135000.0       6750.0         135000.0   Unaccompanied          Working  Secondary / secondary special  Single / not married  House / apartment                    0.010032    -19046.0         -225.0            -4260.0          -2531.0         26.0         1.0             1.0              1.0               1.0         1.0         0.0        Laborers              1.0                   2.0                          2.0                     MONDAY                      9.0                         0.0                         0.0                          0.0                     0.0                     0.0                      0.0              Government           NaN      0.555912      0.729567             NaN               NaN                          NaN              NaN             NaN            NaN            NaN            NaN            NaN           NaN   \n",
       "3      100006       0         Cash loans           F            N               Y           0.0          135000.0    312682.5      29686.5         297000.0   Unaccompanied          Working  Secondary / secondary special        Civil marriage  House / apartment                    0.008019    -19005.0        -3039.0            -9833.0          -2437.0          NaN         1.0             1.0              0.0               1.0         0.0         0.0        Laborers              2.0                   2.0                          2.0                  WEDNESDAY                     17.0                         0.0                         0.0                          0.0                     0.0                     0.0                      0.0  Business Entity Type 3           NaN      0.650442           NaN             NaN               NaN                          NaN              NaN             NaN            NaN            NaN            NaN            NaN           NaN   \n",
       "4      100007       0         Cash loans           M            N               Y           0.0          121500.0    513000.0      21865.5         513000.0   Unaccompanied          Working  Secondary / secondary special  Single / not married  House / apartment                    0.028663    -19932.0        -3038.0            -4311.0          -3458.0          NaN         1.0             1.0              0.0               1.0         0.0         0.0      Core staff              1.0                   2.0                          2.0                   THURSDAY                     11.0                         0.0                         0.0                          0.0                     0.0                     1.0                      1.0                Religion           NaN      0.322738           NaN             NaN               NaN                          NaN              NaN             NaN            NaN            NaN            NaN            NaN           NaN   \n",
       "\n",
       "   LIVINGAPARTMENTS_AVG  LIVINGAREA_AVG  NONLIVINGAPARTMENTS_AVG  NONLIVINGAREA_AVG  APARTMENTS_MODE  BASEMENTAREA_MODE  YEARS_BEGINEXPLUATATION_MODE  YEARS_BUILD_MODE  COMMONAREA_MODE  ELEVATORS_MODE  ENTRANCES_MODE  FLOORSMAX_MODE  FLOORSMIN_MODE  LANDAREA_MODE  LIVINGAPARTMENTS_MODE  LIVINGAREA_MODE  NONLIVINGAPARTMENTS_MODE  NONLIVINGAREA_MODE  APARTMENTS_MEDI  BASEMENTAREA_MEDI  YEARS_BEGINEXPLUATATION_MEDI  YEARS_BUILD_MEDI  COMMONAREA_MEDI  ELEVATORS_MEDI  ENTRANCES_MEDI  FLOORSMAX_MEDI  FLOORSMIN_MEDI  LANDAREA_MEDI  LIVINGAPARTMENTS_MEDI  LIVINGAREA_MEDI  NONLIVINGAPARTMENTS_MEDI  NONLIVINGAREA_MEDI FONDKAPREMONT_MODE  HOUSETYPE_MODE  TOTALAREA_MODE WALLSMATERIAL_MODE EMERGENCYSTATE_MODE  OBS_30_CNT_SOCIAL_CIRCLE  DEF_30_CNT_SOCIAL_CIRCLE  OBS_60_CNT_SOCIAL_CIRCLE  DEF_60_CNT_SOCIAL_CIRCLE  DAYS_LAST_PHONE_CHANGE  FLAG_DOCUMENT_2  FLAG_DOCUMENT_3  FLAG_DOCUMENT_4  FLAG_DOCUMENT_5  FLAG_DOCUMENT_6  FLAG_DOCUMENT_7  FLAG_DOCUMENT_8  FLAG_DOCUMENT_9  FLAG_DOCUMENT_10  \\\n",
       "0                0.0202          0.0190                   0.0000             0.0000           0.0252             0.0383                        0.9722            0.6341           0.0144          0.0000          0.0690          0.0833          0.1250         0.0377                  0.022           0.0198                       0.0                 0.0           0.0250             0.0369                        0.9722            0.6243           0.0144            0.00          0.0690          0.0833          0.1250         0.0375                 0.0205           0.0193                    0.0000                0.00   reg oper account  block of flats          0.0149       Stone, brick                  No                       2.0                       2.0                       2.0                       2.0                 -1134.0              0.0              1.0              0.0              0.0              0.0              0.0              0.0              0.0               0.0   \n",
       "1                0.0773          0.0549                   0.0039             0.0098           0.0924             0.0538                        0.9851            0.8040           0.0497          0.0806          0.0345          0.2917          0.3333         0.0128                  0.079           0.0554                       0.0                 0.0           0.0968             0.0529                        0.9851            0.7987           0.0608            0.08          0.0345          0.2917          0.3333         0.0132                 0.0787           0.0558                    0.0039                0.01   reg oper account  block of flats          0.0714              Block                  No                       1.0                       0.0                       1.0                       0.0                  -828.0              0.0              1.0              0.0              0.0              0.0              0.0              0.0              0.0               0.0   \n",
       "2                   NaN             NaN                      NaN                NaN              NaN                NaN                           NaN               NaN              NaN             NaN             NaN             NaN             NaN            NaN                    NaN              NaN                       NaN                 NaN              NaN                NaN                           NaN               NaN              NaN             NaN             NaN             NaN             NaN            NaN                    NaN              NaN                       NaN                 NaN               None            None             NaN               None                None                       0.0                       0.0                       0.0                       0.0                  -815.0              0.0              0.0              0.0              0.0              0.0              0.0              0.0              0.0               0.0   \n",
       "3                   NaN             NaN                      NaN                NaN              NaN                NaN                           NaN               NaN              NaN             NaN             NaN             NaN             NaN            NaN                    NaN              NaN                       NaN                 NaN              NaN                NaN                           NaN               NaN              NaN             NaN             NaN             NaN             NaN            NaN                    NaN              NaN                       NaN                 NaN               None            None             NaN               None                None                       2.0                       0.0                       2.0                       0.0                  -617.0              0.0              1.0              0.0              0.0              0.0              0.0              0.0              0.0               0.0   \n",
       "4                   NaN             NaN                      NaN                NaN              NaN                NaN                           NaN               NaN              NaN             NaN             NaN             NaN             NaN            NaN                    NaN              NaN                       NaN                 NaN              NaN                NaN                           NaN               NaN              NaN             NaN             NaN             NaN             NaN            NaN                    NaN              NaN                       NaN                 NaN               None            None             NaN               None                None                       0.0                       0.0                       0.0                       0.0                 -1106.0              0.0              0.0              0.0              0.0              0.0              0.0              1.0              0.0               0.0   \n",
       "\n",
       "   FLAG_DOCUMENT_11  FLAG_DOCUMENT_12  FLAG_DOCUMENT_13  FLAG_DOCUMENT_14  FLAG_DOCUMENT_15  FLAG_DOCUMENT_16  FLAG_DOCUMENT_17  FLAG_DOCUMENT_18  FLAG_DOCUMENT_19  FLAG_DOCUMENT_20  FLAG_DOCUMENT_21  AMT_REQ_CREDIT_BUREAU_HOUR  AMT_REQ_CREDIT_BUREAU_DAY  AMT_REQ_CREDIT_BUREAU_WEEK  AMT_REQ_CREDIT_BUREAU_MON  AMT_REQ_CREDIT_BUREAU_QRT  AMT_REQ_CREDIT_BUREAU_YEAR  DAYS_BIRTH_YEARS  DAYS_EMPLOYED_YEARS  DAYS_REGISTRATION_YEARS  DAYS_ID_PUBLISH_YEARS  DAYS_LAST_PHONE_CHANGE_YEARS  \n",
       "0               0.0               0.0               0.0               0.0               0.0               0.0               0.0               0.0               0.0               0.0               0.0                         0.0                        0.0                         0.0                        0.0                        0.0                         1.0             25.92                 1.75                     9.99                   5.81                          3.11  \n",
       "1               0.0               0.0               0.0               0.0               0.0               0.0               0.0               0.0               0.0               0.0               0.0                         0.0                        0.0                         0.0                        0.0                        0.0                         0.0             45.93                 3.25                     3.25                   0.80                          2.27  \n",
       "2               0.0               0.0               0.0               0.0               0.0               0.0               0.0               0.0               0.0               0.0               0.0                         0.0                        0.0                         0.0                        0.0                        0.0                         0.0             52.18                 0.62                    11.67                   6.93                          2.23  \n",
       "3               0.0               0.0               0.0               0.0               0.0               0.0               0.0               0.0               0.0               0.0               0.0                         NaN                        NaN                         NaN                        NaN                        NaN                         NaN             52.07                 8.33                    26.94                   6.68                          1.69  \n",
       "4               0.0               0.0               0.0               0.0               0.0               0.0               0.0               0.0               0.0               0.0               0.0                         0.0                        0.0                         0.0                        0.0                        0.0                         0.0             54.61                 8.32                    11.81                   9.47                          3.03  "
      ]
     },
     "execution_count": 20,
     "metadata": {},
     "output_type": "execute_result"
    }
   ],
   "source": [
    "df_train.head()"
   ]
  },
  {
   "cell_type": "code",
   "execution_count": 46,
   "id": "32dba3d2",
   "metadata": {},
   "outputs": [
    {
     "data": {
      "text/plain": [
       "TARGET\n",
       "0    282686\n",
       "1     24825\n",
       "Name: count, dtype: int64"
      ]
     },
     "execution_count": 46,
     "metadata": {},
     "output_type": "execute_result"
    },
    {
     "data": {
      "image/png": "[encoded data removed]",
      "text/plain": [
       "<Figure size 640x480 with 1 Axes>"
      ]
     },
     "metadata": {},
     "output_type": "display_data"
    }
   ],
   "source": [
    "sns.countplot(df_train, x = 'TARGET', stat = 'percent')\n",
    "df_train['TARGET'].value_counts()"
   ]
  },
  {
   "cell_type": "code",
   "execution_count": 47,
   "id": "33b09dac",
   "metadata": {},
   "outputs": [
    {
     "data": {
      "text/plain": [
       "CODE_GENDER\n",
       "F      202448\n",
       "M      105059\n",
       "XNA         4\n",
       "Name: count, dtype: int64"
      ]
     },
     "execution_count": 47,
     "metadata": {},
     "output_type": "execute_result"
    },
    {
     "data": {
      "image/png": "[encoded data removed]",
      "text/plain": [
       "<Figure size 640x480 with 1 Axes>"
      ]
     },
     "metadata": {},
     "output_type": "display_data"
    }
   ],
   "source": [
    "sns.countplot(df_train, x = 'CODE_GENDER', stat = 'percent', color = 'orange')\n",
    "df_train['CODE_GENDER'].value_counts()"
   ]
  },
  {
   "cell_type": "code",
   "execution_count": 48,
   "id": "54dc876c",
   "metadata": {},
   "outputs": [
    {
     "data": {
      "text/html": [
       "<div>\n",
       "<style scoped>\n",
       "    .dataframe tbody tr th:only-of-type {\n",
       "        vertical-align: middle;\n",
       "    }\n",
       "\n",
       "    .dataframe tbody tr th {\n",
       "        vertical-align: top;\n",
       "    }\n",
       "\n",
       "    .dataframe thead th {\n",
       "        text-align: right;\n",
       "    }\n",
       "</style>\n",
       "<table border=\"1\" class=\"dataframe\">\n",
       "  <thead>\n",
       "    <tr style=\"text-align: right;\">\n",
       "      <th></th>\n",
       "      <th>SK_ID_CURR</th>\n",
       "      <th>TARGET</th>\n",
       "      <th>NAME_CONTRACT_TYPE</th>\n",
       "      <th>CODE_GENDER</th>\n",
       "      <th>FLAG_OWN_CAR</th>\n",
       "      <th>FLAG_OWN_REALTY</th>\n",
       "      <th>CNT_CHILDREN</th>\n",
       "      <th>AMT_INCOME_TOTAL</th>\n",
       "      <th>AMT_CREDIT</th>\n",
       "      <th>AMT_ANNUITY</th>\n",
       "      <th>AMT_GOODS_PRICE</th>\n",
       "      <th>NAME_TYPE_SUITE</th>\n",
       "      <th>NAME_INCOME_TYPE</th>\n",
       "      <th>NAME_EDUCATION_TYPE</th>\n",
       "      <th>NAME_FAMILY_STATUS</th>\n",
       "      <th>NAME_HOUSING_TYPE</th>\n",
       "      <th>REGION_POPULATION_RELATIVE</th>\n",
       "      <th>DAYS_BIRTH</th>\n",
       "      <th>DAYS_EMPLOYED</th>\n",
       "      <th>DAYS_REGISTRATION</th>\n",
       "      <th>DAYS_ID_PUBLISH</th>\n",
       "      <th>OWN_CAR_AGE</th>\n",
       "      <th>FLAG_MOBIL</th>\n",
       "      <th>FLAG_EMP_PHONE</th>\n",
       "      <th>FLAG_WORK_PHONE</th>\n",
       "      <th>FLAG_CONT_MOBILE</th>\n",
       "      <th>FLAG_PHONE</th>\n",
       "      <th>FLAG_EMAIL</th>\n",
       "      <th>OCCUPATION_TYPE</th>\n",
       "      <th>CNT_FAM_MEMBERS</th>\n",
       "      <th>REGION_RATING_CLIENT</th>\n",
       "      <th>REGION_RATING_CLIENT_W_CITY</th>\n",
       "      <th>WEEKDAY_APPR_PROCESS_START</th>\n",
       "      <th>HOUR_APPR_PROCESS_START</th>\n",
       "      <th>REG_REGION_NOT_LIVE_REGION</th>\n",
       "      <th>REG_REGION_NOT_WORK_REGION</th>\n",
       "      <th>LIVE_REGION_NOT_WORK_REGION</th>\n",
       "      <th>REG_CITY_NOT_LIVE_CITY</th>\n",
       "      <th>REG_CITY_NOT_WORK_CITY</th>\n",
       "      <th>LIVE_CITY_NOT_WORK_CITY</th>\n",
       "      <th>ORGANIZATION_TYPE</th>\n",
       "      <th>EXT_SOURCE_1</th>\n",
       "      <th>EXT_SOURCE_2</th>\n",
       "      <th>EXT_SOURCE_3</th>\n",
       "      <th>APARTMENTS_AVG</th>\n",
       "      <th>BASEMENTAREA_AVG</th>\n",
       "      <th>YEARS_BEGINEXPLUATATION_AVG</th>\n",
       "      <th>YEARS_BUILD_AVG</th>\n",
       "      <th>COMMONAREA_AVG</th>\n",
       "      <th>ELEVATORS_AVG</th>\n",
       "      <th>ENTRANCES_AVG</th>\n",
       "      <th>FLOORSMAX_AVG</th>\n",
       "      <th>FLOORSMIN_AVG</th>\n",
       "      <th>LANDAREA_AVG</th>\n",
       "      <th>LIVINGAPARTMENTS_AVG</th>\n",
       "      <th>LIVINGAREA_AVG</th>\n",
       "      <th>NONLIVINGAPARTMENTS_AVG</th>\n",
       "      <th>NONLIVINGAREA_AVG</th>\n",
       "      <th>APARTMENTS_MODE</th>\n",
       "      <th>BASEMENTAREA_MODE</th>\n",
       "      <th>YEARS_BEGINEXPLUATATION_MODE</th>\n",
       "      <th>YEARS_BUILD_MODE</th>\n",
       "      <th>COMMONAREA_MODE</th>\n",
       "      <th>ELEVATORS_MODE</th>\n",
       "      <th>ENTRANCES_MODE</th>\n",
       "      <th>FLOORSMAX_MODE</th>\n",
       "      <th>FLOORSMIN_MODE</th>\n",
       "      <th>LANDAREA_MODE</th>\n",
       "      <th>LIVINGAPARTMENTS_MODE</th>\n",
       "      <th>LIVINGAREA_MODE</th>\n",
       "      <th>NONLIVINGAPARTMENTS_MODE</th>\n",
       "      <th>NONLIVINGAREA_MODE</th>\n",
       "      <th>APARTMENTS_MEDI</th>\n",
       "      <th>BASEMENTAREA_MEDI</th>\n",
       "      <th>YEARS_BEGINEXPLUATATION_MEDI</th>\n",
       "      <th>YEARS_BUILD_MEDI</th>\n",
       "      <th>COMMONAREA_MEDI</th>\n",
       "      <th>ELEVATORS_MEDI</th>\n",
       "      <th>ENTRANCES_MEDI</th>\n",
       "      <th>FLOORSMAX_MEDI</th>\n",
       "      <th>FLOORSMIN_MEDI</th>\n",
       "      <th>LANDAREA_MEDI</th>\n",
       "      <th>LIVINGAPARTMENTS_MEDI</th>\n",
       "      <th>LIVINGAREA_MEDI</th>\n",
       "      <th>NONLIVINGAPARTMENTS_MEDI</th>\n",
       "      <th>NONLIVINGAREA_MEDI</th>\n",
       "      <th>FONDKAPREMONT_MODE</th>\n",
       "      <th>HOUSETYPE_MODE</th>\n",
       "      <th>TOTALAREA_MODE</th>\n",
       "      <th>WALLSMATERIAL_MODE</th>\n",
       "      <th>EMERGENCYSTATE_MODE</th>\n",
       "      <th>OBS_30_CNT_SOCIAL_CIRCLE</th>\n",
       "      <th>DEF_30_CNT_SOCIAL_CIRCLE</th>\n",
       "      <th>OBS_60_CNT_SOCIAL_CIRCLE</th>\n",
       "      <th>DEF_60_CNT_SOCIAL_CIRCLE</th>\n",
       "      <th>DAYS_LAST_PHONE_CHANGE</th>\n",
       "      <th>FLAG_DOCUMENT_2</th>\n",
       "      <th>FLAG_DOCUMENT_3</th>\n",
       "      <th>FLAG_DOCUMENT_4</th>\n",
       "      <th>FLAG_DOCUMENT_5</th>\n",
       "      <th>FLAG_DOCUMENT_6</th>\n",
       "      <th>FLAG_DOCUMENT_7</th>\n",
       "      <th>FLAG_DOCUMENT_8</th>\n",
       "      <th>FLAG_DOCUMENT_9</th>\n",
       "      <th>FLAG_DOCUMENT_10</th>\n",
       "      <th>FLAG_DOCUMENT_11</th>\n",
       "      <th>FLAG_DOCUMENT_12</th>\n",
       "      <th>FLAG_DOCUMENT_13</th>\n",
       "      <th>FLAG_DOCUMENT_14</th>\n",
       "      <th>FLAG_DOCUMENT_15</th>\n",
       "      <th>FLAG_DOCUMENT_16</th>\n",
       "      <th>FLAG_DOCUMENT_17</th>\n",
       "      <th>FLAG_DOCUMENT_18</th>\n",
       "      <th>FLAG_DOCUMENT_19</th>\n",
       "      <th>FLAG_DOCUMENT_20</th>\n",
       "      <th>FLAG_DOCUMENT_21</th>\n",
       "      <th>AMT_REQ_CREDIT_BUREAU_HOUR</th>\n",
       "      <th>AMT_REQ_CREDIT_BUREAU_DAY</th>\n",
       "      <th>AMT_REQ_CREDIT_BUREAU_WEEK</th>\n",
       "      <th>AMT_REQ_CREDIT_BUREAU_MON</th>\n",
       "      <th>AMT_REQ_CREDIT_BUREAU_QRT</th>\n",
       "      <th>AMT_REQ_CREDIT_BUREAU_YEAR</th>\n",
       "      <th>DAYS_BIRTH_YEARS</th>\n",
       "      <th>DAYS_EMPLOYED_YEARS</th>\n",
       "      <th>DAYS_REGISTRATION_YEARS</th>\n",
       "      <th>DAYS_ID_PUBLISH_YEARS</th>\n",
       "      <th>DAYS_LAST_PHONE_CHANGE_YEARS</th>\n",
       "    </tr>\n",
       "  </thead>\n",
       "  <tbody>\n",
       "    <tr>\n",
       "      <th>35657</th>\n",
       "      <td>141289</td>\n",
       "      <td>0</td>\n",
       "      <td>Revolving loans</td>\n",
       "      <td>XNA</td>\n",
       "      <td>Y</td>\n",
       "      <td>Y</td>\n",
       "      <td>0.0</td>\n",
       "      <td>207000.0</td>\n",
       "      <td>382500.0</td>\n",
       "      <td>19125.0</td>\n",
       "      <td>337500.0</td>\n",
       "      <td>Unaccompanied</td>\n",
       "      <td>Working</td>\n",
       "      <td>Secondary / secondary special</td>\n",
       "      <td>Married</td>\n",
       "      <td>Municipal apartment</td>\n",
       "      <td>0.020713</td>\n",
       "      <td>-20232.0</td>\n",
       "      <td>-10044.0</td>\n",
       "      <td>-10024.0</td>\n",
       "      <td>-3537.0</td>\n",
       "      <td>13.0</td>\n",
       "      <td>1.0</td>\n",
       "      <td>1.0</td>\n",
       "      <td>1.0</td>\n",
       "      <td>1.0</td>\n",
       "      <td>1.0</td>\n",
       "      <td>0.0</td>\n",
       "      <td>None</td>\n",
       "      <td>2.0</td>\n",
       "      <td>3.0</td>\n",
       "      <td>3.0</td>\n",
       "      <td>TUESDAY</td>\n",
       "      <td>10.0</td>\n",
       "      <td>0.0</td>\n",
       "      <td>0.0</td>\n",
       "      <td>0.0</td>\n",
       "      <td>0.0</td>\n",
       "      <td>0.0</td>\n",
       "      <td>0.0</td>\n",
       "      <td>Business Entity Type 1</td>\n",
       "      <td>NaN</td>\n",
       "      <td>0.295998</td>\n",
       "      <td>0.461482</td>\n",
       "      <td>NaN</td>\n",
       "      <td>NaN</td>\n",
       "      <td>NaN</td>\n",
       "      <td>NaN</td>\n",
       "      <td>NaN</td>\n",
       "      <td>NaN</td>\n",
       "      <td>NaN</td>\n",
       "      <td>NaN</td>\n",
       "      <td>NaN</td>\n",
       "      <td>NaN</td>\n",
       "      <td>NaN</td>\n",
       "      <td>NaN</td>\n",
       "      <td>NaN</td>\n",
       "      <td>NaN</td>\n",
       "      <td>NaN</td>\n",
       "      <td>NaN</td>\n",
       "      <td>NaN</td>\n",
       "      <td>NaN</td>\n",
       "      <td>NaN</td>\n",
       "      <td>NaN</td>\n",
       "      <td>NaN</td>\n",
       "      <td>NaN</td>\n",
       "      <td>NaN</td>\n",
       "      <td>NaN</td>\n",
       "      <td>NaN</td>\n",
       "      <td>NaN</td>\n",
       "      <td>NaN</td>\n",
       "      <td>NaN</td>\n",
       "      <td>NaN</td>\n",
       "      <td>NaN</td>\n",
       "      <td>NaN</td>\n",
       "      <td>NaN</td>\n",
       "      <td>NaN</td>\n",
       "      <td>NaN</td>\n",
       "      <td>NaN</td>\n",
       "      <td>NaN</td>\n",
       "      <td>NaN</td>\n",
       "      <td>NaN</td>\n",
       "      <td>NaN</td>\n",
       "      <td>NaN</td>\n",
       "      <td>NaN</td>\n",
       "      <td>NaN</td>\n",
       "      <td>None</td>\n",
       "      <td>None</td>\n",
       "      <td>NaN</td>\n",
       "      <td>None</td>\n",
       "      <td>None</td>\n",
       "      <td>0.0</td>\n",
       "      <td>0.0</td>\n",
       "      <td>0.0</td>\n",
       "      <td>0.0</td>\n",
       "      <td>-286.0</td>\n",
       "      <td>0.0</td>\n",
       "      <td>0.0</td>\n",
       "      <td>0.0</td>\n",
       "      <td>0.0</td>\n",
       "      <td>0.0</td>\n",
       "      <td>0.0</td>\n",
       "      <td>0.0</td>\n",
       "      <td>0.0</td>\n",
       "      <td>0.0</td>\n",
       "      <td>0.0</td>\n",
       "      <td>0.0</td>\n",
       "      <td>0.0</td>\n",
       "      <td>0.0</td>\n",
       "      <td>0.0</td>\n",
       "      <td>0.0</td>\n",
       "      <td>0.0</td>\n",
       "      <td>0.0</td>\n",
       "      <td>0.0</td>\n",
       "      <td>0.0</td>\n",
       "      <td>0.0</td>\n",
       "      <td>0.0</td>\n",
       "      <td>0.0</td>\n",
       "      <td>0.0</td>\n",
       "      <td>0.0</td>\n",
       "      <td>0.0</td>\n",
       "      <td>1.0</td>\n",
       "      <td>55.43</td>\n",
       "      <td>27.52</td>\n",
       "      <td>27.46</td>\n",
       "      <td>9.69</td>\n",
       "      <td>0.78</td>\n",
       "    </tr>\n",
       "    <tr>\n",
       "      <th>38566</th>\n",
       "      <td>144669</td>\n",
       "      <td>0</td>\n",
       "      <td>Revolving loans</td>\n",
       "      <td>XNA</td>\n",
       "      <td>N</td>\n",
       "      <td>Y</td>\n",
       "      <td>2.0</td>\n",
       "      <td>157500.0</td>\n",
       "      <td>270000.0</td>\n",
       "      <td>13500.0</td>\n",
       "      <td>225000.0</td>\n",
       "      <td>Family</td>\n",
       "      <td>Working</td>\n",
       "      <td>Secondary / secondary special</td>\n",
       "      <td>Married</td>\n",
       "      <td>House / apartment</td>\n",
       "      <td>0.026392</td>\n",
       "      <td>-13717.0</td>\n",
       "      <td>-2797.0</td>\n",
       "      <td>-2241.0</td>\n",
       "      <td>-4659.0</td>\n",
       "      <td>NaN</td>\n",
       "      <td>1.0</td>\n",
       "      <td>1.0</td>\n",
       "      <td>1.0</td>\n",
       "      <td>1.0</td>\n",
       "      <td>1.0</td>\n",
       "      <td>0.0</td>\n",
       "      <td>Low-skill Laborers</td>\n",
       "      <td>4.0</td>\n",
       "      <td>2.0</td>\n",
       "      <td>2.0</td>\n",
       "      <td>FRIDAY</td>\n",
       "      <td>16.0</td>\n",
       "      <td>0.0</td>\n",
       "      <td>0.0</td>\n",
       "      <td>0.0</td>\n",
       "      <td>0.0</td>\n",
       "      <td>0.0</td>\n",
       "      <td>0.0</td>\n",
       "      <td>Industry: type 3</td>\n",
       "      <td>NaN</td>\n",
       "      <td>0.709205</td>\n",
       "      <td>0.310818</td>\n",
       "      <td>0.0165</td>\n",
       "      <td>0.0368</td>\n",
       "      <td>0.9811</td>\n",
       "      <td>NaN</td>\n",
       "      <td>NaN</td>\n",
       "      <td>0.0</td>\n",
       "      <td>0.0690</td>\n",
       "      <td>0.0417</td>\n",
       "      <td>NaN</td>\n",
       "      <td>0.0233</td>\n",
       "      <td>NaN</td>\n",
       "      <td>0.0115</td>\n",
       "      <td>NaN</td>\n",
       "      <td>0.0000</td>\n",
       "      <td>0.0168</td>\n",
       "      <td>0.0382</td>\n",
       "      <td>0.9811</td>\n",
       "      <td>NaN</td>\n",
       "      <td>NaN</td>\n",
       "      <td>0.0</td>\n",
       "      <td>0.0690</td>\n",
       "      <td>0.0417</td>\n",
       "      <td>NaN</td>\n",
       "      <td>0.0238</td>\n",
       "      <td>NaN</td>\n",
       "      <td>0.0120</td>\n",
       "      <td>NaN</td>\n",
       "      <td>0.0000</td>\n",
       "      <td>0.0167</td>\n",
       "      <td>0.0368</td>\n",
       "      <td>0.9811</td>\n",
       "      <td>NaN</td>\n",
       "      <td>NaN</td>\n",
       "      <td>0.0</td>\n",
       "      <td>0.0690</td>\n",
       "      <td>0.0417</td>\n",
       "      <td>NaN</td>\n",
       "      <td>0.0237</td>\n",
       "      <td>NaN</td>\n",
       "      <td>0.0117</td>\n",
       "      <td>NaN</td>\n",
       "      <td>0.000</td>\n",
       "      <td>None</td>\n",
       "      <td>block of flats</td>\n",
       "      <td>0.0090</td>\n",
       "      <td>Stone, brick</td>\n",
       "      <td>No</td>\n",
       "      <td>0.0</td>\n",
       "      <td>0.0</td>\n",
       "      <td>0.0</td>\n",
       "      <td>0.0</td>\n",
       "      <td>-493.0</td>\n",
       "      <td>0.0</td>\n",
       "      <td>0.0</td>\n",
       "      <td>0.0</td>\n",
       "      <td>0.0</td>\n",
       "      <td>0.0</td>\n",
       "      <td>0.0</td>\n",
       "      <td>0.0</td>\n",
       "      <td>0.0</td>\n",
       "      <td>0.0</td>\n",
       "      <td>0.0</td>\n",
       "      <td>0.0</td>\n",
       "      <td>0.0</td>\n",
       "      <td>0.0</td>\n",
       "      <td>0.0</td>\n",
       "      <td>0.0</td>\n",
       "      <td>0.0</td>\n",
       "      <td>0.0</td>\n",
       "      <td>0.0</td>\n",
       "      <td>0.0</td>\n",
       "      <td>0.0</td>\n",
       "      <td>0.0</td>\n",
       "      <td>0.0</td>\n",
       "      <td>0.0</td>\n",
       "      <td>3.0</td>\n",
       "      <td>0.0</td>\n",
       "      <td>4.0</td>\n",
       "      <td>37.58</td>\n",
       "      <td>7.66</td>\n",
       "      <td>6.14</td>\n",
       "      <td>12.76</td>\n",
       "      <td>1.35</td>\n",
       "    </tr>\n",
       "    <tr>\n",
       "      <th>83382</th>\n",
       "      <td>196708</td>\n",
       "      <td>0</td>\n",
       "      <td>Revolving loans</td>\n",
       "      <td>XNA</td>\n",
       "      <td>N</td>\n",
       "      <td>Y</td>\n",
       "      <td>1.0</td>\n",
       "      <td>135000.0</td>\n",
       "      <td>405000.0</td>\n",
       "      <td>20250.0</td>\n",
       "      <td>225000.0</td>\n",
       "      <td>Unaccompanied</td>\n",
       "      <td>Working</td>\n",
       "      <td>Higher education</td>\n",
       "      <td>Married</td>\n",
       "      <td>House / apartment</td>\n",
       "      <td>0.035792</td>\n",
       "      <td>-10647.0</td>\n",
       "      <td>-1228.0</td>\n",
       "      <td>-183.0</td>\n",
       "      <td>-1671.0</td>\n",
       "      <td>NaN</td>\n",
       "      <td>1.0</td>\n",
       "      <td>1.0</td>\n",
       "      <td>1.0</td>\n",
       "      <td>1.0</td>\n",
       "      <td>1.0</td>\n",
       "      <td>0.0</td>\n",
       "      <td>Core staff</td>\n",
       "      <td>3.0</td>\n",
       "      <td>2.0</td>\n",
       "      <td>2.0</td>\n",
       "      <td>THURSDAY</td>\n",
       "      <td>15.0</td>\n",
       "      <td>0.0</td>\n",
       "      <td>0.0</td>\n",
       "      <td>0.0</td>\n",
       "      <td>0.0</td>\n",
       "      <td>0.0</td>\n",
       "      <td>0.0</td>\n",
       "      <td>Kindergarten</td>\n",
       "      <td>0.404970</td>\n",
       "      <td>0.659185</td>\n",
       "      <td>0.076984</td>\n",
       "      <td>0.0773</td>\n",
       "      <td>0.1353</td>\n",
       "      <td>0.9921</td>\n",
       "      <td>0.8912</td>\n",
       "      <td>NaN</td>\n",
       "      <td>0.0</td>\n",
       "      <td>0.1379</td>\n",
       "      <td>0.1667</td>\n",
       "      <td>0.0417</td>\n",
       "      <td>NaN</td>\n",
       "      <td>0.0630</td>\n",
       "      <td>0.0621</td>\n",
       "      <td>0.0000</td>\n",
       "      <td>NaN</td>\n",
       "      <td>0.0788</td>\n",
       "      <td>0.1404</td>\n",
       "      <td>0.9921</td>\n",
       "      <td>0.8955</td>\n",
       "      <td>NaN</td>\n",
       "      <td>0.0</td>\n",
       "      <td>0.1379</td>\n",
       "      <td>0.1667</td>\n",
       "      <td>0.0417</td>\n",
       "      <td>NaN</td>\n",
       "      <td>0.0689</td>\n",
       "      <td>0.0647</td>\n",
       "      <td>0.0000</td>\n",
       "      <td>NaN</td>\n",
       "      <td>0.0781</td>\n",
       "      <td>0.1353</td>\n",
       "      <td>0.9921</td>\n",
       "      <td>0.8927</td>\n",
       "      <td>NaN</td>\n",
       "      <td>0.0</td>\n",
       "      <td>0.1379</td>\n",
       "      <td>0.1667</td>\n",
       "      <td>0.0417</td>\n",
       "      <td>NaN</td>\n",
       "      <td>0.0641</td>\n",
       "      <td>0.0632</td>\n",
       "      <td>0.0000</td>\n",
       "      <td>NaN</td>\n",
       "      <td>reg oper spec account</td>\n",
       "      <td>block of flats</td>\n",
       "      <td>0.0769</td>\n",
       "      <td>Panel</td>\n",
       "      <td>No</td>\n",
       "      <td>7.0</td>\n",
       "      <td>1.0</td>\n",
       "      <td>7.0</td>\n",
       "      <td>1.0</td>\n",
       "      <td>-851.0</td>\n",
       "      <td>0.0</td>\n",
       "      <td>0.0</td>\n",
       "      <td>0.0</td>\n",
       "      <td>0.0</td>\n",
       "      <td>0.0</td>\n",
       "      <td>0.0</td>\n",
       "      <td>0.0</td>\n",
       "      <td>0.0</td>\n",
       "      <td>0.0</td>\n",
       "      <td>0.0</td>\n",
       "      <td>0.0</td>\n",
       "      <td>0.0</td>\n",
       "      <td>0.0</td>\n",
       "      <td>0.0</td>\n",
       "      <td>0.0</td>\n",
       "      <td>0.0</td>\n",
       "      <td>0.0</td>\n",
       "      <td>0.0</td>\n",
       "      <td>0.0</td>\n",
       "      <td>0.0</td>\n",
       "      <td>0.0</td>\n",
       "      <td>0.0</td>\n",
       "      <td>0.0</td>\n",
       "      <td>0.0</td>\n",
       "      <td>0.0</td>\n",
       "      <td>3.0</td>\n",
       "      <td>29.17</td>\n",
       "      <td>3.36</td>\n",
       "      <td>0.50</td>\n",
       "      <td>4.58</td>\n",
       "      <td>2.33</td>\n",
       "    </tr>\n",
       "    <tr>\n",
       "      <th>189640</th>\n",
       "      <td>319880</td>\n",
       "      <td>0</td>\n",
       "      <td>Revolving loans</td>\n",
       "      <td>XNA</td>\n",
       "      <td>Y</td>\n",
       "      <td>Y</td>\n",
       "      <td>0.0</td>\n",
       "      <td>247500.0</td>\n",
       "      <td>540000.0</td>\n",
       "      <td>27000.0</td>\n",
       "      <td>900000.0</td>\n",
       "      <td>Unaccompanied</td>\n",
       "      <td>Commercial associate</td>\n",
       "      <td>Incomplete higher</td>\n",
       "      <td>Civil marriage</td>\n",
       "      <td>House / apartment</td>\n",
       "      <td>0.035792</td>\n",
       "      <td>-9649.0</td>\n",
       "      <td>-2293.0</td>\n",
       "      <td>-4099.0</td>\n",
       "      <td>-2326.0</td>\n",
       "      <td>8.0</td>\n",
       "      <td>1.0</td>\n",
       "      <td>1.0</td>\n",
       "      <td>1.0</td>\n",
       "      <td>1.0</td>\n",
       "      <td>1.0</td>\n",
       "      <td>0.0</td>\n",
       "      <td>None</td>\n",
       "      <td>2.0</td>\n",
       "      <td>2.0</td>\n",
       "      <td>2.0</td>\n",
       "      <td>FRIDAY</td>\n",
       "      <td>15.0</td>\n",
       "      <td>0.0</td>\n",
       "      <td>0.0</td>\n",
       "      <td>0.0</td>\n",
       "      <td>0.0</td>\n",
       "      <td>0.0</td>\n",
       "      <td>0.0</td>\n",
       "      <td>Medicine</td>\n",
       "      <td>0.653035</td>\n",
       "      <td>0.658620</td>\n",
       "      <td>0.360613</td>\n",
       "      <td>0.0278</td>\n",
       "      <td>0.0555</td>\n",
       "      <td>0.9712</td>\n",
       "      <td>0.6056</td>\n",
       "      <td>0.0053</td>\n",
       "      <td>0.0</td>\n",
       "      <td>0.0690</td>\n",
       "      <td>0.0833</td>\n",
       "      <td>0.1250</td>\n",
       "      <td>0.0261</td>\n",
       "      <td>0.0219</td>\n",
       "      <td>0.0292</td>\n",
       "      <td>0.0039</td>\n",
       "      <td>0.0069</td>\n",
       "      <td>0.0284</td>\n",
       "      <td>0.0576</td>\n",
       "      <td>0.9712</td>\n",
       "      <td>0.6210</td>\n",
       "      <td>0.0054</td>\n",
       "      <td>0.0</td>\n",
       "      <td>0.0690</td>\n",
       "      <td>0.0833</td>\n",
       "      <td>0.1250</td>\n",
       "      <td>0.0267</td>\n",
       "      <td>0.0239</td>\n",
       "      <td>0.0305</td>\n",
       "      <td>0.0039</td>\n",
       "      <td>0.0073</td>\n",
       "      <td>0.0281</td>\n",
       "      <td>0.0555</td>\n",
       "      <td>0.9712</td>\n",
       "      <td>0.6109</td>\n",
       "      <td>0.0054</td>\n",
       "      <td>0.0</td>\n",
       "      <td>0.0690</td>\n",
       "      <td>0.0833</td>\n",
       "      <td>0.1250</td>\n",
       "      <td>0.0266</td>\n",
       "      <td>0.0222</td>\n",
       "      <td>0.0298</td>\n",
       "      <td>0.0039</td>\n",
       "      <td>0.007</td>\n",
       "      <td>reg oper account</td>\n",
       "      <td>block of flats</td>\n",
       "      <td>0.0245</td>\n",
       "      <td>Stone, brick</td>\n",
       "      <td>No</td>\n",
       "      <td>10.0</td>\n",
       "      <td>4.0</td>\n",
       "      <td>10.0</td>\n",
       "      <td>4.0</td>\n",
       "      <td>-1681.0</td>\n",
       "      <td>0.0</td>\n",
       "      <td>0.0</td>\n",
       "      <td>0.0</td>\n",
       "      <td>0.0</td>\n",
       "      <td>0.0</td>\n",
       "      <td>0.0</td>\n",
       "      <td>0.0</td>\n",
       "      <td>0.0</td>\n",
       "      <td>0.0</td>\n",
       "      <td>0.0</td>\n",
       "      <td>0.0</td>\n",
       "      <td>0.0</td>\n",
       "      <td>0.0</td>\n",
       "      <td>0.0</td>\n",
       "      <td>0.0</td>\n",
       "      <td>0.0</td>\n",
       "      <td>0.0</td>\n",
       "      <td>0.0</td>\n",
       "      <td>0.0</td>\n",
       "      <td>0.0</td>\n",
       "      <td>0.0</td>\n",
       "      <td>0.0</td>\n",
       "      <td>0.0</td>\n",
       "      <td>0.0</td>\n",
       "      <td>1.0</td>\n",
       "      <td>6.0</td>\n",
       "      <td>26.44</td>\n",
       "      <td>6.28</td>\n",
       "      <td>11.23</td>\n",
       "      <td>6.37</td>\n",
       "      <td>4.61</td>\n",
       "    </tr>\n",
       "  </tbody>\n",
       "</table>\n",
       "</div>"
      ],
      "text/plain": [
       "        SK_ID_CURR  TARGET NAME_CONTRACT_TYPE CODE_GENDER FLAG_OWN_CAR FLAG_OWN_REALTY  CNT_CHILDREN  AMT_INCOME_TOTAL  AMT_CREDIT  AMT_ANNUITY  AMT_GOODS_PRICE NAME_TYPE_SUITE      NAME_INCOME_TYPE            NAME_EDUCATION_TYPE NAME_FAMILY_STATUS    NAME_HOUSING_TYPE  REGION_POPULATION_RELATIVE  DAYS_BIRTH  DAYS_EMPLOYED  DAYS_REGISTRATION  DAYS_ID_PUBLISH  OWN_CAR_AGE  FLAG_MOBIL  FLAG_EMP_PHONE  FLAG_WORK_PHONE  FLAG_CONT_MOBILE  FLAG_PHONE  FLAG_EMAIL     OCCUPATION_TYPE  CNT_FAM_MEMBERS  REGION_RATING_CLIENT  REGION_RATING_CLIENT_W_CITY WEEKDAY_APPR_PROCESS_START  HOUR_APPR_PROCESS_START  REG_REGION_NOT_LIVE_REGION  REG_REGION_NOT_WORK_REGION  LIVE_REGION_NOT_WORK_REGION  REG_CITY_NOT_LIVE_CITY  REG_CITY_NOT_WORK_CITY  LIVE_CITY_NOT_WORK_CITY       ORGANIZATION_TYPE  EXT_SOURCE_1  EXT_SOURCE_2  EXT_SOURCE_3  APARTMENTS_AVG  BASEMENTAREA_AVG  YEARS_BEGINEXPLUATATION_AVG  YEARS_BUILD_AVG  COMMONAREA_AVG  ELEVATORS_AVG  ENTRANCES_AVG  FLOORSMAX_AVG  FLOORSMIN_AVG  LANDAREA_AVG  \\\n",
       "35657       141289       0    Revolving loans         XNA            Y               Y           0.0          207000.0    382500.0      19125.0         337500.0   Unaccompanied               Working  Secondary / secondary special            Married  Municipal apartment                    0.020713    -20232.0       -10044.0           -10024.0          -3537.0         13.0         1.0             1.0              1.0               1.0         1.0         0.0                None              2.0                   3.0                          3.0                    TUESDAY                     10.0                         0.0                         0.0                          0.0                     0.0                     0.0                      0.0  Business Entity Type 1           NaN      0.295998      0.461482             NaN               NaN                          NaN              NaN             NaN            NaN            NaN            NaN            NaN           NaN   \n",
       "38566       144669       0    Revolving loans         XNA            N               Y           2.0          157500.0    270000.0      13500.0         225000.0          Family               Working  Secondary / secondary special            Married    House / apartment                    0.026392    -13717.0        -2797.0            -2241.0          -4659.0          NaN         1.0             1.0              1.0               1.0         1.0         0.0  Low-skill Laborers              4.0                   2.0                          2.0                     FRIDAY                     16.0                         0.0                         0.0                          0.0                     0.0                     0.0                      0.0        Industry: type 3           NaN      0.709205      0.310818          0.0165            0.0368                       0.9811              NaN             NaN            0.0         0.0690         0.0417            NaN        0.0233   \n",
       "83382       196708       0    Revolving loans         XNA            N               Y           1.0          135000.0    405000.0      20250.0         225000.0   Unaccompanied               Working               Higher education            Married    House / apartment                    0.035792    -10647.0        -1228.0             -183.0          -1671.0          NaN         1.0             1.0              1.0               1.0         1.0         0.0          Core staff              3.0                   2.0                          2.0                   THURSDAY                     15.0                         0.0                         0.0                          0.0                     0.0                     0.0                      0.0            Kindergarten      0.404970      0.659185      0.076984          0.0773            0.1353                       0.9921           0.8912             NaN            0.0         0.1379         0.1667         0.0417           NaN   \n",
       "189640      319880       0    Revolving loans         XNA            Y               Y           0.0          247500.0    540000.0      27000.0         900000.0   Unaccompanied  Commercial associate              Incomplete higher     Civil marriage    House / apartment                    0.035792     -9649.0        -2293.0            -4099.0          -2326.0          8.0         1.0             1.0              1.0               1.0         1.0         0.0                None              2.0                   2.0                          2.0                     FRIDAY                     15.0                         0.0                         0.0                          0.0                     0.0                     0.0                      0.0                Medicine      0.653035      0.658620      0.360613          0.0278            0.0555                       0.9712           0.6056          0.0053            0.0         0.0690         0.0833         0.1250        0.0261   \n",
       "\n",
       "        LIVINGAPARTMENTS_AVG  LIVINGAREA_AVG  NONLIVINGAPARTMENTS_AVG  NONLIVINGAREA_AVG  APARTMENTS_MODE  BASEMENTAREA_MODE  YEARS_BEGINEXPLUATATION_MODE  YEARS_BUILD_MODE  COMMONAREA_MODE  ELEVATORS_MODE  ENTRANCES_MODE  FLOORSMAX_MODE  FLOORSMIN_MODE  LANDAREA_MODE  LIVINGAPARTMENTS_MODE  LIVINGAREA_MODE  NONLIVINGAPARTMENTS_MODE  NONLIVINGAREA_MODE  APARTMENTS_MEDI  BASEMENTAREA_MEDI  YEARS_BEGINEXPLUATATION_MEDI  YEARS_BUILD_MEDI  COMMONAREA_MEDI  ELEVATORS_MEDI  ENTRANCES_MEDI  FLOORSMAX_MEDI  FLOORSMIN_MEDI  LANDAREA_MEDI  LIVINGAPARTMENTS_MEDI  LIVINGAREA_MEDI  NONLIVINGAPARTMENTS_MEDI  NONLIVINGAREA_MEDI     FONDKAPREMONT_MODE  HOUSETYPE_MODE  TOTALAREA_MODE WALLSMATERIAL_MODE EMERGENCYSTATE_MODE  OBS_30_CNT_SOCIAL_CIRCLE  DEF_30_CNT_SOCIAL_CIRCLE  OBS_60_CNT_SOCIAL_CIRCLE  DEF_60_CNT_SOCIAL_CIRCLE  DAYS_LAST_PHONE_CHANGE  FLAG_DOCUMENT_2  FLAG_DOCUMENT_3  FLAG_DOCUMENT_4  FLAG_DOCUMENT_5  FLAG_DOCUMENT_6  FLAG_DOCUMENT_7  FLAG_DOCUMENT_8  FLAG_DOCUMENT_9  FLAG_DOCUMENT_10  \\\n",
       "35657                    NaN             NaN                      NaN                NaN              NaN                NaN                           NaN               NaN              NaN             NaN             NaN             NaN             NaN            NaN                    NaN              NaN                       NaN                 NaN              NaN                NaN                           NaN               NaN              NaN             NaN             NaN             NaN             NaN            NaN                    NaN              NaN                       NaN                 NaN                   None            None             NaN               None                None                       0.0                       0.0                       0.0                       0.0                  -286.0              0.0              0.0              0.0              0.0              0.0              0.0              0.0              0.0               0.0   \n",
       "38566                    NaN          0.0115                      NaN             0.0000           0.0168             0.0382                        0.9811               NaN              NaN             0.0          0.0690          0.0417             NaN         0.0238                    NaN           0.0120                       NaN              0.0000           0.0167             0.0368                        0.9811               NaN              NaN             0.0          0.0690          0.0417             NaN         0.0237                    NaN           0.0117                       NaN               0.000                   None  block of flats          0.0090       Stone, brick                  No                       0.0                       0.0                       0.0                       0.0                  -493.0              0.0              0.0              0.0              0.0              0.0              0.0              0.0              0.0               0.0   \n",
       "83382                 0.0630          0.0621                   0.0000                NaN           0.0788             0.1404                        0.9921            0.8955              NaN             0.0          0.1379          0.1667          0.0417            NaN                 0.0689           0.0647                    0.0000                 NaN           0.0781             0.1353                        0.9921            0.8927              NaN             0.0          0.1379          0.1667          0.0417            NaN                 0.0641           0.0632                    0.0000                 NaN  reg oper spec account  block of flats          0.0769              Panel                  No                       7.0                       1.0                       7.0                       1.0                  -851.0              0.0              0.0              0.0              0.0              0.0              0.0              0.0              0.0               0.0   \n",
       "189640                0.0219          0.0292                   0.0039             0.0069           0.0284             0.0576                        0.9712            0.6210           0.0054             0.0          0.0690          0.0833          0.1250         0.0267                 0.0239           0.0305                    0.0039              0.0073           0.0281             0.0555                        0.9712            0.6109           0.0054             0.0          0.0690          0.0833          0.1250         0.0266                 0.0222           0.0298                    0.0039               0.007       reg oper account  block of flats          0.0245       Stone, brick                  No                      10.0                       4.0                      10.0                       4.0                 -1681.0              0.0              0.0              0.0              0.0              0.0              0.0              0.0              0.0               0.0   \n",
       "\n",
       "        FLAG_DOCUMENT_11  FLAG_DOCUMENT_12  FLAG_DOCUMENT_13  FLAG_DOCUMENT_14  FLAG_DOCUMENT_15  FLAG_DOCUMENT_16  FLAG_DOCUMENT_17  FLAG_DOCUMENT_18  FLAG_DOCUMENT_19  FLAG_DOCUMENT_20  FLAG_DOCUMENT_21  AMT_REQ_CREDIT_BUREAU_HOUR  AMT_REQ_CREDIT_BUREAU_DAY  AMT_REQ_CREDIT_BUREAU_WEEK  AMT_REQ_CREDIT_BUREAU_MON  AMT_REQ_CREDIT_BUREAU_QRT  AMT_REQ_CREDIT_BUREAU_YEAR  DAYS_BIRTH_YEARS  DAYS_EMPLOYED_YEARS  DAYS_REGISTRATION_YEARS  DAYS_ID_PUBLISH_YEARS  DAYS_LAST_PHONE_CHANGE_YEARS  \n",
       "35657                0.0               0.0               0.0               0.0               0.0               0.0               0.0               0.0               0.0               0.0               0.0                         0.0                        0.0                         0.0                        0.0                        0.0                         1.0             55.43                27.52                    27.46                   9.69                          0.78  \n",
       "38566                0.0               0.0               0.0               0.0               0.0               0.0               0.0               0.0               0.0               0.0               0.0                         0.0                        0.0                         0.0                        3.0                        0.0                         4.0             37.58                 7.66                     6.14                  12.76                          1.35  \n",
       "83382                0.0               0.0               0.0               0.0               0.0               0.0               0.0               0.0               0.0               0.0               0.0                         0.0                        0.0                         0.0                        0.0                        0.0                         3.0             29.17                 3.36                     0.50                   4.58                          2.33  \n",
       "189640               0.0               0.0               0.0               0.0               0.0               0.0               0.0               0.0               0.0               0.0               0.0                         0.0                        0.0                         0.0                        0.0                        1.0                         6.0             26.44                 6.28                    11.23                   6.37                          4.61  "
      ]
     },
     "execution_count": 48,
     "metadata": {},
     "output_type": "execute_result"
    }
   ],
   "source": [
    "df_train.loc[df_train['CODE_GENDER'] == 'XNA', ].head()"
   ]
  },
  {
   "cell_type": "code",
   "execution_count": 41,
   "id": "476a2bff",
   "metadata": {},
   "outputs": [
    {
     "data": {
      "text/plain": [
       "NAME_INCOME_TYPE\n",
       "Working                 158774\n",
       "Commercial associate     71617\n",
       "Pensioner                55362\n",
       "State servant            21703\n",
       "Unemployed                  22\n",
       "Student                     18\n",
       "Businessman                 10\n",
       "Maternity leave              5\n",
       "Name: count, dtype: int64"
      ]
     },
     "execution_count": 41,
     "metadata": {},
     "output_type": "execute_result"
    },
    {
     "data": {
      "image/png": "[encoded data removed]",
      "text/plain": [
       "<Figure size 640x480 with 1 Axes>"
      ]
     },
     "metadata": {},
     "output_type": "display_data"
    }
   ],
   "source": [
    "# sns.countplot(df_train, x = 'TARGET', stat = 'percent', hue = 'NAME_INCOME_TYPE')\n",
    "df_train.groupby(['NAME_INCOME_TYPE', 'TARGET']).size().unstack().plot(kind = 'bar', stacked = False)\n",
    "df_train['NAME_INCOME_TYPE'].value_counts()"
   ]
  },
  {
   "cell_type": "code",
   "execution_count": 45,
   "id": "45b8764e",
   "metadata": {},
   "outputs": [
    {
     "data": {
      "text/plain": [
       "NAME_INCOME_TYPE  TARGET\n",
       "Businessman       0         10\n",
       "Maternity leave   0          3\n",
       "                  1          2\n",
       "Student           0         18\n",
       "Unemployed        0         14\n",
       "                  1          8\n",
       "dtype: int64"
      ]
     },
     "execution_count": 45,
     "metadata": {},
     "output_type": "execute_result"
    }
   ],
   "source": [
    "df_train.loc[df_train['NAME_INCOME_TYPE'].isin(['Unemployed', 'Student', 'Businessman', 'Maternity leave'])].groupby(['NAME_INCOME_TYPE', 'TARGET']).size()"
   ]
  },
  {
   "cell_type": "code",
   "execution_count": 27,
   "id": "ea121b46",
   "metadata": {},
   "outputs": [
    {
     "name": "stdout",
     "output_type": "stream",
     "text": [
      "count    307511.000000\n",
      "mean         43.936976\n",
      "std          11.956135\n",
      "min          20.520000\n",
      "25%          34.010000\n",
      "50%          43.150000\n",
      "75%          53.920000\n",
      "max          69.120000\n",
      "Name: DAYS_BIRTH_YEARS, dtype: float64\n"
     ]
    },
    {
     "data": {
      "image/png": "[encoded data removed]",
      "text/plain": [
       "<Figure size 640x480 with 1 Axes>"
      ]
     },
     "metadata": {},
     "output_type": "display_data"
    }
   ],
   "source": [
    "sns.histplot(df_train, x = 'DAYS_BIRTH_YEARS')\n",
    "print (df_train['DAYS_BIRTH_YEARS'].describe())"
   ]
  },
  {
   "cell_type": "code",
   "execution_count": 30,
   "id": "056068fd",
   "metadata": {},
   "outputs": [
    {
     "data": {
      "text/plain": [
       "<Axes: xlabel='OWN_CAR_AGE', ylabel='OCCUPATION_TYPE'>"
      ]
     },
     "execution_count": 30,
     "metadata": {},
     "output_type": "execute_result"
    },
    {
     "data": {
      "image/png": "[encoded data removed]",
      "text/plain": [
       "<Figure size 640x480 with 1 Axes>"
      ]
     },
     "metadata": {},
     "output_type": "display_data"
    }
   ],
   "source": [
    "sns.barplot(data = df_train, x = 'OWN_CAR_AGE', y = 'OCCUPATION_TYPE')"
   ]
  },
  {
   "cell_type": "code",
   "execution_count": null,
   "id": "51b7585b",
   "metadata": {},
   "outputs": [],
   "source": []
  },
  {
   "cell_type": "code",
   "execution_count": null,
   "id": "ae84eea7",
   "metadata": {},
   "outputs": [],
   "source": []
  },
  {
   "cell_type": "code",
   "execution_count": 54,
   "id": "708679e3",
   "metadata": {},
   "outputs": [
    {
     "data": {
      "text/plain": [
       "0"
      ]
     },
     "execution_count": 54,
     "metadata": {},
     "output_type": "execute_result"
    }
   ],
   "source": [
    "sdf_train.filter(F.col('DAYS_BIRTH') == 365243.0).count()"
   ]
  },
  {
   "cell_type": "code",
   "execution_count": 43,
   "id": "8e6f7f3e",
   "metadata": {},
   "outputs": [
    {
     "data": {
      "text/plain": [
       "['DAYS_DECISION',\n",
       " 'DAYS_FIRST_DRAWING',\n",
       " 'DAYS_FIRST_DUE',\n",
       " 'DAYS_LAST_DUE_1ST_VERSION',\n",
       " 'DAYS_LAST_DUE',\n",
       " 'DAYS_TERMINATION']"
      ]
     },
     "execution_count": 43,
     "metadata": {},
     "output_type": "execute_result"
    }
   ],
   "source": [
    "ls = list(sdf_prev_app.columns)\n",
    "ls_days = [col for col in ls if 'DAYS' in col]\n",
    "ls_days"
   ]
  },
  {
   "cell_type": "code",
   "execution_count": 46,
   "id": "9d3d0212",
   "metadata": {},
   "outputs": [
    {
     "name": "stderr",
     "output_type": "stream",
     "text": [
      "[Stage 1145:>                                                       (0 + 8) / 8]\r"
     ]
    },
    {
     "name": "stdout",
     "output_type": "stream",
     "text": [
      "+------------------+\n",
      "|DAYS_FIRST_DRAWING|\n",
      "+------------------+\n",
      "|-184.0            |\n",
      "|-64.0             |\n",
      "|-2826.0           |\n",
      "|-2701.0           |\n",
      "|-633.0            |\n",
      "|-2162.0           |\n",
      "|-2307.0           |\n",
      "|-1814.0           |\n",
      "|-798.0            |\n",
      "|-530.0            |\n",
      "+------------------+\n",
      "only showing top 10 rows\n",
      "\n"
     ]
    },
    {
     "name": "stderr",
     "output_type": "stream",
     "text": [
      "                                                                                \r"
     ]
    }
   ],
   "source": [
    "sdf_prev_app.select('DAYS_FIRST_DRAWING').distinct().show(10, False)"
   ]
  },
  {
   "cell_type": "code",
   "execution_count": 44,
   "id": "c84a6d84",
   "metadata": {},
   "outputs": [
    {
     "name": "stdout",
     "output_type": "stream",
     "text": [
      "+-------------+------------------+--------------+-------------------------+-------------+----------------+\n",
      "|DAYS_DECISION|DAYS_FIRST_DRAWING|DAYS_FIRST_DUE|DAYS_LAST_DUE_1ST_VERSION|DAYS_LAST_DUE|DAYS_TERMINATION|\n",
      "+-------------+------------------+--------------+-------------------------+-------------+----------------+\n",
      "|-73.0        |365243.0          |-42.0         |300.0                    |-42.0        |-37.0           |\n",
      "|-164.0       |365243.0          |-134.0        |916.0                    |365243.0     |365243.0        |\n",
      "|-301.0       |365243.0          |-271.0        |59.0                     |365243.0     |365243.0        |\n",
      "|-512.0       |365243.0          |-482.0        |-152.0                   |-182.0       |-177.0          |\n",
      "|-781.0       |NULL              |NULL          |NULL                     |NULL         |NULL            |\n",
      "|-684.0       |365243.0          |-654.0        |-144.0                   |-144.0       |-137.0          |\n",
      "|-14.0        |NULL              |NULL          |NULL                     |NULL         |NULL            |\n",
      "|-21.0        |NULL              |NULL          |NULL                     |NULL         |NULL            |\n",
      "|-386.0       |NULL              |NULL          |NULL                     |NULL         |NULL            |\n",
      "|-57.0        |NULL              |NULL          |NULL                     |NULL         |NULL            |\n",
      "+-------------+------------------+--------------+-------------------------+-------------+----------------+\n",
      "only showing top 10 rows\n",
      "\n"
     ]
    }
   ],
   "source": [
    "sdf_prev_app.select(ls_days).show(10, False)"
   ]
  },
  {
   "cell_type": "code",
   "execution_count": 33,
   "id": "eb51b011",
   "metadata": {},
   "outputs": [
    {
     "name": "stdout",
     "output_type": "stream",
     "text": [
      "+----------+\n",
      "|DAYS_BIRTH|\n",
      "+----------+\n",
      "|-9461.0   |\n",
      "|-16765.0  |\n",
      "|-19046.0  |\n",
      "|-19005.0  |\n",
      "|-19932.0  |\n",
      "|-16941.0  |\n",
      "|-13778.0  |\n",
      "|-18850.0  |\n",
      "|-20099.0  |\n",
      "|-14469.0  |\n",
      "+----------+\n",
      "only showing top 10 rows\n",
      "\n"
     ]
    }
   ],
   "source": [
    "sdf_train.select('DAYS_BIRTH').show(10, False)"
   ]
  },
  {
   "cell_type": "code",
   "execution_count": null,
   "id": "18e481f8",
   "metadata": {},
   "outputs": [],
   "source": [
    "SK_ID_CURR, SK_ID_PREV"
   ]
  },
  {
   "cell_type": "code",
   "execution_count": null,
   "id": "eb1a9041",
   "metadata": {},
   "outputs": [],
   "source": []
  },
  {
   "cell_type": "code",
   "execution_count": null,
   "id": "765df48f",
   "metadata": {},
   "outputs": [],
   "source": []
  },
  {
   "cell_type": "code",
   "execution_count": 81,
   "id": "b6fe238e",
   "metadata": {},
   "outputs": [
    {
     "name": "stdout",
     "output_type": "stream",
     "text": [
      "+-----------------+\n",
      "|RATE_DOWN_PAYMENT|\n",
      "+-----------------+\n",
      "|0.00             |\n",
      "|NULL             |\n",
      "|NULL             |\n",
      "|NULL             |\n",
      "|NULL             |\n",
      "|NULL             |\n",
      "|NULL             |\n",
      "|NULL             |\n",
      "|NULL             |\n",
      "|NULL             |\n",
      "+-----------------+\n",
      "only showing top 10 rows\n",
      "\n"
     ]
    }
   ],
   "source": [
    "sdf_prev_app.withColumn('RATE_DOWN_PAYMENT', sdf_prev_app.RATE_DOWN_PAYMENT.cast(DecimalType(18, 2))).select('RATE_DOWN_PAYMENT').show(10, False)"
   ]
  },
  {
   "cell_type": "code",
   "execution_count": 67,
   "id": "86321138",
   "metadata": {},
   "outputs": [],
   "source": [
    "test_df = sdf_prev_app.filter(F.col(\"RATE_DOWN_PAYMENT\").isNotNull()).select(\"RATE_DOWN_PAYMENT\",F.col(\"RATE_DOWN_PAYMENT\").cast(\"int\").isNotNull().alias(\"Value\"))"
   ]
  },
  {
   "cell_type": "code",
   "execution_count": 69,
   "id": "e6adb3b6",
   "metadata": {},
   "outputs": [
    {
     "name": "stdout",
     "output_type": "stream",
     "text": [
      "+----------------------+-----+\n",
      "|RATE_DOWN_PAYMENT     |Value|\n",
      "+----------------------+-----+\n",
      "|2.4141471028544085e-05|false|\n",
      "|6.6415676760777705e-06|false|\n",
      "|4.471512536704676e-05 |false|\n",
      "|9.101122741917918e-05 |false|\n",
      "|3.0140058183562517e-05|false|\n",
      "|1.4677181638086176e-05|false|\n",
      "|4.3805246635076936e-05|false|\n",
      "|3.762526119240772e-05 |false|\n",
      "|6.451100469966441e-05 |false|\n",
      "|3.797602489831247e-05 |false|\n",
      "+----------------------+-----+\n",
      "only showing top 10 rows\n",
      "\n"
     ]
    }
   ],
   "source": [
    "test_df.where(F.col(\"Value\") == 'false').show(10, False)"
   ]
  },
  {
   "cell_type": "code",
   "execution_count": null,
   "id": "c8bc0239",
   "metadata": {},
   "outputs": [],
   "source": []
  },
  {
   "cell_type": "code",
   "execution_count": 39,
   "id": "d1a0ef4d",
   "metadata": {},
   "outputs": [],
   "source": [
    "test = sdf_prev_app.select(\"HOUR_APPR_PROCESS_START\",F.col(\"HOUR_APPR_PROCESS_START\").cast(\"int\").isNotNull().alias(\"Value\"))"
   ]
  },
  {
   "cell_type": "code",
   "execution_count": 45,
   "id": "d61d5463",
   "metadata": {},
   "outputs": [],
   "source": [
    "number = test.where(F.col(\"Value\") == 'true').count()"
   ]
  },
  {
   "cell_type": "code",
   "execution_count": 47,
   "id": "b906336a",
   "metadata": {},
   "outputs": [
    {
     "data": {
      "text/plain": [
       "int"
      ]
     },
     "execution_count": 47,
     "metadata": {},
     "output_type": "execute_result"
    }
   ],
   "source": [
    "type(number)"
   ]
  },
  {
   "cell_type": "code",
   "execution_count": 37,
   "id": "477ad3db",
   "metadata": {},
   "outputs": [
    {
     "name": "stderr",
     "output_type": "stream",
     "text": [
      "                                                                                \r"
     ]
    },
    {
     "data": {
      "text/plain": [
       "1670214"
      ]
     },
     "execution_count": 37,
     "metadata": {},
     "output_type": "execute_result"
    }
   ],
   "source": [
    "sum(test.select('Value').toPandas().Value)"
   ]
  },
  {
   "cell_type": "code",
   "execution_count": null,
   "id": "331f6cee",
   "metadata": {},
   "outputs": [],
   "source": []
  },
  {
   "cell_type": "code",
   "execution_count": 19,
   "id": "cd8df0c4",
   "metadata": {},
   "outputs": [
    {
     "ename": "AttributeError",
     "evalue": "'DataFrame' object has no attribute 'to_series'",
     "output_type": "error",
     "traceback": [
      "\u001b[0;31m---------------------------------------------------------------------------\u001b[0m",
      "\u001b[0;31mAttributeError\u001b[0m                            Traceback (most recent call last)",
      "Cell \u001b[0;32mIn[19], line 1\u001b[0m\n\u001b[0;32m----> 1\u001b[0m \u001b[43msdf_prev_app\u001b[49m\u001b[38;5;241;43m.\u001b[39;49m\u001b[43mselect\u001b[49m\u001b[43m(\u001b[49m\u001b[38;5;124;43m'\u001b[39;49m\u001b[38;5;124;43mHOUR_APPR_PROCESS_START\u001b[39;49m\u001b[38;5;124;43m'\u001b[39;49m\u001b[43m)\u001b[49m\u001b[38;5;241;43m.\u001b[39;49m\u001b[43mto_series\u001b[49m()\u001b[38;5;241m.\u001b[39misnumeric()\n",
      "File \u001b[0;32m/opt/anaconda3/lib/python3.12/site-packages/pyspark/sql/dataframe.py:3129\u001b[0m, in \u001b[0;36mDataFrame.__getattr__\u001b[0;34m(self, name)\u001b[0m\n\u001b[1;32m   3096\u001b[0m \u001b[38;5;250m\u001b[39m\u001b[38;5;124;03m\"\"\"Returns the :class:`Column` denoted by ``name``.\u001b[39;00m\n\u001b[1;32m   3097\u001b[0m \n\u001b[1;32m   3098\u001b[0m \u001b[38;5;124;03m.. versionadded:: 1.3.0\u001b[39;00m\n\u001b[0;32m   (...)\u001b[0m\n\u001b[1;32m   3126\u001b[0m \u001b[38;5;124;03m+---+\u001b[39;00m\n\u001b[1;32m   3127\u001b[0m \u001b[38;5;124;03m\"\"\"\u001b[39;00m\n\u001b[1;32m   3128\u001b[0m \u001b[38;5;28;01mif\u001b[39;00m name \u001b[38;5;129;01mnot\u001b[39;00m \u001b[38;5;129;01min\u001b[39;00m \u001b[38;5;28mself\u001b[39m\u001b[38;5;241m.\u001b[39mcolumns:\n\u001b[0;32m-> 3129\u001b[0m     \u001b[38;5;28;01mraise\u001b[39;00m \u001b[38;5;167;01mAttributeError\u001b[39;00m(\n\u001b[1;32m   3130\u001b[0m         \u001b[38;5;124m\"\u001b[39m\u001b[38;5;124m'\u001b[39m\u001b[38;5;132;01m%s\u001b[39;00m\u001b[38;5;124m'\u001b[39m\u001b[38;5;124m object has no attribute \u001b[39m\u001b[38;5;124m'\u001b[39m\u001b[38;5;132;01m%s\u001b[39;00m\u001b[38;5;124m'\u001b[39m\u001b[38;5;124m\"\u001b[39m \u001b[38;5;241m%\u001b[39m (\u001b[38;5;28mself\u001b[39m\u001b[38;5;241m.\u001b[39m\u001b[38;5;18m__class__\u001b[39m\u001b[38;5;241m.\u001b[39m\u001b[38;5;18m__name__\u001b[39m, name)\n\u001b[1;32m   3131\u001b[0m     )\n\u001b[1;32m   3132\u001b[0m jc \u001b[38;5;241m=\u001b[39m \u001b[38;5;28mself\u001b[39m\u001b[38;5;241m.\u001b[39m_jdf\u001b[38;5;241m.\u001b[39mapply(name)\n\u001b[1;32m   3133\u001b[0m \u001b[38;5;28;01mreturn\u001b[39;00m Column(jc)\n",
      "\u001b[0;31mAttributeError\u001b[0m: 'DataFrame' object has no attribute 'to_series'"
     ]
    }
   ],
   "source": [
    "sdf_prev_app.select('HOUR_APPR_PROCESS_START').to_series().isnumeric()"
   ]
  },
  {
   "cell_type": "code",
   "execution_count": null,
   "id": "2b922926",
   "metadata": {},
   "outputs": [],
   "source": []
  },
  {
   "cell_type": "code",
   "execution_count": 14,
   "id": "8e607b34-6167-41b3-b09e-bc7640ca90bb",
   "metadata": {},
   "outputs": [
    {
     "name": "stderr",
     "output_type": "stream",
     "text": [
      "[Stage 46:>                                                         (0 + 8) / 8]\r"
     ]
    },
    {
     "name": "stdout",
     "output_type": "stream",
     "text": [
      "['5715448', '5715449', '5715451', '5715452', '5715453', '5715454', '5715455', '5715456', '5715457', '5715458', '5715459', '5715460', '5715461', '5180513', '5715447', '5715450', '5715462']\n"
     ]
    },
    {
     "name": "stderr",
     "output_type": "stream",
     "text": [
      "                                                                                \r"
     ]
    }
   ],
   "source": [
    "ls = sdf_bureau.filter(F.col('SK_ID_CURR') == 380361).select('SK_ID_BUREAU').rdd.flatMap(lambda x: x).collect()\n",
    "print (ls)"
   ]
  },
  {
   "cell_type": "code",
   "execution_count": 15,
   "id": "5bc86222-2ba2-4cda-91e6-ee694d43514b",
   "metadata": {},
   "outputs": [
    {
     "name": "stderr",
     "output_type": "stream",
     "text": [
      "[Stage 47:===========================================>              (6 + 2) / 8]\r"
     ]
    },
    {
     "name": "stdout",
     "output_type": "stream",
     "text": [
      "+------------+--------------+------+\n",
      "|SK_ID_BUREAU|MONTHS_BALANCE|STATUS|\n",
      "+------------+--------------+------+\n",
      "|5180513     |-7            |C     |\n",
      "|5180513     |-8            |C     |\n",
      "|5180513     |-9            |C     |\n",
      "|5180513     |-10           |C     |\n",
      "|5180513     |-11           |C     |\n",
      "|5180513     |-12           |C     |\n",
      "|5180513     |-13           |C     |\n",
      "|5180513     |-14           |C     |\n",
      "|5180513     |-15           |C     |\n",
      "|5180513     |-16           |C     |\n",
      "|5180513     |-17           |C     |\n",
      "|5180513     |-18           |C     |\n",
      "|5180513     |-19           |C     |\n",
      "|5180513     |-20           |C     |\n",
      "|5180513     |-21           |C     |\n",
      "|5180513     |-22           |C     |\n",
      "|5180513     |-23           |C     |\n",
      "|5180513     |-24           |C     |\n",
      "|5180513     |-25           |C     |\n",
      "|5180513     |-26           |C     |\n",
      "+------------+--------------+------+\n",
      "only showing top 20 rows\n",
      "\n"
     ]
    },
    {
     "name": "stderr",
     "output_type": "stream",
     "text": [
      "                                                                                \r"
     ]
    }
   ],
   "source": [
    "sdf_bureau_balance.filter(F.col('SK_ID_BUREAU').isin(ls))\\\n",
    "            .sort(F.asc('SK_ID_BUREAU'))\\\n",
    "            .show(20, False)"
   ]
  },
  {
   "cell_type": "code",
   "execution_count": 16,
   "id": "f8630951-0fea-48a7-9795-774ea5ce1fee",
   "metadata": {},
   "outputs": [
    {
     "name": "stderr",
     "output_type": "stream",
     "text": [
      "[Stage 48:>                                                         (0 + 8) / 8]\r"
     ]
    },
    {
     "name": "stdout",
     "output_type": "stream",
     "text": [
      "+----------+----------+------------------+-----------+---------------+----------+----------------+---------------+--------------------------+-----------------------+---------------------------+----------------------+-------------------+---------------------+------------------------+----------------------+--------------------+-------------+---------------------+------------------+---------------+----------------+-------------------+--------------+-----------------+-----------------------+----------------+--------------------+-----------+----------------+------------------------------+------------------+--------------+-------------------------+-------------+----------------+-------------------------+\n",
      "|SK_ID_PREV|SK_ID_CURR|NAME_CONTRACT_TYPE|AMT_ANNUITY|AMT_APPLICATION|AMT_CREDIT|AMT_DOWN_PAYMENT|AMT_GOODS_PRICE|WEEKDAY_APPR_PROCESS_START|HOUR_APPR_PROCESS_START|FLAG_LAST_APPL_PER_CONTRACT|NFLAG_LAST_APPL_IN_DAY|RATE_DOWN_PAYMENT  |RATE_INTEREST_PRIMARY|RATE_INTEREST_PRIVILEGED|NAME_CASH_LOAN_PURPOSE|NAME_CONTRACT_STATUS|DAYS_DECISION|NAME_PAYMENT_TYPE    |CODE_REJECT_REASON|NAME_TYPE_SUITE|NAME_CLIENT_TYPE|NAME_GOODS_CATEGORY|NAME_PORTFOLIO|NAME_PRODUCT_TYPE|CHANNEL_TYPE           |SELLERPLACE_AREA|NAME_SELLER_INDUSTRY|CNT_PAYMENT|NAME_YIELD_GROUP|PRODUCT_COMBINATION           |DAYS_FIRST_DRAWING|DAYS_FIRST_DUE|DAYS_LAST_DUE_1ST_VERSION|DAYS_LAST_DUE|DAYS_TERMINATION|NFLAG_INSURED_ON_APPROVAL|\n",
      "+----------+----------+------------------+-----------+---------------+----------+----------------+---------------+--------------------------+-----------------------+---------------------------+----------------------+-------------------+---------------------+------------------------+----------------------+--------------------+-------------+---------------------+------------------+---------------+----------------+-------------------+--------------+-----------------+-----------------------+----------------+--------------------+-----------+----------------+------------------------------+------------------+--------------+-------------------------+-------------+----------------+-------------------------+\n",
      "|1279489   |380361    |Cash loans        |NULL       |0.0            |0.0       |NULL            |NULL           |SATURDAY                  |14                     |Y                          |1                     |NULL               |NULL                 |NULL                    |XNA                   |Canceled            |-268         |XNA                  |XAP               |NULL           |Repeater        |XNA                |XNA           |XNA              |Credit and cash offices|-1              |XNA                 |NULL       |XNA             |Cash                          |NULL              |NULL          |NULL                     |NULL         |NULL            |NULL                     |\n",
      "|1661043   |380361    |Cash loans        |13114.98   |112500.0       |119925.0  |0.0             |112500.0       |WEDNESDAY                 |15                     |Y                          |1                     |0.0                |NULL                 |NULL                    |XNA                   |Approved            |-2588        |Cash through the bank|XAP               |Unaccompanied  |Repeater        |XNA                |Cash          |x-sell           |Credit and cash offices|100             |XNA                 |12.0       |high            |Cash Street: high             |365243.0          |-2558.0       |-2228.0                  |-2228.0      |-2220.0         |1.0                      |\n",
      "|1442773   |380361    |Cash loans        |44793.27   |1170000.0      |1322896.5 |NULL            |1170000.0      |SATURDAY                  |16                     |Y                          |1                     |NULL               |NULL                 |NULL                    |XNA                   |Approved            |-786         |Cash through the bank|XAP               |Unaccompanied  |Refreshed       |XNA                |Cash          |x-sell           |Credit and cash offices|-1              |XNA                 |54.0       |low_normal      |Cash X-Sell: low              |365243.0          |-756.0        |834.0                    |-726.0       |-721.0          |1.0                      |\n",
      "|2837103   |380361    |Consumer loans    |8362.17    |135211.5       |147415.5  |13500.0         |135211.5       |THURSDAY                  |12                     |Y                          |1                     |0.09136924207256147|NULL                 |NULL                    |XAP                   |Approved            |-74          |Cash through the bank|XAP               |Unaccompanied  |Repeater        |Audio/Video        |POS           |XNA              |Country-wide           |300             |Consumer electronics|24.0       |low_normal      |POS household with interest   |365243.0          |-44.0         |646.0                    |365243.0     |365243.0        |1.0                      |\n",
      "|2653129   |380361    |Cash loans        |26242.425  |360000.0       |399915.0  |0.0             |360000.0       |SATURDAY                  |17                     |Y                          |1                     |0.0                |NULL                 |NULL                    |XNA                   |Approved            |-2319        |Cash through the bank|XAP               |Unaccompanied  |Repeater        |XNA                |Cash          |x-sell           |Credit and cash offices|100             |XNA                 |24.0       |middle          |Cash Street: middle           |365243.0          |-2289.0       |-1599.0                  |-1599.0      |-1597.0         |1.0                      |\n",
      "|1910156   |380361    |Consumer loans    |1930.14    |35374.5        |42844.5   |0.0             |35374.5        |TUESDAY                   |13                     |Y                          |1                     |0.0                |NULL                 |NULL                    |XAP                   |Approved            |-489         |Cash through the bank|XAP               |NULL           |Repeater        |Audio/Video        |POS           |XNA              |Country-wide           |100             |Consumer electronics|24.0       |low_action      |POS household without interest|365243.0          |-458.0        |232.0                    |-248.0       |-246.0          |0.0                      |\n",
      "|2104755   |380361    |Revolving loans   |38250.0    |0.0            |765000.0  |NULL            |NULL           |SATURDAY                  |16                     |Y                          |1                     |NULL               |NULL                 |NULL                    |XAP                   |Approved            |-786         |XNA                  |XAP               |NULL           |Refreshed       |XNA                |Cards         |x-sell           |Credit and cash offices|-1              |XNA                 |0.0        |XNA             |Card X-Sell                   |-772.0            |-744.0        |365243.0                 |-563.0       |365243.0        |0.0                      |\n",
      "+----------+----------+------------------+-----------+---------------+----------+----------------+---------------+--------------------------+-----------------------+---------------------------+----------------------+-------------------+---------------------+------------------------+----------------------+--------------------+-------------+---------------------+------------------+---------------+----------------+-------------------+--------------+-----------------+-----------------------+----------------+--------------------+-----------+----------------+------------------------------+------------------+--------------+-------------------------+-------------+----------------+-------------------------+\n",
      "\n"
     ]
    },
    {
     "name": "stderr",
     "output_type": "stream",
     "text": [
      "                                                                                \r"
     ]
    }
   ],
   "source": [
    "sdf_prev_app.filter(F.col('SK_ID_CURR') == 380361)\\\n",
    "            .sort(F.col('AMT_CREDIT'))\\\n",
    "            .show(20, False)"
   ]
  },
  {
   "cell_type": "code",
   "execution_count": 17,
   "id": "fc90e029-a113-4253-823d-a97b5d9ea9b7",
   "metadata": {},
   "outputs": [
    {
     "name": "stderr",
     "output_type": "stream",
     "text": [
      "[Stage 49:>                                                         (0 + 8) / 8]\r"
     ]
    },
    {
     "name": "stdout",
     "output_type": "stream",
     "text": [
      "+----------+----------+--------------+--------------+---------------------+--------------------+------+----------+\n",
      "|SK_ID_PREV|SK_ID_CURR|MONTHS_BALANCE|CNT_INSTALMENT|CNT_INSTALMENT_FUTURE|NAME_CONTRACT_STATUS|SK_DPD|SK_DPD_DEF|\n",
      "+----------+----------+--------------+--------------+---------------------+--------------------+------+----------+\n",
      "|2837103   |380361    |-1            |24.0          |22.0                 |Active              |0     |0         |\n",
      "|1910156   |380361    |-10           |24.0          |18.0                 |Active              |0     |0         |\n",
      "|1910156   |380361    |-11           |24.0          |19.0                 |Active              |0     |0         |\n",
      "|1910156   |380361    |-12           |24.0          |20.0                 |Active              |0     |0         |\n",
      "|1910156   |380361    |-13           |24.0          |21.0                 |Active              |0     |0         |\n",
      "|1910156   |380361    |-14           |24.0          |22.0                 |Active              |0     |0         |\n",
      "|1910156   |380361    |-15           |24.0          |23.0                 |Active              |0     |0         |\n",
      "|1910156   |380361    |-16           |24.0          |24.0                 |Active              |0     |0         |\n",
      "|2837103   |380361    |-2            |24.0          |23.0                 |Active              |0     |0         |\n",
      "|1442773   |380361    |-24           |2.0           |0.0                  |Completed           |0     |0         |\n",
      "|1442773   |380361    |-25           |54.0          |53.0                 |Active              |0     |0         |\n",
      "|1442773   |380361    |-26           |54.0          |54.0                 |Active              |0     |0         |\n",
      "|2837103   |380361    |-3            |24.0          |24.0                 |Active              |0     |0         |\n",
      "|2653129   |380361    |-53           |24.0          |0.0                  |Completed           |0     |0         |\n",
      "|2653129   |380361    |-54           |24.0          |1.0                  |Active              |0     |0         |\n",
      "|2653129   |380361    |-55           |24.0          |2.0                  |Active              |0     |0         |\n",
      "|2653129   |380361    |-56           |24.0          |3.0                  |Active              |0     |0         |\n",
      "|2653129   |380361    |-57           |24.0          |4.0                  |Active              |0     |0         |\n",
      "|2653129   |380361    |-58           |24.0          |5.0                  |Active              |0     |0         |\n",
      "|2653129   |380361    |-59           |24.0          |6.0                  |Active              |0     |0         |\n",
      "+----------+----------+--------------+--------------+---------------------+--------------------+------+----------+\n",
      "only showing top 20 rows\n",
      "\n"
     ]
    },
    {
     "name": "stderr",
     "output_type": "stream",
     "text": [
      "                                                                                \r"
     ]
    }
   ],
   "source": [
    "sdf_posh_cash_balance.filter(F.col('SK_ID_CURR') == 380361)\\\n",
    "                    .sort(F.col('MONTHS_BALANCE'))\\\n",
    "                    .show(20, False)"
   ]
  },
  {
   "cell_type": "code",
   "execution_count": 18,
   "id": "3237ecdf-71d7-45c4-8a3a-624b1105d2f6",
   "metadata": {},
   "outputs": [
    {
     "name": "stderr",
     "output_type": "stream",
     "text": [
      "[Stage 50:>                                                         (0 + 8) / 8]\r"
     ]
    },
    {
     "name": "stdout",
     "output_type": "stream",
     "text": [
      "+----------+----------+--------------+-----------+-----------------------+------------------------+--------------------+--------------------------+------------------------+-----------------------+-------------------+-------------------------+------------------------+-------------+--------------------+------------------------+--------------------+--------------------------+------------------------+-------------------------+--------------------+------+----------+\n",
      "|SK_ID_PREV|SK_ID_CURR|MONTHS_BALANCE|AMT_BALANCE|AMT_CREDIT_LIMIT_ACTUAL|AMT_DRAWINGS_ATM_CURRENT|AMT_DRAWINGS_CURRENT|AMT_DRAWINGS_OTHER_CURRENT|AMT_DRAWINGS_POS_CURRENT|AMT_INST_MIN_REGULARITY|AMT_PAYMENT_CURRENT|AMT_PAYMENT_TOTAL_CURRENT|AMT_RECEIVABLE_PRINCIPAL|AMT_RECIVABLE|AMT_TOTAL_RECEIVABLE|CNT_DRAWINGS_ATM_CURRENT|CNT_DRAWINGS_CURRENT|CNT_DRAWINGS_OTHER_CURRENT|CNT_DRAWINGS_POS_CURRENT|CNT_INSTALMENT_MATURE_CUM|NAME_CONTRACT_STATUS|SK_DPD|SK_DPD_DEF|\n",
      "+----------+----------+--------------+-----------+-----------------------+------------------------+--------------------+--------------------------+------------------------+-----------------------+-------------------+-------------------------+------------------------+-------------+--------------------+------------------------+--------------------+--------------------------+------------------------+-------------------------+--------------------+------+----------+\n",
      "|2104755   |380361    |-1            |0.0        |0                      |0.0                     |0.0                 |0.0                       |0.0                     |0.0                    |357.48             |357.48                   |0.0                     |0.0          |0.0                 |0.0                     |0                   |0.0                       |0.0                     |6.0                      |Active              |0     |0         |\n",
      "|2104755   |380361    |-10           |0.0        |0                      |0.0                     |0.0                 |0.0                       |0.0                     |0.0                    |357.48             |357.48                   |0.0                     |0.0          |0.0                 |0.0                     |0                   |0.0                       |0.0                     |6.0                      |Active              |0     |0         |\n",
      "|2104755   |380361    |-11           |0.0        |0                      |0.0                     |0.0                 |0.0                       |0.0                     |0.0                    |357.48             |357.48                   |0.0                     |0.0          |0.0                 |0.0                     |0                   |0.0                       |0.0                     |6.0                      |Active              |0     |0         |\n",
      "|2104755   |380361    |-12           |0.0        |0                      |0.0                     |0.0                 |0.0                       |0.0                     |0.0                    |357.48             |357.48                   |0.0                     |0.0          |0.0                 |0.0                     |0                   |0.0                       |0.0                     |6.0                      |Active              |0     |0         |\n",
      "|2104755   |380361    |-13           |0.0        |0                      |0.0                     |0.0                 |0.0                       |0.0                     |0.0                    |357.48             |357.48                   |0.0                     |0.0          |0.0                 |0.0                     |0                   |0.0                       |0.0                     |6.0                      |Active              |0     |0         |\n",
      "|2104755   |380361    |-14           |0.0        |0                      |0.0                     |0.0                 |0.0                       |0.0                     |0.0                    |357.48             |357.48                   |0.0                     |0.0          |0.0                 |0.0                     |0                   |0.0                       |0.0                     |6.0                      |Active              |0     |0         |\n",
      "|2104755   |380361    |-15           |0.0        |0                      |0.0                     |0.0                 |0.0                       |0.0                     |0.0                    |357.48             |357.48                   |0.0                     |0.0          |0.0                 |0.0                     |0                   |0.0                       |0.0                     |6.0                      |Active              |0     |0         |\n",
      "|2104755   |380361    |-16           |0.0        |0                      |0.0                     |0.0                 |0.0                       |0.0                     |0.0                    |357.48             |357.48                   |0.0                     |0.0          |0.0                 |0.0                     |0                   |0.0                       |0.0                     |6.0                      |Active              |0     |0         |\n",
      "|2104755   |380361    |-17           |0.0        |765000                 |0.0                     |0.0                 |0.0                       |0.0                     |0.0                    |357.48             |357.48                   |0.0                     |0.0          |0.0                 |0.0                     |0                   |0.0                       |0.0                     |6.0                      |Active              |0     |0         |\n",
      "|2104755   |380361    |-18           |0.0        |765000                 |0.0                     |0.0                 |0.0                       |0.0                     |0.0                    |19932.48           |19932.48                 |0.0                     |0.0          |0.0                 |0.0                     |0                   |0.0                       |0.0                     |6.0                      |Active              |0     |0         |\n",
      "|2104755   |380361    |-19           |19217.52   |765000                 |0.0                     |30268.935           |0.0                       |30268.935               |221.76                 |11273.175          |11273.175                |19217.52                |19217.52     |19217.52            |0.0                     |6                   |0.0                       |6.0                     |6.0                      |Active              |0     |0         |\n",
      "|2104755   |380361    |-2            |0.0        |0                      |0.0                     |0.0                 |0.0                       |0.0                     |0.0                    |357.48             |357.48                   |0.0                     |0.0          |0.0                 |0.0                     |0                   |0.0                       |0.0                     |6.0                      |Active              |0     |0         |\n",
      "|2104755   |380361    |-20           |221.76     |765000                 |0.0                     |0.0                 |0.0                       |0.0                     |2250.0                 |4275.0             |4275.0                   |0.0                     |231.075      |231.075             |0.0                     |0                   |0.0                       |0.0                     |5.0                      |Active              |0     |0         |\n",
      "|2104755   |380361    |-21           |4219.335   |765000                 |0.0                     |18172.125           |0.0                       |18172.125               |0.0                    |13952.79           |13952.79                 |4219.335                |4219.335     |4219.335            |0.0                     |4                   |0.0                       |4.0                     |4.0                      |Active              |0     |0         |\n",
      "|2104755   |380361    |-22           |0.0        |765000                 |0.0                     |0.0                 |0.0                       |0.0                     |2250.0                 |4347.0             |4347.0                   |0.0                     |30.42        |30.42               |0.0                     |0                   |0.0                       |0.0                     |4.0                      |Active              |0     |0         |\n",
      "|2104755   |380361    |-23           |0.0        |765000                 |0.0                     |26733.735           |0.0                       |26733.735               |2250.0                 |32400.0            |32400.0                  |0.0                     |0.0          |0.0                 |0.0                     |6                   |0.0                       |6.0                     |3.0                      |Active              |0     |0         |\n",
      "|2104755   |380361    |-24           |7103.07    |765000                 |0.0                     |10221.93            |0.0                       |10221.93                |2250.0                 |2700.0             |2700.0                   |7103.07                 |7120.485     |7120.485            |0.0                     |2                   |0.0                       |2.0                     |2.0                      |Active              |0     |0         |\n",
      "|2104755   |380361    |-25           |0.0        |765000                 |0.0                     |11759.4             |0.0                       |11759.4                 |2250.0                 |18000.0            |18000.0                  |0.0                     |0.0          |0.0                 |0.0                     |3                   |0.0                       |3.0                     |1.0                      |Active              |0     |0         |\n",
      "|2104755   |380361    |-26           |8379.0     |765000                 |0.0                     |8379.0              |0.0                       |8379.0                  |NULL                   |NULL               |0.0                      |8379.0                  |8379.0       |8379.0              |0.0                     |1                   |0.0                       |1.0                     |NULL                     |Active              |0     |0         |\n",
      "|2104755   |380361    |-3            |0.0        |0                      |0.0                     |0.0                 |0.0                       |0.0                     |0.0                    |357.48             |357.48                   |0.0                     |0.0          |0.0                 |0.0                     |0                   |0.0                       |0.0                     |6.0                      |Active              |0     |0         |\n",
      "+----------+----------+--------------+-----------+-----------------------+------------------------+--------------------+--------------------------+------------------------+-----------------------+-------------------+-------------------------+------------------------+-------------+--------------------+------------------------+--------------------+--------------------------+------------------------+-------------------------+--------------------+------+----------+\n",
      "only showing top 20 rows\n",
      "\n"
     ]
    },
    {
     "name": "stderr",
     "output_type": "stream",
     "text": [
      "                                                                                \r"
     ]
    }
   ],
   "source": [
    "sdf_cc_balance.filter(F.col('SK_ID_CURR') == 380361)\\\n",
    "            .sort(F.col('MONTHS_BALANCE'))\\\n",
    "            .show(20, False)"
   ]
  },
  {
   "cell_type": "code",
   "execution_count": 19,
   "id": "533ca842-efb9-4f0c-96e8-97cff3244758",
   "metadata": {},
   "outputs": [
    {
     "name": "stderr",
     "output_type": "stream",
     "text": [
      "[Stage 51:>                                                         (0 + 8) / 8]\r"
     ]
    },
    {
     "name": "stdout",
     "output_type": "stream",
     "text": [
      "+----------+----------+----------------------+---------------------+---------------+------------------+--------------+-----------+\n",
      "|SK_ID_PREV|SK_ID_CURR|NUM_INSTALMENT_VERSION|NUM_INSTALMENT_NUMBER|DAYS_INSTALMENT|DAYS_ENTRY_PAYMENT|AMT_INSTALMENT|AMT_PAYMENT|\n",
      "+----------+----------+----------------------+---------------------+---------------+------------------+--------------+-----------+\n",
      "|2104755   |380361    |0.0                   |30                   |-125.0         |-125.0            |357.48        |357.48     |\n",
      "|2104755   |380361    |0.0                   |29                   |-156.0         |-156.0            |357.48        |357.48     |\n",
      "|2653129   |380361    |1.0                   |24                   |-1599.0        |-1624.0           |25430.04      |25430.04   |\n",
      "|2653129   |380361    |1.0                   |23                   |-1629.0        |-1636.0           |26242.425     |26242.425  |\n",
      "|2653129   |380361    |1.0                   |22                   |-1659.0        |-1665.0           |26242.425     |26242.425  |\n",
      "|2653129   |380361    |1.0                   |21                   |-1689.0        |-1693.0           |26242.425     |26242.425  |\n",
      "|2653129   |380361    |1.0                   |20                   |-1719.0        |-1726.0           |26242.425     |26242.425  |\n",
      "|2653129   |380361    |1.0                   |19                   |-1749.0        |-1754.0           |26242.425     |26242.425  |\n",
      "|2653129   |380361    |1.0                   |18                   |-1779.0        |-1787.0           |26242.425     |26242.425  |\n",
      "|2653129   |380361    |1.0                   |17                   |-1809.0        |-1818.0           |26242.425     |26242.425  |\n",
      "|2653129   |380361    |1.0                   |16                   |-1839.0        |-1852.0           |26242.425     |26242.425  |\n",
      "|2104755   |380361    |0.0                   |28                   |-186.0         |-186.0            |357.48        |357.48     |\n",
      "|2653129   |380361    |1.0                   |15                   |-1869.0        |-1892.0           |26242.425     |26242.425  |\n",
      "|2653129   |380361    |1.0                   |14                   |-1899.0        |-1909.0           |26242.425     |26242.425  |\n",
      "|2653129   |380361    |1.0                   |13                   |-1929.0        |-1939.0           |26242.425     |26242.425  |\n",
      "|2653129   |380361    |1.0                   |12                   |-1959.0        |-1969.0           |26242.425     |26242.425  |\n",
      "|2653129   |380361    |1.0                   |11                   |-1989.0        |-2000.0           |26242.425     |26242.425  |\n",
      "|2653129   |380361    |1.0                   |10                   |-2019.0        |-2029.0           |26242.425     |26242.425  |\n",
      "|2653129   |380361    |1.0                   |9                    |-2049.0        |-2062.0           |26242.425     |26242.425  |\n",
      "|2653129   |380361    |1.0                   |8                    |-2079.0        |-2090.0           |26242.425     |26242.425  |\n",
      "+----------+----------+----------------------+---------------------+---------------+------------------+--------------+-----------+\n",
      "only showing top 20 rows\n",
      "\n"
     ]
    },
    {
     "name": "stderr",
     "output_type": "stream",
     "text": [
      "                                                                                \r"
     ]
    }
   ],
   "source": [
    "sdf_prev_installments.filter(F.col('SK_ID_CURR') == 380361)\\\n",
    "                    .sort(F.col('DAYS_ENTRY_PAYMENT'))\\\n",
    "                    .show(20, False)"
   ]
  },
  {
   "cell_type": "markdown",
   "id": "08d516bb-7a5e-4ee4-be6c-7aacc33f5a25",
   "metadata": {},
   "source": [
    "## Preprocessing and finding out"
   ]
  },
  {
   "cell_type": "code",
   "execution_count": 20,
   "id": "e76d8a2f-95d1-4736-b656-cb977d32ebc8",
   "metadata": {},
   "outputs": [
    {
     "name": "stderr",
     "output_type": "stream",
     "text": [
      "[Stage 52:=======>                                                  (1 + 7) / 8]\r"
     ]
    },
    {
     "name": "stdout",
     "output_type": "stream",
     "text": [
      "+----------+------+------------------+-----------+------------+---------------+------------+----------------+----------+-----------+---------------+---------------+----------------+-------------------+------------------+-----------------+--------------------------+----------+-------------+-----------------+---------------+-----------+----------+--------------+---------------+----------------+----------+----------+---------------+---------------+--------------------+---------------------------+--------------------------+-----------------------+--------------------------+--------------------------+---------------------------+----------------------+----------------------+-----------------------+-----------------+------------+------------+------------+--------------+----------------+---------------------------+---------------+--------------+-------------+-------------+-------------+-------------+------------+--------------------+--------------+-----------------------+-----------------+---------------+-----------------+----------------------------+----------------+---------------+--------------+--------------+--------------+--------------+-------------+---------------------+---------------+------------------------+------------------+---------------+-----------------+----------------------------+----------------+---------------+--------------+--------------+--------------+--------------+-------------+---------------------+---------------+------------------------+------------------+------------------+--------------+--------------+------------------+-------------------+------------------------+------------------------+------------------------+------------------------+----------------------+---------------+---------------+---------------+---------------+---------------+---------------+---------------+---------------+----------------+----------------+----------------+----------------+----------------+----------------+----------------+----------------+----------------+----------------+----------------+----------------+--------------------------+-------------------------+--------------------------+-------------------------+-------------------------+--------------------------+\n",
      "|SK_ID_CURR|TARGET|NAME_CONTRACT_TYPE|CODE_GENDER|FLAG_OWN_CAR|FLAG_OWN_REALTY|CNT_CHILDREN|AMT_INCOME_TOTAL|AMT_CREDIT|AMT_ANNUITY|AMT_GOODS_PRICE|NAME_TYPE_SUITE|NAME_INCOME_TYPE|NAME_EDUCATION_TYPE|NAME_FAMILY_STATUS|NAME_HOUSING_TYPE|REGION_POPULATION_RELATIVE|DAYS_BIRTH|DAYS_EMPLOYED|DAYS_REGISTRATION|DAYS_ID_PUBLISH|OWN_CAR_AGE|FLAG_MOBIL|FLAG_EMP_PHONE|FLAG_WORK_PHONE|FLAG_CONT_MOBILE|FLAG_PHONE|FLAG_EMAIL|OCCUPATION_TYPE|CNT_FAM_MEMBERS|REGION_RATING_CLIENT|REGION_RATING_CLIENT_W_CITY|WEEKDAY_APPR_PROCESS_START|HOUR_APPR_PROCESS_START|REG_REGION_NOT_LIVE_REGION|REG_REGION_NOT_WORK_REGION|LIVE_REGION_NOT_WORK_REGION|REG_CITY_NOT_LIVE_CITY|REG_CITY_NOT_WORK_CITY|LIVE_CITY_NOT_WORK_CITY|ORGANIZATION_TYPE|EXT_SOURCE_1|EXT_SOURCE_2|EXT_SOURCE_3|APARTMENTS_AVG|BASEMENTAREA_AVG|YEARS_BEGINEXPLUATATION_AVG|YEARS_BUILD_AVG|COMMONAREA_AVG|ELEVATORS_AVG|ENTRANCES_AVG|FLOORSMAX_AVG|FLOORSMIN_AVG|LANDAREA_AVG|LIVINGAPARTMENTS_AVG|LIVINGAREA_AVG|NONLIVINGAPARTMENTS_AVG|NONLIVINGAREA_AVG|APARTMENTS_MODE|BASEMENTAREA_MODE|YEARS_BEGINEXPLUATATION_MODE|YEARS_BUILD_MODE|COMMONAREA_MODE|ELEVATORS_MODE|ENTRANCES_MODE|FLOORSMAX_MODE|FLOORSMIN_MODE|LANDAREA_MODE|LIVINGAPARTMENTS_MODE|LIVINGAREA_MODE|NONLIVINGAPARTMENTS_MODE|NONLIVINGAREA_MODE|APARTMENTS_MEDI|BASEMENTAREA_MEDI|YEARS_BEGINEXPLUATATION_MEDI|YEARS_BUILD_MEDI|COMMONAREA_MEDI|ELEVATORS_MEDI|ENTRANCES_MEDI|FLOORSMAX_MEDI|FLOORSMIN_MEDI|LANDAREA_MEDI|LIVINGAPARTMENTS_MEDI|LIVINGAREA_MEDI|NONLIVINGAPARTMENTS_MEDI|NONLIVINGAREA_MEDI|FONDKAPREMONT_MODE|HOUSETYPE_MODE|TOTALAREA_MODE|WALLSMATERIAL_MODE|EMERGENCYSTATE_MODE|OBS_30_CNT_SOCIAL_CIRCLE|DEF_30_CNT_SOCIAL_CIRCLE|OBS_60_CNT_SOCIAL_CIRCLE|DEF_60_CNT_SOCIAL_CIRCLE|DAYS_LAST_PHONE_CHANGE|FLAG_DOCUMENT_2|FLAG_DOCUMENT_3|FLAG_DOCUMENT_4|FLAG_DOCUMENT_5|FLAG_DOCUMENT_6|FLAG_DOCUMENT_7|FLAG_DOCUMENT_8|FLAG_DOCUMENT_9|FLAG_DOCUMENT_10|FLAG_DOCUMENT_11|FLAG_DOCUMENT_12|FLAG_DOCUMENT_13|FLAG_DOCUMENT_14|FLAG_DOCUMENT_15|FLAG_DOCUMENT_16|FLAG_DOCUMENT_17|FLAG_DOCUMENT_18|FLAG_DOCUMENT_19|FLAG_DOCUMENT_20|FLAG_DOCUMENT_21|AMT_REQ_CREDIT_BUREAU_HOUR|AMT_REQ_CREDIT_BUREAU_DAY|AMT_REQ_CREDIT_BUREAU_WEEK|AMT_REQ_CREDIT_BUREAU_MON|AMT_REQ_CREDIT_BUREAU_QRT|AMT_REQ_CREDIT_BUREAU_YEAR|\n",
      "+----------+------+------------------+-----------+------------+---------------+------------+----------------+----------+-----------+---------------+---------------+----------------+-------------------+------------------+-----------------+--------------------------+----------+-------------+-----------------+---------------+-----------+----------+--------------+---------------+----------------+----------+----------+---------------+---------------+--------------------+---------------------------+--------------------------+-----------------------+--------------------------+--------------------------+---------------------------+----------------------+----------------------+-----------------------+-----------------+------------+------------+------------+--------------+----------------+---------------------------+---------------+--------------+-------------+-------------+-------------+-------------+------------+--------------------+--------------+-----------------------+-----------------+---------------+-----------------+----------------------------+----------------+---------------+--------------+--------------+--------------+--------------+-------------+---------------------+---------------+------------------------+------------------+---------------+-----------------+----------------------------+----------------+---------------+--------------+--------------+--------------+--------------+-------------+---------------------+---------------+------------------------+------------------+------------------+--------------+--------------+------------------+-------------------+------------------------+------------------------+------------------------+------------------------+----------------------+---------------+---------------+---------------+---------------+---------------+---------------+---------------+---------------+----------------+----------------+----------------+----------------+----------------+----------------+----------------+----------------+----------------+----------------+----------------+----------------+--------------------------+-------------------------+--------------------------+-------------------------+-------------------------+--------------------------+\n",
      "|         0|     0|                 0|          0|           0|              0|           0|               0|         0|          0|              0|              0|               0|                  0|                 0|                0|                         0|         0|            0|                0|              0|          0|         0|             0|              0|               0|         0|         0|              0|              0|                   0|                          0|                         0|                      0|                         0|                         0|                          0|                     0|                     0|                      0|                0|           0|           0|           0|             0|               0|                          0|              0|             0|            0|            0|            0|            0|           0|                   0|             0|                      0|                0|              0|                0|                           0|               0|              0|             0|             0|             0|             0|            0|                    0|              0|                       0|                 0|              0|                0|                           0|               0|              0|             0|             0|             0|             0|            0|                    0|              0|                       0|                 0|                 0|             0|             0|                 0|                  0|                       0|                       0|                       0|                       0|                     0|              0|              0|              0|              0|              0|              0|              0|              0|               0|               0|               0|               0|               0|               0|               0|               0|               0|               0|               0|               0|                         0|                        0|                         0|                        0|                        0|                         0|\n",
      "+----------+------+------------------+-----------+------------+---------------+------------+----------------+----------+-----------+---------------+---------------+----------------+-------------------+------------------+-----------------+--------------------------+----------+-------------+-----------------+---------------+-----------+----------+--------------+---------------+----------------+----------+----------+---------------+---------------+--------------------+---------------------------+--------------------------+-----------------------+--------------------------+--------------------------+---------------------------+----------------------+----------------------+-----------------------+-----------------+------------+------------+------------+--------------+----------------+---------------------------+---------------+--------------+-------------+-------------+-------------+-------------+------------+--------------------+--------------+-----------------------+-----------------+---------------+-----------------+----------------------------+----------------+---------------+--------------+--------------+--------------+--------------+-------------+---------------------+---------------+------------------------+------------------+---------------+-----------------+----------------------------+----------------+---------------+--------------+--------------+--------------+--------------+-------------+---------------------+---------------+------------------------+------------------+------------------+--------------+--------------+------------------+-------------------+------------------------+------------------------+------------------------+------------------------+----------------------+---------------+---------------+---------------+---------------+---------------+---------------+---------------+---------------+----------------+----------------+----------------+----------------+----------------+----------------+----------------+----------------+----------------+----------------+----------------+----------------+--------------------------+-------------------------+--------------------------+-------------------------+-------------------------+--------------------------+\n",
      "\n"
     ]
    },
    {
     "name": "stderr",
     "output_type": "stream",
     "text": [
      "                                                                                \r"
     ]
    }
   ],
   "source": [
    "sdf_train.select([F.count(F.when(F.isnan(c), c)).alias(c) for c in sdf_train.columns]).show()"
   ]
  },
  {
   "cell_type": "code",
   "execution_count": 21,
   "id": "a494116d-cffe-4e08-ad74-49ae3a88ad8c",
   "metadata": {},
   "outputs": [
    {
     "name": "stderr",
     "output_type": "stream",
     "text": [
      "[Stage 55:=======>                                                  (1 + 7) / 8]\r"
     ]
    },
    {
     "name": "stdout",
     "output_type": "stream",
     "text": [
      "+----------+------+------------------+-----------+------------+---------------+------------+----------------+----------+-----------+---------------+---------------+----------------+-------------------+------------------+-----------------+--------------------------+----------+-------------+-----------------+---------------+-----------+----------+--------------+---------------+----------------+----------+----------+---------------+---------------+--------------------+---------------------------+--------------------------+-----------------------+--------------------------+--------------------------+---------------------------+----------------------+----------------------+-----------------------+-----------------+------------+------------+------------+--------------+----------------+---------------------------+---------------+--------------+-------------+-------------+-------------+-------------+------------+--------------------+--------------+-----------------------+-----------------+---------------+-----------------+----------------------------+----------------+---------------+--------------+--------------+--------------+--------------+-------------+---------------------+---------------+------------------------+------------------+---------------+-----------------+----------------------------+----------------+---------------+--------------+--------------+--------------+--------------+-------------+---------------------+---------------+------------------------+------------------+------------------+--------------+--------------+------------------+-------------------+------------------------+------------------------+------------------------+------------------------+----------------------+---------------+---------------+---------------+---------------+---------------+---------------+---------------+---------------+----------------+----------------+----------------+----------------+----------------+----------------+----------------+----------------+----------------+----------------+----------------+----------------+--------------------------+-------------------------+--------------------------+-------------------------+-------------------------+--------------------------+\n",
      "|SK_ID_CURR|TARGET|NAME_CONTRACT_TYPE|CODE_GENDER|FLAG_OWN_CAR|FLAG_OWN_REALTY|CNT_CHILDREN|AMT_INCOME_TOTAL|AMT_CREDIT|AMT_ANNUITY|AMT_GOODS_PRICE|NAME_TYPE_SUITE|NAME_INCOME_TYPE|NAME_EDUCATION_TYPE|NAME_FAMILY_STATUS|NAME_HOUSING_TYPE|REGION_POPULATION_RELATIVE|DAYS_BIRTH|DAYS_EMPLOYED|DAYS_REGISTRATION|DAYS_ID_PUBLISH|OWN_CAR_AGE|FLAG_MOBIL|FLAG_EMP_PHONE|FLAG_WORK_PHONE|FLAG_CONT_MOBILE|FLAG_PHONE|FLAG_EMAIL|OCCUPATION_TYPE|CNT_FAM_MEMBERS|REGION_RATING_CLIENT|REGION_RATING_CLIENT_W_CITY|WEEKDAY_APPR_PROCESS_START|HOUR_APPR_PROCESS_START|REG_REGION_NOT_LIVE_REGION|REG_REGION_NOT_WORK_REGION|LIVE_REGION_NOT_WORK_REGION|REG_CITY_NOT_LIVE_CITY|REG_CITY_NOT_WORK_CITY|LIVE_CITY_NOT_WORK_CITY|ORGANIZATION_TYPE|EXT_SOURCE_1|EXT_SOURCE_2|EXT_SOURCE_3|APARTMENTS_AVG|BASEMENTAREA_AVG|YEARS_BEGINEXPLUATATION_AVG|YEARS_BUILD_AVG|COMMONAREA_AVG|ELEVATORS_AVG|ENTRANCES_AVG|FLOORSMAX_AVG|FLOORSMIN_AVG|LANDAREA_AVG|LIVINGAPARTMENTS_AVG|LIVINGAREA_AVG|NONLIVINGAPARTMENTS_AVG|NONLIVINGAREA_AVG|APARTMENTS_MODE|BASEMENTAREA_MODE|YEARS_BEGINEXPLUATATION_MODE|YEARS_BUILD_MODE|COMMONAREA_MODE|ELEVATORS_MODE|ENTRANCES_MODE|FLOORSMAX_MODE|FLOORSMIN_MODE|LANDAREA_MODE|LIVINGAPARTMENTS_MODE|LIVINGAREA_MODE|NONLIVINGAPARTMENTS_MODE|NONLIVINGAREA_MODE|APARTMENTS_MEDI|BASEMENTAREA_MEDI|YEARS_BEGINEXPLUATATION_MEDI|YEARS_BUILD_MEDI|COMMONAREA_MEDI|ELEVATORS_MEDI|ENTRANCES_MEDI|FLOORSMAX_MEDI|FLOORSMIN_MEDI|LANDAREA_MEDI|LIVINGAPARTMENTS_MEDI|LIVINGAREA_MEDI|NONLIVINGAPARTMENTS_MEDI|NONLIVINGAREA_MEDI|FONDKAPREMONT_MODE|HOUSETYPE_MODE|TOTALAREA_MODE|WALLSMATERIAL_MODE|EMERGENCYSTATE_MODE|OBS_30_CNT_SOCIAL_CIRCLE|DEF_30_CNT_SOCIAL_CIRCLE|OBS_60_CNT_SOCIAL_CIRCLE|DEF_60_CNT_SOCIAL_CIRCLE|DAYS_LAST_PHONE_CHANGE|FLAG_DOCUMENT_2|FLAG_DOCUMENT_3|FLAG_DOCUMENT_4|FLAG_DOCUMENT_5|FLAG_DOCUMENT_6|FLAG_DOCUMENT_7|FLAG_DOCUMENT_8|FLAG_DOCUMENT_9|FLAG_DOCUMENT_10|FLAG_DOCUMENT_11|FLAG_DOCUMENT_12|FLAG_DOCUMENT_13|FLAG_DOCUMENT_14|FLAG_DOCUMENT_15|FLAG_DOCUMENT_16|FLAG_DOCUMENT_17|FLAG_DOCUMENT_18|FLAG_DOCUMENT_19|FLAG_DOCUMENT_20|FLAG_DOCUMENT_21|AMT_REQ_CREDIT_BUREAU_HOUR|AMT_REQ_CREDIT_BUREAU_DAY|AMT_REQ_CREDIT_BUREAU_WEEK|AMT_REQ_CREDIT_BUREAU_MON|AMT_REQ_CREDIT_BUREAU_QRT|AMT_REQ_CREDIT_BUREAU_YEAR|\n",
      "+----------+------+------------------+-----------+------------+---------------+------------+----------------+----------+-----------+---------------+---------------+----------------+-------------------+------------------+-----------------+--------------------------+----------+-------------+-----------------+---------------+-----------+----------+--------------+---------------+----------------+----------+----------+---------------+---------------+--------------------+---------------------------+--------------------------+-----------------------+--------------------------+--------------------------+---------------------------+----------------------+----------------------+-----------------------+-----------------+------------+------------+------------+--------------+----------------+---------------------------+---------------+--------------+-------------+-------------+-------------+-------------+------------+--------------------+--------------+-----------------------+-----------------+---------------+-----------------+----------------------------+----------------+---------------+--------------+--------------+--------------+--------------+-------------+---------------------+---------------+------------------------+------------------+---------------+-----------------+----------------------------+----------------+---------------+--------------+--------------+--------------+--------------+-------------+---------------------+---------------+------------------------+------------------+------------------+--------------+--------------+------------------+-------------------+------------------------+------------------------+------------------------+------------------------+----------------------+---------------+---------------+---------------+---------------+---------------+---------------+---------------+---------------+----------------+----------------+----------------+----------------+----------------+----------------+----------------+----------------+----------------+----------------+----------------+----------------+--------------------------+-------------------------+--------------------------+-------------------------+-------------------------+--------------------------+\n",
      "|         0|     0|                 0|          0|           0|              0|           0|               0|         0|         12|            278|           1292|               0|                  0|                 0|                0|                         0|         0|            0|                0|              0|     202929|         0|             0|              0|               0|         0|         0|          96391|              2|                   0|                          0|                         0|                      0|                         0|                         0|                          0|                     0|                     0|                      0|                0|      173378|         660|       60965|        156061|          179943|                     150007|         204488|        214865|       163891|       154828|       153020|       208642|      182590|              210199|        154350|                 213514|           169682|         156061|           179943|                      150007|          204488|         214865|        163891|        154828|        153020|        208642|       182590|               210199|         154350|                  213514|            169682|         156061|           179943|                      150007|          204488|         214865|        163891|        154828|        153020|        208642|       182590|               210199|         154350|                  213514|            169682|            210295|        154297|        148431|            156341|             145755|                    1021|                    1021|                    1021|                    1021|                     1|              0|              0|              0|              0|              0|              0|              0|              0|               0|               0|               0|               0|               0|               0|               0|               0|               0|               0|               0|               0|                     41519|                    41519|                     41519|                    41519|                    41519|                     41519|\n",
      "+----------+------+------------------+-----------+------------+---------------+------------+----------------+----------+-----------+---------------+---------------+----------------+-------------------+------------------+-----------------+--------------------------+----------+-------------+-----------------+---------------+-----------+----------+--------------+---------------+----------------+----------+----------+---------------+---------------+--------------------+---------------------------+--------------------------+-----------------------+--------------------------+--------------------------+---------------------------+----------------------+----------------------+-----------------------+-----------------+------------+------------+------------+--------------+----------------+---------------------------+---------------+--------------+-------------+-------------+-------------+-------------+------------+--------------------+--------------+-----------------------+-----------------+---------------+-----------------+----------------------------+----------------+---------------+--------------+--------------+--------------+--------------+-------------+---------------------+---------------+------------------------+------------------+---------------+-----------------+----------------------------+----------------+---------------+--------------+--------------+--------------+--------------+-------------+---------------------+---------------+------------------------+------------------+------------------+--------------+--------------+------------------+-------------------+------------------------+------------------------+------------------------+------------------------+----------------------+---------------+---------------+---------------+---------------+---------------+---------------+---------------+---------------+----------------+----------------+----------------+----------------+----------------+----------------+----------------+----------------+----------------+----------------+----------------+----------------+--------------------------+-------------------------+--------------------------+-------------------------+-------------------------+--------------------------+\n",
      "\n"
     ]
    },
    {
     "name": "stderr",
     "output_type": "stream",
     "text": [
      "                                                                                \r"
     ]
    }
   ],
   "source": [
    "sdf_train.select([F.count(F.when(F.isnan(c) | F.col(c).isNull(), c)).alias(c) for c in sdf_train.columns]).show()"
   ]
  },
  {
   "cell_type": "code",
   "execution_count": 22,
   "id": "b99b1b7f-cb19-4cb3-8427-1761ab0c0be2",
   "metadata": {},
   "outputs": [
    {
     "name": "stdout",
     "output_type": "stream",
     "text": [
      "+-----------+----------+\n",
      "|AMT_ANNUITY|SK_ID_CURR|\n",
      "+-----------+----------+\n",
      "|NULL       |215354    |\n",
      "|NULL       |215354    |\n",
      "|NULL       |215354    |\n",
      "|NULL       |215354    |\n",
      "|NULL       |215354    |\n",
      "|NULL       |215354    |\n",
      "|NULL       |215354    |\n",
      "|NULL       |215354    |\n",
      "|NULL       |215354    |\n",
      "|NULL       |215354    |\n",
      "|NULL       |215354    |\n",
      "+-----------+----------+\n",
      "\n"
     ]
    }
   ],
   "source": [
    "sdf_bureau.filter(F.col('SK_ID_CURR') == 215354).select('AMT_ANNUITY', 'SK_ID_CURR').show(20, False)"
   ]
  },
  {
   "cell_type": "code",
   "execution_count": 23,
   "id": "2377d8fb-0ad9-4f8d-b7fa-72c8560bf68e",
   "metadata": {},
   "outputs": [
    {
     "name": "stdout",
     "output_type": "stream",
     "text": [
      "+-----------+----------+\n",
      "|AMT_ANNUITY|SK_ID_CURR|\n",
      "+-----------+----------+\n",
      "|21181.5    |215354    |\n",
      "+-----------+----------+\n",
      "\n"
     ]
    }
   ],
   "source": [
    "sdf_train.filter(F.col('SK_ID_CURR') == 215354).select('AMT_ANNUITY', 'SK_ID_CURR').show(20, False)"
   ]
  },
  {
   "cell_type": "code",
   "execution_count": 24,
   "id": "6bc51434-cc69-4d6c-98cd-26ad69d65fb9",
   "metadata": {},
   "outputs": [
    {
     "name": "stdout",
     "output_type": "stream",
     "text": [
      "+---------------+\n",
      "|CREDIT_CURRENCY|\n",
      "+---------------+\n",
      "|currency 2     |\n",
      "|currency 1     |\n",
      "|currency 4     |\n",
      "|currency 3     |\n",
      "+---------------+\n",
      "\n"
     ]
    }
   ],
   "source": [
    "sdf_bureau.select('CREDIT_CURRENCY').distinct().show(10, False)"
   ]
  },
  {
   "cell_type": "code",
   "execution_count": 25,
   "id": "a0f2d6a5-3e04-4fa6-987f-6e4989afbca4",
   "metadata": {},
   "outputs": [
    {
     "name": "stdout",
     "output_type": "stream",
     "text": [
      "+----------+------+------------------+-----------+------------+---------------+------------+----------------+----------+-----------+---------------+---------------+----------------+-------------------+------------------+-----------------+--------------------------+----------+-------------+-----------------+---------------+-----------+----------+--------------+---------------+----------------+----------+----------+---------------+---------------+--------------------+---------------------------+--------------------------+-----------------------+--------------------------+--------------------------+---------------------------+----------------------+----------------------+-----------------------+-----------------+------------------+-----------------+------------------+--------------+----------------+---------------------------+---------------+--------------+-------------+-------------+-------------+-------------+------------+--------------------+--------------+-----------------------+-----------------+---------------+-----------------+----------------------------+----------------+---------------+--------------+--------------+--------------+--------------+-------------+---------------------+---------------+------------------------+------------------+---------------+-----------------+----------------------------+----------------+---------------+--------------+--------------+--------------+--------------+-------------+---------------------+---------------+------------------------+------------------+------------------+--------------+--------------+------------------+-------------------+------------------------+------------------------+------------------------+------------------------+----------------------+---------------+---------------+---------------+---------------+---------------+---------------+---------------+---------------+----------------+----------------+----------------+----------------+----------------+----------------+----------------+----------------+----------------+----------------+----------------+----------------+--------------------------+-------------------------+--------------------------+-------------------------+-------------------------+--------------------------+\n",
      "|SK_ID_CURR|TARGET|NAME_CONTRACT_TYPE|CODE_GENDER|FLAG_OWN_CAR|FLAG_OWN_REALTY|CNT_CHILDREN|AMT_INCOME_TOTAL|AMT_CREDIT|AMT_ANNUITY|AMT_GOODS_PRICE|NAME_TYPE_SUITE|NAME_INCOME_TYPE|NAME_EDUCATION_TYPE|NAME_FAMILY_STATUS|NAME_HOUSING_TYPE|REGION_POPULATION_RELATIVE|DAYS_BIRTH|DAYS_EMPLOYED|DAYS_REGISTRATION|DAYS_ID_PUBLISH|OWN_CAR_AGE|FLAG_MOBIL|FLAG_EMP_PHONE|FLAG_WORK_PHONE|FLAG_CONT_MOBILE|FLAG_PHONE|FLAG_EMAIL|OCCUPATION_TYPE|CNT_FAM_MEMBERS|REGION_RATING_CLIENT|REGION_RATING_CLIENT_W_CITY|WEEKDAY_APPR_PROCESS_START|HOUR_APPR_PROCESS_START|REG_REGION_NOT_LIVE_REGION|REG_REGION_NOT_WORK_REGION|LIVE_REGION_NOT_WORK_REGION|REG_CITY_NOT_LIVE_CITY|REG_CITY_NOT_WORK_CITY|LIVE_CITY_NOT_WORK_CITY|ORGANIZATION_TYPE|EXT_SOURCE_1      |EXT_SOURCE_2     |EXT_SOURCE_3      |APARTMENTS_AVG|BASEMENTAREA_AVG|YEARS_BEGINEXPLUATATION_AVG|YEARS_BUILD_AVG|COMMONAREA_AVG|ELEVATORS_AVG|ENTRANCES_AVG|FLOORSMAX_AVG|FLOORSMIN_AVG|LANDAREA_AVG|LIVINGAPARTMENTS_AVG|LIVINGAREA_AVG|NONLIVINGAPARTMENTS_AVG|NONLIVINGAREA_AVG|APARTMENTS_MODE|BASEMENTAREA_MODE|YEARS_BEGINEXPLUATATION_MODE|YEARS_BUILD_MODE|COMMONAREA_MODE|ELEVATORS_MODE|ENTRANCES_MODE|FLOORSMAX_MODE|FLOORSMIN_MODE|LANDAREA_MODE|LIVINGAPARTMENTS_MODE|LIVINGAREA_MODE|NONLIVINGAPARTMENTS_MODE|NONLIVINGAREA_MODE|APARTMENTS_MEDI|BASEMENTAREA_MEDI|YEARS_BEGINEXPLUATATION_MEDI|YEARS_BUILD_MEDI|COMMONAREA_MEDI|ELEVATORS_MEDI|ENTRANCES_MEDI|FLOORSMAX_MEDI|FLOORSMIN_MEDI|LANDAREA_MEDI|LIVINGAPARTMENTS_MEDI|LIVINGAREA_MEDI|NONLIVINGAPARTMENTS_MEDI|NONLIVINGAREA_MEDI|FONDKAPREMONT_MODE|HOUSETYPE_MODE|TOTALAREA_MODE|WALLSMATERIAL_MODE|EMERGENCYSTATE_MODE|OBS_30_CNT_SOCIAL_CIRCLE|DEF_30_CNT_SOCIAL_CIRCLE|OBS_60_CNT_SOCIAL_CIRCLE|DEF_60_CNT_SOCIAL_CIRCLE|DAYS_LAST_PHONE_CHANGE|FLAG_DOCUMENT_2|FLAG_DOCUMENT_3|FLAG_DOCUMENT_4|FLAG_DOCUMENT_5|FLAG_DOCUMENT_6|FLAG_DOCUMENT_7|FLAG_DOCUMENT_8|FLAG_DOCUMENT_9|FLAG_DOCUMENT_10|FLAG_DOCUMENT_11|FLAG_DOCUMENT_12|FLAG_DOCUMENT_13|FLAG_DOCUMENT_14|FLAG_DOCUMENT_15|FLAG_DOCUMENT_16|FLAG_DOCUMENT_17|FLAG_DOCUMENT_18|FLAG_DOCUMENT_19|FLAG_DOCUMENT_20|FLAG_DOCUMENT_21|AMT_REQ_CREDIT_BUREAU_HOUR|AMT_REQ_CREDIT_BUREAU_DAY|AMT_REQ_CREDIT_BUREAU_WEEK|AMT_REQ_CREDIT_BUREAU_MON|AMT_REQ_CREDIT_BUREAU_QRT|AMT_REQ_CREDIT_BUREAU_YEAR|\n",
      "+----------+------+------------------+-----------+------------+---------------+------------+----------------+----------+-----------+---------------+---------------+----------------+-------------------+------------------+-----------------+--------------------------+----------+-------------+-----------------+---------------+-----------+----------+--------------+---------------+----------------+----------+----------+---------------+---------------+--------------------+---------------------------+--------------------------+-----------------------+--------------------------+--------------------------+---------------------------+----------------------+----------------------+-----------------------+-----------------+------------------+-----------------+------------------+--------------+----------------+---------------------------+---------------+--------------+-------------+-------------+-------------+-------------+------------+--------------------+--------------+-----------------------+-----------------+---------------+-----------------+----------------------------+----------------+---------------+--------------+--------------+--------------+--------------+-------------+---------------------+---------------+------------------------+------------------+---------------+-----------------+----------------------------+----------------+---------------+--------------+--------------+--------------+--------------+-------------+---------------------+---------------+------------------------+------------------+------------------+--------------+--------------+------------------+-------------------+------------------------+------------------------+------------------------+------------------------+----------------------+---------------+---------------+---------------+---------------+---------------+---------------+---------------+---------------+----------------+----------------+----------------+----------------+----------------+----------------+----------------+----------------+----------------+----------------+----------------+----------------+--------------------------+-------------------------+--------------------------+-------------------------+-------------------------+--------------------------+\n",
      "|215354    |0     |Cash loans        |F          |Y           |N              |0           |270000.0        |720000.0  |21181.5    |720000.0       |Unaccompanied  |Working         |Higher education   |Married           |House / apartment|0.028663                  |-17520    |-939         |-1203.0          |-1064          |4.0        |1         |1             |0              |1               |0         |0         |Accountants    |2.0            |2                   |2                          |MONDAY                    |13                     |0                         |0                         |0                          |0                     |0                     |0                      |Trade: type 7    |0.8737362738293727|0.522744861623572|0.2314393514998941|NULL          |NULL            |NULL                       |NULL           |NULL          |NULL         |NULL         |NULL         |NULL         |NULL        |NULL                |NULL          |NULL                   |NULL             |NULL           |NULL             |NULL                        |NULL            |NULL           |NULL          |NULL          |NULL          |NULL          |NULL         |NULL                 |NULL           |NULL                    |NULL              |NULL           |NULL             |NULL                        |NULL            |NULL           |NULL          |NULL          |NULL          |NULL          |NULL         |NULL                 |NULL           |NULL                    |NULL              |NULL              |NULL          |NULL          |NULL              |NULL               |1.0                     |1.0                     |1.0                     |1.0                     |-1553.0               |0              |1              |0              |0              |0              |0              |0              |0              |0               |0               |0               |0               |0               |0               |0               |0               |0               |0               |0               |0               |0.0                       |0.0                      |0.0                       |0.0                      |0.0                      |3.0                       |\n",
      "+----------+------+------------------+-----------+------------+---------------+------------+----------------+----------+-----------+---------------+---------------+----------------+-------------------+------------------+-----------------+--------------------------+----------+-------------+-----------------+---------------+-----------+----------+--------------+---------------+----------------+----------+----------+---------------+---------------+--------------------+---------------------------+--------------------------+-----------------------+--------------------------+--------------------------+---------------------------+----------------------+----------------------+-----------------------+-----------------+------------------+-----------------+------------------+--------------+----------------+---------------------------+---------------+--------------+-------------+-------------+-------------+-------------+------------+--------------------+--------------+-----------------------+-----------------+---------------+-----------------+----------------------------+----------------+---------------+--------------+--------------+--------------+--------------+-------------+---------------------+---------------+------------------------+------------------+---------------+-----------------+----------------------------+----------------+---------------+--------------+--------------+--------------+--------------+-------------+---------------------+---------------+------------------------+------------------+------------------+--------------+--------------+------------------+-------------------+------------------------+------------------------+------------------------+------------------------+----------------------+---------------+---------------+---------------+---------------+---------------+---------------+---------------+---------------+----------------+----------------+----------------+----------------+----------------+----------------+----------------+----------------+----------------+----------------+----------------+----------------+--------------------------+-------------------------+--------------------------+-------------------------+-------------------------+--------------------------+\n",
      "\n"
     ]
    }
   ],
   "source": [
    "sdf_train.filter(F.col('SK_ID_CURR') == 215354).show(10, False)"
   ]
  },
  {
   "cell_type": "code",
   "execution_count": 26,
   "id": "efd0a4dc-a9a8-466b-affd-1f261317811d",
   "metadata": {},
   "outputs": [
    {
     "name": "stdout",
     "output_type": "stream",
     "text": [
      "SK_ID_CURR\n",
      "AMT_ANNUITY\n"
     ]
    }
   ],
   "source": [
    "for i in sdf_train.columns:\n",
    "    for j in sdf_bureau.columns:\n",
    "        if (i == j):\n",
    "            print (i)"
   ]
  },
  {
   "cell_type": "code",
   "execution_count": 27,
   "id": "5b6ba802-39d1-4fbd-90a5-25560ab40d75",
   "metadata": {},
   "outputs": [
    {
     "data": {
      "text/plain": [
       "list"
      ]
     },
     "execution_count": 27,
     "metadata": {},
     "output_type": "execute_result"
    }
   ],
   "source": [
    "type(sdf_train.columns)"
   ]
  },
  {
   "cell_type": "code",
   "execution_count": null,
   "id": "29df1709-1a06-443d-8eac-b6e4f0f389a6",
   "metadata": {},
   "outputs": [],
   "source": []
  },
  {
   "cell_type": "code",
   "execution_count": 28,
   "id": "5f22905f-2a8d-4af7-9b5a-7d05beb08719",
   "metadata": {},
   "outputs": [
    {
     "data": {
      "text/plain": [
       "307511"
      ]
     },
     "execution_count": 28,
     "metadata": {},
     "output_type": "execute_result"
    }
   ],
   "source": [
    "sdf_train.count()"
   ]
  },
  {
   "cell_type": "code",
   "execution_count": 29,
   "id": "6c4d7f02-f6f8-4060-806f-fc41d5a398f9",
   "metadata": {},
   "outputs": [
    {
     "data": {
      "text/plain": [
       "1716428"
      ]
     },
     "execution_count": 29,
     "metadata": {},
     "output_type": "execute_result"
    }
   ],
   "source": [
    "sdf_bureau.count()"
   ]
  },
  {
   "cell_type": "code",
   "execution_count": null,
   "id": "859f661e-097b-4cbd-aa7a-fb6895d8783f",
   "metadata": {},
   "outputs": [],
   "source": []
  },
  {
   "cell_type": "code",
   "execution_count": 30,
   "id": "339cf727-ea32-4fc7-b49d-8a97ca5219dc",
   "metadata": {},
   "outputs": [
    {
     "data": {
      "text/plain": [
       "122"
      ]
     },
     "execution_count": 30,
     "metadata": {},
     "output_type": "execute_result"
    }
   ],
   "source": [
    "len(sdf_train.columns)"
   ]
  },
  {
   "cell_type": "code",
   "execution_count": null,
   "id": "8a57a7b0-bbae-474c-8b19-d28c3fef53e1",
   "metadata": {},
   "outputs": [],
   "source": []
  },
  {
   "cell_type": "code",
   "execution_count": null,
   "id": "aa1da66f-7bec-4ae8-a45a-259c25e2d79a",
   "metadata": {},
   "outputs": [],
   "source": []
  },
  {
   "cell_type": "code",
   "execution_count": null,
   "id": "dd984b22-77e9-419f-aae1-c27935bbcdb5",
   "metadata": {},
   "outputs": [],
   "source": []
  }
 ],
 "metadata": {
  "kernelspec": {
   "display_name": "base",
   "language": "python",
   "name": "python3"
  },
  "language_info": {
   "codemirror_mode": {
    "name": "ipython",
    "version": 3
   },
   "file_extension": ".py",
   "mimetype": "text/x-python",
   "name": "python",
   "nbconvert_exporter": "python",
   "pygments_lexer": "ipython3",
   "version": "3.12.2"
  }
 },
 "nbformat": 4,
 "nbformat_minor": 5
}
